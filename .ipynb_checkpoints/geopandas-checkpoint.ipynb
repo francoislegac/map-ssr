{
 "cells": [
  {
   "attachments": {},
   "cell_type": "markdown",
   "id": "af1e9b54",
   "metadata": {},
   "source": [
    "# Geopandas\n",
    "\n",
    "pandas + shapely\n",
    "\n",
    "https://geopandas.org/getting_started/introduction.html\n",
    "\n",
    "Fix bug install - https://gis.stackexchange.com/questions/330840/error-installing-geopandas![image.png](attachment:image.png)\n",
    "\n",
    "types of files:\n",
    "\n",
    "- geopackage\n",
    "- geojson\n",
    "- shapefile\n",
    "\n",
    "default file seems to be shapefile\n"
   ]
  },
  {
   "cell_type": "code",
   "execution_count": 1,
   "id": "814f8516",
   "metadata": {},
   "outputs": [],
   "source": [
    "import geopandas as gpd"
   ]
  },
  {
   "cell_type": "code",
   "execution_count": 2,
   "id": "a42093aa",
   "metadata": {},
   "outputs": [],
   "source": [
    "path = gpd.datasets.get_path('nybb')\n",
    "gdf = gpd.read_file(path)"
   ]
  },
  {
   "cell_type": "code",
   "execution_count": 3,
   "id": "54d31ae3",
   "metadata": {},
   "outputs": [
    {
     "data": {
      "text/plain": [
       "'zip://c:\\\\users\\\\françoislegac\\\\environments\\\\bokeh-tuto\\\\lib\\\\site-packages\\\\geopandas\\\\datasets\\\\nybb_16a.zip'"
      ]
     },
     "execution_count": 3,
     "metadata": {},
     "output_type": "execute_result"
    }
   ],
   "source": [
    "path"
   ]
  },
  {
   "cell_type": "code",
   "execution_count": 5,
   "id": "08c9a93a",
   "metadata": {},
   "outputs": [
    {
     "data": {
      "text/html": [
       "<div>\n",
       "<style scoped>\n",
       "    .dataframe tbody tr th:only-of-type {\n",
       "        vertical-align: middle;\n",
       "    }\n",
       "\n",
       "    .dataframe tbody tr th {\n",
       "        vertical-align: top;\n",
       "    }\n",
       "\n",
       "    .dataframe thead th {\n",
       "        text-align: right;\n",
       "    }\n",
       "</style>\n",
       "<table border=\"1\" class=\"dataframe\">\n",
       "  <thead>\n",
       "    <tr style=\"text-align: right;\">\n",
       "      <th></th>\n",
       "      <th>BoroCode</th>\n",
       "      <th>BoroName</th>\n",
       "      <th>Shape_Leng</th>\n",
       "      <th>Shape_Area</th>\n",
       "      <th>geometry</th>\n",
       "    </tr>\n",
       "  </thead>\n",
       "  <tbody>\n",
       "    <tr>\n",
       "      <th>0</th>\n",
       "      <td>5</td>\n",
       "      <td>Staten Island</td>\n",
       "      <td>330470.010332</td>\n",
       "      <td>1.623820e+09</td>\n",
       "      <td>MULTIPOLYGON (((970217.022 145643.332, 970227....</td>\n",
       "    </tr>\n",
       "    <tr>\n",
       "      <th>1</th>\n",
       "      <td>4</td>\n",
       "      <td>Queens</td>\n",
       "      <td>896344.047763</td>\n",
       "      <td>3.045213e+09</td>\n",
       "      <td>MULTIPOLYGON (((1029606.077 156073.814, 102957...</td>\n",
       "    </tr>\n",
       "    <tr>\n",
       "      <th>2</th>\n",
       "      <td>3</td>\n",
       "      <td>Brooklyn</td>\n",
       "      <td>741080.523166</td>\n",
       "      <td>1.937479e+09</td>\n",
       "      <td>MULTIPOLYGON (((1021176.479 151374.797, 102100...</td>\n",
       "    </tr>\n",
       "    <tr>\n",
       "      <th>3</th>\n",
       "      <td>1</td>\n",
       "      <td>Manhattan</td>\n",
       "      <td>359299.096471</td>\n",
       "      <td>6.364715e+08</td>\n",
       "      <td>MULTIPOLYGON (((981219.056 188655.316, 980940....</td>\n",
       "    </tr>\n",
       "    <tr>\n",
       "      <th>4</th>\n",
       "      <td>2</td>\n",
       "      <td>Bronx</td>\n",
       "      <td>464392.991824</td>\n",
       "      <td>1.186925e+09</td>\n",
       "      <td>MULTIPOLYGON (((1012821.806 229228.265, 101278...</td>\n",
       "    </tr>\n",
       "  </tbody>\n",
       "</table>\n",
       "</div>"
      ],
      "text/plain": [
       "   BoroCode       BoroName     Shape_Leng    Shape_Area  \\\n",
       "0         5  Staten Island  330470.010332  1.623820e+09   \n",
       "1         4         Queens  896344.047763  3.045213e+09   \n",
       "2         3       Brooklyn  741080.523166  1.937479e+09   \n",
       "3         1      Manhattan  359299.096471  6.364715e+08   \n",
       "4         2          Bronx  464392.991824  1.186925e+09   \n",
       "\n",
       "                                            geometry  \n",
       "0  MULTIPOLYGON (((970217.022 145643.332, 970227....  \n",
       "1  MULTIPOLYGON (((1029606.077 156073.814, 102957...  \n",
       "2  MULTIPOLYGON (((1021176.479 151374.797, 102100...  \n",
       "3  MULTIPOLYGON (((981219.056 188655.316, 980940....  \n",
       "4  MULTIPOLYGON (((1012821.806 229228.265, 101278...  "
      ]
     },
     "execution_count": 5,
     "metadata": {},
     "output_type": "execute_result"
    }
   ],
   "source": [
    "gdf"
   ]
  },
  {
   "cell_type": "code",
   "execution_count": 7,
   "id": "08fca763",
   "metadata": {},
   "outputs": [],
   "source": [
    "gdf = gdf.set_index('BoroName')"
   ]
  },
  {
   "cell_type": "code",
   "execution_count": 8,
   "id": "7b1d4814",
   "metadata": {},
   "outputs": [],
   "source": [
    "gdf['area'] = gdf.area"
   ]
  },
  {
   "cell_type": "code",
   "execution_count": 9,
   "id": "6afea602",
   "metadata": {},
   "outputs": [
    {
     "data": {
      "text/plain": [
       "BoroName\n",
       "Staten Island    MULTILINESTRING ((970217.022 145643.332, 97022...\n",
       "Queens           MULTILINESTRING ((1029606.077 156073.814, 1029...\n",
       "Brooklyn         MULTILINESTRING ((1021176.479 151374.797, 1021...\n",
       "Manhattan        MULTILINESTRING ((981219.056 188655.316, 98094...\n",
       "Bronx            MULTILINESTRING ((1012821.806 229228.265, 1012...\n",
       "Name: boundary, dtype: geometry"
      ]
     },
     "execution_count": 9,
     "metadata": {},
     "output_type": "execute_result"
    }
   ],
   "source": [
    "gdf['boundary'] = gdf.boundary\n",
    "gdf['boundary']"
   ]
  },
  {
   "cell_type": "markdown",
   "id": "e943798b",
   "metadata": {},
   "source": [
    "# departements\n"
   ]
  },
  {
   "cell_type": "code",
   "execution_count": 10,
   "id": "a5b34050",
   "metadata": {},
   "outputs": [],
   "source": [
    "path = 'map/departements-20180101.shp'"
   ]
  },
  {
   "cell_type": "code",
   "execution_count": 11,
   "id": "9ecb1ee9",
   "metadata": {},
   "outputs": [],
   "source": [
    "gdf = gpd.read_file(path)"
   ]
  },
  {
   "cell_type": "code",
   "execution_count": 13,
   "id": "af77a01c",
   "metadata": {},
   "outputs": [
    {
     "data": {
      "text/html": [
       "<div>\n",
       "<style scoped>\n",
       "    .dataframe tbody tr th:only-of-type {\n",
       "        vertical-align: middle;\n",
       "    }\n",
       "\n",
       "    .dataframe tbody tr th {\n",
       "        vertical-align: top;\n",
       "    }\n",
       "\n",
       "    .dataframe thead th {\n",
       "        text-align: right;\n",
       "    }\n",
       "</style>\n",
       "<table border=\"1\" class=\"dataframe\">\n",
       "  <thead>\n",
       "    <tr style=\"text-align: right;\">\n",
       "      <th></th>\n",
       "      <th>code_insee</th>\n",
       "      <th>nom</th>\n",
       "      <th>nuts3</th>\n",
       "      <th>wikipedia</th>\n",
       "      <th>surf_km2</th>\n",
       "      <th>geometry</th>\n",
       "    </tr>\n",
       "  </thead>\n",
       "  <tbody>\n",
       "    <tr>\n",
       "      <th>0</th>\n",
       "      <td>974</td>\n",
       "      <td>La Réunion</td>\n",
       "      <td>FR940</td>\n",
       "      <td>fr:La Réunion</td>\n",
       "      <td>2505.0</td>\n",
       "      <td>MULTIPOLYGON (((55.21643 -21.03904, 55.21652 -...</td>\n",
       "    </tr>\n",
       "    <tr>\n",
       "      <th>1</th>\n",
       "      <td>11</td>\n",
       "      <td>Aude</td>\n",
       "      <td>FR811</td>\n",
       "      <td>fr:Aude (département)</td>\n",
       "      <td>6343.0</td>\n",
       "      <td>POLYGON ((1.68872 43.27368, 1.69001 43.27423, ...</td>\n",
       "    </tr>\n",
       "    <tr>\n",
       "      <th>2</th>\n",
       "      <td>43</td>\n",
       "      <td>Haute-Loire</td>\n",
       "      <td>FR723</td>\n",
       "      <td>fr:Haute-Loire</td>\n",
       "      <td>5003.0</td>\n",
       "      <td>POLYGON ((3.08206 45.28988, 3.08209 45.29031, ...</td>\n",
       "    </tr>\n",
       "    <tr>\n",
       "      <th>3</th>\n",
       "      <td>13</td>\n",
       "      <td>Bouches-du-Rhône</td>\n",
       "      <td>FR823</td>\n",
       "      <td>fr:Bouches-du-Rhône</td>\n",
       "      <td>5247.0</td>\n",
       "      <td>MULTIPOLYGON (((4.23014 43.46047, 4.23025 43.4...</td>\n",
       "    </tr>\n",
       "    <tr>\n",
       "      <th>4</th>\n",
       "      <td>47</td>\n",
       "      <td>Lot-et-Garonne</td>\n",
       "      <td>FR614</td>\n",
       "      <td>fr:Lot-et-Garonne</td>\n",
       "      <td>5385.0</td>\n",
       "      <td>POLYGON ((-0.14058 44.22648, -0.12931 44.23218...</td>\n",
       "    </tr>\n",
       "    <tr>\n",
       "      <th>...</th>\n",
       "      <td>...</td>\n",
       "      <td>...</td>\n",
       "      <td>...</td>\n",
       "      <td>...</td>\n",
       "      <td>...</td>\n",
       "      <td>...</td>\n",
       "    </tr>\n",
       "    <tr>\n",
       "      <th>97</th>\n",
       "      <td>56</td>\n",
       "      <td>Morbihan</td>\n",
       "      <td>FR524</td>\n",
       "      <td>fr:Morbihan</td>\n",
       "      <td>6870.0</td>\n",
       "      <td>MULTIPOLYGON (((-3.73508 48.11140, -3.73507 48...</td>\n",
       "    </tr>\n",
       "    <tr>\n",
       "      <th>98</th>\n",
       "      <td>25</td>\n",
       "      <td>Doubs</td>\n",
       "      <td>FR431</td>\n",
       "      <td>fr:Doubs (département)</td>\n",
       "      <td>5256.0</td>\n",
       "      <td>POLYGON ((5.69876 47.26464, 5.69877 47.26481, ...</td>\n",
       "    </tr>\n",
       "    <tr>\n",
       "      <th>99</th>\n",
       "      <td>39</td>\n",
       "      <td>Jura</td>\n",
       "      <td>FR432</td>\n",
       "      <td>fr:Jura (département)</td>\n",
       "      <td>5049.0</td>\n",
       "      <td>MULTIPOLYGON (((5.25202 46.94451, 5.25208 46.9...</td>\n",
       "    </tr>\n",
       "    <tr>\n",
       "      <th>100</th>\n",
       "      <td>07</td>\n",
       "      <td>Ardèche</td>\n",
       "      <td>FR712</td>\n",
       "      <td>fr:Ardèche (département)</td>\n",
       "      <td>5566.0</td>\n",
       "      <td>POLYGON ((3.86110 44.71118, 3.86110 44.71151, ...</td>\n",
       "    </tr>\n",
       "    <tr>\n",
       "      <th>101</th>\n",
       "      <td>30</td>\n",
       "      <td>Gard</td>\n",
       "      <td>FR812</td>\n",
       "      <td>fr:Gard</td>\n",
       "      <td>5875.0</td>\n",
       "      <td>POLYGON ((3.26190 44.09335, 3.26221 44.09389, ...</td>\n",
       "    </tr>\n",
       "  </tbody>\n",
       "</table>\n",
       "<p>102 rows × 6 columns</p>\n",
       "</div>"
      ],
      "text/plain": [
       "    code_insee               nom  nuts3                 wikipedia  surf_km2  \\\n",
       "0          974        La Réunion  FR940             fr:La Réunion    2505.0   \n",
       "1           11              Aude  FR811     fr:Aude (département)    6343.0   \n",
       "2           43       Haute-Loire  FR723            fr:Haute-Loire    5003.0   \n",
       "3           13  Bouches-du-Rhône  FR823       fr:Bouches-du-Rhône    5247.0   \n",
       "4           47    Lot-et-Garonne  FR614         fr:Lot-et-Garonne    5385.0   \n",
       "..         ...               ...    ...                       ...       ...   \n",
       "97          56          Morbihan  FR524               fr:Morbihan    6870.0   \n",
       "98          25             Doubs  FR431    fr:Doubs (département)    5256.0   \n",
       "99          39              Jura  FR432     fr:Jura (département)    5049.0   \n",
       "100         07           Ardèche  FR712  fr:Ardèche (département)    5566.0   \n",
       "101         30              Gard  FR812                   fr:Gard    5875.0   \n",
       "\n",
       "                                              geometry  \n",
       "0    MULTIPOLYGON (((55.21643 -21.03904, 55.21652 -...  \n",
       "1    POLYGON ((1.68872 43.27368, 1.69001 43.27423, ...  \n",
       "2    POLYGON ((3.08206 45.28988, 3.08209 45.29031, ...  \n",
       "3    MULTIPOLYGON (((4.23014 43.46047, 4.23025 43.4...  \n",
       "4    POLYGON ((-0.14058 44.22648, -0.12931 44.23218...  \n",
       "..                                                 ...  \n",
       "97   MULTIPOLYGON (((-3.73508 48.11140, -3.73507 48...  \n",
       "98   POLYGON ((5.69876 47.26464, 5.69877 47.26481, ...  \n",
       "99   MULTIPOLYGON (((5.25202 46.94451, 5.25208 46.9...  \n",
       "100  POLYGON ((3.86110 44.71118, 3.86110 44.71151, ...  \n",
       "101  POLYGON ((3.26190 44.09335, 3.26221 44.09389, ...  \n",
       "\n",
       "[102 rows x 6 columns]"
      ]
     },
     "execution_count": 13,
     "metadata": {},
     "output_type": "execute_result"
    }
   ],
   "source": [
    "gdf"
   ]
  },
  {
   "cell_type": "code",
   "execution_count": 19,
   "id": "25276a75",
   "metadata": {},
   "outputs": [],
   "source": [
    "codes_bourgogne_fc = [89, 58, 21, 71, 39, 25, 70]\n",
    "codes_bourgogne_fc = [str(x) for x in codes_bourgogne_fc]"
   ]
  },
  {
   "cell_type": "code",
   "execution_count": 27,
   "id": "c253aa65",
   "metadata": {},
   "outputs": [],
   "source": [
    "gdf_tmp = gdf.loc[gdf['code_insee'].isin(codes_bourgogne_fc)]"
   ]
  },
  {
   "cell_type": "code",
   "execution_count": 28,
   "id": "9e3f084c",
   "metadata": {},
   "outputs": [
    {
     "data": {
      "text/html": [
       "<div>\n",
       "<style scoped>\n",
       "    .dataframe tbody tr th:only-of-type {\n",
       "        vertical-align: middle;\n",
       "    }\n",
       "\n",
       "    .dataframe tbody tr th {\n",
       "        vertical-align: top;\n",
       "    }\n",
       "\n",
       "    .dataframe thead th {\n",
       "        text-align: right;\n",
       "    }\n",
       "</style>\n",
       "<table border=\"1\" class=\"dataframe\">\n",
       "  <thead>\n",
       "    <tr style=\"text-align: right;\">\n",
       "      <th></th>\n",
       "      <th>code_insee</th>\n",
       "      <th>nom</th>\n",
       "      <th>nuts3</th>\n",
       "      <th>wikipedia</th>\n",
       "      <th>surf_km2</th>\n",
       "      <th>geometry</th>\n",
       "    </tr>\n",
       "  </thead>\n",
       "  <tbody>\n",
       "    <tr>\n",
       "      <th>41</th>\n",
       "      <td>71</td>\n",
       "      <td>Saône-et-Loire</td>\n",
       "      <td>FR263</td>\n",
       "      <td>fr:Saône-et-Loire</td>\n",
       "      <td>8613.0</td>\n",
       "      <td>POLYGON ((3.62229 46.74091, 3.62230 46.74103, ...</td>\n",
       "    </tr>\n",
       "    <tr>\n",
       "      <th>42</th>\n",
       "      <td>89</td>\n",
       "      <td>Yonne</td>\n",
       "      <td>FR264</td>\n",
       "      <td>fr:Yonne (département)</td>\n",
       "      <td>7461.0</td>\n",
       "      <td>POLYGON ((2.84849 47.72603, 2.84963 47.72627, ...</td>\n",
       "    </tr>\n",
       "    <tr>\n",
       "      <th>48</th>\n",
       "      <td>58</td>\n",
       "      <td>Nièvre</td>\n",
       "      <td>FR262</td>\n",
       "      <td>fr:Nièvre (département)</td>\n",
       "      <td>6875.0</td>\n",
       "      <td>POLYGON ((2.84448 47.54488, 2.84596 47.54546, ...</td>\n",
       "    </tr>\n",
       "    <tr>\n",
       "      <th>77</th>\n",
       "      <td>70</td>\n",
       "      <td>Haute-Saône</td>\n",
       "      <td>FR433</td>\n",
       "      <td>fr:Haute-Saône</td>\n",
       "      <td>5390.0</td>\n",
       "      <td>POLYGON ((5.36695 47.46497, 5.36695 47.46510, ...</td>\n",
       "    </tr>\n",
       "    <tr>\n",
       "      <th>78</th>\n",
       "      <td>21</td>\n",
       "      <td>Côte-d'Or</td>\n",
       "      <td>FR261</td>\n",
       "      <td>fr:Côte-d'Or</td>\n",
       "      <td>8802.0</td>\n",
       "      <td>MULTIPOLYGON (((4.06540 47.40725, 4.06759 47.4...</td>\n",
       "    </tr>\n",
       "    <tr>\n",
       "      <th>98</th>\n",
       "      <td>25</td>\n",
       "      <td>Doubs</td>\n",
       "      <td>FR431</td>\n",
       "      <td>fr:Doubs (département)</td>\n",
       "      <td>5256.0</td>\n",
       "      <td>POLYGON ((5.69876 47.26464, 5.69877 47.26481, ...</td>\n",
       "    </tr>\n",
       "    <tr>\n",
       "      <th>99</th>\n",
       "      <td>39</td>\n",
       "      <td>Jura</td>\n",
       "      <td>FR432</td>\n",
       "      <td>fr:Jura (département)</td>\n",
       "      <td>5049.0</td>\n",
       "      <td>MULTIPOLYGON (((5.25202 46.94451, 5.25208 46.9...</td>\n",
       "    </tr>\n",
       "  </tbody>\n",
       "</table>\n",
       "</div>"
      ],
      "text/plain": [
       "   code_insee             nom  nuts3                wikipedia  surf_km2  \\\n",
       "41         71  Saône-et-Loire  FR263        fr:Saône-et-Loire    8613.0   \n",
       "42         89           Yonne  FR264   fr:Yonne (département)    7461.0   \n",
       "48         58          Nièvre  FR262  fr:Nièvre (département)    6875.0   \n",
       "77         70     Haute-Saône  FR433           fr:Haute-Saône    5390.0   \n",
       "78         21       Côte-d'Or  FR261             fr:Côte-d'Or    8802.0   \n",
       "98         25           Doubs  FR431   fr:Doubs (département)    5256.0   \n",
       "99         39            Jura  FR432    fr:Jura (département)    5049.0   \n",
       "\n",
       "                                             geometry  \n",
       "41  POLYGON ((3.62229 46.74091, 3.62230 46.74103, ...  \n",
       "42  POLYGON ((2.84849 47.72603, 2.84963 47.72627, ...  \n",
       "48  POLYGON ((2.84448 47.54488, 2.84596 47.54546, ...  \n",
       "77  POLYGON ((5.36695 47.46497, 5.36695 47.46510, ...  \n",
       "78  MULTIPOLYGON (((4.06540 47.40725, 4.06759 47.4...  \n",
       "98  POLYGON ((5.69876 47.26464, 5.69877 47.26481, ...  \n",
       "99  MULTIPOLYGON (((5.25202 46.94451, 5.25208 46.9...  "
      ]
     },
     "execution_count": 28,
     "metadata": {},
     "output_type": "execute_result"
    }
   ],
   "source": [
    "gdf_tmp"
   ]
  },
  {
   "cell_type": "code",
   "execution_count": 29,
   "id": "4f9d07ec",
   "metadata": {},
   "outputs": [],
   "source": [
    "gdf_tmp.to_file('bourgogne_fc.shp')"
   ]
  },
  {
   "cell_type": "code",
   "execution_count": 36,
   "id": "da124855",
   "metadata": {},
   "outputs": [
    {
     "name": "stderr",
     "output_type": "stream",
     "text": [
      "C:\\Users\\FRANOI~1\\AppData\\Local\\Temp/ipykernel_7376/3021714591.py:1: UserWarning: Geometry is in a geographic CRS. Results from 'area' are likely incorrect. Use 'GeoSeries.to_crs()' to re-project geometries to a projected CRS before this operation.\n",
      "\n",
      "  gdf_tmp['area'] = gdf.area\n",
      "c:\\users\\françoislegac\\environments\\bokeh-tuto\\lib\\site-packages\\geopandas\\geodataframe.py:1351: SettingWithCopyWarning: \n",
      "A value is trying to be set on a copy of a slice from a DataFrame.\n",
      "Try using .loc[row_indexer,col_indexer] = value instead\n",
      "\n",
      "See the caveats in the documentation: https://pandas.pydata.org/pandas-docs/stable/user_guide/indexing.html#returning-a-view-versus-a-copy\n",
      "  super().__setitem__(key, value)\n"
     ]
    }
   ],
   "source": [
    "gdf_tmp['area'] = gdf.area"
   ]
  },
  {
   "cell_type": "code",
   "execution_count": 37,
   "id": "ffc1d14f",
   "metadata": {},
   "outputs": [
    {
     "data": {
      "text/plain": [
       "<AxesSubplot:>"
      ]
     },
     "execution_count": 37,
     "metadata": {},
     "output_type": "execute_result"
    },
    {
     "data": {
      "image/png": "[encoded data removed]",
      "text/plain": [
       "<Figure size 432x288 with 1 Axes>"
      ]
     },
     "metadata": {
      "needs_background": "light"
     },
     "output_type": "display_data"
    }
   ],
   "source": [
    "gdf_tmp.plot('area')"
   ]
  },
  {
   "cell_type": "code",
   "execution_count": null,
   "id": "b5288c75",
   "metadata": {},
   "outputs": [],
   "source": []
  }
 ],
 "metadata": {
  "kernelspec": {
   "display_name": "bokeh-tuto",
   "language": "python",
   "name": "bokeh-tuto"
  },
  "language_info": {
   "codemirror_mode": {
    "name": "ipython",
    "version": 3
   },
   "file_extension": ".py",
   "mimetype": "text/x-python",
   "name": "python",
   "nbconvert_exporter": "python",
   "pygments_lexer": "ipython3",
   "version": "3.8.10"
  }
 },
 "nbformat": 4,
 "nbformat_minor": 5
}
