{
 "cells": [
  {
   "cell_type": "markdown",
   "id": "0e2fff86",
   "metadata": {},
   "source": [
    "### end tuto and start with the real map"
   ]
  },
  {
   "cell_type": "code",
   "execution_count": 1,
   "id": "b63f5148",
   "metadata": {},
   "outputs": [],
   "source": [
    "import geopandas as gpd\n",
    "from bokeh.io import curdoc\n",
    "from bokeh.plotting import figure, show\n",
    "from bokeh.models import GeoJSONDataSource, HoverTool, Div, Select, RadioGroup, Paragraph, MultiChoice, CustomJS, ColumnDataSource\n",
    "from pprint import pprint\n",
    "from shapely.geometry import Point\n",
    "import pandas as pd\n",
    "from bokeh.layouts import row, column"
   ]
  },
  {
   "cell_type": "code",
   "execution_count": 2,
   "id": "26f823a1",
   "metadata": {},
   "outputs": [],
   "source": [
    "departement = gpd.read_file('data4/bourgogne_fc.shp')"
   ]
  },
  {
   "cell_type": "code",
   "execution_count": 3,
   "id": "7c7ef3ba",
   "metadata": {},
   "outputs": [
    {
     "data": {
      "text/html": [
       "<div>\n",
       "<style scoped>\n",
       "    .dataframe tbody tr th:only-of-type {\n",
       "        vertical-align: middle;\n",
       "    }\n",
       "\n",
       "    .dataframe tbody tr th {\n",
       "        vertical-align: top;\n",
       "    }\n",
       "\n",
       "    .dataframe thead th {\n",
       "        text-align: right;\n",
       "    }\n",
       "</style>\n",
       "<table border=\"1\" class=\"dataframe\">\n",
       "  <thead>\n",
       "    <tr style=\"text-align: right;\">\n",
       "      <th></th>\n",
       "      <th>code_insee</th>\n",
       "      <th>nom</th>\n",
       "      <th>nuts3</th>\n",
       "      <th>wikipedia</th>\n",
       "      <th>surf_km2</th>\n",
       "      <th>geometry</th>\n",
       "    </tr>\n",
       "  </thead>\n",
       "  <tbody>\n",
       "    <tr>\n",
       "      <th>0</th>\n",
       "      <td>71</td>\n",
       "      <td>Saône-et-Loire</td>\n",
       "      <td>FR263</td>\n",
       "      <td>fr:Saône-et-Loire</td>\n",
       "      <td>8613.0</td>\n",
       "      <td>POLYGON ((3.62229 46.74091, 3.62230 46.74103, ...</td>\n",
       "    </tr>\n",
       "    <tr>\n",
       "      <th>1</th>\n",
       "      <td>89</td>\n",
       "      <td>Yonne</td>\n",
       "      <td>FR264</td>\n",
       "      <td>fr:Yonne (département)</td>\n",
       "      <td>7461.0</td>\n",
       "      <td>POLYGON ((2.84849 47.72603, 2.84963 47.72627, ...</td>\n",
       "    </tr>\n",
       "  </tbody>\n",
       "</table>\n",
       "</div>"
      ],
      "text/plain": [
       "  code_insee             nom  nuts3               wikipedia  surf_km2  \\\n",
       "0         71  Saône-et-Loire  FR263       fr:Saône-et-Loire    8613.0   \n",
       "1         89           Yonne  FR264  fr:Yonne (département)    7461.0   \n",
       "\n",
       "                                            geometry  \n",
       "0  POLYGON ((3.62229 46.74091, 3.62230 46.74103, ...  \n",
       "1  POLYGON ((2.84849 47.72603, 2.84963 47.72627, ...  "
      ]
     },
     "execution_count": 3,
     "metadata": {},
     "output_type": "execute_result"
    }
   ],
   "source": [
    "departement.head(n=2)"
   ]
  },
  {
   "cell_type": "code",
   "execution_count": 4,
   "id": "0eea2180",
   "metadata": {},
   "outputs": [],
   "source": [
    "departement_source = GeoJSONDataSource(geojson=departement.to_json())"
   ]
  },
  {
   "cell_type": "code",
   "execution_count": 5,
   "id": "a130bad4",
   "metadata": {},
   "outputs": [],
   "source": [
    "CRS = departement.crs"
   ]
  },
  {
   "cell_type": "code",
   "execution_count": 6,
   "id": "072a5ba7",
   "metadata": {},
   "outputs": [],
   "source": [
    "ght = pd.read_csv('data4/ght.csv', index_col=0)"
   ]
  },
  {
   "cell_type": "code",
   "execution_count": 7,
   "id": "7fabd883",
   "metadata": {},
   "outputs": [],
   "source": [
    "coord = pd.read_csv('data4/coord_with_cities.csv', index_col=0)"
   ]
  },
  {
   "cell_type": "code",
   "execution_count": 8,
   "id": "a0a3d05a",
   "metadata": {},
   "outputs": [],
   "source": [
    "coordght= pd.merge(coord, ght, how='left')"
   ]
  },
  {
   "cell_type": "code",
   "execution_count": 9,
   "id": "7738f359",
   "metadata": {},
   "outputs": [],
   "source": [
    "geometry = [Point(xy) for xy in zip(coordght.longitude, coordght.latitude)]\n",
    "etablissement = gpd.GeoDataFrame(coordght.drop(['longitude', 'latitude'], axis=1), crs=CRS, geometry=geometry)"
   ]
  },
  {
   "cell_type": "code",
   "execution_count": 10,
   "id": "5e9efe6d",
   "metadata": {},
   "outputs": [],
   "source": [
    "etablissement_source = GeoJSONDataSource(geojson=etablissement.to_json()) "
   ]
  },
  {
   "cell_type": "code",
   "execution_count": 11,
   "id": "2e5f8b96",
   "metadata": {},
   "outputs": [],
   "source": [
    "'''\n",
    "source = GeoJSONDataSource(\n",
    "    geojson=gpd.GeoDataFrame(dict(geometry=[], adresse=[], etablissement=[], index=[])).to_json()\n",
    ")\n",
    "'''\n",
    "\n",
    "source = GeoJSONDataSource(geojson=etablissement.copy().to_json())"
   ]
  },
  {
   "cell_type": "code",
   "execution_count": 12,
   "id": "9b8281de",
   "metadata": {},
   "outputs": [],
   "source": [
    "p = figure(\n",
    "    title='New test map',\n",
    "    x_axis_location=None, \n",
    "    y_axis_location=None,\n",
    "    #sizing_mode='stretch_width',\n",
    "    width=1200,\n",
    "    height=750,\n",
    "    #tooltips=TOOLTIPS\n",
    ")"
   ]
  },
  {
   "cell_type": "code",
   "execution_count": 13,
   "id": "d0499e0c",
   "metadata": {},
   "outputs": [],
   "source": [
    "patches = p.patches('xs', \n",
    "          'ys', \n",
    "          source=departement_source,\n",
    "          fill_color='blue',\n",
    "          fill_alpha=0.5, \n",
    "          line_color=\"black\", \n",
    "          line_width=0.5)"
   ]
  },
  {
   "cell_type": "code",
   "execution_count": 14,
   "id": "900097e0",
   "metadata": {},
   "outputs": [],
   "source": [
    "circles = p.circle(\n",
    "    'x',\n",
    "    'y',\n",
    "    source=source,\n",
    "    color='red', \n",
    "    size=6,\n",
    "    hover_color='yellow'\n",
    ")"
   ]
  },
  {
   "cell_type": "code",
   "execution_count": 15,
   "id": "10a9ce4d",
   "metadata": {},
   "outputs": [],
   "source": [
    "TOOLTIPS = [\n",
    "    ('(x, y)', '($x, $y)'),\n",
    "    ('etablissement', '@etablissement'),\n",
    "    ('village', '@village'),\n",
    "    ('ght', '@nom_ght')\n",
    "]"
   ]
  },
  {
   "cell_type": "code",
   "execution_count": 16,
   "id": "e6fb79ae",
   "metadata": {},
   "outputs": [],
   "source": [
    "ht = HoverTool(\n",
    "    tooltips= TOOLTIPS,\n",
    "    renderers = [circles]\n",
    ")"
   ]
  },
  {
   "cell_type": "code",
   "execution_count": 17,
   "id": "ea75621e",
   "metadata": {},
   "outputs": [],
   "source": [
    "p.tools.append(ht)"
   ]
  },
  {
   "cell_type": "code",
   "execution_count": 18,
   "id": "d163bb77",
   "metadata": {},
   "outputs": [],
   "source": [
    "#filter by ght\n",
    "\n",
    "ght_names = ght.nom_ght.drop_duplicates().sort_values().tolist()\n",
    "select = Select(title=\"GHT:\", value=ght_names[0], options=ght_names)"
   ]
  },
  {
   "cell_type": "code",
   "execution_count": 19,
   "id": "c22619d8",
   "metadata": {},
   "outputs": [],
   "source": [
    "\n",
    "ght_callback = CustomJS(args=dict(static_source=etablissement_source, source= source), code=\"\"\"\n",
    "        const static_data = static_source.data;\n",
    "        var data = source.data;\n",
    "        \n",
    "        //reinitilize source data\n",
    "        for (const key in data){\n",
    "            data[key] = [];\n",
    "        }\n",
    "        \n",
    "        const widget_value = cb_obj.value;\n",
    "        console.log(static_data.etablissement[0])\n",
    "        console.log(typeof static_data.etablissement[0])\n",
    "        console.log(widget_value)\n",
    "        console.log(typeof widget_value)\n",
    "        \n",
    "        \n",
    "        for (let i = 0; i < static_data.nom_ght.length; i++) {\n",
    "            if (static_data.etablissement[i] != widget_value) {\n",
    "                console.log('Hello');\n",
    "                data.x.push(static_data.x[i]);\n",
    "                data.y.push(static_data.y[i]);\n",
    "                data.z.push(static_data.z[i]);\n",
    "                data.xs.push(static_data.xs[i]);\n",
    "                data.ys.push(static_data.ys[i]);\n",
    "                data.zs.push(static_data.zs[i]);\n",
    "                data.adresse.push(static_data.adresse[i]);\n",
    "                data.etablissement.push(static_data.etablissement[i]);\n",
    "                data.index.push(static_data.index[i]);\n",
    "            };\n",
    "        };\n",
    "        console.log(data);\n",
    "        console.log('static data');\n",
    "        console.log(static_data);\n",
    "\n",
    "        //source.change.emit();\n",
    "    \"\"\")\n",
    "select.js_on_change('value', ght_callback)"
   ]
  },
  {
   "cell_type": "code",
   "execution_count": 20,
   "id": "6cc03d53",
   "metadata": {},
   "outputs": [
    {
     "data": {
      "text/plain": [
       "'\\nmulti_choice.js_on_change(\"value\", CustomJS(code=\"\"\"\\n    console.log(\\'multi_choice: value=\\' + this.value, this.toString())\\n\"\"\"))\\n'"
      ]
     },
     "execution_count": 20,
     "metadata": {},
     "output_type": "execute_result"
    }
   ],
   "source": [
    "etab_names = coord.etablissement.drop_duplicates().tolist()\n",
    "\n",
    "mc = MultiChoice(value=[etab_names[0]], options=etab_names)\n",
    "'''\n",
    "multi_choice.js_on_change(\"value\", CustomJS(code=\"\"\"\n",
    "    console.log('multi_choice: value=' + this.value, this.toString())\n",
    "\"\"\"))\n",
    "'''"
   ]
  },
  {
   "cell_type": "code",
   "execution_count": 21,
   "id": "dc6da124",
   "metadata": {},
   "outputs": [],
   "source": [
    "widgets = column(select, mc)\n",
    "layout = row(p, widgets)"
   ]
  },
  {
   "cell_type": "code",
   "execution_count": 22,
   "id": "b49ce168",
   "metadata": {},
   "outputs": [],
   "source": [
    "show(layout)"
   ]
  },
  {
   "cell_type": "code",
   "execution_count": null,
   "id": "4771aa2d",
   "metadata": {},
   "outputs": [],
   "source": []
  }
 ],
 "metadata": {
  "kernelspec": {
   "display_name": "bokeh-tuto",
   "language": "python",
   "name": "bokeh-tuto"
  },
  "language_info": {
   "codemirror_mode": {
    "name": "ipython",
    "version": 3
   },
   "file_extension": ".py",
   "mimetype": "text/x-python",
   "name": "python",
   "nbconvert_exporter": "python",
   "pygments_lexer": "ipython3",
   "version": "3.8.10"
  }
 },
 "nbformat": 4,
 "nbformat_minor": 5
}
