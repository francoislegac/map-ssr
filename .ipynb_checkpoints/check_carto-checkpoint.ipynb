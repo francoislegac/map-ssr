{
 "cells": [
  {
   "cell_type": "code",
   "execution_count": 4,
   "id": "a4ac031f",
   "metadata": {},
   "outputs": [],
   "source": [
    "import pandas as pd\n",
    "import numpy as np\n",
    "#import mathplotlib.pyplot as plt"
   ]
  },
  {
   "cell_type": "code",
   "execution_count": 6,
   "id": "8edcec3a",
   "metadata": {},
   "outputs": [],
   "source": [
    "r = 'data/'\n",
    "check = pd.read_csv(r + 'check.csv', sep=';', encoding='cp1252')\n",
    "hp = pd.read_csv(r + 'hp.csv', sep=';', encoding='cp1252')\n",
    "coord = pd.read_csv(r + 'coord.csv', sep=';', encoding='cp1252')\n",
    "ght = pd.read_csv(r + 'ght.csv', sep=';', encoding='cp1252')\n",
    "ssr = pd.read_csv(r + 'ssr.csv', sep=';', encoding='cp1252')"
   ]
  },
  {
   "cell_type": "code",
   "execution_count": 7,
   "id": "e9eb7110",
   "metadata": {},
   "outputs": [
    {
     "name": "stdout",
     "output_type": "stream",
     "text": [
      "cp1252\n"
     ]
    }
   ],
   "source": [
    "#check encoding\n",
    "with open(\"data/coord.csv\") as f:\n",
    "    print(f.encoding)"
   ]
  },
  {
   "cell_type": "markdown",
   "id": "16cf47fd",
   "metadata": {},
   "source": [
    "## TOCHECK\n",
    "\n",
    "- nb d'établissements. Nom à uniformiser\n",
    "- nb GHT\n",
    "- y a-t-il toutes les coordonnées ?\n",
    "- pb : transferts entre [0-10]\n",
    "- rename the columns\n",
    "\n"
   ]
  },
  {
   "cell_type": "code",
   "execution_count": 8,
   "id": "fe38904a",
   "metadata": {},
   "outputs": [
    {
     "data": {
      "text/html": [
       "<div>\n",
       "<style scoped>\n",
       "    .dataframe tbody tr th:only-of-type {\n",
       "        vertical-align: middle;\n",
       "    }\n",
       "\n",
       "    .dataframe tbody tr th {\n",
       "        vertical-align: top;\n",
       "    }\n",
       "\n",
       "    .dataframe thead th {\n",
       "        text-align: right;\n",
       "    }\n",
       "</style>\n",
       "<table border=\"1\" class=\"dataframe\">\n",
       "  <thead>\n",
       "    <tr style=\"text-align: right;\">\n",
       "      <th></th>\n",
       "      <th>Finess</th>\n",
       "      <th>Raison sociale</th>\n",
       "      <th>Catégorie</th>\n",
       "      <th>Provenance</th>\n",
       "      <th>Nb de transferts</th>\n",
       "    </tr>\n",
       "  </thead>\n",
       "  <tbody>\n",
       "    <tr>\n",
       "      <th>0</th>\n",
       "      <td>710978248</td>\n",
       "      <td>CH AUTUN SITE LATOUCHE</td>\n",
       "      <td>CH</td>\n",
       "      <td>CH AUTUN SITE PARPAS</td>\n",
       "      <td>155</td>\n",
       "    </tr>\n",
       "    <tr>\n",
       "      <th>1</th>\n",
       "      <td>580780187</td>\n",
       "      <td>CLINIQUE DU MORVAN SA</td>\n",
       "      <td>Privé</td>\n",
       "      <td>CH AUTUN SITE PARPAS</td>\n",
       "      <td>48</td>\n",
       "    </tr>\n",
       "    <tr>\n",
       "      <th>2</th>\n",
       "      <td>580780187</td>\n",
       "      <td>CLINIQUE DU MORVAN SA</td>\n",
       "      <td>Privé</td>\n",
       "      <td>CH DECIZE</td>\n",
       "      <td>34</td>\n",
       "    </tr>\n",
       "    <tr>\n",
       "      <th>3</th>\n",
       "      <td>580780187</td>\n",
       "      <td>CLINIQUE DU MORVAN SA</td>\n",
       "      <td>Privé</td>\n",
       "      <td>HÔPITAL PIERRE BEREGOVOY</td>\n",
       "      <td>16</td>\n",
       "    </tr>\n",
       "    <tr>\n",
       "      <th>4</th>\n",
       "      <td>710002288</td>\n",
       "      <td>SSR MARGUERITE BOUCICAUT</td>\n",
       "      <td>Privé</td>\n",
       "      <td>CH AUTUN SITE PARPAS</td>\n",
       "      <td>21</td>\n",
       "    </tr>\n",
       "    <tr>\n",
       "      <th>...</th>\n",
       "      <td>...</td>\n",
       "      <td>...</td>\n",
       "      <td>...</td>\n",
       "      <td>...</td>\n",
       "      <td>...</td>\n",
       "    </tr>\n",
       "    <tr>\n",
       "      <th>141</th>\n",
       "      <td>890975543</td>\n",
       "      <td>CH JOIGNY</td>\n",
       "      <td>CH</td>\n",
       "      <td>CH JOIGNY</td>\n",
       "      <td>149</td>\n",
       "    </tr>\n",
       "    <tr>\n",
       "      <th>142</th>\n",
       "      <td>100007285</td>\n",
       "      <td>CRF INSTITUT ASCLEPIADE</td>\n",
       "      <td>Privé</td>\n",
       "      <td>CH SENS</td>\n",
       "      <td>37</td>\n",
       "    </tr>\n",
       "    <tr>\n",
       "      <th>143</th>\n",
       "      <td>100010362</td>\n",
       "      <td>GCS PLAT AVAL TERR CHAMP SUD CRF PAST</td>\n",
       "      <td>Privé</td>\n",
       "      <td>CH SENS</td>\n",
       "      <td>19</td>\n",
       "    </tr>\n",
       "    <tr>\n",
       "      <th>144</th>\n",
       "      <td>450000526</td>\n",
       "      <td>CMPR L'A.D.A.P.T. LOIRET</td>\n",
       "      <td>PSPH/EBNL</td>\n",
       "      <td>CH SENS</td>\n",
       "      <td>14</td>\n",
       "    </tr>\n",
       "    <tr>\n",
       "      <th>145</th>\n",
       "      <td>100010933</td>\n",
       "      <td>GCS PATCS CRRF PASTEUR 2</td>\n",
       "      <td>Privé</td>\n",
       "      <td>CH SENS</td>\n",
       "      <td>13</td>\n",
       "    </tr>\n",
       "  </tbody>\n",
       "</table>\n",
       "<p>146 rows × 5 columns</p>\n",
       "</div>"
      ],
      "text/plain": [
       "        Finess                         Raison sociale  Catégorie  \\\n",
       "0    710978248                 CH AUTUN SITE LATOUCHE         CH   \n",
       "1    580780187                  CLINIQUE DU MORVAN SA      Privé   \n",
       "2    580780187                  CLINIQUE DU MORVAN SA      Privé   \n",
       "3    580780187                  CLINIQUE DU MORVAN SA      Privé   \n",
       "4    710002288               SSR MARGUERITE BOUCICAUT      Privé   \n",
       "..         ...                                    ...        ...   \n",
       "141  890975543                              CH JOIGNY         CH   \n",
       "142  100007285                CRF INSTITUT ASCLEPIADE      Privé   \n",
       "143  100010362  GCS PLAT AVAL TERR CHAMP SUD CRF PAST      Privé   \n",
       "144  450000526               CMPR L'A.D.A.P.T. LOIRET  PSPH/EBNL   \n",
       "145  100010933               GCS PATCS CRRF PASTEUR 2      Privé   \n",
       "\n",
       "                  Provenance   Nb de transferts  \n",
       "0        CH AUTUN SITE PARPAS               155  \n",
       "1        CH AUTUN SITE PARPAS                48  \n",
       "2                   CH DECIZE                34  \n",
       "3    HÔPITAL PIERRE BEREGOVOY                16  \n",
       "4        CH AUTUN SITE PARPAS                21  \n",
       "..                        ...               ...  \n",
       "141                CH JOIGNY                149  \n",
       "142                  CH SENS                 37  \n",
       "143                  CH SENS                 19  \n",
       "144                  CH SENS                 14  \n",
       "145                  CH SENS                 13  \n",
       "\n",
       "[146 rows x 5 columns]"
      ]
     },
     "execution_count": 8,
     "metadata": {},
     "output_type": "execute_result"
    }
   ],
   "source": [
    "#check nb établissements\n",
    "check"
   ]
  },
  {
   "cell_type": "markdown",
   "id": "217fbd2a",
   "metadata": {},
   "source": [
    "### check etab missing"
   ]
  },
  {
   "cell_type": "code",
   "execution_count": 9,
   "id": "59b5d7b2",
   "metadata": {},
   "outputs": [
    {
     "data": {
      "text/plain": [
       "82"
      ]
     },
     "execution_count": 9,
     "metadata": {},
     "output_type": "execute_result"
    }
   ],
   "source": [
    "check['Raison sociale'].drop_duplicates().count()\n",
    "# => 74 établissements au total\n",
    "hp['Etablissement'].drop_duplicates().count()\n",
    "#=> 49 hp\n",
    "ssr['Etablissement SSR '].drop_duplicates().count()\n",
    "# => 82 ssr\n",
    "# 82 + 49 = 131 \n",
    "#- intersect = 111"
   ]
  },
  {
   "cell_type": "code",
   "execution_count": 10,
   "id": "d932ac2f",
   "metadata": {},
   "outputs": [],
   "source": [
    "bourgogne_etab = check['Raison sociale'].drop_duplicates()\n",
    "hp_etab = hp['Etablissement'].drop_duplicates()\n",
    "ssr_etab = ssr['Etablissement SSR '].drop_duplicates()\n",
    "coord_etab = coord['Etablissement SSR '].drop_duplicates()"
   ]
  },
  {
   "cell_type": "code",
   "execution_count": 11,
   "id": "7f9dd67e",
   "metadata": {},
   "outputs": [],
   "source": [
    "bourgogne_etab.name = 'etab'\n",
    "hp_etab.name = 'etab'\n",
    "ssr_etab.name = 'etab'\n",
    "coord_etab.name = 'etab'"
   ]
  },
  {
   "cell_type": "code",
   "execution_count": 12,
   "id": "d7fe089c",
   "metadata": {
    "scrolled": true
   },
   "outputs": [
    {
     "data": {
      "text/plain": [
       "(20, 1)"
      ]
     },
     "execution_count": 12,
     "metadata": {},
     "output_type": "execute_result"
    }
   ],
   "source": [
    "#both in hp and ssr\n",
    "both_in_hp_ssr = pd.merge(hp_etab, ssr_etab, how='inner', left_on=hp_etab.name, right_on=ssr_etab.name)\n",
    "both_in_hp_ssr.shape"
   ]
  },
  {
   "cell_type": "code",
   "execution_count": 13,
   "id": "074b3f08",
   "metadata": {},
   "outputs": [
    {
     "data": {
      "text/html": [
       "<div>\n",
       "<style scoped>\n",
       "    .dataframe tbody tr th:only-of-type {\n",
       "        vertical-align: middle;\n",
       "    }\n",
       "\n",
       "    .dataframe tbody tr th {\n",
       "        vertical-align: top;\n",
       "    }\n",
       "\n",
       "    .dataframe thead th {\n",
       "        text-align: right;\n",
       "    }\n",
       "</style>\n",
       "<table border=\"1\" class=\"dataframe\">\n",
       "  <thead>\n",
       "    <tr style=\"text-align: right;\">\n",
       "      <th></th>\n",
       "      <th>etab</th>\n",
       "    </tr>\n",
       "  </thead>\n",
       "  <tbody>\n",
       "    <tr>\n",
       "      <th>0</th>\n",
       "      <td>CH WILLIAM MOREY CHALON SUR SAONE</td>\n",
       "    </tr>\n",
       "    <tr>\n",
       "      <th>1</th>\n",
       "      <td>CH BRESSE LOUHANNAISE</td>\n",
       "    </tr>\n",
       "    <tr>\n",
       "      <th>2</th>\n",
       "      <td>CH JEAN BOUVERI</td>\n",
       "    </tr>\n",
       "    <tr>\n",
       "      <th>3</th>\n",
       "      <td>CH AUXERRE</td>\n",
       "    </tr>\n",
       "    <tr>\n",
       "      <th>4</th>\n",
       "      <td>CH DU TONNERROIS</td>\n",
       "    </tr>\n",
       "    <tr>\n",
       "      <th>5</th>\n",
       "      <td>CH DE LANGRES</td>\n",
       "    </tr>\n",
       "    <tr>\n",
       "      <th>6</th>\n",
       "      <td>CH HCO SITE DE CHATILLON SUR SEINE</td>\n",
       "    </tr>\n",
       "    <tr>\n",
       "      <th>7</th>\n",
       "      <td>CH HCO SITE DE MONTBARD</td>\n",
       "    </tr>\n",
       "    <tr>\n",
       "      <th>8</th>\n",
       "      <td>CH D'IS-SUR-TILLE</td>\n",
       "    </tr>\n",
       "    <tr>\n",
       "      <th>9</th>\n",
       "      <td>CH ALIGRE BOURBON LANCY</td>\n",
       "    </tr>\n",
       "    <tr>\n",
       "      <th>10</th>\n",
       "      <td>CH DU CLUNISOIS</td>\n",
       "    </tr>\n",
       "    <tr>\n",
       "      <th>11</th>\n",
       "      <td>CH BELNAY</td>\n",
       "    </tr>\n",
       "    <tr>\n",
       "      <th>12</th>\n",
       "      <td>CH COSNE COURS SUR LOIRE</td>\n",
       "    </tr>\n",
       "    <tr>\n",
       "      <th>13</th>\n",
       "      <td>CH DECIZE</td>\n",
       "    </tr>\n",
       "    <tr>\n",
       "      <th>14</th>\n",
       "      <td>HÔPITAL PIERRE BEREGOVOY</td>\n",
       "    </tr>\n",
       "    <tr>\n",
       "      <th>15</th>\n",
       "      <td>CENTRE COLBERT MEDECINE ET SSR</td>\n",
       "    </tr>\n",
       "    <tr>\n",
       "      <th>16</th>\n",
       "      <td>CH CHATEAU-CHINON</td>\n",
       "    </tr>\n",
       "    <tr>\n",
       "      <th>17</th>\n",
       "      <td>CENTRE ORTHOPEDIQUE MEDICO-CHIR</td>\n",
       "    </tr>\n",
       "    <tr>\n",
       "      <th>18</th>\n",
       "      <td>POLYCLINIQUE STE MARGUERITE</td>\n",
       "    </tr>\n",
       "    <tr>\n",
       "      <th>19</th>\n",
       "      <td>HOTEL-DIEU DU CREUSOT</td>\n",
       "    </tr>\n",
       "  </tbody>\n",
       "</table>\n",
       "</div>"
      ],
      "text/plain": [
       "                                  etab\n",
       "0    CH WILLIAM MOREY CHALON SUR SAONE\n",
       "1                CH BRESSE LOUHANNAISE\n",
       "2                      CH JEAN BOUVERI\n",
       "3                           CH AUXERRE\n",
       "4                     CH DU TONNERROIS\n",
       "5                        CH DE LANGRES\n",
       "6   CH HCO SITE DE CHATILLON SUR SEINE\n",
       "7              CH HCO SITE DE MONTBARD\n",
       "8                    CH D'IS-SUR-TILLE\n",
       "9              CH ALIGRE BOURBON LANCY\n",
       "10                     CH DU CLUNISOIS\n",
       "11                           CH BELNAY\n",
       "12            CH COSNE COURS SUR LOIRE\n",
       "13                           CH DECIZE\n",
       "14            HÔPITAL PIERRE BEREGOVOY\n",
       "15      CENTRE COLBERT MEDECINE ET SSR\n",
       "16                   CH CHATEAU-CHINON\n",
       "17     CENTRE ORTHOPEDIQUE MEDICO-CHIR\n",
       "18         POLYCLINIQUE STE MARGUERITE\n",
       "19               HOTEL-DIEU DU CREUSOT"
      ]
     },
     "execution_count": 13,
     "metadata": {},
     "output_type": "execute_result"
    }
   ],
   "source": [
    "both_in_hp_ssr"
   ]
  },
  {
   "cell_type": "code",
   "execution_count": 14,
   "id": "f8716ea7",
   "metadata": {},
   "outputs": [],
   "source": [
    "hp_ssr = pd.concat([hp_etab, ssr_etab], axis=0)"
   ]
  },
  {
   "cell_type": "code",
   "execution_count": 15,
   "id": "788477ab",
   "metadata": {},
   "outputs": [],
   "source": [
    "hp_ssr = hp_ssr.drop_duplicates()"
   ]
  },
  {
   "cell_type": "code",
   "execution_count": 16,
   "id": "eb3f31d9",
   "metadata": {},
   "outputs": [
    {
     "data": {
      "text/plain": [
       "(111,)"
      ]
     },
     "execution_count": 16,
     "metadata": {},
     "output_type": "execute_result"
    }
   ],
   "source": [
    "hp_ssr.shape"
   ]
  },
  {
   "cell_type": "code",
   "execution_count": 17,
   "id": "4f14de91",
   "metadata": {},
   "outputs": [
    {
     "data": {
      "text/plain": [
       "0                   CH AUTUN SITE PARPAS\n",
       "36     CH WILLIAM MOREY CHALON SUR SAONE\n",
       "131                CH BRESSE LOUHANNAISE\n",
       "143                      CH JEAN BOUVERI\n",
       "189                            HL CHAGNY\n",
       "                     ...                \n",
       "398             CMPR L'A.D.A.P.T. LOIRET\n",
       "401              CENTRE DE CONVALESCENCE\n",
       "404             CENTRE SSR DU CHALONNAIS\n",
       "405                SA MAISON DE JOUVENCE\n",
       "413                      CH DE LA GUICHE\n",
       "Name: etab, Length: 111, dtype: object"
      ]
     },
     "execution_count": 17,
     "metadata": {},
     "output_type": "execute_result"
    }
   ],
   "source": [
    "hp_ssr"
   ]
  },
  {
   "cell_type": "code",
   "execution_count": 18,
   "id": "afc00d7b",
   "metadata": {},
   "outputs": [
    {
     "data": {
      "text/plain": [
       "18                        KORIAN LA BRESSANE\n",
       "74                  CH REG UNIVERSITAIRE DIJ\n",
       "82                              CH D'AUXONNE\n",
       "96             CENTRE MÉDICAL LA GRANGE/MONT\n",
       "99                   SARL JOUVENCE NUTRITION\n",
       "102                       CH DE BAR SUR AUBE\n",
       "103                     HÔPITAL DE JOINVILLE\n",
       "105                CLINIQUE DE LA COMPASSION\n",
       "118                            CH DE BEAUJEU\n",
       "119    CH PAYS CHAROLAIS BRIONNAIS CHAROLLES\n",
       "122                          CR LES ARBELLES\n",
       "133              INSTITUT MEDICAL DE SOLOGNE\n",
       "134                    MOYEN SEJOUR PIGNELIN\n",
       "136                     MOYEN SEJOUR CH SENS\n",
       "143    GCS PLAT AVAL TERR CHAMP SUD CRF PAST\n",
       "145                 GCS PATCS CRRF PASTEUR 2\n",
       "Name: etab, dtype: object"
      ]
     },
     "execution_count": 18,
     "metadata": {},
     "output_type": "execute_result"
    }
   ],
   "source": [
    "#Etablissements dans la liste 'Bourgogne' mais pas dans les hp ni les ssr\n",
    "bourgogne_etab[bourgogne_etab.isin(hp_ssr) == False]"
   ]
  },
  {
   "cell_type": "code",
   "execution_count": 19,
   "id": "e71078a3",
   "metadata": {},
   "outputs": [
    {
     "data": {
      "text/plain": [
       "189                                  HL CHAGNY\n",
       "200                                 CHS SEVREY\n",
       "201                                CHS AUXERRE\n",
       "293                                 CH AVALLON\n",
       "319                           CH DU TONNERROIS\n",
       "339                                 CH CLAMECY\n",
       "364              \\tCH REG UNIVERSITAIRE DIJON \n",
       "396                   \\tCH LA CHARTREUSE DIJON\n",
       "400             \\tHÔPITAL LE BOCAGE CHRU DIJON\n",
       "529                           \\tCH DE CHAUMONT\n",
       "598                  CH DE BOURBONNE-LES-BAINS\n",
       "621                    CH HCO SITE DE MONTBARD\n",
       "640                     CH HCO SITE DE SAULIEU\n",
       "659                         CH ROBERT MORLEVAT\n",
       "716                \\tHOSPICES CIVILS DE BEAUNE\n",
       "896             CH DU PAYS CHAROLAIS BRIONNAIS\n",
       "997     CH PAYS CHAROLAIS BRIONNAIS LA CLAYETT\n",
       "1205                                   CH SENS\n",
       "1292                                 CH JOIGNY\n",
       "1386               HÔPITAL PRIVE SAINTE MARIE \n",
       "1441             POLYCLINIQUE DU VAL DE SAONE \n",
       "1492               POLYCLINIQUE DU PARC DREVON\n",
       "1537              CLINIQUE MEDICO-CHIRURGICALE\n",
       "1593                          CLINIQUE DU PARC\n",
       "1621                      CLINIQUE PAUL PIQUET\n",
       "1669             HOPITAL PRIVE DIJON BOURGOGNE\n",
       "1737            CENTRE GEORGE-FRANCOIS LECLERC\n",
       "1784                     HOTEL-DIEU DU CREUSOT\n",
       "29                         KORIAN LA BRESSANE \n",
       "31                            CH JEAN BOUVERI \n",
       "52                            CH DE LA GUICHE \n",
       "100              CENTRE MEDICAL DE LA VENERIE \n",
       "122                         CSSR LE RENOUVEAU \n",
       "208                      CH LES CHAUNAUX MACON\n",
       "241                                 CH BELANY \n",
       "273                       CRF LES BOURBONNAIS \n",
       "304                                CRF PASORI \n",
       "314                              LE RECONFORT \n",
       "366                        KORIAN LE TINAILLER\n",
       "380                                  CRF DIVIO\n",
       "382                         C.R.B. LES ROSIERS\n",
       "387                           SSR EDITH CAVELL\n",
       "401                    CENTRE DE CONVALESCENCE\n",
       "404                   CENTRE SSR DU CHALONNAIS\n",
       "405                      SA MAISON DE JOUVENCE\n",
       "Name: etab, dtype: object"
      ]
     },
     "execution_count": 19,
     "metadata": {},
     "output_type": "execute_result"
    }
   ],
   "source": [
    "#Etablissement dans les onglets hp et ssr mais pas dans coord\n",
    "hp_ssr[hp_ssr.isin(coord_etab) == False] #45"
   ]
  },
  {
   "cell_type": "code",
   "execution_count": 166,
   "id": "ef6d702c",
   "metadata": {},
   "outputs": [],
   "source": [
    "#uniformisation des noms d'établissements\n",
    "#TODO"
   ]
  },
  {
   "cell_type": "markdown",
   "id": "3867b094",
   "metadata": {},
   "source": [
    "### uniformisation des noms des variables "
   ]
  },
  {
   "cell_type": "code",
   "execution_count": 20,
   "id": "34732500",
   "metadata": {},
   "outputs": [
    {
     "data": {
      "text/plain": [
       "Index(['Nom_GHT', 'Etablissement', 'Rang', 'Code', 'Groupe Plannification',\n",
       "       'Nb séjour / Séances', 'Nb de jours', 'Age moyen', '% Age>75',\n",
       "       '% lourd',\n",
       "       'Transferts SSR (Nombre de séjours chainés et tranférés vers un établissement SSR) ',\n",
       "       'Etablissement SSR de transfert ', 'Catégorie ', 'Nb de transferts',\n",
       "       'is_in_GHT', 'transfer_interne'],\n",
       "      dtype='object')"
      ]
     },
     "execution_count": 20,
     "metadata": {},
     "output_type": "execute_result"
    }
   ],
   "source": [
    "hp.columns"
   ]
  },
  {
   "cell_type": "code",
   "execution_count": 21,
   "id": "e0e7e504",
   "metadata": {},
   "outputs": [],
   "source": [
    "hp.columns = [\n",
    "    'nom_ght', \n",
    "    'etablissement',\n",
    "    'rang',\n",
    "    'code',\n",
    "    'groupe_plannification',\n",
    "    'nb_sejour_par_seance',\n",
    "    'nb_jour',\n",
    "    'age_moyen',\n",
    "    'pourc_age_sup_75',\n",
    "    'pourc_lourd',\n",
    "    'transferts_ssr',\n",
    "    'etablissement_ssr_de_transfert',\n",
    "    'categorie',\n",
    "    'nb_transferts',\n",
    "    'is_in_ght',\n",
    "    'transfert_interne'\n",
    "]"
   ]
  },
  {
   "cell_type": "code",
   "execution_count": 22,
   "id": "6749c3e6",
   "metadata": {},
   "outputs": [
    {
     "data": {
      "text/plain": [
       "Index(['Nom_GHT', 'Etablissement SSR ', 'Catégorie ', 'Code ',\n",
       "       'Groupe planification ', 'Provenance ', 'Effectif ',\n",
       "       'Total par établissement (Effecitifs >10)', 'Total (Effecitifs >10)',\n",
       "       'is_in_GHT', 'Unnamed: 10'],\n",
       "      dtype='object')"
      ]
     },
     "execution_count": 22,
     "metadata": {},
     "output_type": "execute_result"
    }
   ],
   "source": [
    "ssr.columns"
   ]
  },
  {
   "cell_type": "code",
   "execution_count": 23,
   "id": "9fe73d1b",
   "metadata": {},
   "outputs": [],
   "source": [
    "ssr.columns = [\n",
    "    'nom_ght',\n",
    "    'etablissement_ssr',\n",
    "    'categorie',\n",
    "    'code',\n",
    "    'groupe_planification',\n",
    "    'provenance',\n",
    "    'effectif_entrant',\n",
    "    'todelete',\n",
    "    'todelete2',\n",
    "    'is_in_ght',\n",
    "    'todelete3'\n",
    "]"
   ]
  },
  {
   "cell_type": "code",
   "execution_count": 24,
   "id": "7df7de50",
   "metadata": {},
   "outputs": [],
   "source": [
    "ssr = ssr.drop(['todelete', 'todelete2', 'todelete3'], axis=1)"
   ]
  },
  {
   "cell_type": "code",
   "execution_count": 25,
   "id": "22f36674",
   "metadata": {},
   "outputs": [],
   "source": [
    "ssr['is_in_ght'] = ssr['is_in_ght'].fillna(0)"
   ]
  },
  {
   "cell_type": "code",
   "execution_count": 26,
   "id": "6797ef92",
   "metadata": {},
   "outputs": [
    {
     "data": {
      "text/plain": [
       "Index(['Finess', 'Raison sociale', 'Catégorie', 'Provenance ',\n",
       "       'Nb de transferts'],\n",
       "      dtype='object')"
      ]
     },
     "execution_count": 26,
     "metadata": {},
     "output_type": "execute_result"
    }
   ],
   "source": [
    "check.columns "
   ]
  },
  {
   "cell_type": "code",
   "execution_count": 27,
   "id": "d87dbbde",
   "metadata": {},
   "outputs": [],
   "source": [
    "check.columns = ['finess', 'etablissement', 'categorie', 'provenance', 'nb_transferts']"
   ]
  },
  {
   "cell_type": "code",
   "execution_count": 28,
   "id": "33aebf36",
   "metadata": {},
   "outputs": [
    {
     "data": {
      "text/html": [
       "<div>\n",
       "<style scoped>\n",
       "    .dataframe tbody tr th:only-of-type {\n",
       "        vertical-align: middle;\n",
       "    }\n",
       "\n",
       "    .dataframe tbody tr th {\n",
       "        vertical-align: top;\n",
       "    }\n",
       "\n",
       "    .dataframe thead th {\n",
       "        text-align: right;\n",
       "    }\n",
       "</style>\n",
       "<table border=\"1\" class=\"dataframe\">\n",
       "  <thead>\n",
       "    <tr style=\"text-align: right;\">\n",
       "      <th></th>\n",
       "      <th>finess</th>\n",
       "      <th>etablissement</th>\n",
       "      <th>categorie</th>\n",
       "      <th>provenance</th>\n",
       "      <th>nb_transferts</th>\n",
       "    </tr>\n",
       "  </thead>\n",
       "  <tbody>\n",
       "    <tr>\n",
       "      <th>0</th>\n",
       "      <td>710978248</td>\n",
       "      <td>CH AUTUN SITE LATOUCHE</td>\n",
       "      <td>CH</td>\n",
       "      <td>CH AUTUN SITE PARPAS</td>\n",
       "      <td>155</td>\n",
       "    </tr>\n",
       "    <tr>\n",
       "      <th>1</th>\n",
       "      <td>580780187</td>\n",
       "      <td>CLINIQUE DU MORVAN SA</td>\n",
       "      <td>Privé</td>\n",
       "      <td>CH AUTUN SITE PARPAS</td>\n",
       "      <td>48</td>\n",
       "    </tr>\n",
       "    <tr>\n",
       "      <th>2</th>\n",
       "      <td>580780187</td>\n",
       "      <td>CLINIQUE DU MORVAN SA</td>\n",
       "      <td>Privé</td>\n",
       "      <td>CH DECIZE</td>\n",
       "      <td>34</td>\n",
       "    </tr>\n",
       "    <tr>\n",
       "      <th>3</th>\n",
       "      <td>580780187</td>\n",
       "      <td>CLINIQUE DU MORVAN SA</td>\n",
       "      <td>Privé</td>\n",
       "      <td>HÔPITAL PIERRE BEREGOVOY</td>\n",
       "      <td>16</td>\n",
       "    </tr>\n",
       "    <tr>\n",
       "      <th>4</th>\n",
       "      <td>710002288</td>\n",
       "      <td>SSR MARGUERITE BOUCICAUT</td>\n",
       "      <td>Privé</td>\n",
       "      <td>CH AUTUN SITE PARPAS</td>\n",
       "      <td>21</td>\n",
       "    </tr>\n",
       "    <tr>\n",
       "      <th>...</th>\n",
       "      <td>...</td>\n",
       "      <td>...</td>\n",
       "      <td>...</td>\n",
       "      <td>...</td>\n",
       "      <td>...</td>\n",
       "    </tr>\n",
       "    <tr>\n",
       "      <th>141</th>\n",
       "      <td>890975543</td>\n",
       "      <td>CH JOIGNY</td>\n",
       "      <td>CH</td>\n",
       "      <td>CH JOIGNY</td>\n",
       "      <td>149</td>\n",
       "    </tr>\n",
       "    <tr>\n",
       "      <th>142</th>\n",
       "      <td>100007285</td>\n",
       "      <td>CRF INSTITUT ASCLEPIADE</td>\n",
       "      <td>Privé</td>\n",
       "      <td>CH SENS</td>\n",
       "      <td>37</td>\n",
       "    </tr>\n",
       "    <tr>\n",
       "      <th>143</th>\n",
       "      <td>100010362</td>\n",
       "      <td>GCS PLAT AVAL TERR CHAMP SUD CRF PAST</td>\n",
       "      <td>Privé</td>\n",
       "      <td>CH SENS</td>\n",
       "      <td>19</td>\n",
       "    </tr>\n",
       "    <tr>\n",
       "      <th>144</th>\n",
       "      <td>450000526</td>\n",
       "      <td>CMPR L'A.D.A.P.T. LOIRET</td>\n",
       "      <td>PSPH/EBNL</td>\n",
       "      <td>CH SENS</td>\n",
       "      <td>14</td>\n",
       "    </tr>\n",
       "    <tr>\n",
       "      <th>145</th>\n",
       "      <td>100010933</td>\n",
       "      <td>GCS PATCS CRRF PASTEUR 2</td>\n",
       "      <td>Privé</td>\n",
       "      <td>CH SENS</td>\n",
       "      <td>13</td>\n",
       "    </tr>\n",
       "  </tbody>\n",
       "</table>\n",
       "<p>146 rows × 5 columns</p>\n",
       "</div>"
      ],
      "text/plain": [
       "        finess                          etablissement  categorie  \\\n",
       "0    710978248                 CH AUTUN SITE LATOUCHE         CH   \n",
       "1    580780187                  CLINIQUE DU MORVAN SA      Privé   \n",
       "2    580780187                  CLINIQUE DU MORVAN SA      Privé   \n",
       "3    580780187                  CLINIQUE DU MORVAN SA      Privé   \n",
       "4    710002288               SSR MARGUERITE BOUCICAUT      Privé   \n",
       "..         ...                                    ...        ...   \n",
       "141  890975543                              CH JOIGNY         CH   \n",
       "142  100007285                CRF INSTITUT ASCLEPIADE      Privé   \n",
       "143  100010362  GCS PLAT AVAL TERR CHAMP SUD CRF PAST      Privé   \n",
       "144  450000526               CMPR L'A.D.A.P.T. LOIRET  PSPH/EBNL   \n",
       "145  100010933               GCS PATCS CRRF PASTEUR 2      Privé   \n",
       "\n",
       "                   provenance  nb_transferts  \n",
       "0        CH AUTUN SITE PARPAS            155  \n",
       "1        CH AUTUN SITE PARPAS             48  \n",
       "2                   CH DECIZE             34  \n",
       "3    HÔPITAL PIERRE BEREGOVOY             16  \n",
       "4        CH AUTUN SITE PARPAS             21  \n",
       "..                        ...            ...  \n",
       "141                CH JOIGNY             149  \n",
       "142                  CH SENS              37  \n",
       "143                  CH SENS              19  \n",
       "144                  CH SENS              14  \n",
       "145                  CH SENS              13  \n",
       "\n",
       "[146 rows x 5 columns]"
      ]
     },
     "execution_count": 28,
     "metadata": {},
     "output_type": "execute_result"
    }
   ],
   "source": [
    "check"
   ]
  },
  {
   "cell_type": "code",
   "execution_count": 29,
   "id": "d64e0239",
   "metadata": {},
   "outputs": [
    {
     "data": {
      "text/plain": [
       "Index(['Etablissement SSR ', 'Adresse', 'Latitude ', 'Longitude'], dtype='object')"
      ]
     },
     "execution_count": 29,
     "metadata": {},
     "output_type": "execute_result"
    }
   ],
   "source": [
    "coord.columns"
   ]
  },
  {
   "cell_type": "code",
   "execution_count": 30,
   "id": "fb861182",
   "metadata": {},
   "outputs": [],
   "source": [
    "coord.columns = ['etablissement', 'adresse', 'latitude', 'longitude']"
   ]
  },
  {
   "cell_type": "code",
   "execution_count": 31,
   "id": "4971d039",
   "metadata": {},
   "outputs": [
    {
     "data": {
      "text/html": [
       "<div>\n",
       "<style scoped>\n",
       "    .dataframe tbody tr th:only-of-type {\n",
       "        vertical-align: middle;\n",
       "    }\n",
       "\n",
       "    .dataframe tbody tr th {\n",
       "        vertical-align: top;\n",
       "    }\n",
       "\n",
       "    .dataframe thead th {\n",
       "        text-align: right;\n",
       "    }\n",
       "</style>\n",
       "<table border=\"1\" class=\"dataframe\">\n",
       "  <thead>\n",
       "    <tr style=\"text-align: right;\">\n",
       "      <th></th>\n",
       "      <th>etablissement</th>\n",
       "      <th>adresse</th>\n",
       "      <th>latitude</th>\n",
       "      <th>longitude</th>\n",
       "    </tr>\n",
       "  </thead>\n",
       "  <tbody>\n",
       "    <tr>\n",
       "      <th>0</th>\n",
       "      <td>AIHP CENTRE ARMANCON</td>\n",
       "      <td>18 Bis Rue Pierre Semard</td>\n",
       "      <td>47,95981</td>\n",
       "      <td>3,53041</td>\n",
       "    </tr>\n",
       "    <tr>\n",
       "      <th>1</th>\n",
       "      <td>C.R.B LES ROSIERS</td>\n",
       "      <td>45 Bd Henri Bazin</td>\n",
       "      <td>47,30041</td>\n",
       "      <td>5,019</td>\n",
       "    </tr>\n",
       "    <tr>\n",
       "      <th>2</th>\n",
       "      <td>CENTRE COLBERT MEDECINE ET SSR</td>\n",
       "      <td>4 Rue Étienne Litaud</td>\n",
       "      <td>46,99469</td>\n",
       "      <td>3,1597</td>\n",
       "    </tr>\n",
       "    <tr>\n",
       "      <th>3</th>\n",
       "      <td>CENTRE DE CONVALESCENCE</td>\n",
       "      <td>67 Rte d'Ahuy</td>\n",
       "      <td>47,34583</td>\n",
       "      <td>5,03471</td>\n",
       "    </tr>\n",
       "    <tr>\n",
       "      <th>4</th>\n",
       "      <td>CENTRE MÉDICAL DE LA VENERIE</td>\n",
       "      <td>Lieu Dit La Vénerie</td>\n",
       "      <td>47,2668</td>\n",
       "      <td>3,2896</td>\n",
       "    </tr>\n",
       "    <tr>\n",
       "      <th>...</th>\n",
       "      <td>...</td>\n",
       "      <td>...</td>\n",
       "      <td>...</td>\n",
       "      <td>...</td>\n",
       "    </tr>\n",
       "    <tr>\n",
       "      <th>73</th>\n",
       "      <td>POLYCLINIQUE DU VAL DE SAONE</td>\n",
       "      <td>44 Rue Ambroise Paré</td>\n",
       "      <td>46,3173</td>\n",
       "      <td>4,81178</td>\n",
       "    </tr>\n",
       "    <tr>\n",
       "      <th>74</th>\n",
       "      <td>POLYCLINIQUE STE MARGUERITE</td>\n",
       "      <td>5 Av. de la Font Sainte-Marguerite</td>\n",
       "      <td>47,81213</td>\n",
       "      <td>3,56478</td>\n",
       "    </tr>\n",
       "    <tr>\n",
       "      <th>75</th>\n",
       "      <td>SA MAISON JOUVENCE</td>\n",
       "      <td>20 Rue des Alisiers</td>\n",
       "      <td>47,40975</td>\n",
       "      <td>5,00968</td>\n",
       "    </tr>\n",
       "    <tr>\n",
       "      <th>76</th>\n",
       "      <td>SSR EDITH CAVELL</td>\n",
       "      <td>27 Av. Françoise Giroud</td>\n",
       "      <td>47,36094</td>\n",
       "      <td>5,05098</td>\n",
       "    </tr>\n",
       "    <tr>\n",
       "      <th>77</th>\n",
       "      <td>SSR MARGUERITE BOUCICAUT</td>\n",
       "      <td>2 Rue Pierre Mendès France</td>\n",
       "      <td>46,77502</td>\n",
       "      <td>4,84231</td>\n",
       "    </tr>\n",
       "  </tbody>\n",
       "</table>\n",
       "<p>78 rows × 4 columns</p>\n",
       "</div>"
      ],
      "text/plain": [
       "                     etablissement                             adresse  \\\n",
       "0             AIHP CENTRE ARMANCON            18 Bis Rue Pierre Semard   \n",
       "1               C.R.B LES ROSIERS                    45 Bd Henri Bazin   \n",
       "2   CENTRE COLBERT MEDECINE ET SSR                4 Rue Étienne Litaud   \n",
       "3         CENTRE DE CONVALESCENCE                        67 Rte d'Ahuy   \n",
       "4     CENTRE MÉDICAL DE LA VENERIE                 Lieu Dit La Vénerie   \n",
       "..                             ...                                 ...   \n",
       "73    POLYCLINIQUE DU VAL DE SAONE                44 Rue Ambroise Paré   \n",
       "74     POLYCLINIQUE STE MARGUERITE  5 Av. de la Font Sainte-Marguerite   \n",
       "75              SA MAISON JOUVENCE                 20 Rue des Alisiers   \n",
       "76               SSR EDITH CAVELL              27 Av. Françoise Giroud   \n",
       "77        SSR MARGUERITE BOUCICAUT          2 Rue Pierre Mendès France   \n",
       "\n",
       "    latitude longitude  \n",
       "0   47,95981   3,53041  \n",
       "1   47,30041     5,019  \n",
       "2   46,99469    3,1597  \n",
       "3   47,34583   5,03471  \n",
       "4    47,2668    3,2896  \n",
       "..       ...       ...  \n",
       "73   46,3173   4,81178  \n",
       "74  47,81213   3,56478  \n",
       "75  47,40975   5,00968  \n",
       "76  47,36094   5,05098  \n",
       "77  46,77502   4,84231  \n",
       "\n",
       "[78 rows x 4 columns]"
      ]
     },
     "execution_count": 31,
     "metadata": {},
     "output_type": "execute_result"
    }
   ],
   "source": [
    "coord"
   ]
  },
  {
   "cell_type": "code",
   "execution_count": 32,
   "id": "5767b2d4",
   "metadata": {},
   "outputs": [
    {
     "data": {
      "text/plain": [
       "Index(['GHT', 'Code', 'Groupe Plannification', 'Nb séjour / Séances',\n",
       "       'Nb de jours', '/', '/2', '/ ',\n",
       "       'Transferts SSR (Nombre de séjours chainés et tranférés vers un établissement SSR) ',\n",
       "       'Pourcentage '],\n",
       "      dtype='object')"
      ]
     },
     "execution_count": 32,
     "metadata": {},
     "output_type": "execute_result"
    }
   ],
   "source": [
    "ght.columns"
   ]
  },
  {
   "cell_type": "code",
   "execution_count": 33,
   "id": "5324c955",
   "metadata": {},
   "outputs": [],
   "source": [
    "ght.columns = [\n",
    "    'nom_ght',\n",
    "    'code',\n",
    "    'groupe_plannification',\n",
    "    'nb_sejour_par_seance',\n",
    "    'nb_jour',\n",
    "    'todelete1',\n",
    "    'todelete2',\n",
    "    'todelete3',\n",
    "    'transferts_ssr',\n",
    "    'pourcentage'\n",
    "]"
   ]
  },
  {
   "cell_type": "code",
   "execution_count": 34,
   "id": "84ae2526",
   "metadata": {},
   "outputs": [
    {
     "data": {
      "text/plain": [
       "Index(['nom_ght', 'code', 'groupe_plannification', 'nb_sejour_par_seance',\n",
       "       'nb_jour', 'todelete1', 'todelete2', 'todelete3', 'transferts_ssr',\n",
       "       'pourcentage'],\n",
       "      dtype='object')"
      ]
     },
     "execution_count": 34,
     "metadata": {},
     "output_type": "execute_result"
    }
   ],
   "source": [
    "ght.columns"
   ]
  },
  {
   "cell_type": "code",
   "execution_count": 35,
   "id": "dc2d764f",
   "metadata": {},
   "outputs": [],
   "source": [
    "ght = ght.drop(['todelete1', 'todelete2', 'todelete3'], axis=1)"
   ]
  },
  {
   "cell_type": "code",
   "execution_count": 36,
   "id": "dadf751f",
   "metadata": {},
   "outputs": [
    {
     "data": {
      "text/html": [
       "<div>\n",
       "<style scoped>\n",
       "    .dataframe tbody tr th:only-of-type {\n",
       "        vertical-align: middle;\n",
       "    }\n",
       "\n",
       "    .dataframe tbody tr th {\n",
       "        vertical-align: top;\n",
       "    }\n",
       "\n",
       "    .dataframe thead th {\n",
       "        text-align: right;\n",
       "    }\n",
       "</style>\n",
       "<table border=\"1\" class=\"dataframe\">\n",
       "  <thead>\n",
       "    <tr style=\"text-align: right;\">\n",
       "      <th></th>\n",
       "      <th>nom_ght</th>\n",
       "      <th>code</th>\n",
       "      <th>groupe_plannification</th>\n",
       "      <th>nb_sejour_par_seance</th>\n",
       "      <th>nb_jour</th>\n",
       "      <th>transferts_ssr</th>\n",
       "      <th>pourcentage</th>\n",
       "    </tr>\n",
       "  </thead>\n",
       "  <tbody>\n",
       "    <tr>\n",
       "      <th>0</th>\n",
       "      <td>GHT SÂONE-ET-LOIRE BRESSE MORVAN</td>\n",
       "      <td>X03</td>\n",
       "      <td>Neurologie</td>\n",
       "      <td>2828</td>\n",
       "      <td>17255</td>\n",
       "      <td>394</td>\n",
       "      <td>0,139321075</td>\n",
       "    </tr>\n",
       "    <tr>\n",
       "      <th>1</th>\n",
       "      <td>GHT SÂONE-ET-LOIRE BRESSE MORVAN</td>\n",
       "      <td>X08</td>\n",
       "      <td>Pneumologie</td>\n",
       "      <td>4237</td>\n",
       "      <td>31189</td>\n",
       "      <td>391</td>\n",
       "      <td>0,092282275</td>\n",
       "    </tr>\n",
       "    <tr>\n",
       "      <th>2</th>\n",
       "      <td>GHT SÂONE-ET-LOIRE BRESSE MORVAN</td>\n",
       "      <td>C09</td>\n",
       "      <td>Chir. majeure de l'app. Locomoteur:\\n hanche, ...</td>\n",
       "      <td>637</td>\n",
       "      <td>4825</td>\n",
       "      <td>272</td>\n",
       "      <td>0,42700157</td>\n",
       "    </tr>\n",
       "    <tr>\n",
       "      <th>3</th>\n",
       "      <td>GHT SÂONE-ET-LOIRE BRESSE MORVAN</td>\n",
       "      <td>X07</td>\n",
       "      <td>Affections Cardio-vasculaires</td>\n",
       "      <td>3266</td>\n",
       "      <td>18585</td>\n",
       "      <td>196</td>\n",
       "      <td>0,060012247</td>\n",
       "    </tr>\n",
       "    <tr>\n",
       "      <th>4</th>\n",
       "      <td>GHT SÂONE-ET-LOIRE BRESSE MORVAN</td>\n",
       "      <td>X06</td>\n",
       "      <td>Rhumatologie</td>\n",
       "      <td>1279</td>\n",
       "      <td>9071</td>\n",
       "      <td>140</td>\n",
       "      <td>0,109460516</td>\n",
       "    </tr>\n",
       "    <tr>\n",
       "      <th>...</th>\n",
       "      <td>...</td>\n",
       "      <td>...</td>\n",
       "      <td>...</td>\n",
       "      <td>...</td>\n",
       "      <td>...</td>\n",
       "      <td>...</td>\n",
       "      <td>...</td>\n",
       "    </tr>\n",
       "    <tr>\n",
       "      <th>371</th>\n",
       "      <td>GHT Nord-Yonne</td>\n",
       "      <td>O01</td>\n",
       "      <td>Accouchement par voie basse</td>\n",
       "      <td>924</td>\n",
       "      <td>3574</td>\n",
       "      <td>0 à 10</td>\n",
       "      <td>0,010822511</td>\n",
       "    </tr>\n",
       "    <tr>\n",
       "      <th>372</th>\n",
       "      <td>GHT Nord-Yonne</td>\n",
       "      <td>S01</td>\n",
       "      <td>Dialyse</td>\n",
       "      <td>7278</td>\n",
       "      <td>0</td>\n",
       "      <td>NaN</td>\n",
       "      <td>/</td>\n",
       "    </tr>\n",
       "    <tr>\n",
       "      <th>373</th>\n",
       "      <td>GHT Nord-Yonne</td>\n",
       "      <td>S02</td>\n",
       "      <td>Chimiothérapie pour tumeurs</td>\n",
       "      <td>3537</td>\n",
       "      <td>0</td>\n",
       "      <td>NaN</td>\n",
       "      <td>/</td>\n",
       "    </tr>\n",
       "    <tr>\n",
       "      <th>374</th>\n",
       "      <td>GHT Nord-Yonne</td>\n",
       "      <td>S03</td>\n",
       "      <td>Chimiothérapie pour aff. Non tumorale</td>\n",
       "      <td>658</td>\n",
       "      <td>0</td>\n",
       "      <td>NaN</td>\n",
       "      <td>/</td>\n",
       "    </tr>\n",
       "    <tr>\n",
       "      <th>375</th>\n",
       "      <td>GHT Nord-Yonne</td>\n",
       "      <td>S05</td>\n",
       "      <td>Transfusions</td>\n",
       "      <td>454</td>\n",
       "      <td>0</td>\n",
       "      <td>NaN</td>\n",
       "      <td>/</td>\n",
       "    </tr>\n",
       "  </tbody>\n",
       "</table>\n",
       "<p>376 rows × 7 columns</p>\n",
       "</div>"
      ],
      "text/plain": [
       "                              nom_ght code  \\\n",
       "0    GHT SÂONE-ET-LOIRE BRESSE MORVAN  X03   \n",
       "1    GHT SÂONE-ET-LOIRE BRESSE MORVAN  X08   \n",
       "2    GHT SÂONE-ET-LOIRE BRESSE MORVAN  C09   \n",
       "3    GHT SÂONE-ET-LOIRE BRESSE MORVAN  X07   \n",
       "4    GHT SÂONE-ET-LOIRE BRESSE MORVAN  X06   \n",
       "..                                ...  ...   \n",
       "371                   GHT Nord-Yonne   O01   \n",
       "372                   GHT Nord-Yonne   S01   \n",
       "373                   GHT Nord-Yonne   S02   \n",
       "374                   GHT Nord-Yonne   S03   \n",
       "375                   GHT Nord-Yonne   S05   \n",
       "\n",
       "                                 groupe_plannification nb_sejour_par_seance  \\\n",
       "0                                          Neurologie                  2828   \n",
       "1                                         Pneumologie                  4237   \n",
       "2    Chir. majeure de l'app. Locomoteur:\\n hanche, ...                  637   \n",
       "3                       Affections Cardio-vasculaires                  3266   \n",
       "4                                        Rhumatologie                  1279   \n",
       "..                                                 ...                  ...   \n",
       "371                       Accouchement par voie basse                   924   \n",
       "372                                           Dialyse                  7278   \n",
       "373                        Chimiothérapie pour tumeurs                 3537   \n",
       "374              Chimiothérapie pour aff. Non tumorale                  658   \n",
       "375                                       Transfusions                  454   \n",
       "\n",
       "    nb_jour transferts_ssr  pourcentage  \n",
       "0     17255            394  0,139321075  \n",
       "1     31189            391  0,092282275  \n",
       "2      4825            272   0,42700157  \n",
       "3     18585            196  0,060012247  \n",
       "4      9071            140  0,109460516  \n",
       "..      ...            ...          ...  \n",
       "371    3574         0 à 10  0,010822511  \n",
       "372       0            NaN            /  \n",
       "373       0            NaN            /  \n",
       "374       0            NaN            /  \n",
       "375       0            NaN            /  \n",
       "\n",
       "[376 rows x 7 columns]"
      ]
     },
     "execution_count": 36,
     "metadata": {},
     "output_type": "execute_result"
    }
   ],
   "source": [
    "ght"
   ]
  },
  {
   "cell_type": "code",
   "execution_count": 37,
   "id": "19753de2",
   "metadata": {},
   "outputs": [
    {
     "data": {
      "text/plain": [
       "Index(['finess', 'etablissement', 'categorie', 'provenance', 'nb_transferts'], dtype='object')"
      ]
     },
     "execution_count": 37,
     "metadata": {},
     "output_type": "execute_result"
    }
   ],
   "source": [
    "check.columns"
   ]
  },
  {
   "cell_type": "markdown",
   "id": "7468deb2",
   "metadata": {},
   "source": [
    "### uniformisation des noms (ght et etablissement)"
   ]
  },
  {
   "cell_type": "code",
   "execution_count": 140,
   "id": "14270f4e",
   "metadata": {},
   "outputs": [],
   "source": [
    "hp['nom_ght'] = hp['nom_ght'].str.upper()\n",
    "hp['nom_ght'] = hp['nom_ght'].str.lstrip()\n",
    "hp['nom_ght'] = hp['nom_ght'].str.rstrip()"
   ]
  },
  {
   "cell_type": "code",
   "execution_count": 141,
   "id": "a701008e",
   "metadata": {},
   "outputs": [],
   "source": [
    "hp['etablissement_ssr_de_transfert'] = hp['etablissement_ssr_de_transfert'].str.upper()\n",
    "hp['etablissement_ssr_de_transfert'] = hp['etablissement_ssr_de_transfert'].str.lstrip()\n",
    "hp['etablissement_ssr_de_transfert'] = hp['etablissement_ssr_de_transfert'].str.rstrip()"
   ]
  },
  {
   "cell_type": "code",
   "execution_count": 142,
   "id": "392cb416",
   "metadata": {},
   "outputs": [],
   "source": [
    "ssr['nom_ght'] = ssr['nom_ght'].str.upper()\n",
    "ssr['nom_ght'] = ssr['nom_ght'].str.lstrip()\n",
    "ssr['nom_ght'] = ssr['nom_ght'].str.rstrip()"
   ]
  },
  {
   "cell_type": "code",
   "execution_count": 143,
   "id": "594f6c44",
   "metadata": {},
   "outputs": [],
   "source": [
    "ssr['provenance'] = ssr['provenance'].str.upper()\n",
    "ssr['provenance'] = ssr['provenance'].str.lstrip()\n",
    "ssr['provenance'] = ssr['provenance'].str.rstrip()"
   ]
  },
  {
   "cell_type": "code",
   "execution_count": 144,
   "id": "d69094f0",
   "metadata": {},
   "outputs": [],
   "source": [
    "ssr['etablissement_ssr'] = ssr['etablissement_ssr'].str.upper()\n",
    "ssr['etablissement_ssr'] = ssr['etablissement_ssr'].str.lstrip()\n",
    "ssr['etablissement_ssr'] = ssr['etablissement_ssr'].str.rstrip()"
   ]
  },
  {
   "cell_type": "code",
   "execution_count": 145,
   "id": "310202bb",
   "metadata": {},
   "outputs": [],
   "source": [
    "ght['nom_ght'] = ght['nom_ght'].str.upper()\n",
    "ght['nom_ght'] = ght['nom_ght'].str.lstrip()\n",
    "ght['nom_ght'] = ght['nom_ght'].str.rstrip()"
   ]
  },
  {
   "cell_type": "code",
   "execution_count": 44,
   "id": "c922bd11",
   "metadata": {},
   "outputs": [],
   "source": [
    "check['etablissement'] = check['etablissement'].str.upper()\n",
    "check['etablissement'] = check['etablissement'].str.lstrip()"
   ]
  },
  {
   "cell_type": "code",
   "execution_count": 45,
   "id": "65777f4b",
   "metadata": {},
   "outputs": [],
   "source": [
    "check['provenance'] = check['provenance'].str.upper()"
   ]
  },
  {
   "cell_type": "code",
   "execution_count": 46,
   "id": "724446b3",
   "metadata": {},
   "outputs": [],
   "source": [
    "check['categorie'] = check['categorie'].str.upper()"
   ]
  },
  {
   "cell_type": "code",
   "execution_count": 47,
   "id": "203d0fb8",
   "metadata": {},
   "outputs": [],
   "source": [
    "coord['etablissement'] = coord['etablissement'].str.upper()"
   ]
  },
  {
   "cell_type": "markdown",
   "id": "02bc25c3",
   "metadata": {},
   "source": [
    "### modification des types (after)"
   ]
  },
  {
   "cell_type": "code",
   "execution_count": 67,
   "id": "5e6d305c",
   "metadata": {},
   "outputs": [],
   "source": [
    "coord['latitude'] = coord['latitude'].str.replace(',', '.')\n",
    "coord['longitude'] = coord['longitude'].str.replace(',', '.')"
   ]
  },
  {
   "cell_type": "code",
   "execution_count": 73,
   "id": "8f25f8fe",
   "metadata": {},
   "outputs": [],
   "source": [
    "coord['latitude'] = coord['latitude'].astype('float64')\n",
    "coord['longitude'] = coord['longitude'].astype('float64')"
   ]
  },
  {
   "cell_type": "code",
   "execution_count": 74,
   "id": "5dc909de",
   "metadata": {},
   "outputs": [
    {
     "data": {
      "text/plain": [
       "etablissement     object\n",
       "adresse           object\n",
       "latitude         float64\n",
       "longitude        float64\n",
       "dtype: object"
      ]
     },
     "execution_count": 74,
     "metadata": {},
     "output_type": "execute_result"
    }
   ],
   "source": [
    "coord.dtypes"
   ]
  },
  {
   "cell_type": "markdown",
   "id": "b46956a8",
   "metadata": {},
   "source": [
    "### sauvegarde des df"
   ]
  },
  {
   "cell_type": "code",
   "execution_count": 95,
   "id": "3a9c2c62",
   "metadata": {},
   "outputs": [],
   "source": [
    "r = './data/new_data/'\n",
    "coord.to_csv(r + 'coord.csv')\n",
    "hp.to_csv(r + 'hp.csv')\n",
    "ssr.to_csv(r + 'ssr.csv')\n",
    "ght.to_csv(r + 'ght.csv')\n",
    "check.to_csv(r + 'check.csv')"
   ]
  },
  {
   "cell_type": "markdown",
   "id": "e0c93f67",
   "metadata": {},
   "source": [
    "## Back to the check"
   ]
  },
  {
   "cell_type": "code",
   "execution_count": 2,
   "id": "b3c29afa",
   "metadata": {},
   "outputs": [],
   "source": [
    "import pandas as pd\n",
    "import numpy as np"
   ]
  },
  {
   "cell_type": "code",
   "execution_count": 100,
   "id": "c989d3a9",
   "metadata": {},
   "outputs": [],
   "source": [
    "r = './data/new_data/'\n",
    "coord = pd.read_csv(r + 'coord.csv', sep=',', index_col=0)\n",
    "hp = pd.read_csv(r + 'hp.csv', sep=',', index_col=0)\n",
    "ssr = pd.read_csv(r + 'ssr.csv', sep=',', index_col=0)\n",
    "ght = pd.read_csv(r + 'ght.csv', sep=',', index_col=0)\n",
    "check = pd.read_csv(r + 'check.csv', sep=',', index_col=0)"
   ]
  },
  {
   "cell_type": "markdown",
   "id": "d485b932",
   "metadata": {},
   "source": [
    "### Vérifions qu'ils y a bien toutes les coordonnées"
   ]
  },
  {
   "cell_type": "code",
   "execution_count": 111,
   "id": "54a723fc",
   "metadata": {},
   "outputs": [],
   "source": [
    "coord_etab = coord['etablissement'].drop_duplicates()\n",
    "ssr_concat_hp_etab = pd.concat([hp['etablissement'].drop_duplicates(), ssr['etablissement_ssr'].drop_duplicates()])"
   ]
  },
  {
   "cell_type": "code",
   "execution_count": 114,
   "id": "ee4d6457",
   "metadata": {},
   "outputs": [
    {
     "name": "stdout",
     "output_type": "stream",
     "text": [
      "(131,) (78,)\n"
     ]
    }
   ],
   "source": [
    "print(ssr_concat_hp_etab.shape, coord_etab.shape)"
   ]
  },
  {
   "cell_type": "code",
   "execution_count": 124,
   "id": "f3398695",
   "metadata": {},
   "outputs": [
    {
     "data": {
      "text/plain": [
       "189                                  HL CHAGNY\n",
       "200                                 CHS SEVREY\n",
       "293                                 CH AVALLON\n",
       "319                           CH DU TONNERROIS\n",
       "339                                 CH CLAMECY\n",
       "364              \\tCH REG UNIVERSITAIRE DIJON \n",
       "396                   \\tCH LA CHARTREUSE DIJON\n",
       "400             \\tHÔPITAL LE BOCAGE CHRU DIJON\n",
       "529                           \\tCH DE CHAUMONT\n",
       "598                  CH DE BOURBONNE-LES-BAINS\n",
       "621                    CH HCO SITE DE MONTBARD\n",
       "640                     CH HCO SITE DE SAULIEU\n",
       "659                         CH ROBERT MORLEVAT\n",
       "716                \\tHOSPICES CIVILS DE BEAUNE\n",
       "896             CH DU PAYS CHAROLAIS BRIONNAIS\n",
       "997     CH PAYS CHAROLAIS BRIONNAIS LA CLAYETT\n",
       "1205                                   CH SENS\n",
       "1292                                 CH JOIGNY\n",
       "1386               HÔPITAL PRIVE SAINTE MARIE \n",
       "1441             POLYCLINIQUE DU VAL DE SAONE \n",
       "1492               POLYCLINIQUE DU PARC DREVON\n",
       "1537              CLINIQUE MEDICO-CHIRURGICALE\n",
       "1593                          CLINIQUE DU PARC\n",
       "1621                      CLINIQUE PAUL PIQUET\n",
       "1669             HOPITAL PRIVE DIJON BOURGOGNE\n",
       "1737            CENTRE GEORGE-FRANCOIS LECLERC\n",
       "1784                     HOTEL-DIEU DU CREUSOT\n",
       "29                         KORIAN LA BRESSANE \n",
       "31                            CH JEAN BOUVERI \n",
       "52                            CH DE LA GUICHE \n",
       "94                            CH DU TONNERROIS\n",
       "100              CENTRE MEDICAL DE LA VENERIE \n",
       "122                         CSSR LE RENOUVEAU \n",
       "208                      CH LES CHAUNAUX MACON\n",
       "241                                 CH BELANY \n",
       "273                       CRF LES BOURBONNAIS \n",
       "304                                CRF PASORI \n",
       "314                              LE RECONFORT \n",
       "366                        KORIAN LE TINAILLER\n",
       "380                                  CRF DIVIO\n",
       "382                         C.R.B. LES ROSIERS\n",
       "387                           SSR EDITH CAVELL\n",
       "401                    CENTRE DE CONVALESCENCE\n",
       "403                    CH HCO SITE DE MONTBARD\n",
       "404                   CENTRE SSR DU CHALONNAIS\n",
       "405                      SA MAISON DE JOUVENCE\n",
       "406                      HOTEL-DIEU DU CREUSOT\n",
       "dtype: object"
      ]
     },
     "execution_count": 124,
     "metadata": {},
     "output_type": "execute_result"
    }
   ],
   "source": [
    "#dans les onglets hp et ssr mais pas dans coord ?\n",
    "ssr_concat_hp_etab[ssr_concat_hp_etab.isin(coord_etab) == False] #47"
   ]
  },
  {
   "cell_type": "code",
   "execution_count": null,
   "id": "2a3d92bf",
   "metadata": {},
   "outputs": [],
   "source": [
    "def temp(x):\n",
    "    "
   ]
  },
  {
   "cell_type": "code",
   "execution_count": 128,
   "id": "ae34288e",
   "metadata": {},
   "outputs": [
    {
     "data": {
      "text/plain": [
       "'HL CHAGNY '"
      ]
     },
     "execution_count": 128,
     "metadata": {},
     "output_type": "execute_result"
    }
   ],
   "source": [
    "coord.loc[59, 'etablissement']"
   ]
  },
  {
   "cell_type": "code",
   "execution_count": 136,
   "id": "adda38c3",
   "metadata": {},
   "outputs": [
    {
     "data": {
      "text/plain": [
       "0               AIHP CENTRE ARMANCON\n",
       "1                 C.R.B LES ROSIERS \n",
       "2     CENTRE COLBERT MEDECINE ET SSR\n",
       "3           CENTRE DE CONVALESCENCE \n",
       "4       CENTRE MÉDICAL DE LA VENERIE\n",
       "                   ...              \n",
       "73      POLYCLINIQUE DU VAL DE SAONE\n",
       "74       POLYCLINIQUE STE MARGUERITE\n",
       "75                SA MAISON JOUVENCE\n",
       "76                 SSR EDITH CAVELL \n",
       "77          SSR MARGUERITE BOUCICAUT\n",
       "Name: etablissement, Length: 78, dtype: object"
      ]
     },
     "execution_count": 136,
     "metadata": {},
     "output_type": "execute_result"
    }
   ],
   "source": [
    "coord['etablissement']"
   ]
  },
  {
   "cell_type": "code",
   "execution_count": 131,
   "id": "4b02cb23",
   "metadata": {},
   "outputs": [],
   "source": [
    "x = ssr_concat_hp_etab[ssr_concat_hp_etab.isin(['HL CHAGNY'])]"
   ]
  },
  {
   "cell_type": "code",
   "execution_count": 132,
   "id": "976c7c8b",
   "metadata": {},
   "outputs": [
    {
     "data": {
      "text/plain": [
       "189    HL CHAGNY\n",
       "dtype: object"
      ]
     },
     "execution_count": 132,
     "metadata": {},
     "output_type": "execute_result"
    }
   ],
   "source": [
    "x"
   ]
  },
  {
   "cell_type": "code",
   "execution_count": 139,
   "id": "9e2b6353",
   "metadata": {},
   "outputs": [
    {
     "data": {
      "text/plain": [
       "189    False\n",
       "dtype: bool"
      ]
     },
     "execution_count": 139,
     "metadata": {},
     "output_type": "execute_result"
    }
   ],
   "source": [
    "x == 'HL CHAGNY '"
   ]
  },
  {
   "cell_type": "code",
   "execution_count": 137,
   "id": "a90afb90",
   "metadata": {},
   "outputs": [
    {
     "data": {
      "text/plain": [
       "0                   CH AUTUN SITE PARPAS\n",
       "36     CH WILLIAM MOREY CHALON SUR SAONE\n",
       "131                CH BRESSE LOUHANNAISE\n",
       "143                      CH JEAN BOUVERI\n",
       "189                            HL CHAGNY\n",
       "                     ...                \n",
       "404             CENTRE SSR DU CHALONNAIS\n",
       "405                SA MAISON DE JOUVENCE\n",
       "406                HOTEL-DIEU DU CREUSOT\n",
       "412                      CH JEAN BOUVERI\n",
       "413                      CH DE LA GUICHE\n",
       "Length: 131, dtype: object"
      ]
     },
     "execution_count": 137,
     "metadata": {},
     "output_type": "execute_result"
    }
   ],
   "source": [
    "ssr_concat_hp_etab"
   ]
  },
  {
   "cell_type": "code",
   "execution_count": null,
   "id": "666148d7",
   "metadata": {},
   "outputs": [],
   "source": []
  }
 ],
 "metadata": {
  "kernelspec": {
   "display_name": "bokeh-tuto",
   "language": "python",
   "name": "bokeh-tuto"
  },
  "language_info": {
   "codemirror_mode": {
    "name": "ipython",
    "version": 3
   },
   "file_extension": ".py",
   "mimetype": "text/x-python",
   "name": "python",
   "nbconvert_exporter": "python",
   "pygments_lexer": "ipython3",
   "version": "3.8.10"
  }
 },
 "nbformat": 4,
 "nbformat_minor": 5
}
