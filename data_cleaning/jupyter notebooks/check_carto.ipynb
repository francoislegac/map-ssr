{
 "cells": [
  {
   "cell_type": "code",
   "execution_count": 4,
   "id": "a4ac031f",
   "metadata": {},
   "outputs": [],
   "source": [
    "import pandas as pd\n",
    "import numpy as np\n",
    "#import mathplotlib.pyplot as plt"
   ]
  },
  {
   "cell_type": "code",
   "execution_count": 6,
   "id": "8edcec3a",
   "metadata": {},
   "outputs": [],
   "source": [
    "r = 'data/'\n",
    "check = pd.read_csv(r + 'check.csv', sep=';', encoding='cp1252')\n",
    "hp = pd.read_csv(r + 'hp.csv', sep=';', encoding='cp1252')\n",
    "coord = pd.read_csv(r + 'coord.csv', sep=';', encoding='cp1252')\n",
    "ght = pd.read_csv(r + 'ght.csv', sep=';', encoding='cp1252')\n",
    "ssr = pd.read_csv(r + 'ssr.csv', sep=';', encoding='cp1252')"
   ]
  },
  {
   "cell_type": "code",
   "execution_count": 7,
   "id": "e9eb7110",
   "metadata": {},
   "outputs": [
    {
     "name": "stdout",
     "output_type": "stream",
     "text": [
      "cp1252\n"
     ]
    }
   ],
   "source": [
    "#check encoding\n",
    "with open(\"data/coord.csv\") as f:\n",
    "    print(f.encoding)"
   ]
  },
  {
   "cell_type": "markdown",
   "id": "16cf47fd",
   "metadata": {},
   "source": [
    "## TOCHECK\n",
    "\n",
    "- nb d'établissements. Nom à uniformiser\n",
    "- nb GHT\n",
    "- y a-t-il toutes les coordonnées ?\n",
    "- pb : transferts entre [0-10]\n",
    "- rename the columns\n",
    "\n"
   ]
  },
  {
   "cell_type": "code",
   "execution_count": 8,
   "id": "fe38904a",
   "metadata": {},
   "outputs": [
    {
     "data": {
      "text/html": [
       "<div>\n",
       "<style scoped>\n",
       "    .dataframe tbody tr th:only-of-type {\n",
       "        vertical-align: middle;\n",
       "    }\n",
       "\n",
       "    .dataframe tbody tr th {\n",
       "        vertical-align: top;\n",
       "    }\n",
       "\n",
       "    .dataframe thead th {\n",
       "        text-align: right;\n",
       "    }\n",
       "</style>\n",
       "<table border=\"1\" class=\"dataframe\">\n",
       "  <thead>\n",
       "    <tr style=\"text-align: right;\">\n",
       "      <th></th>\n",
       "      <th>Finess</th>\n",
       "      <th>Raison sociale</th>\n",
       "      <th>Catégorie</th>\n",
       "      <th>Provenance</th>\n",
       "      <th>Nb de transferts</th>\n",
       "    </tr>\n",
       "  </thead>\n",
       "  <tbody>\n",
       "    <tr>\n",
       "      <th>0</th>\n",
       "      <td>710978248</td>\n",
       "      <td>CH AUTUN SITE LATOUCHE</td>\n",
       "      <td>CH</td>\n",
       "      <td>CH AUTUN SITE PARPAS</td>\n",
       "      <td>155</td>\n",
       "    </tr>\n",
       "    <tr>\n",
       "      <th>1</th>\n",
       "      <td>580780187</td>\n",
       "      <td>CLINIQUE DU MORVAN SA</td>\n",
       "      <td>Privé</td>\n",
       "      <td>CH AUTUN SITE PARPAS</td>\n",
       "      <td>48</td>\n",
       "    </tr>\n",
       "    <tr>\n",
       "      <th>2</th>\n",
       "      <td>580780187</td>\n",
       "      <td>CLINIQUE DU MORVAN SA</td>\n",
       "      <td>Privé</td>\n",
       "      <td>CH DECIZE</td>\n",
       "      <td>34</td>\n",
       "    </tr>\n",
       "    <tr>\n",
       "      <th>3</th>\n",
       "      <td>580780187</td>\n",
       "      <td>CLINIQUE DU MORVAN SA</td>\n",
       "      <td>Privé</td>\n",
       "      <td>HÔPITAL PIERRE BEREGOVOY</td>\n",
       "      <td>16</td>\n",
       "    </tr>\n",
       "    <tr>\n",
       "      <th>4</th>\n",
       "      <td>710002288</td>\n",
       "      <td>SSR MARGUERITE BOUCICAUT</td>\n",
       "      <td>Privé</td>\n",
       "      <td>CH AUTUN SITE PARPAS</td>\n",
       "      <td>21</td>\n",
       "    </tr>\n",
       "    <tr>\n",
       "      <th>...</th>\n",
       "      <td>...</td>\n",
       "      <td>...</td>\n",
       "      <td>...</td>\n",
       "      <td>...</td>\n",
       "      <td>...</td>\n",
       "    </tr>\n",
       "    <tr>\n",
       "      <th>141</th>\n",
       "      <td>890975543</td>\n",
       "      <td>CH JOIGNY</td>\n",
       "      <td>CH</td>\n",
       "      <td>CH JOIGNY</td>\n",
       "      <td>149</td>\n",
       "    </tr>\n",
       "    <tr>\n",
       "      <th>142</th>\n",
       "      <td>100007285</td>\n",
       "      <td>CRF INSTITUT ASCLEPIADE</td>\n",
       "      <td>Privé</td>\n",
       "      <td>CH SENS</td>\n",
       "      <td>37</td>\n",
       "    </tr>\n",
       "    <tr>\n",
       "      <th>143</th>\n",
       "      <td>100010362</td>\n",
       "      <td>GCS PLAT AVAL TERR CHAMP SUD CRF PAST</td>\n",
       "      <td>Privé</td>\n",
       "      <td>CH SENS</td>\n",
       "      <td>19</td>\n",
       "    </tr>\n",
       "    <tr>\n",
       "      <th>144</th>\n",
       "      <td>450000526</td>\n",
       "      <td>CMPR L'A.D.A.P.T. LOIRET</td>\n",
       "      <td>PSPH/EBNL</td>\n",
       "      <td>CH SENS</td>\n",
       "      <td>14</td>\n",
       "    </tr>\n",
       "    <tr>\n",
       "      <th>145</th>\n",
       "      <td>100010933</td>\n",
       "      <td>GCS PATCS CRRF PASTEUR 2</td>\n",
       "      <td>Privé</td>\n",
       "      <td>CH SENS</td>\n",
       "      <td>13</td>\n",
       "    </tr>\n",
       "  </tbody>\n",
       "</table>\n",
       "<p>146 rows × 5 columns</p>\n",
       "</div>"
      ],
      "text/plain": [
       "        Finess                         Raison sociale  Catégorie  \\\n",
       "0    710978248                 CH AUTUN SITE LATOUCHE         CH   \n",
       "1    580780187                  CLINIQUE DU MORVAN SA      Privé   \n",
       "2    580780187                  CLINIQUE DU MORVAN SA      Privé   \n",
       "3    580780187                  CLINIQUE DU MORVAN SA      Privé   \n",
       "4    710002288               SSR MARGUERITE BOUCICAUT      Privé   \n",
       "..         ...                                    ...        ...   \n",
       "141  890975543                              CH JOIGNY         CH   \n",
       "142  100007285                CRF INSTITUT ASCLEPIADE      Privé   \n",
       "143  100010362  GCS PLAT AVAL TERR CHAMP SUD CRF PAST      Privé   \n",
       "144  450000526               CMPR L'A.D.A.P.T. LOIRET  PSPH/EBNL   \n",
       "145  100010933               GCS PATCS CRRF PASTEUR 2      Privé   \n",
       "\n",
       "                  Provenance   Nb de transferts  \n",
       "0        CH AUTUN SITE PARPAS               155  \n",
       "1        CH AUTUN SITE PARPAS                48  \n",
       "2                   CH DECIZE                34  \n",
       "3    HÔPITAL PIERRE BEREGOVOY                16  \n",
       "4        CH AUTUN SITE PARPAS                21  \n",
       "..                        ...               ...  \n",
       "141                CH JOIGNY                149  \n",
       "142                  CH SENS                 37  \n",
       "143                  CH SENS                 19  \n",
       "144                  CH SENS                 14  \n",
       "145                  CH SENS                 13  \n",
       "\n",
       "[146 rows x 5 columns]"
      ]
     },
     "execution_count": 8,
     "metadata": {},
     "output_type": "execute_result"
    }
   ],
   "source": [
    "#check nb établissements\n",
    "check"
   ]
  },
  {
   "cell_type": "markdown",
   "id": "217fbd2a",
   "metadata": {},
   "source": [
    "### check etab missing"
   ]
  },
  {
   "cell_type": "code",
   "execution_count": 9,
   "id": "59b5d7b2",
   "metadata": {},
   "outputs": [
    {
     "data": {
      "text/plain": [
       "82"
      ]
     },
     "execution_count": 9,
     "metadata": {},
     "output_type": "execute_result"
    }
   ],
   "source": [
    "check['Raison sociale'].drop_duplicates().count()\n",
    "# => 74 établissements au total\n",
    "hp['Etablissement'].drop_duplicates().count()\n",
    "#=> 49 hp\n",
    "ssr['Etablissement SSR '].drop_duplicates().count()\n",
    "# => 82 ssr\n",
    "# 82 + 49 = 131 \n",
    "#- intersect = 111"
   ]
  },
  {
   "cell_type": "code",
   "execution_count": 10,
   "id": "d932ac2f",
   "metadata": {},
   "outputs": [],
   "source": [
    "bourgogne_etab = check['Raison sociale'].drop_duplicates()\n",
    "hp_etab = hp['Etablissement'].drop_duplicates()\n",
    "ssr_etab = ssr['Etablissement SSR '].drop_duplicates()\n",
    "coord_etab = coord['Etablissement SSR '].drop_duplicates()"
   ]
  },
  {
   "cell_type": "code",
   "execution_count": 11,
   "id": "7f9dd67e",
   "metadata": {},
   "outputs": [],
   "source": [
    "bourgogne_etab.name = 'etab'\n",
    "hp_etab.name = 'etab'\n",
    "ssr_etab.name = 'etab'\n",
    "coord_etab.name = 'etab'"
   ]
  },
  {
   "cell_type": "code",
   "execution_count": 12,
   "id": "d7fe089c",
   "metadata": {
    "scrolled": true
   },
   "outputs": [
    {
     "data": {
      "text/plain": [
       "(20, 1)"
      ]
     },
     "execution_count": 12,
     "metadata": {},
     "output_type": "execute_result"
    }
   ],
   "source": [
    "#both in hp and ssr\n",
    "both_in_hp_ssr = pd.merge(hp_etab, ssr_etab, how='inner', left_on=hp_etab.name, right_on=ssr_etab.name)\n",
    "both_in_hp_ssr.shape"
   ]
  },
  {
   "cell_type": "code",
   "execution_count": 13,
   "id": "074b3f08",
   "metadata": {},
   "outputs": [
    {
     "data": {
      "text/html": [
       "<div>\n",
       "<style scoped>\n",
       "    .dataframe tbody tr th:only-of-type {\n",
       "        vertical-align: middle;\n",
       "    }\n",
       "\n",
       "    .dataframe tbody tr th {\n",
       "        vertical-align: top;\n",
       "    }\n",
       "\n",
       "    .dataframe thead th {\n",
       "        text-align: right;\n",
       "    }\n",
       "</style>\n",
       "<table border=\"1\" class=\"dataframe\">\n",
       "  <thead>\n",
       "    <tr style=\"text-align: right;\">\n",
       "      <th></th>\n",
       "      <th>etab</th>\n",
       "    </tr>\n",
       "  </thead>\n",
       "  <tbody>\n",
       "    <tr>\n",
       "      <th>0</th>\n",
       "      <td>CH WILLIAM MOREY CHALON SUR SAONE</td>\n",
       "    </tr>\n",
       "    <tr>\n",
       "      <th>1</th>\n",
       "      <td>CH BRESSE LOUHANNAISE</td>\n",
       "    </tr>\n",
       "    <tr>\n",
       "      <th>2</th>\n",
       "      <td>CH JEAN BOUVERI</td>\n",
       "    </tr>\n",
       "    <tr>\n",
       "      <th>3</th>\n",
       "      <td>CH AUXERRE</td>\n",
       "    </tr>\n",
       "    <tr>\n",
       "      <th>4</th>\n",
       "      <td>CH DU TONNERROIS</td>\n",
       "    </tr>\n",
       "    <tr>\n",
       "      <th>5</th>\n",
       "      <td>CH DE LANGRES</td>\n",
       "    </tr>\n",
       "    <tr>\n",
       "      <th>6</th>\n",
       "      <td>CH HCO SITE DE CHATILLON SUR SEINE</td>\n",
       "    </tr>\n",
       "    <tr>\n",
       "      <th>7</th>\n",
       "      <td>CH HCO SITE DE MONTBARD</td>\n",
       "    </tr>\n",
       "    <tr>\n",
       "      <th>8</th>\n",
       "      <td>CH D'IS-SUR-TILLE</td>\n",
       "    </tr>\n",
       "    <tr>\n",
       "      <th>9</th>\n",
       "      <td>CH ALIGRE BOURBON LANCY</td>\n",
       "    </tr>\n",
       "    <tr>\n",
       "      <th>10</th>\n",
       "      <td>CH DU CLUNISOIS</td>\n",
       "    </tr>\n",
       "    <tr>\n",
       "      <th>11</th>\n",
       "      <td>CH BELNAY</td>\n",
       "    </tr>\n",
       "    <tr>\n",
       "      <th>12</th>\n",
       "      <td>CH COSNE COURS SUR LOIRE</td>\n",
       "    </tr>\n",
       "    <tr>\n",
       "      <th>13</th>\n",
       "      <td>CH DECIZE</td>\n",
       "    </tr>\n",
       "    <tr>\n",
       "      <th>14</th>\n",
       "      <td>HÔPITAL PIERRE BEREGOVOY</td>\n",
       "    </tr>\n",
       "    <tr>\n",
       "      <th>15</th>\n",
       "      <td>CENTRE COLBERT MEDECINE ET SSR</td>\n",
       "    </tr>\n",
       "    <tr>\n",
       "      <th>16</th>\n",
       "      <td>CH CHATEAU-CHINON</td>\n",
       "    </tr>\n",
       "    <tr>\n",
       "      <th>17</th>\n",
       "      <td>CENTRE ORTHOPEDIQUE MEDICO-CHIR</td>\n",
       "    </tr>\n",
       "    <tr>\n",
       "      <th>18</th>\n",
       "      <td>POLYCLINIQUE STE MARGUERITE</td>\n",
       "    </tr>\n",
       "    <tr>\n",
       "      <th>19</th>\n",
       "      <td>HOTEL-DIEU DU CREUSOT</td>\n",
       "    </tr>\n",
       "  </tbody>\n",
       "</table>\n",
       "</div>"
      ],
      "text/plain": [
       "                                  etab\n",
       "0    CH WILLIAM MOREY CHALON SUR SAONE\n",
       "1                CH BRESSE LOUHANNAISE\n",
       "2                      CH JEAN BOUVERI\n",
       "3                           CH AUXERRE\n",
       "4                     CH DU TONNERROIS\n",
       "5                        CH DE LANGRES\n",
       "6   CH HCO SITE DE CHATILLON SUR SEINE\n",
       "7              CH HCO SITE DE MONTBARD\n",
       "8                    CH D'IS-SUR-TILLE\n",
       "9              CH ALIGRE BOURBON LANCY\n",
       "10                     CH DU CLUNISOIS\n",
       "11                           CH BELNAY\n",
       "12            CH COSNE COURS SUR LOIRE\n",
       "13                           CH DECIZE\n",
       "14            HÔPITAL PIERRE BEREGOVOY\n",
       "15      CENTRE COLBERT MEDECINE ET SSR\n",
       "16                   CH CHATEAU-CHINON\n",
       "17     CENTRE ORTHOPEDIQUE MEDICO-CHIR\n",
       "18         POLYCLINIQUE STE MARGUERITE\n",
       "19               HOTEL-DIEU DU CREUSOT"
      ]
     },
     "execution_count": 13,
     "metadata": {},
     "output_type": "execute_result"
    }
   ],
   "source": [
    "both_in_hp_ssr"
   ]
  },
  {
   "cell_type": "code",
   "execution_count": 14,
   "id": "f8716ea7",
   "metadata": {},
   "outputs": [],
   "source": [
    "hp_ssr = pd.concat([hp_etab, ssr_etab], axis=0)"
   ]
  },
  {
   "cell_type": "code",
   "execution_count": 15,
   "id": "788477ab",
   "metadata": {},
   "outputs": [],
   "source": [
    "hp_ssr = hp_ssr.drop_duplicates()"
   ]
  },
  {
   "cell_type": "code",
   "execution_count": 16,
   "id": "eb3f31d9",
   "metadata": {},
   "outputs": [
    {
     "data": {
      "text/plain": [
       "(111,)"
      ]
     },
     "execution_count": 16,
     "metadata": {},
     "output_type": "execute_result"
    }
   ],
   "source": [
    "hp_ssr.shape"
   ]
  },
  {
   "cell_type": "code",
   "execution_count": 17,
   "id": "4f14de91",
   "metadata": {},
   "outputs": [
    {
     "data": {
      "text/plain": [
       "0                   CH AUTUN SITE PARPAS\n",
       "36     CH WILLIAM MOREY CHALON SUR SAONE\n",
       "131                CH BRESSE LOUHANNAISE\n",
       "143                      CH JEAN BOUVERI\n",
       "189                            HL CHAGNY\n",
       "                     ...                \n",
       "398             CMPR L'A.D.A.P.T. LOIRET\n",
       "401              CENTRE DE CONVALESCENCE\n",
       "404             CENTRE SSR DU CHALONNAIS\n",
       "405                SA MAISON DE JOUVENCE\n",
       "413                      CH DE LA GUICHE\n",
       "Name: etab, Length: 111, dtype: object"
      ]
     },
     "execution_count": 17,
     "metadata": {},
     "output_type": "execute_result"
    }
   ],
   "source": [
    "hp_ssr"
   ]
  },
  {
   "cell_type": "code",
   "execution_count": 18,
   "id": "afc00d7b",
   "metadata": {},
   "outputs": [
    {
     "data": {
      "text/plain": [
       "18                        KORIAN LA BRESSANE\n",
       "74                  CH REG UNIVERSITAIRE DIJ\n",
       "82                              CH D'AUXONNE\n",
       "96             CENTRE MÉDICAL LA GRANGE/MONT\n",
       "99                   SARL JOUVENCE NUTRITION\n",
       "102                       CH DE BAR SUR AUBE\n",
       "103                     HÔPITAL DE JOINVILLE\n",
       "105                CLINIQUE DE LA COMPASSION\n",
       "118                            CH DE BEAUJEU\n",
       "119    CH PAYS CHAROLAIS BRIONNAIS CHAROLLES\n",
       "122                          CR LES ARBELLES\n",
       "133              INSTITUT MEDICAL DE SOLOGNE\n",
       "134                    MOYEN SEJOUR PIGNELIN\n",
       "136                     MOYEN SEJOUR CH SENS\n",
       "143    GCS PLAT AVAL TERR CHAMP SUD CRF PAST\n",
       "145                 GCS PATCS CRRF PASTEUR 2\n",
       "Name: etab, dtype: object"
      ]
     },
     "execution_count": 18,
     "metadata": {},
     "output_type": "execute_result"
    }
   ],
   "source": [
    "#Etablissements dans la liste 'Bourgogne' mais pas dans les hp ni les ssr\n",
    "bourgogne_etab[bourgogne_etab.isin(hp_ssr) == False]"
   ]
  },
  {
   "cell_type": "code",
   "execution_count": 19,
   "id": "e71078a3",
   "metadata": {},
   "outputs": [
    {
     "data": {
      "text/plain": [
       "189                                  HL CHAGNY\n",
       "200                                 CHS SEVREY\n",
       "201                                CHS AUXERRE\n",
       "293                                 CH AVALLON\n",
       "319                           CH DU TONNERROIS\n",
       "339                                 CH CLAMECY\n",
       "364              \\tCH REG UNIVERSITAIRE DIJON \n",
       "396                   \\tCH LA CHARTREUSE DIJON\n",
       "400             \\tHÔPITAL LE BOCAGE CHRU DIJON\n",
       "529                           \\tCH DE CHAUMONT\n",
       "598                  CH DE BOURBONNE-LES-BAINS\n",
       "621                    CH HCO SITE DE MONTBARD\n",
       "640                     CH HCO SITE DE SAULIEU\n",
       "659                         CH ROBERT MORLEVAT\n",
       "716                \\tHOSPICES CIVILS DE BEAUNE\n",
       "896             CH DU PAYS CHAROLAIS BRIONNAIS\n",
       "997     CH PAYS CHAROLAIS BRIONNAIS LA CLAYETT\n",
       "1205                                   CH SENS\n",
       "1292                                 CH JOIGNY\n",
       "1386               HÔPITAL PRIVE SAINTE MARIE \n",
       "1441             POLYCLINIQUE DU VAL DE SAONE \n",
       "1492               POLYCLINIQUE DU PARC DREVON\n",
       "1537              CLINIQUE MEDICO-CHIRURGICALE\n",
       "1593                          CLINIQUE DU PARC\n",
       "1621                      CLINIQUE PAUL PIQUET\n",
       "1669             HOPITAL PRIVE DIJON BOURGOGNE\n",
       "1737            CENTRE GEORGE-FRANCOIS LECLERC\n",
       "1784                     HOTEL-DIEU DU CREUSOT\n",
       "29                         KORIAN LA BRESSANE \n",
       "31                            CH JEAN BOUVERI \n",
       "52                            CH DE LA GUICHE \n",
       "100              CENTRE MEDICAL DE LA VENERIE \n",
       "122                         CSSR LE RENOUVEAU \n",
       "208                      CH LES CHAUNAUX MACON\n",
       "241                                 CH BELANY \n",
       "273                       CRF LES BOURBONNAIS \n",
       "304                                CRF PASORI \n",
       "314                              LE RECONFORT \n",
       "366                        KORIAN LE TINAILLER\n",
       "380                                  CRF DIVIO\n",
       "382                         C.R.B. LES ROSIERS\n",
       "387                           SSR EDITH CAVELL\n",
       "401                    CENTRE DE CONVALESCENCE\n",
       "404                   CENTRE SSR DU CHALONNAIS\n",
       "405                      SA MAISON DE JOUVENCE\n",
       "Name: etab, dtype: object"
      ]
     },
     "execution_count": 19,
     "metadata": {},
     "output_type": "execute_result"
    }
   ],
   "source": [
    "#Etablissement dans les onglets hp et ssr mais pas dans coord\n",
    "hp_ssr[hp_ssr.isin(coord_etab) == False] #45"
   ]
  },
  {
   "cell_type": "code",
   "execution_count": 166,
   "id": "ef6d702c",
   "metadata": {},
   "outputs": [],
   "source": [
    "#uniformisation des noms d'établissements\n",
    "#TODO"
   ]
  },
  {
   "cell_type": "markdown",
   "id": "3867b094",
   "metadata": {},
   "source": [
    "### uniformisation des noms des variables "
   ]
  },
  {
   "cell_type": "code",
   "execution_count": 20,
   "id": "34732500",
   "metadata": {},
   "outputs": [
    {
     "data": {
      "text/plain": [
       "Index(['Nom_GHT', 'Etablissement', 'Rang', 'Code', 'Groupe Plannification',\n",
       "       'Nb séjour / Séances', 'Nb de jours', 'Age moyen', '% Age>75',\n",
       "       '% lourd',\n",
       "       'Transferts SSR (Nombre de séjours chainés et tranférés vers un établissement SSR) ',\n",
       "       'Etablissement SSR de transfert ', 'Catégorie ', 'Nb de transferts',\n",
       "       'is_in_GHT', 'transfer_interne'],\n",
       "      dtype='object')"
      ]
     },
     "execution_count": 20,
     "metadata": {},
     "output_type": "execute_result"
    }
   ],
   "source": [
    "hp.columns"
   ]
  },
  {
   "cell_type": "code",
   "execution_count": 21,
   "id": "e0e7e504",
   "metadata": {},
   "outputs": [],
   "source": [
    "hp.columns = [\n",
    "    'nom_ght', \n",
    "    'etablissement',\n",
    "    'rang',\n",
    "    'code',\n",
    "    'groupe_plannification',\n",
    "    'nb_sejour_par_seance',\n",
    "    'nb_jour',\n",
    "    'age_moyen',\n",
    "    'pourc_age_sup_75',\n",
    "    'pourc_lourd',\n",
    "    'transferts_ssr',\n",
    "    'etablissement_ssr_de_transfert',\n",
    "    'categorie',\n",
    "    'nb_transferts',\n",
    "    'is_in_ght',\n",
    "    'transfert_interne'\n",
    "]"
   ]
  },
  {
   "cell_type": "code",
   "execution_count": 22,
   "id": "6749c3e6",
   "metadata": {},
   "outputs": [
    {
     "data": {
      "text/plain": [
       "Index(['Nom_GHT', 'Etablissement SSR ', 'Catégorie ', 'Code ',\n",
       "       'Groupe planification ', 'Provenance ', 'Effectif ',\n",
       "       'Total par établissement (Effecitifs >10)', 'Total (Effecitifs >10)',\n",
       "       'is_in_GHT', 'Unnamed: 10'],\n",
       "      dtype='object')"
      ]
     },
     "execution_count": 22,
     "metadata": {},
     "output_type": "execute_result"
    }
   ],
   "source": [
    "ssr.columns"
   ]
  },
  {
   "cell_type": "code",
   "execution_count": 23,
   "id": "9fe73d1b",
   "metadata": {},
   "outputs": [],
   "source": [
    "ssr.columns = [\n",
    "    'nom_ght',\n",
    "    'etablissement_ssr',\n",
    "    'categorie',\n",
    "    'code',\n",
    "    'groupe_planification',\n",
    "    'provenance',\n",
    "    'effectif_entrant',\n",
    "    'todelete',\n",
    "    'todelete2',\n",
    "    'is_in_ght',\n",
    "    'todelete3'\n",
    "]"
   ]
  },
  {
   "cell_type": "code",
   "execution_count": 24,
   "id": "7df7de50",
   "metadata": {},
   "outputs": [],
   "source": [
    "ssr = ssr.drop(['todelete', 'todelete2', 'todelete3'], axis=1)"
   ]
  },
  {
   "cell_type": "code",
   "execution_count": 25,
   "id": "22f36674",
   "metadata": {},
   "outputs": [],
   "source": [
    "ssr['is_in_ght'] = ssr['is_in_ght'].fillna(0)"
   ]
  },
  {
   "cell_type": "code",
   "execution_count": 26,
   "id": "6797ef92",
   "metadata": {},
   "outputs": [
    {
     "data": {
      "text/plain": [
       "Index(['Finess', 'Raison sociale', 'Catégorie', 'Provenance ',\n",
       "       'Nb de transferts'],\n",
       "      dtype='object')"
      ]
     },
     "execution_count": 26,
     "metadata": {},
     "output_type": "execute_result"
    }
   ],
   "source": [
    "check.columns "
   ]
  },
  {
   "cell_type": "code",
   "execution_count": 27,
   "id": "d87dbbde",
   "metadata": {},
   "outputs": [],
   "source": [
    "check.columns = ['finess', 'etablissement', 'categorie', 'provenance', 'nb_transferts']"
   ]
  },
  {
   "cell_type": "code",
   "execution_count": 28,
   "id": "33aebf36",
   "metadata": {},
   "outputs": [
    {
     "data": {
      "text/html": [
       "<div>\n",
       "<style scoped>\n",
       "    .dataframe tbody tr th:only-of-type {\n",
       "        vertical-align: middle;\n",
       "    }\n",
       "\n",
       "    .dataframe tbody tr th {\n",
       "        vertical-align: top;\n",
       "    }\n",
       "\n",
       "    .dataframe thead th {\n",
       "        text-align: right;\n",
       "    }\n",
       "</style>\n",
       "<table border=\"1\" class=\"dataframe\">\n",
       "  <thead>\n",
       "    <tr style=\"text-align: right;\">\n",
       "      <th></th>\n",
       "      <th>finess</th>\n",
       "      <th>etablissement</th>\n",
       "      <th>categorie</th>\n",
       "      <th>provenance</th>\n",
       "      <th>nb_transferts</th>\n",
       "    </tr>\n",
       "  </thead>\n",
       "  <tbody>\n",
       "    <tr>\n",
       "      <th>0</th>\n",
       "      <td>710978248</td>\n",
       "      <td>CH AUTUN SITE LATOUCHE</td>\n",
       "      <td>CH</td>\n",
       "      <td>CH AUTUN SITE PARPAS</td>\n",
       "      <td>155</td>\n",
       "    </tr>\n",
       "    <tr>\n",
       "      <th>1</th>\n",
       "      <td>580780187</td>\n",
       "      <td>CLINIQUE DU MORVAN SA</td>\n",
       "      <td>Privé</td>\n",
       "      <td>CH AUTUN SITE PARPAS</td>\n",
       "      <td>48</td>\n",
       "    </tr>\n",
       "    <tr>\n",
       "      <th>2</th>\n",
       "      <td>580780187</td>\n",
       "      <td>CLINIQUE DU MORVAN SA</td>\n",
       "      <td>Privé</td>\n",
       "      <td>CH DECIZE</td>\n",
       "      <td>34</td>\n",
       "    </tr>\n",
       "    <tr>\n",
       "      <th>3</th>\n",
       "      <td>580780187</td>\n",
       "      <td>CLINIQUE DU MORVAN SA</td>\n",
       "      <td>Privé</td>\n",
       "      <td>HÔPITAL PIERRE BEREGOVOY</td>\n",
       "      <td>16</td>\n",
       "    </tr>\n",
       "    <tr>\n",
       "      <th>4</th>\n",
       "      <td>710002288</td>\n",
       "      <td>SSR MARGUERITE BOUCICAUT</td>\n",
       "      <td>Privé</td>\n",
       "      <td>CH AUTUN SITE PARPAS</td>\n",
       "      <td>21</td>\n",
       "    </tr>\n",
       "    <tr>\n",
       "      <th>...</th>\n",
       "      <td>...</td>\n",
       "      <td>...</td>\n",
       "      <td>...</td>\n",
       "      <td>...</td>\n",
       "      <td>...</td>\n",
       "    </tr>\n",
       "    <tr>\n",
       "      <th>141</th>\n",
       "      <td>890975543</td>\n",
       "      <td>CH JOIGNY</td>\n",
       "      <td>CH</td>\n",
       "      <td>CH JOIGNY</td>\n",
       "      <td>149</td>\n",
       "    </tr>\n",
       "    <tr>\n",
       "      <th>142</th>\n",
       "      <td>100007285</td>\n",
       "      <td>CRF INSTITUT ASCLEPIADE</td>\n",
       "      <td>Privé</td>\n",
       "      <td>CH SENS</td>\n",
       "      <td>37</td>\n",
       "    </tr>\n",
       "    <tr>\n",
       "      <th>143</th>\n",
       "      <td>100010362</td>\n",
       "      <td>GCS PLAT AVAL TERR CHAMP SUD CRF PAST</td>\n",
       "      <td>Privé</td>\n",
       "      <td>CH SENS</td>\n",
       "      <td>19</td>\n",
       "    </tr>\n",
       "    <tr>\n",
       "      <th>144</th>\n",
       "      <td>450000526</td>\n",
       "      <td>CMPR L'A.D.A.P.T. LOIRET</td>\n",
       "      <td>PSPH/EBNL</td>\n",
       "      <td>CH SENS</td>\n",
       "      <td>14</td>\n",
       "    </tr>\n",
       "    <tr>\n",
       "      <th>145</th>\n",
       "      <td>100010933</td>\n",
       "      <td>GCS PATCS CRRF PASTEUR 2</td>\n",
       "      <td>Privé</td>\n",
       "      <td>CH SENS</td>\n",
       "      <td>13</td>\n",
       "    </tr>\n",
       "  </tbody>\n",
       "</table>\n",
       "<p>146 rows × 5 columns</p>\n",
       "</div>"
      ],
      "text/plain": [
       "        finess                          etablissement  categorie  \\\n",
       "0    710978248                 CH AUTUN SITE LATOUCHE         CH   \n",
       "1    580780187                  CLINIQUE DU MORVAN SA      Privé   \n",
       "2    580780187                  CLINIQUE DU MORVAN SA      Privé   \n",
       "3    580780187                  CLINIQUE DU MORVAN SA      Privé   \n",
       "4    710002288               SSR MARGUERITE BOUCICAUT      Privé   \n",
       "..         ...                                    ...        ...   \n",
       "141  890975543                              CH JOIGNY         CH   \n",
       "142  100007285                CRF INSTITUT ASCLEPIADE      Privé   \n",
       "143  100010362  GCS PLAT AVAL TERR CHAMP SUD CRF PAST      Privé   \n",
       "144  450000526               CMPR L'A.D.A.P.T. LOIRET  PSPH/EBNL   \n",
       "145  100010933               GCS PATCS CRRF PASTEUR 2      Privé   \n",
       "\n",
       "                   provenance  nb_transferts  \n",
       "0        CH AUTUN SITE PARPAS            155  \n",
       "1        CH AUTUN SITE PARPAS             48  \n",
       "2                   CH DECIZE             34  \n",
       "3    HÔPITAL PIERRE BEREGOVOY             16  \n",
       "4        CH AUTUN SITE PARPAS             21  \n",
       "..                        ...            ...  \n",
       "141                CH JOIGNY             149  \n",
       "142                  CH SENS              37  \n",
       "143                  CH SENS              19  \n",
       "144                  CH SENS              14  \n",
       "145                  CH SENS              13  \n",
       "\n",
       "[146 rows x 5 columns]"
      ]
     },
     "execution_count": 28,
     "metadata": {},
     "output_type": "execute_result"
    }
   ],
   "source": [
    "check"
   ]
  },
  {
   "cell_type": "code",
   "execution_count": 29,
   "id": "d64e0239",
   "metadata": {},
   "outputs": [
    {
     "data": {
      "text/plain": [
       "Index(['Etablissement SSR ', 'Adresse', 'Latitude ', 'Longitude'], dtype='object')"
      ]
     },
     "execution_count": 29,
     "metadata": {},
     "output_type": "execute_result"
    }
   ],
   "source": [
    "coord.columns"
   ]
  },
  {
   "cell_type": "code",
   "execution_count": 30,
   "id": "fb861182",
   "metadata": {},
   "outputs": [],
   "source": [
    "coord.columns = ['etablissement', 'adresse', 'latitude', 'longitude']"
   ]
  },
  {
   "cell_type": "code",
   "execution_count": 31,
   "id": "4971d039",
   "metadata": {},
   "outputs": [
    {
     "data": {
      "text/html": [
       "<div>\n",
       "<style scoped>\n",
       "    .dataframe tbody tr th:only-of-type {\n",
       "        vertical-align: middle;\n",
       "    }\n",
       "\n",
       "    .dataframe tbody tr th {\n",
       "        vertical-align: top;\n",
       "    }\n",
       "\n",
       "    .dataframe thead th {\n",
       "        text-align: right;\n",
       "    }\n",
       "</style>\n",
       "<table border=\"1\" class=\"dataframe\">\n",
       "  <thead>\n",
       "    <tr style=\"text-align: right;\">\n",
       "      <th></th>\n",
       "      <th>etablissement</th>\n",
       "      <th>adresse</th>\n",
       "      <th>latitude</th>\n",
       "      <th>longitude</th>\n",
       "    </tr>\n",
       "  </thead>\n",
       "  <tbody>\n",
       "    <tr>\n",
       "      <th>0</th>\n",
       "      <td>AIHP CENTRE ARMANCON</td>\n",
       "      <td>18 Bis Rue Pierre Semard</td>\n",
       "      <td>47,95981</td>\n",
       "      <td>3,53041</td>\n",
       "    </tr>\n",
       "    <tr>\n",
       "      <th>1</th>\n",
       "      <td>C.R.B LES ROSIERS</td>\n",
       "      <td>45 Bd Henri Bazin</td>\n",
       "      <td>47,30041</td>\n",
       "      <td>5,019</td>\n",
       "    </tr>\n",
       "    <tr>\n",
       "      <th>2</th>\n",
       "      <td>CENTRE COLBERT MEDECINE ET SSR</td>\n",
       "      <td>4 Rue Étienne Litaud</td>\n",
       "      <td>46,99469</td>\n",
       "      <td>3,1597</td>\n",
       "    </tr>\n",
       "    <tr>\n",
       "      <th>3</th>\n",
       "      <td>CENTRE DE CONVALESCENCE</td>\n",
       "      <td>67 Rte d'Ahuy</td>\n",
       "      <td>47,34583</td>\n",
       "      <td>5,03471</td>\n",
       "    </tr>\n",
       "    <tr>\n",
       "      <th>4</th>\n",
       "      <td>CENTRE MÉDICAL DE LA VENERIE</td>\n",
       "      <td>Lieu Dit La Vénerie</td>\n",
       "      <td>47,2668</td>\n",
       "      <td>3,2896</td>\n",
       "    </tr>\n",
       "    <tr>\n",
       "      <th>...</th>\n",
       "      <td>...</td>\n",
       "      <td>...</td>\n",
       "      <td>...</td>\n",
       "      <td>...</td>\n",
       "    </tr>\n",
       "    <tr>\n",
       "      <th>73</th>\n",
       "      <td>POLYCLINIQUE DU VAL DE SAONE</td>\n",
       "      <td>44 Rue Ambroise Paré</td>\n",
       "      <td>46,3173</td>\n",
       "      <td>4,81178</td>\n",
       "    </tr>\n",
       "    <tr>\n",
       "      <th>74</th>\n",
       "      <td>POLYCLINIQUE STE MARGUERITE</td>\n",
       "      <td>5 Av. de la Font Sainte-Marguerite</td>\n",
       "      <td>47,81213</td>\n",
       "      <td>3,56478</td>\n",
       "    </tr>\n",
       "    <tr>\n",
       "      <th>75</th>\n",
       "      <td>SA MAISON JOUVENCE</td>\n",
       "      <td>20 Rue des Alisiers</td>\n",
       "      <td>47,40975</td>\n",
       "      <td>5,00968</td>\n",
       "    </tr>\n",
       "    <tr>\n",
       "      <th>76</th>\n",
       "      <td>SSR EDITH CAVELL</td>\n",
       "      <td>27 Av. Françoise Giroud</td>\n",
       "      <td>47,36094</td>\n",
       "      <td>5,05098</td>\n",
       "    </tr>\n",
       "    <tr>\n",
       "      <th>77</th>\n",
       "      <td>SSR MARGUERITE BOUCICAUT</td>\n",
       "      <td>2 Rue Pierre Mendès France</td>\n",
       "      <td>46,77502</td>\n",
       "      <td>4,84231</td>\n",
       "    </tr>\n",
       "  </tbody>\n",
       "</table>\n",
       "<p>78 rows × 4 columns</p>\n",
       "</div>"
      ],
      "text/plain": [
       "                     etablissement                             adresse  \\\n",
       "0             AIHP CENTRE ARMANCON            18 Bis Rue Pierre Semard   \n",
       "1               C.R.B LES ROSIERS                    45 Bd Henri Bazin   \n",
       "2   CENTRE COLBERT MEDECINE ET SSR                4 Rue Étienne Litaud   \n",
       "3         CENTRE DE CONVALESCENCE                        67 Rte d'Ahuy   \n",
       "4     CENTRE MÉDICAL DE LA VENERIE                 Lieu Dit La Vénerie   \n",
       "..                             ...                                 ...   \n",
       "73    POLYCLINIQUE DU VAL DE SAONE                44 Rue Ambroise Paré   \n",
       "74     POLYCLINIQUE STE MARGUERITE  5 Av. de la Font Sainte-Marguerite   \n",
       "75              SA MAISON JOUVENCE                 20 Rue des Alisiers   \n",
       "76               SSR EDITH CAVELL              27 Av. Françoise Giroud   \n",
       "77        SSR MARGUERITE BOUCICAUT          2 Rue Pierre Mendès France   \n",
       "\n",
       "    latitude longitude  \n",
       "0   47,95981   3,53041  \n",
       "1   47,30041     5,019  \n",
       "2   46,99469    3,1597  \n",
       "3   47,34583   5,03471  \n",
       "4    47,2668    3,2896  \n",
       "..       ...       ...  \n",
       "73   46,3173   4,81178  \n",
       "74  47,81213   3,56478  \n",
       "75  47,40975   5,00968  \n",
       "76  47,36094   5,05098  \n",
       "77  46,77502   4,84231  \n",
       "\n",
       "[78 rows x 4 columns]"
      ]
     },
     "execution_count": 31,
     "metadata": {},
     "output_type": "execute_result"
    }
   ],
   "source": [
    "coord"
   ]
  },
  {
   "cell_type": "code",
   "execution_count": 32,
   "id": "5767b2d4",
   "metadata": {},
   "outputs": [
    {
     "data": {
      "text/plain": [
       "Index(['GHT', 'Code', 'Groupe Plannification', 'Nb séjour / Séances',\n",
       "       'Nb de jours', '/', '/2', '/ ',\n",
       "       'Transferts SSR (Nombre de séjours chainés et tranférés vers un établissement SSR) ',\n",
       "       'Pourcentage '],\n",
       "      dtype='object')"
      ]
     },
     "execution_count": 32,
     "metadata": {},
     "output_type": "execute_result"
    }
   ],
   "source": [
    "ght.columns"
   ]
  },
  {
   "cell_type": "code",
   "execution_count": 33,
   "id": "5324c955",
   "metadata": {},
   "outputs": [],
   "source": [
    "ght.columns = [\n",
    "    'nom_ght',\n",
    "    'code',\n",
    "    'groupe_plannification',\n",
    "    'nb_sejour_par_seance',\n",
    "    'nb_jour',\n",
    "    'todelete1',\n",
    "    'todelete2',\n",
    "    'todelete3',\n",
    "    'transferts_ssr',\n",
    "    'pourcentage'\n",
    "]"
   ]
  },
  {
   "cell_type": "code",
   "execution_count": 34,
   "id": "84ae2526",
   "metadata": {},
   "outputs": [
    {
     "data": {
      "text/plain": [
       "Index(['nom_ght', 'code', 'groupe_plannification', 'nb_sejour_par_seance',\n",
       "       'nb_jour', 'todelete1', 'todelete2', 'todelete3', 'transferts_ssr',\n",
       "       'pourcentage'],\n",
       "      dtype='object')"
      ]
     },
     "execution_count": 34,
     "metadata": {},
     "output_type": "execute_result"
    }
   ],
   "source": [
    "ght.columns"
   ]
  },
  {
   "cell_type": "code",
   "execution_count": 35,
   "id": "dc2d764f",
   "metadata": {},
   "outputs": [],
   "source": [
    "ght = ght.drop(['todelete1', 'todelete2', 'todelete3'], axis=1)"
   ]
  },
  {
   "cell_type": "code",
   "execution_count": 36,
   "id": "dadf751f",
   "metadata": {},
   "outputs": [
    {
     "data": {
      "text/html": [
       "<div>\n",
       "<style scoped>\n",
       "    .dataframe tbody tr th:only-of-type {\n",
       "        vertical-align: middle;\n",
       "    }\n",
       "\n",
       "    .dataframe tbody tr th {\n",
       "        vertical-align: top;\n",
       "    }\n",
       "\n",
       "    .dataframe thead th {\n",
       "        text-align: right;\n",
       "    }\n",
       "</style>\n",
       "<table border=\"1\" class=\"dataframe\">\n",
       "  <thead>\n",
       "    <tr style=\"text-align: right;\">\n",
       "      <th></th>\n",
       "      <th>nom_ght</th>\n",
       "      <th>code</th>\n",
       "      <th>groupe_plannification</th>\n",
       "      <th>nb_sejour_par_seance</th>\n",
       "      <th>nb_jour</th>\n",
       "      <th>transferts_ssr</th>\n",
       "      <th>pourcentage</th>\n",
       "    </tr>\n",
       "  </thead>\n",
       "  <tbody>\n",
       "    <tr>\n",
       "      <th>0</th>\n",
       "      <td>GHT SÂONE-ET-LOIRE BRESSE MORVAN</td>\n",
       "      <td>X03</td>\n",
       "      <td>Neurologie</td>\n",
       "      <td>2828</td>\n",
       "      <td>17255</td>\n",
       "      <td>394</td>\n",
       "      <td>0,139321075</td>\n",
       "    </tr>\n",
       "    <tr>\n",
       "      <th>1</th>\n",
       "      <td>GHT SÂONE-ET-LOIRE BRESSE MORVAN</td>\n",
       "      <td>X08</td>\n",
       "      <td>Pneumologie</td>\n",
       "      <td>4237</td>\n",
       "      <td>31189</td>\n",
       "      <td>391</td>\n",
       "      <td>0,092282275</td>\n",
       "    </tr>\n",
       "    <tr>\n",
       "      <th>2</th>\n",
       "      <td>GHT SÂONE-ET-LOIRE BRESSE MORVAN</td>\n",
       "      <td>C09</td>\n",
       "      <td>Chir. majeure de l'app. Locomoteur:\\n hanche, ...</td>\n",
       "      <td>637</td>\n",
       "      <td>4825</td>\n",
       "      <td>272</td>\n",
       "      <td>0,42700157</td>\n",
       "    </tr>\n",
       "    <tr>\n",
       "      <th>3</th>\n",
       "      <td>GHT SÂONE-ET-LOIRE BRESSE MORVAN</td>\n",
       "      <td>X07</td>\n",
       "      <td>Affections Cardio-vasculaires</td>\n",
       "      <td>3266</td>\n",
       "      <td>18585</td>\n",
       "      <td>196</td>\n",
       "      <td>0,060012247</td>\n",
       "    </tr>\n",
       "    <tr>\n",
       "      <th>4</th>\n",
       "      <td>GHT SÂONE-ET-LOIRE BRESSE MORVAN</td>\n",
       "      <td>X06</td>\n",
       "      <td>Rhumatologie</td>\n",
       "      <td>1279</td>\n",
       "      <td>9071</td>\n",
       "      <td>140</td>\n",
       "      <td>0,109460516</td>\n",
       "    </tr>\n",
       "    <tr>\n",
       "      <th>...</th>\n",
       "      <td>...</td>\n",
       "      <td>...</td>\n",
       "      <td>...</td>\n",
       "      <td>...</td>\n",
       "      <td>...</td>\n",
       "      <td>...</td>\n",
       "      <td>...</td>\n",
       "    </tr>\n",
       "    <tr>\n",
       "      <th>371</th>\n",
       "      <td>GHT Nord-Yonne</td>\n",
       "      <td>O01</td>\n",
       "      <td>Accouchement par voie basse</td>\n",
       "      <td>924</td>\n",
       "      <td>3574</td>\n",
       "      <td>0 à 10</td>\n",
       "      <td>0,010822511</td>\n",
       "    </tr>\n",
       "    <tr>\n",
       "      <th>372</th>\n",
       "      <td>GHT Nord-Yonne</td>\n",
       "      <td>S01</td>\n",
       "      <td>Dialyse</td>\n",
       "      <td>7278</td>\n",
       "      <td>0</td>\n",
       "      <td>NaN</td>\n",
       "      <td>/</td>\n",
       "    </tr>\n",
       "    <tr>\n",
       "      <th>373</th>\n",
       "      <td>GHT Nord-Yonne</td>\n",
       "      <td>S02</td>\n",
       "      <td>Chimiothérapie pour tumeurs</td>\n",
       "      <td>3537</td>\n",
       "      <td>0</td>\n",
       "      <td>NaN</td>\n",
       "      <td>/</td>\n",
       "    </tr>\n",
       "    <tr>\n",
       "      <th>374</th>\n",
       "      <td>GHT Nord-Yonne</td>\n",
       "      <td>S03</td>\n",
       "      <td>Chimiothérapie pour aff. Non tumorale</td>\n",
       "      <td>658</td>\n",
       "      <td>0</td>\n",
       "      <td>NaN</td>\n",
       "      <td>/</td>\n",
       "    </tr>\n",
       "    <tr>\n",
       "      <th>375</th>\n",
       "      <td>GHT Nord-Yonne</td>\n",
       "      <td>S05</td>\n",
       "      <td>Transfusions</td>\n",
       "      <td>454</td>\n",
       "      <td>0</td>\n",
       "      <td>NaN</td>\n",
       "      <td>/</td>\n",
       "    </tr>\n",
       "  </tbody>\n",
       "</table>\n",
       "<p>376 rows × 7 columns</p>\n",
       "</div>"
      ],
      "text/plain": [
       "                              nom_ght code  \\\n",
       "0    GHT SÂONE-ET-LOIRE BRESSE MORVAN  X03   \n",
       "1    GHT SÂONE-ET-LOIRE BRESSE MORVAN  X08   \n",
       "2    GHT SÂONE-ET-LOIRE BRESSE MORVAN  C09   \n",
       "3    GHT SÂONE-ET-LOIRE BRESSE MORVAN  X07   \n",
       "4    GHT SÂONE-ET-LOIRE BRESSE MORVAN  X06   \n",
       "..                                ...  ...   \n",
       "371                   GHT Nord-Yonne   O01   \n",
       "372                   GHT Nord-Yonne   S01   \n",
       "373                   GHT Nord-Yonne   S02   \n",
       "374                   GHT Nord-Yonne   S03   \n",
       "375                   GHT Nord-Yonne   S05   \n",
       "\n",
       "                                 groupe_plannification nb_sejour_par_seance  \\\n",
       "0                                          Neurologie                  2828   \n",
       "1                                         Pneumologie                  4237   \n",
       "2    Chir. majeure de l'app. Locomoteur:\\n hanche, ...                  637   \n",
       "3                       Affections Cardio-vasculaires                  3266   \n",
       "4                                        Rhumatologie                  1279   \n",
       "..                                                 ...                  ...   \n",
       "371                       Accouchement par voie basse                   924   \n",
       "372                                           Dialyse                  7278   \n",
       "373                        Chimiothérapie pour tumeurs                 3537   \n",
       "374              Chimiothérapie pour aff. Non tumorale                  658   \n",
       "375                                       Transfusions                  454   \n",
       "\n",
       "    nb_jour transferts_ssr  pourcentage  \n",
       "0     17255            394  0,139321075  \n",
       "1     31189            391  0,092282275  \n",
       "2      4825            272   0,42700157  \n",
       "3     18585            196  0,060012247  \n",
       "4      9071            140  0,109460516  \n",
       "..      ...            ...          ...  \n",
       "371    3574         0 à 10  0,010822511  \n",
       "372       0            NaN            /  \n",
       "373       0            NaN            /  \n",
       "374       0            NaN            /  \n",
       "375       0            NaN            /  \n",
       "\n",
       "[376 rows x 7 columns]"
      ]
     },
     "execution_count": 36,
     "metadata": {},
     "output_type": "execute_result"
    }
   ],
   "source": [
    "ght"
   ]
  },
  {
   "cell_type": "code",
   "execution_count": 37,
   "id": "19753de2",
   "metadata": {},
   "outputs": [
    {
     "data": {
      "text/plain": [
       "Index(['finess', 'etablissement', 'categorie', 'provenance', 'nb_transferts'], dtype='object')"
      ]
     },
     "execution_count": 37,
     "metadata": {},
     "output_type": "execute_result"
    }
   ],
   "source": [
    "check.columns"
   ]
  },
  {
   "cell_type": "markdown",
   "id": "7468deb2",
   "metadata": {},
   "source": [
    "### uniformisation des noms (ght et etablissement)"
   ]
  },
  {
   "cell_type": "code",
   "execution_count": 183,
   "id": "14270f4e",
   "metadata": {},
   "outputs": [],
   "source": [
    "hp['nom_ght'] = hp['nom_ght'].str.upper()\n",
    "hp['nom_ght'] = hp['nom_ght'].str.lstrip()\n",
    "hp['nom_ght'] = hp['nom_ght'].str.rstrip()\n",
    "hp['nom_ght'] = hp['nom_ght'].str.replace('\\t', '')"
   ]
  },
  {
   "cell_type": "code",
   "execution_count": 268,
   "id": "fd3c5890",
   "metadata": {},
   "outputs": [],
   "source": [
    "hp['etablissement'] = hp['etablissement'].str.upper()\n",
    "hp['etablissement'] = hp['etablissement'].str.lstrip()\n",
    "hp['etablissement'] = hp['etablissement'].str.rstrip()\n",
    "hp['etablissement'] = hp['etablissement'].str.replace('\\t', '')\n",
    "hp.loc[hp.etablissement == 'CH PAYS CHAROLAIS BRIONNAIS LA CLAYETT', 'etablissement'] = 'CH PAYS CHAROLAIS BRIONNAIS LA CLAYETTE'"
   ]
  },
  {
   "cell_type": "code",
   "execution_count": 184,
   "id": "a701008e",
   "metadata": {},
   "outputs": [],
   "source": [
    "hp['etablissement_ssr_de_transfert'] = hp['etablissement_ssr_de_transfert'].str.upper()\n",
    "hp['etablissement_ssr_de_transfert'] = hp['etablissement_ssr_de_transfert'].str.lstrip()\n",
    "hp['etablissement_ssr_de_transfert'] = hp['etablissement_ssr_de_transfert'].str.rstrip()\n",
    "hp['etablissement_ssr_de_transfert'] = hp['etablissement_ssr_de_transfert'].str.replace('\\t', '')"
   ]
  },
  {
   "cell_type": "code",
   "execution_count": 185,
   "id": "392cb416",
   "metadata": {},
   "outputs": [],
   "source": [
    "ssr['nom_ght'] = ssr['nom_ght'].str.upper()\n",
    "ssr['nom_ght'] = ssr['nom_ght'].str.lstrip()\n",
    "ssr['nom_ght'] = ssr['nom_ght'].str.rstrip()\n",
    "ssr['nom_ght'] = ssr['nom_ght'].str.replace('\\t', '')"
   ]
  },
  {
   "cell_type": "code",
   "execution_count": 186,
   "id": "594f6c44",
   "metadata": {},
   "outputs": [],
   "source": [
    "ssr['provenance'] = ssr['provenance'].str.upper()\n",
    "ssr['provenance'] = ssr['provenance'].str.lstrip()\n",
    "ssr['provenance'] = ssr['provenance'].str.rstrip()\n",
    "ssr['provenance'] = ssr['provenance'].str.replace('\\t', '')"
   ]
  },
  {
   "cell_type": "code",
   "execution_count": 187,
   "id": "d69094f0",
   "metadata": {},
   "outputs": [],
   "source": [
    "ssr['etablissement_ssr'] = ssr['etablissement_ssr'].str.upper()\n",
    "ssr['etablissement_ssr'] = ssr['etablissement_ssr'].str.lstrip()\n",
    "ssr['etablissement_ssr'] = ssr['etablissement_ssr'].str.rstrip()\n",
    "ssr['etablissement_ssr'] = ssr['etablissement_ssr'].str.replace('\\t', '')"
   ]
  },
  {
   "cell_type": "code",
   "execution_count": 188,
   "id": "310202bb",
   "metadata": {},
   "outputs": [],
   "source": [
    "ght['nom_ght'] = ght['nom_ght'].str.upper()\n",
    "ght['nom_ght'] = ght['nom_ght'].str.lstrip()\n",
    "ght['nom_ght'] = ght['nom_ght'].str.rstrip()\n",
    "ght['nom_ght'] = ght['nom_ght'].str.replace('\\t', '')"
   ]
  },
  {
   "cell_type": "code",
   "execution_count": 189,
   "id": "c922bd11",
   "metadata": {},
   "outputs": [],
   "source": [
    "check['etablissement'] = check['etablissement'].str.upper()\n",
    "check['etablissement'] = check['etablissement'].str.lstrip()\n",
    "check['etablissement'] = check['etablissement'].str.rstrip()\n",
    "check['etablissement'] = check['etablissement'].str.replace('\\t', '')"
   ]
  },
  {
   "cell_type": "code",
   "execution_count": 190,
   "id": "65777f4b",
   "metadata": {},
   "outputs": [],
   "source": [
    "check['provenance'] = check['provenance'].str.upper()\n",
    "check['provenance'] = check['provenance'].str.lstrip()\n",
    "check['provenance'] = check['provenance'].str.rstrip()\n",
    "check['provenance'] = check['provenance'].str.replace('\\t', '')"
   ]
  },
  {
   "cell_type": "code",
   "execution_count": 191,
   "id": "724446b3",
   "metadata": {},
   "outputs": [],
   "source": [
    "check['categorie'] = check['categorie'].str.upper()\n",
    "check['categorie'] = check['categorie'].str.lstrip()\n",
    "check['categorie'] = check['categorie'].str.rstrip()\n",
    "check['categorie'] = check['categorie'].str.replace('\\t', '')"
   ]
  },
  {
   "cell_type": "code",
   "execution_count": 192,
   "id": "203d0fb8",
   "metadata": {},
   "outputs": [],
   "source": [
    "coord['etablissement'] = coord['etablissement'].str.upper()\n",
    "coord['etablissement'] = coord['etablissement'].str.lstrip()\n",
    "coord['etablissement'] = coord['etablissement'].str.rstrip()\n",
    "coord['etablissement'] = coord['etablissement'].str.replace('\\t', '')"
   ]
  },
  {
   "cell_type": "markdown",
   "id": "e620be9a",
   "metadata": {},
   "source": [
    "### modification des types (after)"
   ]
  },
  {
   "cell_type": "code",
   "execution_count": 193,
   "id": "76b6334e",
   "metadata": {},
   "outputs": [
    {
     "ename": "AttributeError",
     "evalue": "Can only use .str accessor with string values!",
     "output_type": "error",
     "traceback": [
      "\u001b[1;31m---------------------------------------------------------------------------\u001b[0m",
      "\u001b[1;31mAttributeError\u001b[0m                            Traceback (most recent call last)",
      "\u001b[1;32mC:\\Users\\FRANOI~1\\AppData\\Local\\Temp/ipykernel_14196/1680031280.py\u001b[0m in \u001b[0;36m<module>\u001b[1;34m\u001b[0m\n\u001b[1;32m----> 1\u001b[1;33m \u001b[0mcoord\u001b[0m\u001b[1;33m[\u001b[0m\u001b[1;34m'latitude'\u001b[0m\u001b[1;33m]\u001b[0m \u001b[1;33m=\u001b[0m \u001b[0mcoord\u001b[0m\u001b[1;33m[\u001b[0m\u001b[1;34m'latitude'\u001b[0m\u001b[1;33m]\u001b[0m\u001b[1;33m.\u001b[0m\u001b[0mstr\u001b[0m\u001b[1;33m.\u001b[0m\u001b[0mreplace\u001b[0m\u001b[1;33m(\u001b[0m\u001b[1;34m','\u001b[0m\u001b[1;33m,\u001b[0m \u001b[1;34m'.'\u001b[0m\u001b[1;33m)\u001b[0m\u001b[1;33m\u001b[0m\u001b[1;33m\u001b[0m\u001b[0m\n\u001b[0m\u001b[0;32m      2\u001b[0m \u001b[0mcoord\u001b[0m\u001b[1;33m[\u001b[0m\u001b[1;34m'longitude'\u001b[0m\u001b[1;33m]\u001b[0m \u001b[1;33m=\u001b[0m \u001b[0mcoord\u001b[0m\u001b[1;33m[\u001b[0m\u001b[1;34m'longitude'\u001b[0m\u001b[1;33m]\u001b[0m\u001b[1;33m.\u001b[0m\u001b[0mstr\u001b[0m\u001b[1;33m.\u001b[0m\u001b[0mreplace\u001b[0m\u001b[1;33m(\u001b[0m\u001b[1;34m','\u001b[0m\u001b[1;33m,\u001b[0m \u001b[1;34m'.'\u001b[0m\u001b[1;33m)\u001b[0m\u001b[1;33m\u001b[0m\u001b[1;33m\u001b[0m\u001b[0m\n",
      "\u001b[1;32mc:\\users\\françoislegac\\environments\\bokeh-tuto\\lib\\site-packages\\pandas\\core\\generic.py\u001b[0m in \u001b[0;36m__getattr__\u001b[1;34m(self, name)\u001b[0m\n\u001b[0;32m   5485\u001b[0m         ):\n\u001b[0;32m   5486\u001b[0m             \u001b[1;32mreturn\u001b[0m \u001b[0mself\u001b[0m\u001b[1;33m[\u001b[0m\u001b[0mname\u001b[0m\u001b[1;33m]\u001b[0m\u001b[1;33m\u001b[0m\u001b[1;33m\u001b[0m\u001b[0m\n\u001b[1;32m-> 5487\u001b[1;33m         \u001b[1;32mreturn\u001b[0m \u001b[0mobject\u001b[0m\u001b[1;33m.\u001b[0m\u001b[0m__getattribute__\u001b[0m\u001b[1;33m(\u001b[0m\u001b[0mself\u001b[0m\u001b[1;33m,\u001b[0m \u001b[0mname\u001b[0m\u001b[1;33m)\u001b[0m\u001b[1;33m\u001b[0m\u001b[1;33m\u001b[0m\u001b[0m\n\u001b[0m\u001b[0;32m   5488\u001b[0m \u001b[1;33m\u001b[0m\u001b[0m\n\u001b[0;32m   5489\u001b[0m     \u001b[1;32mdef\u001b[0m \u001b[0m__setattr__\u001b[0m\u001b[1;33m(\u001b[0m\u001b[0mself\u001b[0m\u001b[1;33m,\u001b[0m \u001b[0mname\u001b[0m\u001b[1;33m:\u001b[0m \u001b[0mstr\u001b[0m\u001b[1;33m,\u001b[0m \u001b[0mvalue\u001b[0m\u001b[1;33m)\u001b[0m \u001b[1;33m->\u001b[0m \u001b[1;32mNone\u001b[0m\u001b[1;33m:\u001b[0m\u001b[1;33m\u001b[0m\u001b[1;33m\u001b[0m\u001b[0m\n",
      "\u001b[1;32mc:\\users\\françoislegac\\environments\\bokeh-tuto\\lib\\site-packages\\pandas\\core\\accessor.py\u001b[0m in \u001b[0;36m__get__\u001b[1;34m(self, obj, cls)\u001b[0m\n\u001b[0;32m    179\u001b[0m             \u001b[1;31m# we're accessing the attribute of the class, i.e., Dataset.geo\u001b[0m\u001b[1;33m\u001b[0m\u001b[1;33m\u001b[0m\u001b[1;33m\u001b[0m\u001b[0m\n\u001b[0;32m    180\u001b[0m             \u001b[1;32mreturn\u001b[0m \u001b[0mself\u001b[0m\u001b[1;33m.\u001b[0m\u001b[0m_accessor\u001b[0m\u001b[1;33m\u001b[0m\u001b[1;33m\u001b[0m\u001b[0m\n\u001b[1;32m--> 181\u001b[1;33m         \u001b[0maccessor_obj\u001b[0m \u001b[1;33m=\u001b[0m \u001b[0mself\u001b[0m\u001b[1;33m.\u001b[0m\u001b[0m_accessor\u001b[0m\u001b[1;33m(\u001b[0m\u001b[0mobj\u001b[0m\u001b[1;33m)\u001b[0m\u001b[1;33m\u001b[0m\u001b[1;33m\u001b[0m\u001b[0m\n\u001b[0m\u001b[0;32m    182\u001b[0m         \u001b[1;31m# Replace the property with the accessor object. Inspired by:\u001b[0m\u001b[1;33m\u001b[0m\u001b[1;33m\u001b[0m\u001b[1;33m\u001b[0m\u001b[0m\n\u001b[0;32m    183\u001b[0m         \u001b[1;31m# https://www.pydanny.com/cached-property.html\u001b[0m\u001b[1;33m\u001b[0m\u001b[1;33m\u001b[0m\u001b[1;33m\u001b[0m\u001b[0m\n",
      "\u001b[1;32mc:\\users\\françoislegac\\environments\\bokeh-tuto\\lib\\site-packages\\pandas\\core\\strings\\accessor.py\u001b[0m in \u001b[0;36m__init__\u001b[1;34m(self, data)\u001b[0m\n\u001b[0;32m    166\u001b[0m         \u001b[1;32mfrom\u001b[0m \u001b[0mpandas\u001b[0m\u001b[1;33m.\u001b[0m\u001b[0mcore\u001b[0m\u001b[1;33m.\u001b[0m\u001b[0marrays\u001b[0m\u001b[1;33m.\u001b[0m\u001b[0mstring_\u001b[0m \u001b[1;32mimport\u001b[0m \u001b[0mStringDtype\u001b[0m\u001b[1;33m\u001b[0m\u001b[1;33m\u001b[0m\u001b[0m\n\u001b[0;32m    167\u001b[0m \u001b[1;33m\u001b[0m\u001b[0m\n\u001b[1;32m--> 168\u001b[1;33m         \u001b[0mself\u001b[0m\u001b[1;33m.\u001b[0m\u001b[0m_inferred_dtype\u001b[0m \u001b[1;33m=\u001b[0m \u001b[0mself\u001b[0m\u001b[1;33m.\u001b[0m\u001b[0m_validate\u001b[0m\u001b[1;33m(\u001b[0m\u001b[0mdata\u001b[0m\u001b[1;33m)\u001b[0m\u001b[1;33m\u001b[0m\u001b[1;33m\u001b[0m\u001b[0m\n\u001b[0m\u001b[0;32m    169\u001b[0m         \u001b[0mself\u001b[0m\u001b[1;33m.\u001b[0m\u001b[0m_is_categorical\u001b[0m \u001b[1;33m=\u001b[0m \u001b[0mis_categorical_dtype\u001b[0m\u001b[1;33m(\u001b[0m\u001b[0mdata\u001b[0m\u001b[1;33m.\u001b[0m\u001b[0mdtype\u001b[0m\u001b[1;33m)\u001b[0m\u001b[1;33m\u001b[0m\u001b[1;33m\u001b[0m\u001b[0m\n\u001b[0;32m    170\u001b[0m         \u001b[0mself\u001b[0m\u001b[1;33m.\u001b[0m\u001b[0m_is_string\u001b[0m \u001b[1;33m=\u001b[0m \u001b[0misinstance\u001b[0m\u001b[1;33m(\u001b[0m\u001b[0mdata\u001b[0m\u001b[1;33m.\u001b[0m\u001b[0mdtype\u001b[0m\u001b[1;33m,\u001b[0m \u001b[0mStringDtype\u001b[0m\u001b[1;33m)\u001b[0m\u001b[1;33m\u001b[0m\u001b[1;33m\u001b[0m\u001b[0m\n",
      "\u001b[1;32mc:\\users\\françoislegac\\environments\\bokeh-tuto\\lib\\site-packages\\pandas\\core\\strings\\accessor.py\u001b[0m in \u001b[0;36m_validate\u001b[1;34m(data)\u001b[0m\n\u001b[0;32m    223\u001b[0m \u001b[1;33m\u001b[0m\u001b[0m\n\u001b[0;32m    224\u001b[0m         \u001b[1;32mif\u001b[0m \u001b[0minferred_dtype\u001b[0m \u001b[1;32mnot\u001b[0m \u001b[1;32min\u001b[0m \u001b[0mallowed_types\u001b[0m\u001b[1;33m:\u001b[0m\u001b[1;33m\u001b[0m\u001b[1;33m\u001b[0m\u001b[0m\n\u001b[1;32m--> 225\u001b[1;33m             \u001b[1;32mraise\u001b[0m \u001b[0mAttributeError\u001b[0m\u001b[1;33m(\u001b[0m\u001b[1;34m\"Can only use .str accessor with string values!\"\u001b[0m\u001b[1;33m)\u001b[0m\u001b[1;33m\u001b[0m\u001b[1;33m\u001b[0m\u001b[0m\n\u001b[0m\u001b[0;32m    226\u001b[0m         \u001b[1;32mreturn\u001b[0m \u001b[0minferred_dtype\u001b[0m\u001b[1;33m\u001b[0m\u001b[1;33m\u001b[0m\u001b[0m\n\u001b[0;32m    227\u001b[0m \u001b[1;33m\u001b[0m\u001b[0m\n",
      "\u001b[1;31mAttributeError\u001b[0m: Can only use .str accessor with string values!"
     ]
    }
   ],
   "source": [
    "coord['latitude'] = coord['latitude'].str.replace(',', '.')\n",
    "coord['longitude'] = coord['longitude'].str.replace(',', '.')"
   ]
  },
  {
   "cell_type": "code",
   "execution_count": 73,
   "id": "eff71339",
   "metadata": {},
   "outputs": [],
   "source": [
    "coord['latitude'] = coord['latitude'].astype('float64')\n",
    "coord['longitude'] = coord['longitude'].astype('float64')"
   ]
  },
  {
   "cell_type": "code",
   "execution_count": 74,
   "id": "67b0d670",
   "metadata": {},
   "outputs": [
    {
     "data": {
      "text/plain": [
       "etablissement     object\n",
       "adresse           object\n",
       "latitude         float64\n",
       "longitude        float64\n",
       "dtype: object"
      ]
     },
     "execution_count": 74,
     "metadata": {},
     "output_type": "execute_result"
    }
   ],
   "source": [
    "coord.dtypes"
   ]
  },
  {
   "cell_type": "markdown",
   "id": "b46956a8",
   "metadata": {},
   "source": [
    "### sauvegarde des df"
   ]
  },
  {
   "cell_type": "code",
   "execution_count": 270,
   "id": "3a9c2c62",
   "metadata": {},
   "outputs": [],
   "source": [
    "r = './data/new_data/'\n",
    "coord.to_csv(r + 'coord.csv')\n",
    "hp.to_csv(r + 'hp.csv')\n",
    "ssr.to_csv(r + 'ssr.csv')\n",
    "ght.to_csv(r + 'ght.csv')\n",
    "check.to_csv(r + 'check.csv')"
   ]
  },
  {
   "cell_type": "markdown",
   "id": "115227f5",
   "metadata": {},
   "source": [
    "## Back to the check"
   ]
  },
  {
   "cell_type": "code",
   "execution_count": 3,
   "id": "14d20cb3",
   "metadata": {},
   "outputs": [],
   "source": [
    "import pandas as pd\n",
    "import numpy as np"
   ]
  },
  {
   "cell_type": "code",
   "execution_count": 4,
   "id": "1e8edbae",
   "metadata": {},
   "outputs": [],
   "source": [
    "r = './data/new_data/'\n",
    "coord = pd.read_csv(r + 'coord.csv', sep=',', index_col=0)\n",
    "hp = pd.read_csv(r + 'hp.csv', sep=',', index_col=0)\n",
    "ssr = pd.read_csv(r + 'ssr.csv', sep=',', index_col=0)\n",
    "ght = pd.read_csv(r + 'ght.csv', sep=',', index_col=0)\n",
    "check = pd.read_csv(r + 'check.csv', sep=',', index_col=0)"
   ]
  },
  {
   "cell_type": "markdown",
   "id": "974ee14b",
   "metadata": {},
   "source": [
    "### Vérifions qu'ils y a bien toutes les coordonnées"
   ]
  },
  {
   "cell_type": "code",
   "execution_count": 7,
   "id": "0ab26202",
   "metadata": {},
   "outputs": [],
   "source": [
    "coord_etab = coord['etablissement'].drop_duplicates()\n",
    "ssr_concat_hp_etab = pd.concat([hp['etablissement'].drop_duplicates(), ssr['etablissement_ssr'].drop_duplicates()])\n",
    "ssr_concat_hp_etab = ssr_concat_hp_etab.drop_duplicates()"
   ]
  },
  {
   "cell_type": "code",
   "execution_count": 8,
   "id": "6a7c081e",
   "metadata": {},
   "outputs": [
    {
     "name": "stdout",
     "output_type": "stream",
     "text": [
      "(91,) (78,)\n"
     ]
    }
   ],
   "source": [
    "print(ssr_concat_hp_etab.shape, coord_etab.shape)"
   ]
  },
  {
   "cell_type": "code",
   "execution_count": 9,
   "id": "0e37539f",
   "metadata": {},
   "outputs": [],
   "source": [
    "#dans les onglets hp et ssr mais pas dans coord ?\n",
    "missing_coord = ssr_concat_hp_etab[ssr_concat_hp_etab.isin(coord_etab) == False] #47"
   ]
  },
  {
   "cell_type": "code",
   "execution_count": 10,
   "id": "2d8371d4",
   "metadata": {},
   "outputs": [
    {
     "data": {
      "text/plain": [
       "18"
      ]
     },
     "execution_count": 10,
     "metadata": {},
     "output_type": "execute_result"
    }
   ],
   "source": [
    "missing_coord.count()"
   ]
  },
  {
   "cell_type": "code",
   "execution_count": 277,
   "id": "18d73a84",
   "metadata": {},
   "outputs": [
    {
     "data": {
      "text/plain": [
       "97"
      ]
     },
     "execution_count": 277,
     "metadata": {},
     "output_type": "execute_result"
    }
   ],
   "source": [
    "78+19"
   ]
  },
  {
   "cell_type": "code",
   "execution_count": 13,
   "id": "19704703",
   "metadata": {
    "scrolled": true
   },
   "outputs": [
    {
     "data": {
      "text/plain": [
       "20                            CH DE BEAUJEU\n",
       "49                          CR LES ARBELLES\n",
       "57                 GCS PATCS CRRF PASTEUR 2\n",
       "58    GCS PLAT AVAL TERR CHAMP SUD CRF PAST\n",
       "72                    MOYEN SEJOUR PIGNELIN\n",
       "Name: etablissement, dtype: object"
      ]
     },
     "execution_count": 13,
     "metadata": {},
     "output_type": "execute_result"
    }
   ],
   "source": [
    "#dans coord mais pas ds hp ni ssr\n",
    "coord_etab[coord_etab.isin(ssr_concat_hp_etab) == False]"
   ]
  },
  {
   "cell_type": "code",
   "execution_count": 11,
   "id": "5c8fd08f",
   "metadata": {},
   "outputs": [
    {
     "data": {
      "text/plain": [
       "319                   CH DU TONNERROIS\n",
       "396             CH LA CHARTREUSE DIJON\n",
       "598          CH DE BOURBONNE-LES-BAINS\n",
       "659                 CH ROBERT MORLEVAT\n",
       "1386        HÔPITAL PRIVE SAINTE MARIE\n",
       "1492       POLYCLINIQUE DU PARC DREVON\n",
       "1537      CLINIQUE MEDICO-CHIRURGICALE\n",
       "1593                  CLINIQUE DU PARC\n",
       "1621              CLINIQUE PAUL PIQUET\n",
       "1669     HOPITAL PRIVE DIJON BOURGOGNE\n",
       "1737    CENTRE GEORGE-FRANCOIS LECLERC\n",
       "1784             HOTEL-DIEU DU CREUSOT\n",
       "100       CENTRE MEDICAL DE LA VENERIE\n",
       "208              CH LES CHAUNAUX MACON\n",
       "241                          CH BELANY\n",
       "273                CRF LES BOURBONNAIS\n",
       "382                 C.R.B. LES ROSIERS\n",
       "405              SA MAISON DE JOUVENCE\n",
       "dtype: object"
      ]
     },
     "execution_count": 11,
     "metadata": {},
     "output_type": "execute_result"
    }
   ],
   "source": [
    "missing_coord"
   ]
  },
  {
   "cell_type": "code",
   "execution_count": 311,
   "id": "67b67d20",
   "metadata": {},
   "outputs": [],
   "source": [
    "missing_coord.to_csv('missing_coord.csv', encoding='cp1252')"
   ]
  },
  {
   "cell_type": "code",
   "execution_count": 253,
   "id": "f4585475",
   "metadata": {},
   "outputs": [
    {
     "data": {
      "text/plain": [
       "92"
      ]
     },
     "execution_count": 253,
     "metadata": {},
     "output_type": "execute_result"
    }
   ],
   "source": [
    "#hp + ssr = 121, sans l'inter = 92\n",
    "ssr_concat_hp_etab.drop_duplicates().count()"
   ]
  },
  {
   "cell_type": "code",
   "execution_count": 279,
   "id": "1c61a433",
   "metadata": {},
   "outputs": [
    {
     "data": {
      "text/plain": [
       "96"
      ]
     },
     "execution_count": 279,
     "metadata": {},
     "output_type": "execute_result"
    }
   ],
   "source": [
    "coord_etab.count() + missing_coord.count() #78 + 22 = 90\n",
    "\n",
    "#=> 4 qui sont probablement ds coord mais mal orthographié"
   ]
  },
  {
   "cell_type": "markdown",
   "id": "6d34fe4f",
   "metadata": {},
   "source": [
    "### Vérifions les ght"
   ]
  },
  {
   "cell_type": "code",
   "execution_count": 344,
   "id": "a9db8253",
   "metadata": {},
   "outputs": [
    {
     "data": {
      "text/plain": [
       "0      GHT SÂONE-ET-LOIRE BRESSE MORVAN\n",
       "62         GHT SUD YONNE HAUT-NIVERNAIS\n",
       "121         GHT CÔTE D'OR - HAUTE MARNE\n",
       "197                   GHT SUD CÔTE-D'OR\n",
       "260                    GHT DE LA NIEVRE\n",
       "321                      GHT NORD-YONNE\n",
       "Name: nom_ght, dtype: object"
      ]
     },
     "execution_count": 344,
     "metadata": {},
     "output_type": "execute_result"
    }
   ],
   "source": [
    "ght['nom_ght'].drop_duplicates()"
   ]
  },
  {
   "cell_type": "code",
   "execution_count": 337,
   "id": "874c64c0",
   "metadata": {},
   "outputs": [
    {
     "data": {
      "text/plain": [
       "0       GHT SÂONE-ET-LOIRE BRESSE MORVAN\n",
       "201         GHT SUD YONNE HAUT-NIVERNAIS\n",
       "364          GHT CÔTE D'OR - HAUTE MARNE\n",
       "716                    GHT SUD CÔTE-D'OR\n",
       "782            GHT BOURGOGNE MÉRIDIONALE\n",
       "1009                    GHT DE LA NIÈVRE\n",
       "1205                     GHT  NORD-YONNE\n",
       "1320                                NONE\n",
       "Name: nom_ght, dtype: object"
      ]
     },
     "execution_count": 337,
     "metadata": {},
     "output_type": "execute_result"
    }
   ],
   "source": [
    "hp['nom_ght'].drop_duplicates()"
   ]
  },
  {
   "cell_type": "code",
   "execution_count": 346,
   "id": "00a4049b",
   "metadata": {},
   "outputs": [],
   "source": [
    "#hp.loc[hp.nom_ght == '', 'nom_ght'] = ''\n",
    "hp.loc[hp.nom_ght == 'GHT SAÔNEETLOIRE BRESSE MORVAN', 'nom_ght'] = 'GHT SÂONE-ET-LOIRE BRESSE MORVAN'\n",
    "ssr.loc[ssr.nom_ght == 'GHT SAÔNEETLOIRE BRESSE MORVAN', 'nom_ght'] = 'GHT SÂONE-ET-LOIRE BRESSE MORVAN'"
   ]
  },
  {
   "cell_type": "code",
   "execution_count": 347,
   "id": "ca6bf1fd",
   "metadata": {},
   "outputs": [],
   "source": [
    "hp.to_csv(r + 'hp.csv')\n",
    "ssr.to_csv(r + 'ssr.csv')"
   ]
  },
  {
   "cell_type": "markdown",
   "id": "e9fb9dd3",
   "metadata": {},
   "source": [
    "### Check transferts GHT (et donc sum établissement rattachés aux GHT) => transferts_ssr"
   ]
  },
  {
   "cell_type": "code",
   "execution_count": 20,
   "id": "d107c356",
   "metadata": {},
   "outputs": [
    {
     "data": {
      "text/plain": [
       "nom_ght\n",
       "GHT CÔTE D'OR - HAUTE MARNE         614 à 624525464 à 474408 à 418 282 à 292 20518...\n",
       "GHT DE LA NIEVRE                    275217 à 237173 à 203 148 à 15899 à 12998 à 12...\n",
       "GHT NORD-YONNE                      24718412412499585751 à 6150 à 60 47393829 à 39...\n",
       "GHT SUD CÔTE-D'OR                   599343 à 373232 à 262197 à 217 191 à 221172 à ...\n",
       "GHT SUD YONNE HAUT-NIVERNAIS        24486 à 9614020388 à 982049 à 6920 à 301220 à ...\n",
       "GHT SÂONE-ET-LOIRE BRESSE MORVAN    39439127219614012810796948263 à 8349 à 6949 à ...\n",
       "Name: transferts_ssr, dtype: object"
      ]
     },
     "execution_count": 20,
     "metadata": {},
     "output_type": "execute_result"
    }
   ],
   "source": [
    "ght.groupby(['nom_ght'])['transferts_ssr'].sum()"
   ]
  },
  {
   "cell_type": "code",
   "execution_count": 26,
   "id": "7814604f",
   "metadata": {},
   "outputs": [
    {
     "data": {
      "text/plain": [
       "0           394\n",
       "1           391\n",
       "2           272\n",
       "3           196\n",
       "4           140\n",
       "         ...   \n",
       "330          47\n",
       "333    29 à 39 \n",
       "334     23 à 33\n",
       "335          17\n",
       "336          15\n",
       "Name: transferts_ssr, Length: 132, dtype: object"
      ]
     },
     "execution_count": 26,
     "metadata": {},
     "output_type": "execute_result"
    }
   ],
   "source": [
    "ght['transferts_ssr'].drop_duplicates()"
   ]
  },
  {
   "cell_type": "code",
   "execution_count": 38,
   "id": "09c68690",
   "metadata": {},
   "outputs": [],
   "source": [
    "x = ght['transferts_ssr'].drop_duplicates()"
   ]
  },
  {
   "cell_type": "code",
   "execution_count": 42,
   "id": "e2d397dc",
   "metadata": {},
   "outputs": [],
   "source": [
    "_int = x[x.str.isdigit() == False]"
   ]
  },
  {
   "cell_type": "code",
   "execution_count": 50,
   "id": "88fd349a",
   "metadata": {},
   "outputs": [
    {
     "data": {
      "text/plain": [
       "10       63 à 83\n",
       "11       49 à 69\n",
       "12      49 à 59 \n",
       "14      32 à 42 \n",
       "16       27 à 47\n",
       "19       16 à 36\n",
       "21       11 à 51\n",
       "63       86 à 96\n",
       "66       88 à 98\n",
       "69       20 à 30\n",
       "71       20 à 50\n",
       "76       41 à 61\n",
       "77      13 à 23 \n",
       "79       36 à 56\n",
       "80      68 à 108\n",
       "81       46 à 66\n",
       "83      94 à 114\n",
       "133     99 à 139\n",
       "134     92 à 122\n",
       "135    91 à 141 \n",
       "136     81 à 91 \n",
       "137    75 à 135 \n",
       "138     71 à 81 \n",
       "140    50 à 110 \n",
       "143     35 à 45 \n",
       "144     30 à 40 \n",
       "145     28 à 38 \n",
       "146      24 à 44\n",
       "148      18 à 78\n",
       "150      14 à 74\n",
       "151     14 à 24 \n",
       "152      11 à 71\n",
       "153     11 à 21 \n",
       "206     95 à 125\n",
       "207    87 à 117 \n",
       "208     87 à 117\n",
       "211     45 à 75 \n",
       "213     33 à 63 \n",
       "220     20 à 30 \n",
       "221      18 à 58\n",
       "222     12 à 22 \n",
       "223     11 à 31 \n",
       "264     99 à 129\n",
       "265     98 à 128\n",
       "266      78 à 88\n",
       "267     76 à 116\n",
       "268      61 à 71\n",
       "269     56 à 106\n",
       "270      56 à 66\n",
       "271     46 à 56 \n",
       "272      38 à 68\n",
       "273      29 à 69\n",
       "274      24 à 54\n",
       "278      13 à 33\n",
       "328      51 à 61\n",
       "329     50 à 60 \n",
       "333     29 à 39 \n",
       "334      23 à 33\n",
       "Name: transferts_ssr, dtype: object"
      ]
     },
     "execution_count": 50,
     "metadata": {},
     "output_type": "execute_result"
    }
   ],
   "source": [
    "_int[_int.str.find('à') == 3]"
   ]
  },
  {
   "cell_type": "code",
   "execution_count": 59,
   "id": "92313057",
   "metadata": {},
   "outputs": [
    {
     "data": {
      "text/plain": [
       "0       0 à 50\n",
       "1    197 à 217\n",
       "2      63 à 83\n",
       "3          NaN\n",
       "4         #REF\n",
       "5           67\n",
       "dtype: object"
      ]
     },
     "execution_count": 59,
     "metadata": {},
     "output_type": "execute_result"
    }
   ],
   "source": [
    "tmp = pd.Series(['0 à 50', '197 à 217', '63 à 83', np.nan, '#REF', '67'])\n",
    "tmp"
   ]
  },
  {
   "cell_type": "code",
   "execution_count": 60,
   "id": "09915233",
   "metadata": {},
   "outputs": [
    {
     "data": {
      "text/html": [
       "<div>\n",
       "<style scoped>\n",
       "    .dataframe tbody tr th:only-of-type {\n",
       "        vertical-align: middle;\n",
       "    }\n",
       "\n",
       "    .dataframe tbody tr th {\n",
       "        vertical-align: top;\n",
       "    }\n",
       "\n",
       "    .dataframe thead th {\n",
       "        text-align: right;\n",
       "    }\n",
       "</style>\n",
       "<table border=\"1\" class=\"dataframe\">\n",
       "  <thead>\n",
       "    <tr style=\"text-align: right;\">\n",
       "      <th></th>\n",
       "      <th>0</th>\n",
       "      <th>1</th>\n",
       "    </tr>\n",
       "  </thead>\n",
       "  <tbody>\n",
       "    <tr>\n",
       "      <th>0</th>\n",
       "      <td>0</td>\n",
       "      <td>50</td>\n",
       "    </tr>\n",
       "    <tr>\n",
       "      <th>1</th>\n",
       "      <td>197</td>\n",
       "      <td>217</td>\n",
       "    </tr>\n",
       "    <tr>\n",
       "      <th>2</th>\n",
       "      <td>63</td>\n",
       "      <td>83</td>\n",
       "    </tr>\n",
       "    <tr>\n",
       "      <th>3</th>\n",
       "      <td>NaN</td>\n",
       "      <td>NaN</td>\n",
       "    </tr>\n",
       "    <tr>\n",
       "      <th>4</th>\n",
       "      <td>NaN</td>\n",
       "      <td>NaN</td>\n",
       "    </tr>\n",
       "    <tr>\n",
       "      <th>5</th>\n",
       "      <td>NaN</td>\n",
       "      <td>NaN</td>\n",
       "    </tr>\n",
       "  </tbody>\n",
       "</table>\n",
       "</div>"
      ],
      "text/plain": [
       "     0    1\n",
       "0    0   50\n",
       "1  197  217\n",
       "2   63   83\n",
       "3  NaN  NaN\n",
       "4  NaN  NaN\n",
       "5  NaN  NaN"
      ]
     },
     "execution_count": 60,
     "metadata": {},
     "output_type": "execute_result"
    }
   ],
   "source": [
    "tmp.str.extract(pat='(\\d*) ?à ?(\\d*)')"
   ]
  },
  {
   "cell_type": "code",
   "execution_count": null,
   "id": "4af25d6c",
   "metadata": {},
   "outputs": [],
   "source": [
    "#REF!"
   ]
  },
  {
   "cell_type": "code",
   "execution_count": 62,
   "id": "11b81965",
   "metadata": {},
   "outputs": [
    {
     "data": {
      "text/html": [
       "<div>\n",
       "<style scoped>\n",
       "    .dataframe tbody tr th:only-of-type {\n",
       "        vertical-align: middle;\n",
       "    }\n",
       "\n",
       "    .dataframe tbody tr th {\n",
       "        vertical-align: top;\n",
       "    }\n",
       "\n",
       "    .dataframe thead th {\n",
       "        text-align: right;\n",
       "    }\n",
       "</style>\n",
       "<table border=\"1\" class=\"dataframe\">\n",
       "  <thead>\n",
       "    <tr style=\"text-align: right;\">\n",
       "      <th></th>\n",
       "      <th>nom_ght</th>\n",
       "      <th>code</th>\n",
       "      <th>groupe_plannification</th>\n",
       "      <th>nb_sejour_par_seance</th>\n",
       "      <th>nb_jour</th>\n",
       "      <th>transferts_ssr</th>\n",
       "      <th>pourcentage</th>\n",
       "    </tr>\n",
       "  </thead>\n",
       "  <tbody>\n",
       "    <tr>\n",
       "      <th>58</th>\n",
       "      <td>GHT SÂONE-ET-LOIRE BRESSE MORVAN</td>\n",
       "      <td>S01</td>\n",
       "      <td>Dialyse</td>\n",
       "      <td>13380</td>\n",
       "      <td>0</td>\n",
       "      <td>NaN</td>\n",
       "      <td>/</td>\n",
       "    </tr>\n",
       "    <tr>\n",
       "      <th>59</th>\n",
       "      <td>GHT SÂONE-ET-LOIRE BRESSE MORVAN</td>\n",
       "      <td>S02</td>\n",
       "      <td>Chimiothérapie pour tumeurs</td>\n",
       "      <td>9646</td>\n",
       "      <td>0</td>\n",
       "      <td>NaN</td>\n",
       "      <td>/</td>\n",
       "    </tr>\n",
       "    <tr>\n",
       "      <th>60</th>\n",
       "      <td>GHT SÂONE-ET-LOIRE BRESSE MORVAN</td>\n",
       "      <td>S03</td>\n",
       "      <td>Chimiothérapie pour aff. Non tumorale</td>\n",
       "      <td>2314</td>\n",
       "      <td>0</td>\n",
       "      <td>NaN</td>\n",
       "      <td>/</td>\n",
       "    </tr>\n",
       "    <tr>\n",
       "      <th>61</th>\n",
       "      <td>GHT SÂONE-ET-LOIRE BRESSE MORVAN</td>\n",
       "      <td>S05</td>\n",
       "      <td>Transfusions</td>\n",
       "      <td>1389</td>\n",
       "      <td>0</td>\n",
       "      <td>NaN</td>\n",
       "      <td>/</td>\n",
       "    </tr>\n",
       "    <tr>\n",
       "      <th>116</th>\n",
       "      <td>GHT SUD YONNE HAUT-NIVERNAIS</td>\n",
       "      <td>S01</td>\n",
       "      <td>Dialyse</td>\n",
       "      <td>7642</td>\n",
       "      <td>0</td>\n",
       "      <td>NaN</td>\n",
       "      <td>/</td>\n",
       "    </tr>\n",
       "    <tr>\n",
       "      <th>117</th>\n",
       "      <td>GHT SUD YONNE HAUT-NIVERNAIS</td>\n",
       "      <td>S02</td>\n",
       "      <td>Chimiothérapie pour tumeurs</td>\n",
       "      <td>6557</td>\n",
       "      <td>0</td>\n",
       "      <td>NaN</td>\n",
       "      <td>/</td>\n",
       "    </tr>\n",
       "    <tr>\n",
       "      <th>118</th>\n",
       "      <td>GHT SUD YONNE HAUT-NIVERNAIS</td>\n",
       "      <td>S03</td>\n",
       "      <td>Chimiothérapie pour aff. Non tumorale</td>\n",
       "      <td>1046</td>\n",
       "      <td>#REF!</td>\n",
       "      <td>NaN</td>\n",
       "      <td>/</td>\n",
       "    </tr>\n",
       "    <tr>\n",
       "      <th>119</th>\n",
       "      <td>GHT SUD YONNE HAUT-NIVERNAIS</td>\n",
       "      <td>S05</td>\n",
       "      <td>Transfusions</td>\n",
       "      <td>575</td>\n",
       "      <td>0</td>\n",
       "      <td>NaN</td>\n",
       "      <td>/</td>\n",
       "    </tr>\n",
       "    <tr>\n",
       "      <th>120</th>\n",
       "      <td>GHT SUD YONNE HAUT-NIVERNAIS</td>\n",
       "      <td>S06</td>\n",
       "      <td>Aphérèse</td>\n",
       "      <td>212</td>\n",
       "      <td>0</td>\n",
       "      <td>NaN</td>\n",
       "      <td>NaN</td>\n",
       "    </tr>\n",
       "    <tr>\n",
       "      <th>192</th>\n",
       "      <td>GHT CÔTE D'OR - HAUTE MARNE</td>\n",
       "      <td>S01</td>\n",
       "      <td>Dialyse</td>\n",
       "      <td>16268</td>\n",
       "      <td>0</td>\n",
       "      <td>NaN</td>\n",
       "      <td>/</td>\n",
       "    </tr>\n",
       "    <tr>\n",
       "      <th>193</th>\n",
       "      <td>GHT CÔTE D'OR - HAUTE MARNE</td>\n",
       "      <td>S02</td>\n",
       "      <td>Chimiothérapie pour tumeurs</td>\n",
       "      <td>18615</td>\n",
       "      <td>0</td>\n",
       "      <td>NaN</td>\n",
       "      <td>/</td>\n",
       "    </tr>\n",
       "    <tr>\n",
       "      <th>194</th>\n",
       "      <td>GHT CÔTE D'OR - HAUTE MARNE</td>\n",
       "      <td>S03</td>\n",
       "      <td>Chimiothérapie pour aff. Non tumorale</td>\n",
       "      <td>6171</td>\n",
       "      <td>0</td>\n",
       "      <td>NaN</td>\n",
       "      <td>/</td>\n",
       "    </tr>\n",
       "    <tr>\n",
       "      <th>195</th>\n",
       "      <td>GHT CÔTE D'OR - HAUTE MARNE</td>\n",
       "      <td>S05</td>\n",
       "      <td>Transfusions</td>\n",
       "      <td>3636</td>\n",
       "      <td>0</td>\n",
       "      <td>NaN</td>\n",
       "      <td>/</td>\n",
       "    </tr>\n",
       "    <tr>\n",
       "      <th>196</th>\n",
       "      <td>GHT CÔTE D'OR - HAUTE MARNE</td>\n",
       "      <td>S06</td>\n",
       "      <td>Aphérèse</td>\n",
       "      <td>164</td>\n",
       "      <td>0</td>\n",
       "      <td>NaN</td>\n",
       "      <td>/</td>\n",
       "    </tr>\n",
       "    <tr>\n",
       "      <th>256</th>\n",
       "      <td>GHT SUD CÔTE-D'OR</td>\n",
       "      <td>S01</td>\n",
       "      <td>Dialyse</td>\n",
       "      <td>9356</td>\n",
       "      <td>0</td>\n",
       "      <td>NaN</td>\n",
       "      <td>/</td>\n",
       "    </tr>\n",
       "    <tr>\n",
       "      <th>257</th>\n",
       "      <td>GHT SUD CÔTE-D'OR</td>\n",
       "      <td>S02</td>\n",
       "      <td>Chimiothérapie pour tumeurs</td>\n",
       "      <td>4277</td>\n",
       "      <td>0</td>\n",
       "      <td>NaN</td>\n",
       "      <td>/</td>\n",
       "    </tr>\n",
       "    <tr>\n",
       "      <th>258</th>\n",
       "      <td>GHT SUD CÔTE-D'OR</td>\n",
       "      <td>S03</td>\n",
       "      <td>Chimiothérapie pour aff. Non tumorale</td>\n",
       "      <td>1881</td>\n",
       "      <td>0</td>\n",
       "      <td>NaN</td>\n",
       "      <td>/</td>\n",
       "    </tr>\n",
       "    <tr>\n",
       "      <th>259</th>\n",
       "      <td>GHT SUD CÔTE-D'OR</td>\n",
       "      <td>S05</td>\n",
       "      <td>Transfusions</td>\n",
       "      <td>874</td>\n",
       "      <td>0</td>\n",
       "      <td>NaN</td>\n",
       "      <td>/</td>\n",
       "    </tr>\n",
       "    <tr>\n",
       "      <th>316</th>\n",
       "      <td>GHT DE LA NIEVRE</td>\n",
       "      <td>S01</td>\n",
       "      <td>Dialyse</td>\n",
       "      <td>14766</td>\n",
       "      <td>0</td>\n",
       "      <td>NaN</td>\n",
       "      <td>/</td>\n",
       "    </tr>\n",
       "    <tr>\n",
       "      <th>317</th>\n",
       "      <td>GHT DE LA NIEVRE</td>\n",
       "      <td>S02</td>\n",
       "      <td>Chimiothérapie pour tumeurs</td>\n",
       "      <td>3928</td>\n",
       "      <td>0</td>\n",
       "      <td>NaN</td>\n",
       "      <td>/</td>\n",
       "    </tr>\n",
       "    <tr>\n",
       "      <th>318</th>\n",
       "      <td>GHT DE LA NIEVRE</td>\n",
       "      <td>S03</td>\n",
       "      <td>Chimiothérapie pour aff. Non tumorale</td>\n",
       "      <td>1775</td>\n",
       "      <td>0</td>\n",
       "      <td>NaN</td>\n",
       "      <td>/</td>\n",
       "    </tr>\n",
       "    <tr>\n",
       "      <th>319</th>\n",
       "      <td>GHT DE LA NIEVRE</td>\n",
       "      <td>S05</td>\n",
       "      <td>Transfusions</td>\n",
       "      <td>865</td>\n",
       "      <td>0</td>\n",
       "      <td>NaN</td>\n",
       "      <td>/</td>\n",
       "    </tr>\n",
       "    <tr>\n",
       "      <th>320</th>\n",
       "      <td>GHT DE LA NIEVRE</td>\n",
       "      <td>S06</td>\n",
       "      <td>Aphérèse</td>\n",
       "      <td>17</td>\n",
       "      <td>0</td>\n",
       "      <td>NaN</td>\n",
       "      <td>/</td>\n",
       "    </tr>\n",
       "    <tr>\n",
       "      <th>372</th>\n",
       "      <td>GHT NORD-YONNE</td>\n",
       "      <td>S01</td>\n",
       "      <td>Dialyse</td>\n",
       "      <td>7278</td>\n",
       "      <td>0</td>\n",
       "      <td>NaN</td>\n",
       "      <td>/</td>\n",
       "    </tr>\n",
       "    <tr>\n",
       "      <th>373</th>\n",
       "      <td>GHT NORD-YONNE</td>\n",
       "      <td>S02</td>\n",
       "      <td>Chimiothérapie pour tumeurs</td>\n",
       "      <td>3537</td>\n",
       "      <td>0</td>\n",
       "      <td>NaN</td>\n",
       "      <td>/</td>\n",
       "    </tr>\n",
       "    <tr>\n",
       "      <th>374</th>\n",
       "      <td>GHT NORD-YONNE</td>\n",
       "      <td>S03</td>\n",
       "      <td>Chimiothérapie pour aff. Non tumorale</td>\n",
       "      <td>658</td>\n",
       "      <td>0</td>\n",
       "      <td>NaN</td>\n",
       "      <td>/</td>\n",
       "    </tr>\n",
       "    <tr>\n",
       "      <th>375</th>\n",
       "      <td>GHT NORD-YONNE</td>\n",
       "      <td>S05</td>\n",
       "      <td>Transfusions</td>\n",
       "      <td>454</td>\n",
       "      <td>0</td>\n",
       "      <td>NaN</td>\n",
       "      <td>/</td>\n",
       "    </tr>\n",
       "  </tbody>\n",
       "</table>\n",
       "</div>"
      ],
      "text/plain": [
       "                              nom_ght code  \\\n",
       "58   GHT SÂONE-ET-LOIRE BRESSE MORVAN  S01   \n",
       "59   GHT SÂONE-ET-LOIRE BRESSE MORVAN  S02   \n",
       "60   GHT SÂONE-ET-LOIRE BRESSE MORVAN  S03   \n",
       "61   GHT SÂONE-ET-LOIRE BRESSE MORVAN  S05   \n",
       "116      GHT SUD YONNE HAUT-NIVERNAIS  S01   \n",
       "117      GHT SUD YONNE HAUT-NIVERNAIS  S02   \n",
       "118      GHT SUD YONNE HAUT-NIVERNAIS  S03   \n",
       "119      GHT SUD YONNE HAUT-NIVERNAIS  S05   \n",
       "120      GHT SUD YONNE HAUT-NIVERNAIS  S06   \n",
       "192       GHT CÔTE D'OR - HAUTE MARNE  S01   \n",
       "193       GHT CÔTE D'OR - HAUTE MARNE  S02   \n",
       "194       GHT CÔTE D'OR - HAUTE MARNE  S03   \n",
       "195       GHT CÔTE D'OR - HAUTE MARNE  S05   \n",
       "196       GHT CÔTE D'OR - HAUTE MARNE  S06   \n",
       "256                 GHT SUD CÔTE-D'OR  S01   \n",
       "257                 GHT SUD CÔTE-D'OR  S02   \n",
       "258                 GHT SUD CÔTE-D'OR  S03   \n",
       "259                 GHT SUD CÔTE-D'OR  S05   \n",
       "316                  GHT DE LA NIEVRE  S01   \n",
       "317                  GHT DE LA NIEVRE  S02   \n",
       "318                  GHT DE LA NIEVRE  S03   \n",
       "319                  GHT DE LA NIEVRE  S05   \n",
       "320                  GHT DE LA NIEVRE  S06   \n",
       "372                    GHT NORD-YONNE  S01   \n",
       "373                    GHT NORD-YONNE  S02   \n",
       "374                    GHT NORD-YONNE  S03   \n",
       "375                    GHT NORD-YONNE  S05   \n",
       "\n",
       "                     groupe_plannification nb_sejour_par_seance nb_jour  \\\n",
       "58                                Dialyse                 13380       0   \n",
       "59             Chimiothérapie pour tumeurs                 9646       0   \n",
       "60   Chimiothérapie pour aff. Non tumorale                 2314       0   \n",
       "61                            Transfusions                 1389       0   \n",
       "116                               Dialyse                  7642       0   \n",
       "117            Chimiothérapie pour tumeurs                 6557       0   \n",
       "118  Chimiothérapie pour aff. Non tumorale                 1046   #REF!   \n",
       "119                           Transfusions                  575       0   \n",
       "120                              Aphérèse                   212       0   \n",
       "192                               Dialyse                 16268       0   \n",
       "193            Chimiothérapie pour tumeurs                18615       0   \n",
       "194  Chimiothérapie pour aff. Non tumorale                 6171       0   \n",
       "195                           Transfusions                 3636       0   \n",
       "196                              Aphérèse                   164       0   \n",
       "256                               Dialyse                  9356       0   \n",
       "257            Chimiothérapie pour tumeurs                 4277       0   \n",
       "258  Chimiothérapie pour aff. Non tumorale                 1881       0   \n",
       "259                           Transfusions                  874       0   \n",
       "316                               Dialyse                 14766       0   \n",
       "317            Chimiothérapie pour tumeurs                 3928       0   \n",
       "318  Chimiothérapie pour aff. Non tumorale                 1775       0   \n",
       "319                           Transfusions                  865       0   \n",
       "320                              Aphérèse                    17       0   \n",
       "372                               Dialyse                  7278       0   \n",
       "373            Chimiothérapie pour tumeurs                 3537       0   \n",
       "374  Chimiothérapie pour aff. Non tumorale                  658       0   \n",
       "375                           Transfusions                  454       0   \n",
       "\n",
       "    transferts_ssr pourcentage  \n",
       "58             NaN           /  \n",
       "59             NaN           /  \n",
       "60             NaN           /  \n",
       "61             NaN           /  \n",
       "116            NaN           /  \n",
       "117            NaN           /  \n",
       "118            NaN           /  \n",
       "119            NaN           /  \n",
       "120            NaN         NaN  \n",
       "192            NaN           /  \n",
       "193            NaN           /  \n",
       "194            NaN           /  \n",
       "195            NaN           /  \n",
       "196            NaN           /  \n",
       "256            NaN           /  \n",
       "257            NaN           /  \n",
       "258            NaN           /  \n",
       "259            NaN           /  \n",
       "316            NaN           /  \n",
       "317            NaN           /  \n",
       "318            NaN           /  \n",
       "319            NaN           /  \n",
       "320            NaN           /  \n",
       "372            NaN           /  \n",
       "373            NaN           /  \n",
       "374            NaN           /  \n",
       "375            NaN           /  "
      ]
     },
     "execution_count": 62,
     "metadata": {},
     "output_type": "execute_result"
    }
   ],
   "source": [
    "ght.loc[ght.transferts_ssr.isna()]"
   ]
  },
  {
   "cell_type": "code",
   "execution_count": 63,
   "id": "08e92a90",
   "metadata": {},
   "outputs": [
    {
     "data": {
      "text/html": [
       "<div>\n",
       "<style scoped>\n",
       "    .dataframe tbody tr th:only-of-type {\n",
       "        vertical-align: middle;\n",
       "    }\n",
       "\n",
       "    .dataframe tbody tr th {\n",
       "        vertical-align: top;\n",
       "    }\n",
       "\n",
       "    .dataframe thead th {\n",
       "        text-align: right;\n",
       "    }\n",
       "</style>\n",
       "<table border=\"1\" class=\"dataframe\">\n",
       "  <thead>\n",
       "    <tr style=\"text-align: right;\">\n",
       "      <th></th>\n",
       "      <th>nom_ght</th>\n",
       "      <th>etablissement_ssr</th>\n",
       "      <th>categorie</th>\n",
       "      <th>code</th>\n",
       "      <th>groupe_planification</th>\n",
       "      <th>provenance</th>\n",
       "      <th>effectif_entrant</th>\n",
       "      <th>is_in_ght</th>\n",
       "    </tr>\n",
       "  </thead>\n",
       "  <tbody>\n",
       "    <tr>\n",
       "      <th>0</th>\n",
       "      <td>GHT SÂONE-ET-LOIRE BRESSE MORVAN</td>\n",
       "      <td>CH AUTUN SITE LATOUCHE</td>\n",
       "      <td>CH</td>\n",
       "      <td>X08</td>\n",
       "      <td>Pneumologie</td>\n",
       "      <td>CH AUTUN SITE PARPAS</td>\n",
       "      <td>30</td>\n",
       "      <td>1.0</td>\n",
       "    </tr>\n",
       "    <tr>\n",
       "      <th>1</th>\n",
       "      <td>GHT SÂONE-ET-LOIRE BRESSE MORVAN</td>\n",
       "      <td>CH AUTUN SITE LATOUCHE</td>\n",
       "      <td>CH</td>\n",
       "      <td>X03</td>\n",
       "      <td>Neurologie</td>\n",
       "      <td>CH AUTUN SITE PARPAS</td>\n",
       "      <td>30</td>\n",
       "      <td>1.0</td>\n",
       "    </tr>\n",
       "    <tr>\n",
       "      <th>2</th>\n",
       "      <td>GHT SÂONE-ET-LOIRE BRESSE MORVAN</td>\n",
       "      <td>CH AUTUN SITE LATOUCHE</td>\n",
       "      <td>CH</td>\n",
       "      <td>X07</td>\n",
       "      <td>Affections Cardio-vasculaires</td>\n",
       "      <td>CH AUTUN SITE PARPAS</td>\n",
       "      <td>16</td>\n",
       "      <td>1.0</td>\n",
       "    </tr>\n",
       "    <tr>\n",
       "      <th>3</th>\n",
       "      <td>GHT SÂONE-ET-LOIRE BRESSE MORVAN</td>\n",
       "      <td>CH AUTUN SITE LATOUCHE</td>\n",
       "      <td>CH</td>\n",
       "      <td>X06</td>\n",
       "      <td>Rhumatologie</td>\n",
       "      <td>CH AUTUN SITE PARPAS</td>\n",
       "      <td>12</td>\n",
       "      <td>1.0</td>\n",
       "    </tr>\n",
       "    <tr>\n",
       "      <th>4</th>\n",
       "      <td>GHT SÂONE-ET-LOIRE BRESSE MORVAN</td>\n",
       "      <td>CENTRE ORTHOPEDIQUE MEDICO-CHIR</td>\n",
       "      <td>Privé</td>\n",
       "      <td>C09</td>\n",
       "      <td>Chir. majeure de l'app. Locomoteur:\\n hanche, ...</td>\n",
       "      <td>CH WILLIAM MOREY CHALON SUR SAONE</td>\n",
       "      <td>78</td>\n",
       "      <td>1.0</td>\n",
       "    </tr>\n",
       "    <tr>\n",
       "      <th>...</th>\n",
       "      <td>...</td>\n",
       "      <td>...</td>\n",
       "      <td>...</td>\n",
       "      <td>...</td>\n",
       "      <td>...</td>\n",
       "      <td>...</td>\n",
       "      <td>...</td>\n",
       "      <td>...</td>\n",
       "    </tr>\n",
       "    <tr>\n",
       "      <th>409</th>\n",
       "      <td>NONE</td>\n",
       "      <td>HOTEL-DIEU DU CREUSOT</td>\n",
       "      <td>PSPH/EBNL</td>\n",
       "      <td>X06</td>\n",
       "      <td>Rhumatologie</td>\n",
       "      <td>HOTEL-DIEU DU CREUSOT</td>\n",
       "      <td>19</td>\n",
       "      <td>0.0</td>\n",
       "    </tr>\n",
       "    <tr>\n",
       "      <th>410</th>\n",
       "      <td>NONE</td>\n",
       "      <td>HOTEL-DIEU DU CREUSOT</td>\n",
       "      <td>PSPH/EBNL</td>\n",
       "      <td>X07</td>\n",
       "      <td>Affection cardio-vasculaire</td>\n",
       "      <td>HOTEL-DIEU DU CREUSOT</td>\n",
       "      <td>19</td>\n",
       "      <td>0.0</td>\n",
       "    </tr>\n",
       "    <tr>\n",
       "      <th>411</th>\n",
       "      <td>NONE</td>\n",
       "      <td>HOTEL-DIEU DU CREUSOT</td>\n",
       "      <td>PSPH/EBNL</td>\n",
       "      <td>X03</td>\n",
       "      <td>Neurologie médicale</td>\n",
       "      <td>HOTEL-DIEU DU CREUSOT</td>\n",
       "      <td>11</td>\n",
       "      <td>0.0</td>\n",
       "    </tr>\n",
       "    <tr>\n",
       "      <th>412</th>\n",
       "      <td>NONE</td>\n",
       "      <td>CH JEAN BOUVERI</td>\n",
       "      <td>CH</td>\n",
       "      <td>C09</td>\n",
       "      <td>Chir. majeure de l'app. Locomoteur:\\n hanche, ...</td>\n",
       "      <td>HOTEL-DIEU DU CREUSOT</td>\n",
       "      <td>21</td>\n",
       "      <td>0.0</td>\n",
       "    </tr>\n",
       "    <tr>\n",
       "      <th>413</th>\n",
       "      <td>NONE</td>\n",
       "      <td>CH DE LA GUICHE</td>\n",
       "      <td>CH</td>\n",
       "      <td>X08</td>\n",
       "      <td>Pneumologie</td>\n",
       "      <td>HOTEL-DIEU DU CREUSOT</td>\n",
       "      <td>20</td>\n",
       "      <td>0.0</td>\n",
       "    </tr>\n",
       "  </tbody>\n",
       "</table>\n",
       "<p>414 rows × 8 columns</p>\n",
       "</div>"
      ],
      "text/plain": [
       "                              nom_ght                etablissement_ssr  \\\n",
       "0    GHT SÂONE-ET-LOIRE BRESSE MORVAN           CH AUTUN SITE LATOUCHE   \n",
       "1    GHT SÂONE-ET-LOIRE BRESSE MORVAN           CH AUTUN SITE LATOUCHE   \n",
       "2    GHT SÂONE-ET-LOIRE BRESSE MORVAN           CH AUTUN SITE LATOUCHE   \n",
       "3    GHT SÂONE-ET-LOIRE BRESSE MORVAN           CH AUTUN SITE LATOUCHE   \n",
       "4    GHT SÂONE-ET-LOIRE BRESSE MORVAN  CENTRE ORTHOPEDIQUE MEDICO-CHIR   \n",
       "..                                ...                              ...   \n",
       "409                              NONE            HOTEL-DIEU DU CREUSOT   \n",
       "410                              NONE            HOTEL-DIEU DU CREUSOT   \n",
       "411                              NONE            HOTEL-DIEU DU CREUSOT   \n",
       "412                              NONE                  CH JEAN BOUVERI   \n",
       "413                              NONE                  CH DE LA GUICHE   \n",
       "\n",
       "     categorie  code                               groupe_planification  \\\n",
       "0           CH   X08                                       Pneumologie    \n",
       "1           CH   X03                                        Neurologie    \n",
       "2           CH   X07                     Affections Cardio-vasculaires    \n",
       "3           CH   X06                                      Rhumatologie    \n",
       "4        Privé   C09  Chir. majeure de l'app. Locomoteur:\\n hanche, ...   \n",
       "..         ...   ...                                                ...   \n",
       "409  PSPH/EBNL   X06                                      Rhumatologie    \n",
       "410  PSPH/EBNL  X07                        Affection cardio-vasculaire    \n",
       "411  PSPH/EBNL   X03                                Neurologie médicale   \n",
       "412         CH  C09   Chir. majeure de l'app. Locomoteur:\\n hanche, ...   \n",
       "413         CH   X08                                       Pneumologie    \n",
       "\n",
       "                            provenance  effectif_entrant  is_in_ght  \n",
       "0                 CH AUTUN SITE PARPAS                30        1.0  \n",
       "1                 CH AUTUN SITE PARPAS                30        1.0  \n",
       "2                 CH AUTUN SITE PARPAS                16        1.0  \n",
       "3                 CH AUTUN SITE PARPAS                12        1.0  \n",
       "4    CH WILLIAM MOREY CHALON SUR SAONE                78        1.0  \n",
       "..                                 ...               ...        ...  \n",
       "409              HOTEL-DIEU DU CREUSOT                19        0.0  \n",
       "410              HOTEL-DIEU DU CREUSOT                19        0.0  \n",
       "411              HOTEL-DIEU DU CREUSOT                11        0.0  \n",
       "412              HOTEL-DIEU DU CREUSOT                21        0.0  \n",
       "413              HOTEL-DIEU DU CREUSOT                20        0.0  \n",
       "\n",
       "[414 rows x 8 columns]"
      ]
     },
     "execution_count": 63,
     "metadata": {},
     "output_type": "execute_result"
    }
   ],
   "source": [
    "ssr"
   ]
  },
  {
   "cell_type": "markdown",
   "id": "2e382c07",
   "metadata": {},
   "source": [
    "ssr.groupby('nom_ght')"
   ]
  },
  {
   "cell_type": "code",
   "execution_count": 70,
   "id": "3536c2f8",
   "metadata": {},
   "outputs": [
    {
     "data": {
      "text/plain": [
       "nom_ght\n",
       "GHT BOURGOGNE MÉRIDIONALE           1887\n",
       "GHT CÔTE D'OR - HAUTE MARNE         2644\n",
       "GHT DE LA NIÈVRE                     953\n",
       "GHT SUD CÔTE-D'OR                    318\n",
       "GHT SUD YONNE HAUT-NIVERNAIS        1286\n",
       "GHT SÂONE-ET-LOIRE BRESSE MORVAN    1491\n",
       "GHT  NORD-YONNE                      813\n",
       "NONE                                2233\n",
       "Name: effectif_entrant, dtype: int64"
      ]
     },
     "execution_count": 70,
     "metadata": {},
     "output_type": "execute_result"
    }
   ],
   "source": [
    "ssr.groupby('nom_ght')['effectif_entrant'].sum()"
   ]
  },
  {
   "cell_type": "code",
   "execution_count": 75,
   "id": "948aa920",
   "metadata": {},
   "outputs": [
    {
     "data": {
      "text/html": [
       "<div>\n",
       "<style scoped>\n",
       "    .dataframe tbody tr th:only-of-type {\n",
       "        vertical-align: middle;\n",
       "    }\n",
       "\n",
       "    .dataframe tbody tr th {\n",
       "        vertical-align: top;\n",
       "    }\n",
       "\n",
       "    .dataframe thead th {\n",
       "        text-align: right;\n",
       "    }\n",
       "</style>\n",
       "<table border=\"1\" class=\"dataframe\">\n",
       "  <thead>\n",
       "    <tr style=\"text-align: right;\">\n",
       "      <th></th>\n",
       "      <th>finess</th>\n",
       "      <th>etablissement</th>\n",
       "      <th>categorie</th>\n",
       "      <th>provenance</th>\n",
       "      <th>nb_transferts</th>\n",
       "    </tr>\n",
       "  </thead>\n",
       "  <tbody>\n",
       "    <tr>\n",
       "      <th>0</th>\n",
       "      <td>710978248</td>\n",
       "      <td>CH AUTUN SITE LATOUCHE</td>\n",
       "      <td>CH</td>\n",
       "      <td>CH AUTUN SITE PARPAS</td>\n",
       "      <td>155</td>\n",
       "    </tr>\n",
       "    <tr>\n",
       "      <th>1</th>\n",
       "      <td>580780187</td>\n",
       "      <td>CLINIQUE DU MORVAN SA</td>\n",
       "      <td>PRIVÉ</td>\n",
       "      <td>CH AUTUN SITE PARPAS</td>\n",
       "      <td>48</td>\n",
       "    </tr>\n",
       "    <tr>\n",
       "      <th>2</th>\n",
       "      <td>580780187</td>\n",
       "      <td>CLINIQUE DU MORVAN SA</td>\n",
       "      <td>PRIVÉ</td>\n",
       "      <td>CH DECIZE</td>\n",
       "      <td>34</td>\n",
       "    </tr>\n",
       "    <tr>\n",
       "      <th>3</th>\n",
       "      <td>580780187</td>\n",
       "      <td>CLINIQUE DU MORVAN SA</td>\n",
       "      <td>PRIVÉ</td>\n",
       "      <td>HÔPITAL PIERRE BEREGOVOY</td>\n",
       "      <td>16</td>\n",
       "    </tr>\n",
       "    <tr>\n",
       "      <th>4</th>\n",
       "      <td>710002288</td>\n",
       "      <td>SSR MARGUERITE BOUCICAUT</td>\n",
       "      <td>PRIVÉ</td>\n",
       "      <td>CH AUTUN SITE PARPAS</td>\n",
       "      <td>21</td>\n",
       "    </tr>\n",
       "    <tr>\n",
       "      <th>...</th>\n",
       "      <td>...</td>\n",
       "      <td>...</td>\n",
       "      <td>...</td>\n",
       "      <td>...</td>\n",
       "      <td>...</td>\n",
       "    </tr>\n",
       "    <tr>\n",
       "      <th>141</th>\n",
       "      <td>890975543</td>\n",
       "      <td>CH JOIGNY</td>\n",
       "      <td>CH</td>\n",
       "      <td>CH JOIGNY</td>\n",
       "      <td>149</td>\n",
       "    </tr>\n",
       "    <tr>\n",
       "      <th>142</th>\n",
       "      <td>100007285</td>\n",
       "      <td>CRF INSTITUT ASCLEPIADE</td>\n",
       "      <td>PRIVÉ</td>\n",
       "      <td>CH SENS</td>\n",
       "      <td>37</td>\n",
       "    </tr>\n",
       "    <tr>\n",
       "      <th>143</th>\n",
       "      <td>100010362</td>\n",
       "      <td>GCS PLAT AVAL TERR CHAMP SUD CRF PAST</td>\n",
       "      <td>PRIVÉ</td>\n",
       "      <td>CH SENS</td>\n",
       "      <td>19</td>\n",
       "    </tr>\n",
       "    <tr>\n",
       "      <th>144</th>\n",
       "      <td>450000526</td>\n",
       "      <td>CMPR L'A.D.A.P.T. LOIRET</td>\n",
       "      <td>PSPH/EBNL</td>\n",
       "      <td>CH SENS</td>\n",
       "      <td>14</td>\n",
       "    </tr>\n",
       "    <tr>\n",
       "      <th>145</th>\n",
       "      <td>100010933</td>\n",
       "      <td>GCS PATCS CRRF PASTEUR 2</td>\n",
       "      <td>PRIVÉ</td>\n",
       "      <td>CH SENS</td>\n",
       "      <td>13</td>\n",
       "    </tr>\n",
       "  </tbody>\n",
       "</table>\n",
       "<p>146 rows × 5 columns</p>\n",
       "</div>"
      ],
      "text/plain": [
       "        finess                          etablissement  categorie  \\\n",
       "0    710978248                 CH AUTUN SITE LATOUCHE         CH   \n",
       "1    580780187                  CLINIQUE DU MORVAN SA      PRIVÉ   \n",
       "2    580780187                  CLINIQUE DU MORVAN SA      PRIVÉ   \n",
       "3    580780187                  CLINIQUE DU MORVAN SA      PRIVÉ   \n",
       "4    710002288               SSR MARGUERITE BOUCICAUT      PRIVÉ   \n",
       "..         ...                                    ...        ...   \n",
       "141  890975543                              CH JOIGNY         CH   \n",
       "142  100007285                CRF INSTITUT ASCLEPIADE      PRIVÉ   \n",
       "143  100010362  GCS PLAT AVAL TERR CHAMP SUD CRF PAST      PRIVÉ   \n",
       "144  450000526               CMPR L'A.D.A.P.T. LOIRET  PSPH/EBNL   \n",
       "145  100010933               GCS PATCS CRRF PASTEUR 2      PRIVÉ   \n",
       "\n",
       "                   provenance  nb_transferts  \n",
       "0        CH AUTUN SITE PARPAS            155  \n",
       "1        CH AUTUN SITE PARPAS             48  \n",
       "2                   CH DECIZE             34  \n",
       "3    HÔPITAL PIERRE BEREGOVOY             16  \n",
       "4        CH AUTUN SITE PARPAS             21  \n",
       "..                        ...            ...  \n",
       "141                 CH JOIGNY            149  \n",
       "142                   CH SENS             37  \n",
       "143                   CH SENS             19  \n",
       "144                   CH SENS             14  \n",
       "145                   CH SENS             13  \n",
       "\n",
       "[146 rows x 5 columns]"
      ]
     },
     "execution_count": 75,
     "metadata": {},
     "output_type": "execute_result"
    }
   ],
   "source": [
    "check"
   ]
  },
  {
   "cell_type": "code",
   "execution_count": 107,
   "id": "ffddc0a2",
   "metadata": {},
   "outputs": [],
   "source": [
    "check_etab = pd.concat([check['etablissement'].drop_duplicates(), check['provenance'].drop_duplicates()])\n",
    "check_etab = check_etab.drop_duplicates()"
   ]
  },
  {
   "cell_type": "markdown",
   "id": "cb41fcc8",
   "metadata": {},
   "source": [
    "coord"
   ]
  },
  {
   "cell_type": "code",
   "execution_count": 114,
   "id": "464d06c3",
   "metadata": {},
   "outputs": [
    {
     "data": {
      "text/plain": [
       "83"
      ]
     },
     "execution_count": 114,
     "metadata": {},
     "output_type": "execute_result"
    }
   ],
   "source": [
    "check_etab.count()"
   ]
  },
  {
   "cell_type": "code",
   "execution_count": 116,
   "id": "9ce11e57",
   "metadata": {},
   "outputs": [],
   "source": [
    "x = check_etab[check_etab.isin(coord_etab)==False]"
   ]
  },
  {
   "cell_type": "code",
   "execution_count": 118,
   "id": "b04aa224",
   "metadata": {},
   "outputs": [
    {
     "data": {
      "text/plain": [
       "'CH REG UNIVERSITAIRE DIJ'"
      ]
     },
     "execution_count": 118,
     "metadata": {},
     "output_type": "execute_result"
    }
   ],
   "source": [
    "x[74]"
   ]
  },
  {
   "cell_type": "code",
   "execution_count": 120,
   "id": "23be3387",
   "metadata": {},
   "outputs": [
    {
     "data": {
      "text/plain": [
       "48                           CH DU TONNERROIS\n",
       "74                   CH REG UNIVERSITAIRE DIJ\n",
       "80                      SA MAISON DE JOUVENCE\n",
       "89                         C.R.B. LES ROSIERS\n",
       "96              CENTRE MÉDICAL LA GRANGE/MONT\n",
       "99                    SARL JOUVENCE NUTRITION\n",
       "102                        CH DE BAR SUR AUBE\n",
       "103                      HÔPITAL DE JOINVILLE\n",
       "105                 CLINIQUE DE LA COMPASSION\n",
       "106                 CH DE BOURBONNE-LES-BAINS\n",
       "7                        CHRU LE BOCAGE DIJON\n",
       "38                           CH LA CHARTREUSE\n",
       "73                         CH ROBERT MORLEVAT\n",
       "121    CH PAYS CHAROLAIS BRIONNAIS LA CLAYETT\n",
       "dtype: object"
      ]
     },
     "execution_count": 120,
     "metadata": {},
     "output_type": "execute_result"
    }
   ],
   "source": [
    "x"
   ]
  },
  {
   "cell_type": "code",
   "execution_count": 122,
   "id": "e52a1f0f",
   "metadata": {},
   "outputs": [
    {
     "data": {
      "text/plain": [
       "'CH DU TONNERROIS'"
      ]
     },
     "execution_count": 122,
     "metadata": {},
     "output_type": "execute_result"
    }
   ],
   "source": [
    "x[48]"
   ]
  },
  {
   "cell_type": "code",
   "execution_count": 125,
   "id": "419e580b",
   "metadata": {},
   "outputs": [
    {
     "data": {
      "text/plain": [
       "'CH DU TONNEROIS'"
      ]
     },
     "execution_count": 125,
     "metadata": {},
     "output_type": "execute_result"
    }
   ],
   "source": [
    "coord_etab[28]"
   ]
  },
  {
   "cell_type": "code",
   "execution_count": null,
   "id": "9ed79e02",
   "metadata": {},
   "outputs": [],
   "source": []
  }
 ],
 "metadata": {
  "kernelspec": {
   "display_name": "bokeh-tuto",
   "language": "python",
   "name": "bokeh-tuto"
  },
  "language_info": {
   "codemirror_mode": {
    "name": "ipython",
    "version": 3
   },
   "file_extension": ".py",
   "mimetype": "text/x-python",
   "name": "python",
   "nbconvert_exporter": "python",
   "pygments_lexer": "ipython3",
   "version": "3.8.10"
  }
 },
 "nbformat": 4,
 "nbformat_minor": 5
}
