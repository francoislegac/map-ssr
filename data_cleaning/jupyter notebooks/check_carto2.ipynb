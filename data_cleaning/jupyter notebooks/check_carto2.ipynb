{
 "cells": [
  {
   "cell_type": "code",
   "execution_count": 407,
   "id": "aa1b7755",
   "metadata": {},
   "outputs": [],
   "source": [
    "import pandas as pd\n",
    "import numpy as np"
   ]
  },
  {
   "cell_type": "code",
   "execution_count": 408,
   "id": "a3d9dfa8",
   "metadata": {},
   "outputs": [],
   "source": [
    "r = 'data2/'\n",
    "flux1 = pd.read_csv(r + 'flux1.csv', sep=';', encoding='cp1252')\n",
    "flux2 = pd.read_csv(r + 'flux2.csv', sep=';', encoding='cp1252')"
   ]
  },
  {
   "cell_type": "code",
   "execution_count": 409,
   "id": "b6fb4625",
   "metadata": {},
   "outputs": [
    {
     "data": {
      "text/html": [
       "<div>\n",
       "<style scoped>\n",
       "    .dataframe tbody tr th:only-of-type {\n",
       "        vertical-align: middle;\n",
       "    }\n",
       "\n",
       "    .dataframe tbody tr th {\n",
       "        vertical-align: top;\n",
       "    }\n",
       "\n",
       "    .dataframe thead th {\n",
       "        text-align: right;\n",
       "    }\n",
       "</style>\n",
       "<table border=\"1\" class=\"dataframe\">\n",
       "  <thead>\n",
       "    <tr style=\"text-align: right;\">\n",
       "      <th></th>\n",
       "      <th>Etablissement SSR</th>\n",
       "      <th>Catégorie</th>\n",
       "      <th>Code</th>\n",
       "      <th>Groupe planification</th>\n",
       "      <th>Provenance</th>\n",
       "      <th>Effectif</th>\n",
       "    </tr>\n",
       "  </thead>\n",
       "  <tbody>\n",
       "    <tr>\n",
       "      <th>0</th>\n",
       "      <td>CH AUTUN SITE LATOUCHE</td>\n",
       "      <td>CH</td>\n",
       "      <td>X08</td>\n",
       "      <td>Pneumologie</td>\n",
       "      <td>CH AUTUN SITE PARPAS</td>\n",
       "      <td>30</td>\n",
       "    </tr>\n",
       "    <tr>\n",
       "      <th>1</th>\n",
       "      <td>CH AUTUN SITE LATOUCHE</td>\n",
       "      <td>CH</td>\n",
       "      <td>X03</td>\n",
       "      <td>Neurologie médicale</td>\n",
       "      <td>CH AUTUN SITE PARPAS</td>\n",
       "      <td>30</td>\n",
       "    </tr>\n",
       "    <tr>\n",
       "      <th>2</th>\n",
       "      <td>CH AUTUN SITE LATOUCHE</td>\n",
       "      <td>CH</td>\n",
       "      <td>X07</td>\n",
       "      <td>Affections Cardio-vasculaires</td>\n",
       "      <td>CH AUTUN SITE PARPAS</td>\n",
       "      <td>16</td>\n",
       "    </tr>\n",
       "  </tbody>\n",
       "</table>\n",
       "</div>"
      ],
      "text/plain": [
       "       Etablissement SSR  Catégorie  Code            Groupe planification   \\\n",
       "0  CH AUTUN SITE LATOUCHE         CH   X08                    Pneumologie    \n",
       "1  CH AUTUN SITE LATOUCHE         CH   X03             Neurologie médicale   \n",
       "2  CH AUTUN SITE LATOUCHE         CH   X07  Affections Cardio-vasculaires    \n",
       "\n",
       "            Provenance   Effectif   \n",
       "0  CH AUTUN SITE PARPAS         30  \n",
       "1  CH AUTUN SITE PARPAS         30  \n",
       "2  CH AUTUN SITE PARPAS         16  "
      ]
     },
     "execution_count": 409,
     "metadata": {},
     "output_type": "execute_result"
    }
   ],
   "source": [
    "flux1.head(n=3)"
   ]
  },
  {
   "cell_type": "code",
   "execution_count": 410,
   "id": "d56296bf",
   "metadata": {},
   "outputs": [
    {
     "data": {
      "text/html": [
       "<div>\n",
       "<style scoped>\n",
       "    .dataframe tbody tr th:only-of-type {\n",
       "        vertical-align: middle;\n",
       "    }\n",
       "\n",
       "    .dataframe tbody tr th {\n",
       "        vertical-align: top;\n",
       "    }\n",
       "\n",
       "    .dataframe thead th {\n",
       "        text-align: right;\n",
       "    }\n",
       "</style>\n",
       "<table border=\"1\" class=\"dataframe\">\n",
       "  <thead>\n",
       "    <tr style=\"text-align: right;\">\n",
       "      <th></th>\n",
       "      <th>Finess</th>\n",
       "      <th>Raison sociale</th>\n",
       "      <th>Catégorie</th>\n",
       "      <th>Provenance</th>\n",
       "      <th>Nb de transferts</th>\n",
       "    </tr>\n",
       "  </thead>\n",
       "  <tbody>\n",
       "    <tr>\n",
       "      <th>0</th>\n",
       "      <td>710978248</td>\n",
       "      <td>CH AUTUN SITE LATOUCHE</td>\n",
       "      <td>CH</td>\n",
       "      <td>CH AUTUN SITE PARPAS</td>\n",
       "      <td>155</td>\n",
       "    </tr>\n",
       "    <tr>\n",
       "      <th>1</th>\n",
       "      <td>710978248</td>\n",
       "      <td>CH AUTUN SITE LATOUCHE</td>\n",
       "      <td>CH</td>\n",
       "      <td>CLINIQUE DU PARC</td>\n",
       "      <td>11</td>\n",
       "    </tr>\n",
       "    <tr>\n",
       "      <th>2</th>\n",
       "      <td>580780187</td>\n",
       "      <td>CLINIQUE DU MORVAN SA</td>\n",
       "      <td>Privé</td>\n",
       "      <td>CH AUTUN SITE PARPAS</td>\n",
       "      <td>48</td>\n",
       "    </tr>\n",
       "  </tbody>\n",
       "</table>\n",
       "</div>"
      ],
      "text/plain": [
       "      Finess          Raison sociale Catégorie           Provenance   \\\n",
       "0  710978248  CH AUTUN SITE LATOUCHE        CH  CH AUTUN SITE PARPAS   \n",
       "1  710978248  CH AUTUN SITE LATOUCHE        CH     CLINIQUE DU PARC    \n",
       "2  580780187   CLINIQUE DU MORVAN SA     Privé  CH AUTUN SITE PARPAS   \n",
       "\n",
       "   Nb de transferts  \n",
       "0               155  \n",
       "1                11  \n",
       "2                48  "
      ]
     },
     "execution_count": 410,
     "metadata": {},
     "output_type": "execute_result"
    }
   ],
   "source": [
    "flux2.head(n=3)"
   ]
  },
  {
   "cell_type": "markdown",
   "id": "ebf7ea05",
   "metadata": {},
   "source": [
    "### renommage vars"
   ]
  },
  {
   "cell_type": "code",
   "execution_count": 411,
   "id": "cd447955",
   "metadata": {},
   "outputs": [],
   "source": [
    "flux1.columns = ['etablissement', 'categorie', 'code', 'specialite', 'provenance', 'effectif_transfert']\n",
    "flux2.columns = ['finess', 'etablissement', 'categorie', 'provenance', 'effectif_transfert']"
   ]
  },
  {
   "cell_type": "markdown",
   "id": "e8aefa65",
   "metadata": {},
   "source": [
    "### cleaning strings"
   ]
  },
  {
   "cell_type": "code",
   "execution_count": 558,
   "id": "29620df9",
   "metadata": {},
   "outputs": [],
   "source": [
    "def clean_string(s):\n",
    "    s = s.str.upper()\\\n",
    "    .str.lstrip()\\\n",
    "    .str.rstrip()\\\n",
    "    .str.replace('\\t', '')\\\n",
    "    .str.replace('  ', ' ')\n",
    "    #get ride of accents\n",
    "    s = s.str.normalize('NFKD')\\\n",
    "       .str.encode('ascii', errors='ignore')\\\n",
    "       .str.decode('utf-8')    \n",
    "    return s"
   ]
  },
  {
   "cell_type": "code",
   "execution_count": 559,
   "id": "186ecd84",
   "metadata": {},
   "outputs": [],
   "source": [
    "flux1['etablissement'] = clean_string(flux1['etablissement'])\n",
    "flux1['provenance'] = clean_string(flux1['provenance'])\n",
    "\n",
    "flux2['etablissement'] = clean_string(flux2['etablissement'])\n",
    "flux2['provenance'] = clean_string(flux2['provenance'])"
   ]
  },
  {
   "cell_type": "code",
   "execution_count": 560,
   "id": "9ddbb43e",
   "metadata": {},
   "outputs": [],
   "source": [
    "coord = pd.read_csv('data/new_data/coord.csv', index_col=0)"
   ]
  },
  {
   "cell_type": "code",
   "execution_count": 563,
   "id": "9e3c1169",
   "metadata": {},
   "outputs": [],
   "source": [
    "coord['etablissement'] = clean_string(coord['etablissement'])"
   ]
  },
  {
   "cell_type": "markdown",
   "id": "07b20cfa",
   "metadata": {},
   "source": [
    "### creation table ght + verif etab rattachés aux ghts"
   ]
  },
  {
   "cell_type": "code",
   "execution_count": 566,
   "id": "d573eb2c",
   "metadata": {},
   "outputs": [],
   "source": [
    "hp = pd.read_csv('data/new_data/hp.csv', index_col=0)"
   ]
  },
  {
   "cell_type": "code",
   "execution_count": 567,
   "id": "6a193b86",
   "metadata": {},
   "outputs": [],
   "source": [
    "tmp = hp[['nom_ght', 'etablissement']].drop_duplicates()"
   ]
  },
  {
   "cell_type": "code",
   "execution_count": 568,
   "id": "89bd30a3",
   "metadata": {},
   "outputs": [],
   "source": [
    "tmp['etablissement'] = clean_etab(tmp['etablissement'])"
   ]
  },
  {
   "cell_type": "code",
   "execution_count": 569,
   "id": "2ef1c2f8",
   "metadata": {},
   "outputs": [],
   "source": [
    "tmp['nom_ght'] = clean_etab(tmp['nom_ght'])\n",
    "tmp.loc[tmp.nom_ght == 'GHT \\xa0NORD-YONNE', 'nom_ght'] = 'GHT NORD-YONNE'"
   ]
  },
  {
   "cell_type": "code",
   "execution_count": 571,
   "id": "18f8faaa",
   "metadata": {},
   "outputs": [],
   "source": [
    "tmp['nom_ght'] = clean_string(tmp['nom_ght'])\n",
    "tmp['etablissement'] = clean_string(tmp['etablissement'])"
   ]
  },
  {
   "cell_type": "markdown",
   "id": "307f884e",
   "metadata": {},
   "source": [
    "# 11 GHT bourgogne Franche comté\n",
    "\n",
    "\n",
    "source = https://www.bourgogne-franche-comte.ars.sante.fr/onze-groupements-hospitaliers-de-territoire-en-bourgogne-franche-comte\n",
    "\n",
    "**GHT 21-52 Côte d’Or-Haute-Marne**\n",
    "\n",
    "Chez off mais pas chez ns :\n",
    "\n",
    "- CH Semur-en-Auxois\n",
    "- CH de la Haute Côte d’Or  \n",
    "- CH Auxonne\n",
    "\n",
    "Chez nous mais pas chez rpz officielle :\n",
    "- HÔPITAL LE BOCAGE CHRU DIJON\n",
    "- CH HCO SITE DE CHATILLON SUR SEINE\n",
    "- CH HCO SITE DE MONTBARD\n",
    "- CH HCO SITE DE SAULIEU\n",
    "\n",
    "Ds les 2 : \n",
    "- CHU Dijon (établissement support)  OK\n",
    "- CH La Chartreuse Dijon  OK\n",
    "- CH Is sur Tille OK\n",
    "- CH Chaumont  OK\n",
    "- CH  Langres  OK\n",
    "- CH Bourbonne-les-Bains  OK\n"
   ]
  },
  {
   "cell_type": "markdown",
   "id": "33ea8a05",
   "metadata": {},
   "source": [
    "**GHT de la Nièvre** \n",
    "\n",
    "Chez off mais pas chez ns :\n",
    "- CH de l’Agglomération de Nevers (établissement support) \n",
    "- CH Henri Dunant La Charité sur Loire\n",
    "- CLS de St-Pierre le Moutiers\n",
    "- CLS de Luzy\n",
    "\n",
    "Chez ns mais pas chez off :\n",
    "\n",
    "- HÔPITAL PIERRE BEREGOVOY\n",
    "- CENTRE COLBERT MEDECINE ET SSR\n",
    "\n",
    "\n",
    "Ds les 2 :\n",
    "- CH de Decize,  OK\n",
    "- CH de Cosne-Cours-sur-Loire,   OK\n",
    "- CH de Château Chinon,  OK\n",
    "- CH de Lormes,  OK\n",
    "- CH Pierre Lôo La Charité sur Loire  OK\n"
   ]
  },
  {
   "cell_type": "markdown",
   "id": "8a2d09ee",
   "metadata": {},
   "source": [
    "**GHT de Saône-et-Loire-Bresse-Morvan**\n",
    "\n",
    "Chez off mais pas chez ns :\n",
    "- CH Montceau-les-Mines\n",
    "- CH Les Marronniers Toulon-sur-Arroux\n",
    "- CH La Guiche\n",
    "\n",
    "Chez ns mais pas chez off :\n",
    "- CH JEAN BOUVERI\n",
    "\n",
    "Ds les 2 :\n",
    "- CH William Morey Chalon-sur-Saône (établissement support)  OK\n",
    "- CH Autun OK\n",
    "- CH de la Bresse Louhannaise Louhans OK\n",
    "- CH Chagny  OK\n",
    "- CH Sevrey  OK\n",
    "\n"
   ]
  },
  {
   "cell_type": "markdown",
   "id": "82b45f8c",
   "metadata": {},
   "source": [
    "**GHT de Bourgogne méridionale**\n",
    "\n",
    "chez off mais pas chez ns:\n",
    "- CH Tournus\n",
    "\n",
    "chez ns mais pas chez off:\n",
    "- CH BELNAY\n",
    "\n",
    "ds les 2:\n",
    "- CH Mâcon (établissement support)  OK\n",
    "- CH du Pays Charolais-Brionnais (fusion des CH de Paray-le-Monial, Charolles, La Clayette au 01 01 2020) OK\n",
    "- CH du Clunisois (Cluny-Tramayes) OK\n",
    "- CH Fondation d’Aligre Bourbon-Lancy OK"
   ]
  },
  {
   "cell_type": "markdown",
   "id": "6377dd12",
   "metadata": {},
   "source": [
    "**GHT du Sud Yonne-Haut-Nivernais**\n",
    "\n",
    "Chez off mais pas chez ns :\n",
    "- CHS de l’Yonne\n",
    "\n",
    "Chez ns mais pas chez off :\n",
    "- CHS AUXERRE\n",
    "\n",
    "Ds les 2 :\n",
    "- CH Auxerre (établissement support) OK\n",
    "- CH Avallon OK\n",
    "- CH Clamecy OK\n",
    "- CH Tonnerre OK\n",
    "\n",
    "\n"
   ]
  },
  {
   "cell_type": "markdown",
   "id": "a962835e",
   "metadata": {},
   "source": [
    "**GHT du Nord Yonne**\n",
    "\n",
    "Ds off et pas chez ns :\n",
    "- CH Villeneuve-sur-Yonne\n",
    "\n",
    "Les 2:\n",
    "- CH Sens (établissement support) OK\n",
    "- CH Joigny  OK\n"
   ]
  },
  {
   "cell_type": "markdown",
   "id": "f5f5f9b6",
   "metadata": {},
   "source": [
    "**GHT Sud Côte d’Or** \n",
    "\n",
    "Dans off mais pas chez ns :\n",
    "\n",
    "- EHPAD Auguste Arvier de Bligny sur Ouche\n",
    "- EHPAD Jeanne Pierrette Carnot de Nolay\n",
    "- EHPAD Cordelier de Labergement-les-Seurre\n",
    "- EHPAD La Saône de Saint-Jean-de-Losne\n",
    "\n",
    "Les 2 :\n",
    "- Centre Hospitalier Les Hospices Civils de Beaune (établissement support) OK\n",
    "\n"
   ]
  },
  {
   "cell_type": "markdown",
   "id": "d28952aa",
   "metadata": {},
   "source": [
    "### GHTs manquants \n",
    "\n",
    "On a 7 GHT vs eux 11. \n",
    "Les ghts manquants : \n",
    "\n",
    "- GHT centre Franche-Comté\n",
    "- GHT du Jura\n",
    "- GHT de la Haute-Saône \n",
    "- GHT nord Franche-Comté \n",
    "\n"
   ]
  },
  {
   "cell_type": "code",
   "execution_count": 573,
   "id": "fe346687",
   "metadata": {},
   "outputs": [],
   "source": [
    "flux1_etab = pd.concat([flux1.etablissement, flux1.provenance]).drop_duplicates().sort_values()\n",
    "flux2_etab = pd.concat([flux2.etablissement, flux2.provenance]).drop_duplicates().sort_values()"
   ]
  },
  {
   "cell_type": "code",
   "execution_count": 574,
   "id": "98e832b0",
   "metadata": {},
   "outputs": [
    {
     "name": "stdout",
     "output_type": "stream",
     "text": [
      "78 92\n"
     ]
    }
   ],
   "source": [
    "print(flux1_etab.count(), flux2_etab.count())"
   ]
  },
  {
   "cell_type": "code",
   "execution_count": 575,
   "id": "3dbe3a3b",
   "metadata": {},
   "outputs": [
    {
     "data": {
      "text/plain": [
       "Series([], dtype: object)"
      ]
     },
     "execution_count": 575,
     "metadata": {},
     "output_type": "execute_result"
    }
   ],
   "source": [
    "flux1_etab[flux1_etab.isin(flux2_etab) == False] #6"
   ]
  },
  {
   "cell_type": "code",
   "execution_count": 422,
   "id": "ff4228be",
   "metadata": {},
   "outputs": [],
   "source": [
    "#C.R.B LES ROSIERS, manque le point\n",
    "#CH LES CHANAUX MACON' manque le A\n",
    "#'CH REG UNIVERSITAIRE DIJ' manque le ON\n",
    "# CLINIQUE MEDICO-CHIR manque CHIRURGICALE'\n",
    "#SA MAISON DE JOUVENCE"
   ]
  },
  {
   "cell_type": "markdown",
   "id": "74f7062b",
   "metadata": {},
   "source": [
    "### on se débarasse des discrepancies etablissement (et provenance)\n"
   ]
  },
  {
   "cell_type": "code",
   "execution_count": 576,
   "id": "71387fd7",
   "metadata": {},
   "outputs": [],
   "source": [
    "##C.R.B LES ROSIERS, manque le point\n",
    "tmp.loc[tmp.etablissement == 'C.R.B. LES ROSIERS', 'etablissement']\n",
    "coord.loc[coord.etablissement == 'C.R.B. LES ROSIERS', 'etablissement']\n",
    "flux1.loc[flux1.etablissement == 'C.R.B. LES ROSIERS', 'etablissement']\n",
    "flux2.loc[flux2.etablissement == 'C.R.B. LES ROSIERS', 'etablissement'] = 'C.R.B LES ROSIERS'"
   ]
  },
  {
   "cell_type": "code",
   "execution_count": 577,
   "id": "ba330725",
   "metadata": {},
   "outputs": [],
   "source": [
    "#flux1.loc[flux1.provenance == 'C.R.B. LES ROSIERS', 'provenance']\n",
    "flux2.loc[flux2.provenance == 'C.R.B. LES ROSIERS', 'provenance'] = 'C.R.B LES ROSIERS'"
   ]
  },
  {
   "cell_type": "code",
   "execution_count": 578,
   "id": "87335246",
   "metadata": {},
   "outputs": [],
   "source": [
    "#CH LES CHAUNAUX MACON' => 1er U en trop \n",
    "#tmp.loc[tmp.etablissement == 'CH LES CHANAUX MACON', 'etablissement']\n",
    "#coord.loc[coord.etablissement == 'CH LES CHANAUX MACON', 'etablissement']\n",
    "flux1.loc[flux1.etablissement == 'CH LES CHAUNAUX MACON', 'etablissement'] = 'CH LES CHANAUX MACON'\n",
    "#flux2.loc[flux2.etablissement == 'CH LES CHANAUX MACON', 'etablissement']"
   ]
  },
  {
   "cell_type": "code",
   "execution_count": 579,
   "id": "f024b2e9",
   "metadata": {},
   "outputs": [],
   "source": [
    "flux1.loc[flux1.provenance == 'CH LES CHAUNAUX MACON', 'provenance'] = 'CH LES CHANAUX MACON'\n",
    "flux2.loc[flux2.provenance == 'CH LES CHAUNAUX MACON', 'provenance'] = 'CH LES CHANAUX MACON'"
   ]
  },
  {
   "cell_type": "code",
   "execution_count": 580,
   "id": "f40126a3",
   "metadata": {},
   "outputs": [],
   "source": [
    "#tmp.loc[tmp.etablissement == 'CH REG UNIVERSITAIRE DIJ', 'etablissement']\n",
    "#coord.loc[coord.etablissement == 'CH REG UNIVERSITAIRE DIJ', 'etablissement']\n",
    "#flux1.loc[flux1.etablissement == 'CH REG UNIVERSITAIRE DIJ', 'etablissement']\n",
    "flux2.loc[flux2.etablissement == 'CH REG UNIVERSITAIRE DIJ', 'etablissement'] = 'CH REG UNIVERSITAIRE DIJON'"
   ]
  },
  {
   "cell_type": "code",
   "execution_count": 581,
   "id": "cb696b4e",
   "metadata": {},
   "outputs": [],
   "source": [
    "flux1.loc[flux1.provenance == 'CH REG UNIVERSITAIRE DIJ', 'provenance'] = 'CH REG UNIVERSITAIRE DIJON'\n",
    "flux2.loc[flux2.provenance == 'CH REG UNIVERSITAIRE DIJ', 'provenance'] = 'CH REG UNIVERSITAIRE DIJON'"
   ]
  },
  {
   "cell_type": "code",
   "execution_count": 582,
   "id": "57d864e3",
   "metadata": {},
   "outputs": [],
   "source": [
    "# CLINIQUE MEDICO-CHIR manque CHIRURGICALE'\n",
    "#tmp.loc[tmp.etablissement == 'CLINIQUE MEDICO-CHIRURGICALE', 'etablissement']\n",
    "#coord.loc[coord.etablissement == 'CLINIQUE MEDICO-CHIRURGICALE', 'etablissement']\n",
    "flux1.loc[flux1.etablissement == 'CLINIQUE MEDICO-CHIRURGICALE', 'etablissement']\n",
    "flux2.loc[flux2.etablissement == 'CLINIQUE MEDICO-CHIR', 'etablissement'] = 'CLINIQUE MEDICO-CHIRURGICALE'"
   ]
  },
  {
   "cell_type": "code",
   "execution_count": 583,
   "id": "2863d269",
   "metadata": {},
   "outputs": [],
   "source": [
    "flux1.loc[flux1.provenance == 'CLINIQUE MEDICO-CHIR', 'provenance'] = 'CLINIQUE MEDICO-CHIRURGICALE'\n",
    "flux2.loc[flux2.provenance == 'CLINIQUE MEDICO-CHIR', 'provenance'] = 'CLINIQUE MEDICO-CHIRURGICALE'"
   ]
  },
  {
   "cell_type": "code",
   "execution_count": 584,
   "id": "0fafead2",
   "metadata": {},
   "outputs": [],
   "source": [
    "#CH PAYS CHAROLAIS BRIONNAIS LA CLAYETT\n",
    "flux2.loc[flux2.etablissement == 'CH PAYS CHAROLAIS BRIONNAIS LA CLAYETT', 'etablissement'] = 'CH PAYS CHAROLAIS BRIONNAIS LA CLAYETTE'\n",
    "flux2.loc[flux2.provenance == 'CH PAYS CHAROLAIS BRIONNAIS LA CLAYETT', 'provenance'] = 'CH PAYS CHAROLAIS BRIONNAIS LA CLAYETTE'"
   ]
  },
  {
   "cell_type": "code",
   "execution_count": 585,
   "id": "23435a36",
   "metadata": {},
   "outputs": [],
   "source": [
    "#SA MAISON DE JOUVENCE\n",
    "#tmp.loc[tmp.etablissement == 'SA MAISON DE JOUVENCE', 'etablissement']\n",
    "coord.loc[coord.etablissement == 'SA MAISON JOUVENCE', 'etablissement'] = 'SA MAISON DE JOUVENCE'\n",
    "flux1.loc[flux1.etablissement == 'SA MAISON JOUVENCE', 'etablissement'] = 'SA MAISON DE JOUVENCE'\n",
    "#flux2.loc[flux2.etablissement == 'SA MAISON DE JOUVENCE', 'etablissement']"
   ]
  },
  {
   "cell_type": "code",
   "execution_count": 587,
   "id": "f611c700",
   "metadata": {},
   "outputs": [],
   "source": [
    "r = 'data3/'\n",
    "tmp.to_csv(r + 'ght.csv')\n",
    "coord.to_csv(r + 'coord.csv')\n",
    "flux1.to_csv(r + 'flux1.csv')\n",
    "flux2.to_csv(r + 'flux2.csv')"
   ]
  },
  {
   "cell_type": "markdown",
   "id": "f87577ac",
   "metadata": {},
   "source": [
    "Dans flux2 mais pas dans flux1"
   ]
  },
  {
   "cell_type": "code",
   "execution_count": 441,
   "id": "d2ab3405",
   "metadata": {},
   "outputs": [],
   "source": [
    "flux1_etab = pd.concat([flux1.etablissement, flux1.provenance]).drop_duplicates().sort_values()\n",
    "flux2_etab = pd.concat([flux2.etablissement, flux2.provenance]).drop_duplicates().sort_values()"
   ]
  },
  {
   "cell_type": "markdown",
   "id": "633585da",
   "metadata": {},
   "source": [
    "LISTE\n",
    "- CH DE BAR SUR AUBE ? "
   ]
  },
  {
   "cell_type": "code",
   "execution_count": 442,
   "id": "01ccedde",
   "metadata": {},
   "outputs": [
    {
     "data": {
      "text/plain": [
       "finess                                              710978271\n",
       "etablissement           CH PAYS CHAROLAIS BRIONNAIS CHAROLLES\n",
       "categorie                                                  CH\n",
       "provenance            CH PAYS CHAROLAIS BRIONNAIS LA CLAYETTE\n",
       "effectif_transfert                                         41\n",
       "Name: 172, dtype: object"
      ]
     },
     "execution_count": 442,
     "metadata": {},
     "output_type": "execute_result"
    }
   ],
   "source": [
    "flux2.iloc[172,:]"
   ]
  },
  {
   "cell_type": "code",
   "execution_count": 479,
   "id": "a033d1d3",
   "metadata": {},
   "outputs": [],
   "source": [
    "etab_in_flux2_not_flux1 = flux2_etab[flux2_etab.isin(flux1_etab) == False] #14"
   ]
  },
  {
   "cell_type": "code",
   "execution_count": 480,
   "id": "22ae279a",
   "metadata": {},
   "outputs": [
    {
     "data": {
      "text/plain": [
       "150                         CH DE BAR SUR AUBE\n",
       "169                              CH DE BEAUJEU\n",
       "154                  CH DE BOURBONNE-LES-BAINS\n",
       "172    CH PAYS CHAROLAIS BRIONNAIS LA CLAYETTE\n",
       "10                        CHRU LE BOCAGE DIJON\n",
       "153                  CLINIQUE DE LA COMPASSION\n",
       "173                            CR LES ARBELLES\n",
       "202                   GCS PATCS CRRF PASTEUR 2\n",
       "199      GCS PLAT AVAL TERR CHAMP SUD CRF PAST\n",
       "94                        HL LES CYGNES LORMES\n",
       "6                        HOTEL DIEU DU CREUSOT\n",
       "151                       HÔPITAL DE JOINVILLE\n",
       "187                      MOYEN SEJOUR PIGNELIN\n",
       "147                    SARL JOUVENCE NUTRITION\n",
       "dtype: object"
      ]
     },
     "execution_count": 480,
     "metadata": {},
     "output_type": "execute_result"
    }
   ],
   "source": [
    "etab_in_flux2_not_flux1"
   ]
  },
  {
   "cell_type": "code",
   "execution_count": 444,
   "id": "5bdcc50c",
   "metadata": {},
   "outputs": [
    {
     "data": {
      "text/plain": [
       "367     MOYEN SEJOUR CH SENS\n",
       "206    SA MAISON DE JOUVENCE\n",
       "dtype: object"
      ]
     },
     "execution_count": 444,
     "metadata": {},
     "output_type": "execute_result"
    }
   ],
   "source": [
    "flux1_etab[flux1_etab.str.find('JOU') != -1]"
   ]
  },
  {
   "cell_type": "code",
   "execution_count": 438,
   "id": "df463302",
   "metadata": {},
   "outputs": [],
   "source": [
    "coord_etab = coord['etablissement']"
   ]
  },
  {
   "cell_type": "code",
   "execution_count": 439,
   "id": "70fd42ad",
   "metadata": {},
   "outputs": [
    {
     "data": {
      "text/plain": [
       "27             CH DU PAYS CHAROLAIS BRIONNAIS\n",
       "37      CH PAYS CHAROLAIS BRIONNAIS CHAROLLES\n",
       "38    CH PAYS CHAROLAIS BRIONNAIS LA CLAYETTE\n",
       "Name: etablissement, dtype: object"
      ]
     },
     "execution_count": 439,
     "metadata": {},
     "output_type": "execute_result"
    }
   ],
   "source": [
    "coord_etab[coord_etab.str.find('PAYS') != -1]"
   ]
  },
  {
   "cell_type": "markdown",
   "id": "153e8174",
   "metadata": {},
   "source": [
    "### Merging flux1 & flux2"
   ]
  },
  {
   "cell_type": "code",
   "execution_count": 766,
   "id": "dce4a7c0",
   "metadata": {},
   "outputs": [
    {
     "data": {
      "text/html": [
       "<div>\n",
       "<style scoped>\n",
       "    .dataframe tbody tr th:only-of-type {\n",
       "        vertical-align: middle;\n",
       "    }\n",
       "\n",
       "    .dataframe tbody tr th {\n",
       "        vertical-align: top;\n",
       "    }\n",
       "\n",
       "    .dataframe thead th {\n",
       "        text-align: right;\n",
       "    }\n",
       "</style>\n",
       "<table border=\"1\" class=\"dataframe\">\n",
       "  <thead>\n",
       "    <tr style=\"text-align: right;\">\n",
       "      <th></th>\n",
       "      <th></th>\n",
       "      <th>_sum</th>\n",
       "    </tr>\n",
       "    <tr>\n",
       "      <th>etablissement</th>\n",
       "      <th>provenance</th>\n",
       "      <th></th>\n",
       "    </tr>\n",
       "  </thead>\n",
       "  <tbody>\n",
       "    <tr>\n",
       "      <th>AIHP CENTRE ARMANCON</th>\n",
       "      <th>CHS AUXERRE</th>\n",
       "      <td>30</td>\n",
       "    </tr>\n",
       "    <tr>\n",
       "      <th rowspan=\"3\" valign=\"top\">C.R.B LES ROSIERS</th>\n",
       "      <th>HOPITAL LE BOCAGE CHRU DIJON</th>\n",
       "      <td>135</td>\n",
       "    </tr>\n",
       "    <tr>\n",
       "      <th>HOPITAL PRIVE DIJON BOURGOGNE</th>\n",
       "      <td>342</td>\n",
       "    </tr>\n",
       "    <tr>\n",
       "      <th>POLYCLINIQUE DU PARC DREVON</th>\n",
       "      <td>11</td>\n",
       "    </tr>\n",
       "  </tbody>\n",
       "</table>\n",
       "</div>"
      ],
      "text/plain": [
       "                                                    _sum\n",
       "etablissement        provenance                         \n",
       "AIHP CENTRE ARMANCON CHS AUXERRE                      30\n",
       "C.R.B LES ROSIERS    HOPITAL LE BOCAGE CHRU DIJON    135\n",
       "                     HOPITAL PRIVE DIJON BOURGOGNE   342\n",
       "                     POLYCLINIQUE DU PARC DREVON      11"
      ]
     },
     "execution_count": 766,
     "metadata": {},
     "output_type": "execute_result"
    }
   ],
   "source": [
    "df1 = flux1.groupby(['etablissement', 'provenance'])\\\n",
    "    .agg(_sum = ('effectif_transfert', sum)).sort_values(by='etablissement')\n",
    "df1[:4]"
   ]
  },
  {
   "cell_type": "code",
   "execution_count": 767,
   "id": "0441ae30",
   "metadata": {},
   "outputs": [],
   "source": [
    "df2 = flux2.groupby(['etablissement', 'provenance'])\\\n",
    "    .agg(_sum = ('effectif_transfert', sum)).sort_values(by='etablissement')"
   ]
  },
  {
   "cell_type": "code",
   "execution_count": 768,
   "id": "b13d97dc",
   "metadata": {},
   "outputs": [
    {
     "data": {
      "text/html": [
       "<div>\n",
       "<style scoped>\n",
       "    .dataframe tbody tr th:only-of-type {\n",
       "        vertical-align: middle;\n",
       "    }\n",
       "\n",
       "    .dataframe tbody tr th {\n",
       "        vertical-align: top;\n",
       "    }\n",
       "\n",
       "    .dataframe thead th {\n",
       "        text-align: right;\n",
       "    }\n",
       "</style>\n",
       "<table border=\"1\" class=\"dataframe\">\n",
       "  <thead>\n",
       "    <tr style=\"text-align: right;\">\n",
       "      <th></th>\n",
       "      <th></th>\n",
       "      <th>_sum</th>\n",
       "    </tr>\n",
       "    <tr>\n",
       "      <th>etablissement</th>\n",
       "      <th>provenance</th>\n",
       "      <th></th>\n",
       "    </tr>\n",
       "  </thead>\n",
       "  <tbody>\n",
       "    <tr>\n",
       "      <th>AIHP CENTRE ARMANCON</th>\n",
       "      <th>CHS AUXERRE</th>\n",
       "      <td>30</td>\n",
       "    </tr>\n",
       "    <tr>\n",
       "      <th rowspan=\"3\" valign=\"top\">C.R.B LES ROSIERS</th>\n",
       "      <th>CLINIQUE MEDICO-CHIRURGICALE</th>\n",
       "      <td>15</td>\n",
       "    </tr>\n",
       "    <tr>\n",
       "      <th>HOPITAL LE BOCAGE CHRU DIJON</th>\n",
       "      <td>186</td>\n",
       "    </tr>\n",
       "    <tr>\n",
       "      <th>HOPITAL PRIVE DIJON BOURGOGNE</th>\n",
       "      <td>364</td>\n",
       "    </tr>\n",
       "  </tbody>\n",
       "</table>\n",
       "</div>"
      ],
      "text/plain": [
       "                                                    _sum\n",
       "etablissement        provenance                         \n",
       "AIHP CENTRE ARMANCON CHS AUXERRE                      30\n",
       "C.R.B LES ROSIERS    CLINIQUE MEDICO-CHIRURGICALE     15\n",
       "                     HOPITAL LE BOCAGE CHRU DIJON    186\n",
       "                     HOPITAL PRIVE DIJON BOURGOGNE   364"
      ]
     },
     "execution_count": 768,
     "metadata": {},
     "output_type": "execute_result"
    }
   ],
   "source": [
    "df2[:4]"
   ]
  },
  {
   "cell_type": "code",
   "execution_count": 769,
   "id": "fcf13a1d",
   "metadata": {},
   "outputs": [],
   "source": [
    "df3 = pd.merge(df1,df2, how='inner', \n",
    "               left_on=['etablissement', 'provenance'], \n",
    "               right_on=['etablissement', 'provenance'],\n",
    "                suffixes=['1', '2']        \n",
    "        )"
   ]
  },
  {
   "cell_type": "code",
   "execution_count": 770,
   "id": "69829404",
   "metadata": {},
   "outputs": [],
   "source": [
    "df3['effectif_transfert'] = df3._sum2 - df3._sum1"
   ]
  },
  {
   "cell_type": "code",
   "execution_count": 771,
   "id": "04ba5877",
   "metadata": {},
   "outputs": [],
   "source": [
    "df3 = df3.loc[df3.effectif_transfert != 0, :].drop(['_sum1', '_sum2'], axis=1)"
   ]
  },
  {
   "cell_type": "code",
   "execution_count": 772,
   "id": "e3bc6dae",
   "metadata": {},
   "outputs": [
    {
     "data": {
      "text/plain": [
       "Index(['etablissement', 'categorie', 'code', 'specialite', 'provenance',\n",
       "       'effectif_transfert'],\n",
       "      dtype='object')"
      ]
     },
     "execution_count": 772,
     "metadata": {},
     "output_type": "execute_result"
    }
   ],
   "source": [
    "flux1.columns"
   ]
  },
  {
   "cell_type": "code",
   "execution_count": 773,
   "id": "426cb9c6",
   "metadata": {},
   "outputs": [],
   "source": [
    "df3['categorie'] = np.nan\n",
    "df3['code'] = np.nan\n",
    "df3['specialite'] = 'Autre'"
   ]
  },
  {
   "cell_type": "code",
   "execution_count": 774,
   "id": "20529fae",
   "metadata": {},
   "outputs": [],
   "source": [
    "df3 = df3.reset_index()"
   ]
  },
  {
   "cell_type": "code",
   "execution_count": 775,
   "id": "f0f3c854",
   "metadata": {},
   "outputs": [],
   "source": [
    "df = pd.concat([flux1, df3])"
   ]
  },
  {
   "cell_type": "code",
   "execution_count": 776,
   "id": "aed8b891",
   "metadata": {},
   "outputs": [
    {
     "data": {
      "text/html": [
       "<div>\n",
       "<style scoped>\n",
       "    .dataframe tbody tr th:only-of-type {\n",
       "        vertical-align: middle;\n",
       "    }\n",
       "\n",
       "    .dataframe tbody tr th {\n",
       "        vertical-align: top;\n",
       "    }\n",
       "\n",
       "    .dataframe thead th {\n",
       "        text-align: right;\n",
       "    }\n",
       "</style>\n",
       "<table border=\"1\" class=\"dataframe\">\n",
       "  <thead>\n",
       "    <tr style=\"text-align: right;\">\n",
       "      <th></th>\n",
       "      <th>etablissement</th>\n",
       "      <th>categorie</th>\n",
       "      <th>code</th>\n",
       "      <th>specialite</th>\n",
       "      <th>provenance</th>\n",
       "      <th>effectif_transfert</th>\n",
       "    </tr>\n",
       "  </thead>\n",
       "  <tbody>\n",
       "    <tr>\n",
       "      <th>0</th>\n",
       "      <td>CH AUTUN SITE LATOUCHE</td>\n",
       "      <td>CH</td>\n",
       "      <td>X08</td>\n",
       "      <td>Pneumologie</td>\n",
       "      <td>CH AUTUN SITE PARPAS</td>\n",
       "      <td>30</td>\n",
       "    </tr>\n",
       "    <tr>\n",
       "      <th>1</th>\n",
       "      <td>CH AUTUN SITE LATOUCHE</td>\n",
       "      <td>CH</td>\n",
       "      <td>X03</td>\n",
       "      <td>Neurologie médicale</td>\n",
       "      <td>CH AUTUN SITE PARPAS</td>\n",
       "      <td>30</td>\n",
       "    </tr>\n",
       "    <tr>\n",
       "      <th>2</th>\n",
       "      <td>CH AUTUN SITE LATOUCHE</td>\n",
       "      <td>CH</td>\n",
       "      <td>X07</td>\n",
       "      <td>Affections Cardio-vasculaires</td>\n",
       "      <td>CH AUTUN SITE PARPAS</td>\n",
       "      <td>16</td>\n",
       "    </tr>\n",
       "    <tr>\n",
       "      <th>3</th>\n",
       "      <td>CH AUTUN SITE LATOUCHE</td>\n",
       "      <td>CH</td>\n",
       "      <td>X06</td>\n",
       "      <td>Rhumatologie</td>\n",
       "      <td>CH AUTUN SITE PARPAS</td>\n",
       "      <td>12</td>\n",
       "    </tr>\n",
       "    <tr>\n",
       "      <th>4</th>\n",
       "      <td>CENTRE ORTHOPEDIQUE MEDICO-CHIR</td>\n",
       "      <td>Privé</td>\n",
       "      <td>C09</td>\n",
       "      <td>Chir. majeure de l'app. Locomoteur:\\n hanche, ...</td>\n",
       "      <td>CH WILLIAM MOREY CHALON SUR SAONE</td>\n",
       "      <td>78</td>\n",
       "    </tr>\n",
       "    <tr>\n",
       "      <th>...</th>\n",
       "      <td>...</td>\n",
       "      <td>...</td>\n",
       "      <td>...</td>\n",
       "      <td>...</td>\n",
       "      <td>...</td>\n",
       "      <td>...</td>\n",
       "    </tr>\n",
       "    <tr>\n",
       "      <th>103</th>\n",
       "      <td>SSR EDITH CAVELL</td>\n",
       "      <td>NaN</td>\n",
       "      <td>NaN</td>\n",
       "      <td>Autre</td>\n",
       "      <td>CH REG UNIVERSITAIRE DIJON</td>\n",
       "      <td>40</td>\n",
       "    </tr>\n",
       "    <tr>\n",
       "      <th>104</th>\n",
       "      <td>SSR EDITH CAVELL</td>\n",
       "      <td>NaN</td>\n",
       "      <td>NaN</td>\n",
       "      <td>Autre</td>\n",
       "      <td>HOPITAL PRIVE DIJON BOURGOGNE</td>\n",
       "      <td>51</td>\n",
       "    </tr>\n",
       "    <tr>\n",
       "      <th>105</th>\n",
       "      <td>SSR MARGUERITE BOUCICAUT</td>\n",
       "      <td>NaN</td>\n",
       "      <td>NaN</td>\n",
       "      <td>Autre</td>\n",
       "      <td>CH WILLIAM MOREY CHALON SUR SAONE</td>\n",
       "      <td>79</td>\n",
       "    </tr>\n",
       "    <tr>\n",
       "      <th>106</th>\n",
       "      <td>SSR MARGUERITE BOUCICAUT</td>\n",
       "      <td>NaN</td>\n",
       "      <td>NaN</td>\n",
       "      <td>Autre</td>\n",
       "      <td>CH JEAN BOUVERI</td>\n",
       "      <td>20</td>\n",
       "    </tr>\n",
       "    <tr>\n",
       "      <th>107</th>\n",
       "      <td>SSR MARGUERITE BOUCICAUT</td>\n",
       "      <td>NaN</td>\n",
       "      <td>NaN</td>\n",
       "      <td>Autre</td>\n",
       "      <td>HOPITAL LE BOCAGE CHRU DIJON</td>\n",
       "      <td>38</td>\n",
       "    </tr>\n",
       "  </tbody>\n",
       "</table>\n",
       "<p>522 rows × 6 columns</p>\n",
       "</div>"
      ],
      "text/plain": [
       "                       etablissement categorie code  \\\n",
       "0             CH AUTUN SITE LATOUCHE        CH  X08   \n",
       "1             CH AUTUN SITE LATOUCHE        CH  X03   \n",
       "2             CH AUTUN SITE LATOUCHE        CH  X07   \n",
       "3             CH AUTUN SITE LATOUCHE        CH  X06   \n",
       "4    CENTRE ORTHOPEDIQUE MEDICO-CHIR     Privé  C09   \n",
       "..                               ...       ...  ...   \n",
       "103                 SSR EDITH CAVELL       NaN  NaN   \n",
       "104                 SSR EDITH CAVELL       NaN  NaN   \n",
       "105         SSR MARGUERITE BOUCICAUT       NaN  NaN   \n",
       "106         SSR MARGUERITE BOUCICAUT       NaN  NaN   \n",
       "107         SSR MARGUERITE BOUCICAUT       NaN  NaN   \n",
       "\n",
       "                                            specialite  \\\n",
       "0                                         Pneumologie    \n",
       "1                                  Neurologie médicale   \n",
       "2                       Affections Cardio-vasculaires    \n",
       "3                                        Rhumatologie    \n",
       "4    Chir. majeure de l'app. Locomoteur:\\n hanche, ...   \n",
       "..                                                 ...   \n",
       "103                                              Autre   \n",
       "104                                              Autre   \n",
       "105                                              Autre   \n",
       "106                                              Autre   \n",
       "107                                              Autre   \n",
       "\n",
       "                            provenance  effectif_transfert  \n",
       "0                 CH AUTUN SITE PARPAS                  30  \n",
       "1                 CH AUTUN SITE PARPAS                  30  \n",
       "2                 CH AUTUN SITE PARPAS                  16  \n",
       "3                 CH AUTUN SITE PARPAS                  12  \n",
       "4    CH WILLIAM MOREY CHALON SUR SAONE                  78  \n",
       "..                                 ...                 ...  \n",
       "103         CH REG UNIVERSITAIRE DIJON                  40  \n",
       "104      HOPITAL PRIVE DIJON BOURGOGNE                  51  \n",
       "105  CH WILLIAM MOREY CHALON SUR SAONE                  79  \n",
       "106                    CH JEAN BOUVERI                  20  \n",
       "107       HOPITAL LE BOCAGE CHRU DIJON                  38  \n",
       "\n",
       "[522 rows x 6 columns]"
      ]
     },
     "execution_count": 776,
     "metadata": {},
     "output_type": "execute_result"
    }
   ],
   "source": [
    "df"
   ]
  },
  {
   "cell_type": "code",
   "execution_count": 777,
   "id": "9ab83122",
   "metadata": {},
   "outputs": [
    {
     "data": {
      "text/html": [
       "<div>\n",
       "<style scoped>\n",
       "    .dataframe tbody tr th:only-of-type {\n",
       "        vertical-align: middle;\n",
       "    }\n",
       "\n",
       "    .dataframe tbody tr th {\n",
       "        vertical-align: top;\n",
       "    }\n",
       "\n",
       "    .dataframe thead th {\n",
       "        text-align: right;\n",
       "    }\n",
       "</style>\n",
       "<table border=\"1\" class=\"dataframe\">\n",
       "  <thead>\n",
       "    <tr style=\"text-align: right;\">\n",
       "      <th></th>\n",
       "      <th></th>\n",
       "      <th></th>\n",
       "      <th>_sum</th>\n",
       "    </tr>\n",
       "    <tr>\n",
       "      <th>etablissement</th>\n",
       "      <th>provenance</th>\n",
       "      <th>specialite</th>\n",
       "      <th></th>\n",
       "    </tr>\n",
       "  </thead>\n",
       "  <tbody>\n",
       "    <tr>\n",
       "      <th>AIHP CENTRE ARMANCON</th>\n",
       "      <th>CHS AUXERRE</th>\n",
       "      <th>Effets nocifs, alcool, toxicologie, allergies</th>\n",
       "      <td>30</td>\n",
       "    </tr>\n",
       "    <tr>\n",
       "      <th rowspan=\"12\" valign=\"top\">C.R.B LES ROSIERS</th>\n",
       "      <th rowspan=\"5\" valign=\"top\">HOPITAL LE BOCAGE CHRU DIJON</th>\n",
       "      <th>Autre</th>\n",
       "      <td>51</td>\n",
       "    </tr>\n",
       "    <tr>\n",
       "      <th>Chir. majeure de l'app. Locomoteur:\\n hanche, fémur, genou, épaule</th>\n",
       "      <td>74</td>\n",
       "    </tr>\n",
       "    <tr>\n",
       "      <th>Chirurgies autres de l'appareil locomoteur, \\namputations</th>\n",
       "      <td>26</td>\n",
       "    </tr>\n",
       "    <tr>\n",
       "      <th>Pneumologie</th>\n",
       "      <td>22</td>\n",
       "    </tr>\n",
       "    <tr>\n",
       "      <th>Rhumatologie</th>\n",
       "      <td>13</td>\n",
       "    </tr>\n",
       "    <tr>\n",
       "      <th rowspan=\"5\" valign=\"top\">HOPITAL PRIVE DIJON BOURGOGNE</th>\n",
       "      <th>Arthroscopies, Biopsies ostéo-articulaires</th>\n",
       "      <td>30</td>\n",
       "    </tr>\n",
       "    <tr>\n",
       "      <th>Autre</th>\n",
       "      <td>22</td>\n",
       "    </tr>\n",
       "    <tr>\n",
       "      <th>Chir. majeure de l'app. Locomoteur:\\n hanche, fémur, genou, épaule</th>\n",
       "      <td>269</td>\n",
       "    </tr>\n",
       "    <tr>\n",
       "      <th>Chirurgie du rachis, Neuro-chirurgie</th>\n",
       "      <td>17</td>\n",
       "    </tr>\n",
       "    <tr>\n",
       "      <th>Chirurgies autres de l'appareil locomoteur, amputations</th>\n",
       "      <td>26</td>\n",
       "    </tr>\n",
       "    <tr>\n",
       "      <th rowspan=\"2\" valign=\"top\">POLYCLINIQUE DU PARC DREVON</th>\n",
       "      <th>Autre</th>\n",
       "      <td>3</td>\n",
       "    </tr>\n",
       "    <tr>\n",
       "      <th>Chir. majeure de l'app. Locomoteur:\\n hanche, fémur, genou, épaule</th>\n",
       "      <td>11</td>\n",
       "    </tr>\n",
       "    <tr>\n",
       "      <th rowspan=\"7\" valign=\"top\">CENTRE COLBERT MEDECINE ET SSR</th>\n",
       "      <th rowspan=\"4\" valign=\"top\">HOPITAL PIERRE BEREGOVOY</th>\n",
       "      <th>Neurologie médicale</th>\n",
       "      <td>14</td>\n",
       "    </tr>\n",
       "    <tr>\n",
       "      <th>Hépato-Gastro-Entérologie</th>\n",
       "      <td>20</td>\n",
       "    </tr>\n",
       "    <tr>\n",
       "      <th>Chir. majeure de l'app. Locomoteur:\\n hanche, fémur, genou, épaule</th>\n",
       "      <td>23</td>\n",
       "    </tr>\n",
       "    <tr>\n",
       "      <th>Pneumologie</th>\n",
       "      <td>27</td>\n",
       "    </tr>\n",
       "    <tr>\n",
       "      <th rowspan=\"2\" valign=\"top\">CENTRE COLBERT MEDECINE ET SSR</th>\n",
       "      <th>Rhumatologie</th>\n",
       "      <td>16</td>\n",
       "    </tr>\n",
       "    <tr>\n",
       "      <th>Psychiatrie</th>\n",
       "      <td>19</td>\n",
       "    </tr>\n",
       "    <tr>\n",
       "      <th>HOPITAL PIERRE BEREGOVOY</th>\n",
       "      <th>Affections Cardio-vasculaires</th>\n",
       "      <td>18</td>\n",
       "    </tr>\n",
       "  </tbody>\n",
       "</table>\n",
       "</div>"
      ],
      "text/plain": [
       "                                                                                                                  _sum\n",
       "etablissement                  provenance                     specialite                                              \n",
       "AIHP CENTRE ARMANCON           CHS AUXERRE                    Effets nocifs, alcool, toxicologie, allergies         30\n",
       "C.R.B LES ROSIERS              HOPITAL LE BOCAGE CHRU DIJON   Autre                                                 51\n",
       "                                                              Chir. majeure de l'app. Locomoteur:\\n hanche, f...    74\n",
       "                                                              Chirurgies autres de l'appareil locomoteur, \\na...    26\n",
       "                                                              Pneumologie                                           22\n",
       "                                                              Rhumatologie                                          13\n",
       "                               HOPITAL PRIVE DIJON BOURGOGNE  Arthroscopies, Biopsies ostéo-articulaires            30\n",
       "                                                              Autre                                                 22\n",
       "                                                              Chir. majeure de l'app. Locomoteur:\\n hanche, f...   269\n",
       "                                                              Chirurgie du rachis, Neuro-chirurgie                  17\n",
       "                                                              Chirurgies autres de l'appareil locomoteur, amp...    26\n",
       "                               POLYCLINIQUE DU PARC DREVON    Autre                                                  3\n",
       "                                                              Chir. majeure de l'app. Locomoteur:\\n hanche, f...    11\n",
       "CENTRE COLBERT MEDECINE ET SSR HOPITAL PIERRE BEREGOVOY       Neurologie médicale                                   14\n",
       "                                                              Hépato-Gastro-Entérologie                             20\n",
       "                                                              Chir. majeure de l'app. Locomoteur:\\n hanche, f...    23\n",
       "                                                              Pneumologie                                           27\n",
       "                               CENTRE COLBERT MEDECINE ET SSR Rhumatologie                                          16\n",
       "                                                              Psychiatrie                                           19\n",
       "                               HOPITAL PIERRE BEREGOVOY       Affections Cardio-vasculaires                         18"
      ]
     },
     "execution_count": 777,
     "metadata": {},
     "output_type": "execute_result"
    }
   ],
   "source": [
    "df.groupby(['etablissement', 'provenance', 'specialite'])\\\n",
    "    .agg(_sum = ('effectif_transfert', sum)).sort_values(by='etablissement')[:20]"
   ]
  },
  {
   "cell_type": "code",
   "execution_count": 778,
   "id": "be98e6ea",
   "metadata": {},
   "outputs": [
    {
     "data": {
      "text/plain": [
       "etablissement\n",
       "AIHP CENTRE ARMANCON                   30\n",
       "C.R.B LES ROSIERS                     564\n",
       "CENTRE COLBERT MEDECINE ET SSR        137\n",
       "CENTRE DE CONVALESCENCE               392\n",
       "CENTRE MEDICAL DE LA VENERIE          304\n",
       "CENTRE MEDICAL LA GRANGE/MONT          27\n",
       "CENTRE ORTHOPEDIQUE MEDICO-CHIR       829\n",
       "CENTRE SSR DU CHALONNAIS              226\n",
       "CH ALIGRE BOURBON LANCY               108\n",
       "CH AUTUN SITE LATOUCHE                155\n",
       "CH AUXERRE                            587\n",
       "CH AVALLON                            210\n",
       "CH BELNAY                             271\n",
       "CH BRESSE LOUHANNAISE                  96\n",
       "CH CHATEAU-CHINON                      65\n",
       "CH COSNE COURS SUR LOIRE              145\n",
       "CH D'AUXONNE                           72\n",
       "CH D'IS-SUR-TILLE                      63\n",
       "CH DE CHAUMONT                        210\n",
       "CH DE LA GUICHE                       176\n",
       "CH DE LANGRES                         223\n",
       "CH DE PONT DE VAUX                    111\n",
       "CH DECIZE                             228\n",
       "CH DU CLUNISOIS                       206\n",
       "CH DU PAYS CHAROLAIS BRIONNAIS        696\n",
       "CH DU TONNERROIS                      272\n",
       "CH HCO SITE DE CHATILLON SUR SEINE    121\n",
       "CH HCO SITE DE MONTBARD               521\n",
       "CH HCO SITE DE SAULIEU                237\n",
       "CH JEAN BOUVERI                       465\n",
       "Name: effectif_transfert, dtype: int64"
      ]
     },
     "execution_count": 778,
     "metadata": {},
     "output_type": "execute_result"
    }
   ],
   "source": [
    "df.groupby('etablissement')['effectif_transfert'].sum()[:30]"
   ]
  },
  {
   "cell_type": "code",
   "execution_count": 779,
   "id": "f0de837f",
   "metadata": {},
   "outputs": [],
   "source": [
    "flux1_aug = df"
   ]
  },
  {
   "cell_type": "markdown",
   "id": "2216ee22",
   "metadata": {},
   "source": [
    "### Check du merging \n",
    "\n",
    "Marche pour certains couples mais ! \n",
    "probleme => pas les mêmes appelations entre les 2 tableaux"
   ]
  },
  {
   "cell_type": "code",
   "execution_count": 780,
   "id": "36c2e72c",
   "metadata": {},
   "outputs": [
    {
     "data": {
      "text/html": [
       "<div>\n",
       "<style scoped>\n",
       "    .dataframe tbody tr th:only-of-type {\n",
       "        vertical-align: middle;\n",
       "    }\n",
       "\n",
       "    .dataframe tbody tr th {\n",
       "        vertical-align: top;\n",
       "    }\n",
       "\n",
       "    .dataframe thead th {\n",
       "        text-align: right;\n",
       "    }\n",
       "</style>\n",
       "<table border=\"1\" class=\"dataframe\">\n",
       "  <thead>\n",
       "    <tr style=\"text-align: right;\">\n",
       "      <th></th>\n",
       "      <th>etablissement</th>\n",
       "      <th>categorie</th>\n",
       "      <th>code</th>\n",
       "      <th>specialite</th>\n",
       "      <th>provenance</th>\n",
       "      <th>effectif_transfert</th>\n",
       "    </tr>\n",
       "  </thead>\n",
       "  <tbody>\n",
       "    <tr>\n",
       "      <th>182</th>\n",
       "      <td>C.R.B LES ROSIERS</td>\n",
       "      <td>Privé</td>\n",
       "      <td>C09</td>\n",
       "      <td>Chir. majeure de l'app. Locomoteur:\\n hanche, ...</td>\n",
       "      <td>HOPITAL PRIVE DIJON BOURGOGNE</td>\n",
       "      <td>269</td>\n",
       "    </tr>\n",
       "    <tr>\n",
       "      <th>183</th>\n",
       "      <td>C.R.B LES ROSIERS</td>\n",
       "      <td>Privé</td>\n",
       "      <td>C02</td>\n",
       "      <td>Chirurgie du rachis, Neuro-chirurgie</td>\n",
       "      <td>HOPITAL PRIVE DIJON BOURGOGNE</td>\n",
       "      <td>17</td>\n",
       "    </tr>\n",
       "    <tr>\n",
       "      <th>184</th>\n",
       "      <td>C.R.B LES ROSIERS</td>\n",
       "      <td>Privé</td>\n",
       "      <td>C11</td>\n",
       "      <td>Chirurgies autres de l'appareil locomoteur, am...</td>\n",
       "      <td>HOPITAL PRIVE DIJON BOURGOGNE</td>\n",
       "      <td>26</td>\n",
       "    </tr>\n",
       "    <tr>\n",
       "      <th>185</th>\n",
       "      <td>C.R.B LES ROSIERS</td>\n",
       "      <td>Privé</td>\n",
       "      <td>C10</td>\n",
       "      <td>Arthroscopies, Biopsies ostéo-articulaires</td>\n",
       "      <td>HOPITAL PRIVE DIJON BOURGOGNE</td>\n",
       "      <td>30</td>\n",
       "    </tr>\n",
       "    <tr>\n",
       "      <th>1</th>\n",
       "      <td>C.R.B LES ROSIERS</td>\n",
       "      <td>NaN</td>\n",
       "      <td>NaN</td>\n",
       "      <td>Autre</td>\n",
       "      <td>HOPITAL PRIVE DIJON BOURGOGNE</td>\n",
       "      <td>22</td>\n",
       "    </tr>\n",
       "  </tbody>\n",
       "</table>\n",
       "</div>"
      ],
      "text/plain": [
       "         etablissement categorie  code  \\\n",
       "182  C.R.B LES ROSIERS    Privé   C09    \n",
       "183  C.R.B LES ROSIERS    Privé    C02   \n",
       "184  C.R.B LES ROSIERS    Privé    C11   \n",
       "185  C.R.B LES ROSIERS    Privé   C10    \n",
       "1    C.R.B LES ROSIERS       NaN   NaN   \n",
       "\n",
       "                                            specialite  \\\n",
       "182  Chir. majeure de l'app. Locomoteur:\\n hanche, ...   \n",
       "183               Chirurgie du rachis, Neuro-chirurgie   \n",
       "184  Chirurgies autres de l'appareil locomoteur, am...   \n",
       "185         Arthroscopies, Biopsies ostéo-articulaires   \n",
       "1                                                Autre   \n",
       "\n",
       "                        provenance  effectif_transfert  \n",
       "182  HOPITAL PRIVE DIJON BOURGOGNE                 269  \n",
       "183  HOPITAL PRIVE DIJON BOURGOGNE                  17  \n",
       "184  HOPITAL PRIVE DIJON BOURGOGNE                  26  \n",
       "185  HOPITAL PRIVE DIJON BOURGOGNE                  30  \n",
       "1    HOPITAL PRIVE DIJON BOURGOGNE                  22  "
      ]
     },
     "execution_count": 780,
     "metadata": {},
     "output_type": "execute_result"
    }
   ],
   "source": [
    "flux1_aug.loc[(flux1_aug.etablissement == 'C.R.B LES ROSIERS') \n",
    "             & (flux1_aug.provenance == 'HOPITAL PRIVE DIJON BOURGOGNE')\n",
    "             ]"
   ]
  },
  {
   "cell_type": "code",
   "execution_count": 781,
   "id": "d760cb5e",
   "metadata": {},
   "outputs": [],
   "source": [
    "_df1 = flux1_aug.groupby(['etablissement', 'provenance'])['effectif_transfert'].sum().reset_index()"
   ]
  },
  {
   "cell_type": "code",
   "execution_count": 782,
   "id": "311addb2",
   "metadata": {},
   "outputs": [],
   "source": [
    "_df2 = flux2.groupby(['etablissement', 'provenance'])['effectif_transfert'].sum().reset_index()"
   ]
  },
  {
   "cell_type": "code",
   "execution_count": 783,
   "id": "00d09531",
   "metadata": {},
   "outputs": [],
   "source": [
    "compare = pd.merge(_df1, _df2, how='inner', on= ['etablissement', 'provenance'])"
   ]
  },
  {
   "cell_type": "code",
   "execution_count": 784,
   "id": "e779e8e2",
   "metadata": {},
   "outputs": [
    {
     "data": {
      "text/html": [
       "<div>\n",
       "<style scoped>\n",
       "    .dataframe tbody tr th:only-of-type {\n",
       "        vertical-align: middle;\n",
       "    }\n",
       "\n",
       "    .dataframe tbody tr th {\n",
       "        vertical-align: top;\n",
       "    }\n",
       "\n",
       "    .dataframe thead th {\n",
       "        text-align: right;\n",
       "    }\n",
       "</style>\n",
       "<table border=\"1\" class=\"dataframe\">\n",
       "  <thead>\n",
       "    <tr style=\"text-align: right;\">\n",
       "      <th></th>\n",
       "      <th>etablissement</th>\n",
       "      <th>provenance</th>\n",
       "      <th>effectif_transfert_x</th>\n",
       "      <th>effectif_transfert_y</th>\n",
       "    </tr>\n",
       "  </thead>\n",
       "  <tbody>\n",
       "    <tr>\n",
       "      <th>0</th>\n",
       "      <td>AIHP CENTRE ARMANCON</td>\n",
       "      <td>CHS AUXERRE</td>\n",
       "      <td>30</td>\n",
       "      <td>30</td>\n",
       "    </tr>\n",
       "    <tr>\n",
       "      <th>1</th>\n",
       "      <td>C.R.B LES ROSIERS</td>\n",
       "      <td>HOPITAL LE BOCAGE CHRU DIJON</td>\n",
       "      <td>186</td>\n",
       "      <td>186</td>\n",
       "    </tr>\n",
       "    <tr>\n",
       "      <th>2</th>\n",
       "      <td>C.R.B LES ROSIERS</td>\n",
       "      <td>HOPITAL PRIVE DIJON BOURGOGNE</td>\n",
       "      <td>364</td>\n",
       "      <td>364</td>\n",
       "    </tr>\n",
       "    <tr>\n",
       "      <th>3</th>\n",
       "      <td>C.R.B LES ROSIERS</td>\n",
       "      <td>POLYCLINIQUE DU PARC DREVON</td>\n",
       "      <td>14</td>\n",
       "      <td>14</td>\n",
       "    </tr>\n",
       "    <tr>\n",
       "      <th>4</th>\n",
       "      <td>CENTRE DE CONVALESCENCE</td>\n",
       "      <td>HOPITAL LE BOCAGE CHRU DIJON</td>\n",
       "      <td>306</td>\n",
       "      <td>306</td>\n",
       "    </tr>\n",
       "    <tr>\n",
       "      <th>...</th>\n",
       "      <td>...</td>\n",
       "      <td>...</td>\n",
       "      <td>...</td>\n",
       "      <td>...</td>\n",
       "    </tr>\n",
       "    <tr>\n",
       "      <th>108</th>\n",
       "      <td>SSR EDITH CAVELL</td>\n",
       "      <td>HOPITAL LE BOCAGE CHRU DIJON</td>\n",
       "      <td>301</td>\n",
       "      <td>301</td>\n",
       "    </tr>\n",
       "    <tr>\n",
       "      <th>109</th>\n",
       "      <td>SSR EDITH CAVELL</td>\n",
       "      <td>HOPITAL PRIVE DIJON BOURGOGNE</td>\n",
       "      <td>95</td>\n",
       "      <td>95</td>\n",
       "    </tr>\n",
       "    <tr>\n",
       "      <th>110</th>\n",
       "      <td>SSR MARGUERITE BOUCICAUT</td>\n",
       "      <td>CH JEAN BOUVERI</td>\n",
       "      <td>31</td>\n",
       "      <td>31</td>\n",
       "    </tr>\n",
       "    <tr>\n",
       "      <th>111</th>\n",
       "      <td>SSR MARGUERITE BOUCICAUT</td>\n",
       "      <td>CH WILLIAM MOREY CHALON SUR SAONE</td>\n",
       "      <td>301</td>\n",
       "      <td>301</td>\n",
       "    </tr>\n",
       "    <tr>\n",
       "      <th>112</th>\n",
       "      <td>SSR MARGUERITE BOUCICAUT</td>\n",
       "      <td>HOPITAL LE BOCAGE CHRU DIJON</td>\n",
       "      <td>77</td>\n",
       "      <td>77</td>\n",
       "    </tr>\n",
       "  </tbody>\n",
       "</table>\n",
       "<p>113 rows × 4 columns</p>\n",
       "</div>"
      ],
      "text/plain": [
       "                etablissement                         provenance  \\\n",
       "0        AIHP CENTRE ARMANCON                        CHS AUXERRE   \n",
       "1           C.R.B LES ROSIERS       HOPITAL LE BOCAGE CHRU DIJON   \n",
       "2           C.R.B LES ROSIERS      HOPITAL PRIVE DIJON BOURGOGNE   \n",
       "3           C.R.B LES ROSIERS        POLYCLINIQUE DU PARC DREVON   \n",
       "4     CENTRE DE CONVALESCENCE       HOPITAL LE BOCAGE CHRU DIJON   \n",
       "..                        ...                                ...   \n",
       "108          SSR EDITH CAVELL       HOPITAL LE BOCAGE CHRU DIJON   \n",
       "109          SSR EDITH CAVELL      HOPITAL PRIVE DIJON BOURGOGNE   \n",
       "110  SSR MARGUERITE BOUCICAUT                    CH JEAN BOUVERI   \n",
       "111  SSR MARGUERITE BOUCICAUT  CH WILLIAM MOREY CHALON SUR SAONE   \n",
       "112  SSR MARGUERITE BOUCICAUT       HOPITAL LE BOCAGE CHRU DIJON   \n",
       "\n",
       "     effectif_transfert_x  effectif_transfert_y  \n",
       "0                      30                    30  \n",
       "1                     186                   186  \n",
       "2                     364                   364  \n",
       "3                      14                    14  \n",
       "4                     306                   306  \n",
       "..                    ...                   ...  \n",
       "108                   301                   301  \n",
       "109                    95                    95  \n",
       "110                    31                    31  \n",
       "111                   301                   301  \n",
       "112                    77                    77  \n",
       "\n",
       "[113 rows x 4 columns]"
      ]
     },
     "execution_count": 784,
     "metadata": {},
     "output_type": "execute_result"
    }
   ],
   "source": [
    "compare"
   ]
  },
  {
   "cell_type": "code",
   "execution_count": 785,
   "id": "487eab37",
   "metadata": {},
   "outputs": [
    {
     "data": {
      "text/html": [
       "<div>\n",
       "<style scoped>\n",
       "    .dataframe tbody tr th:only-of-type {\n",
       "        vertical-align: middle;\n",
       "    }\n",
       "\n",
       "    .dataframe tbody tr th {\n",
       "        vertical-align: top;\n",
       "    }\n",
       "\n",
       "    .dataframe thead th {\n",
       "        text-align: right;\n",
       "    }\n",
       "</style>\n",
       "<table border=\"1\" class=\"dataframe\">\n",
       "  <thead>\n",
       "    <tr style=\"text-align: right;\">\n",
       "      <th></th>\n",
       "      <th>etablissement</th>\n",
       "      <th>provenance</th>\n",
       "      <th>effectif_transfert_x</th>\n",
       "      <th>effectif_transfert_y</th>\n",
       "    </tr>\n",
       "  </thead>\n",
       "  <tbody>\n",
       "  </tbody>\n",
       "</table>\n",
       "</div>"
      ],
      "text/plain": [
       "Empty DataFrame\n",
       "Columns: [etablissement, provenance, effectif_transfert_x, effectif_transfert_y]\n",
       "Index: []"
      ]
     },
     "execution_count": 785,
     "metadata": {},
     "output_type": "execute_result"
    }
   ],
   "source": [
    "compare.loc[compare.effectif_transfert_x != compare.effectif_transfert_y, :]"
   ]
  },
  {
   "cell_type": "markdown",
   "id": "8a7dc791",
   "metadata": {},
   "source": [
    "### Ajouter à flux1 (augmenté) les couples qui sont uniquement ds flux2\n",
    "\n",
    "vérifier que etab / provenance / sum transfert pour flux et flux2 sont égaux\n",
    "\n",
    "vérifier que etab / sum transfert pour flux et flux2 sont égaux"
   ]
  },
  {
   "cell_type": "code",
   "execution_count": 786,
   "id": "5a629126",
   "metadata": {},
   "outputs": [],
   "source": [
    "c1 = flux1_aug[['etablissement', 'provenance']].drop_duplicates()\n",
    "c2 = flux2[['etablissement', 'provenance']].drop_duplicates()"
   ]
  },
  {
   "cell_type": "code",
   "execution_count": 787,
   "id": "5f1ef936",
   "metadata": {},
   "outputs": [
    {
     "name": "stdout",
     "output_type": "stream",
     "text": [
      "115 203\n"
     ]
    }
   ],
   "source": [
    "print(c1.shape[0], c2.shape[0])"
   ]
  },
  {
   "cell_type": "code",
   "execution_count": 788,
   "id": "b0609312",
   "metadata": {},
   "outputs": [],
   "source": [
    "union = pd.merge(c1, c2, how='outer', indicator=True)\n",
    "#union.loc[union._merge == 'left_only', :] #17"
   ]
  },
  {
   "cell_type": "code",
   "execution_count": 789,
   "id": "ca01af48",
   "metadata": {},
   "outputs": [],
   "source": [
    "#couples that are in c2 but not in C1 \n",
    "x = union.loc[union._merge == 'right_only', :].drop(['_merge'], axis=1)"
   ]
  },
  {
   "cell_type": "code",
   "execution_count": 790,
   "id": "47a4dd78",
   "metadata": {},
   "outputs": [
    {
     "data": {
      "text/plain": [
       "150                         CH DE BAR SUR AUBE\n",
       "169                              CH DE BEAUJEU\n",
       "154                  CH DE BOURBONNE-LES-BAINS\n",
       "172    CH PAYS CHAROLAIS BRIONNAIS LA CLAYETTE\n",
       "10                        CHRU LE BOCAGE DIJON\n",
       "153                  CLINIQUE DE LA COMPASSION\n",
       "173                            CR LES ARBELLES\n",
       "202                   GCS PATCS CRRF PASTEUR 2\n",
       "199      GCS PLAT AVAL TERR CHAMP SUD CRF PAST\n",
       "94                        HL LES CYGNES LORMES\n",
       "6                        HOTEL DIEU DU CREUSOT\n",
       "151                       HÔPITAL DE JOINVILLE\n",
       "187                      MOYEN SEJOUR PIGNELIN\n",
       "147                    SARL JOUVENCE NUTRITION\n",
       "dtype: object"
      ]
     },
     "execution_count": 790,
     "metadata": {},
     "output_type": "execute_result"
    }
   ],
   "source": [
    "etab_in_flux2_not_flux1"
   ]
  },
  {
   "cell_type": "code",
   "execution_count": 791,
   "id": "5176b656",
   "metadata": {},
   "outputs": [],
   "source": [
    "df = pd.merge(x, flux2, how='left', left_on=['etablissement', 'provenance'], right_on=['etablissement', 'provenance']).drop('finess', axis=1)"
   ]
  },
  {
   "cell_type": "code",
   "execution_count": 792,
   "id": "273d5b0f",
   "metadata": {},
   "outputs": [],
   "source": [
    "df['code'] = np.nan\n",
    "df['specialite'] = np.nan"
   ]
  },
  {
   "cell_type": "code",
   "execution_count": 793,
   "id": "efa2c424",
   "metadata": {},
   "outputs": [
    {
     "data": {
      "text/plain": [
       "(90, 6)"
      ]
     },
     "execution_count": 793,
     "metadata": {},
     "output_type": "execute_result"
    }
   ],
   "source": [
    "df.shape"
   ]
  },
  {
   "cell_type": "code",
   "execution_count": 794,
   "id": "26ab02e9",
   "metadata": {},
   "outputs": [
    {
     "data": {
      "text/plain": [
       "(414, 6)"
      ]
     },
     "execution_count": 794,
     "metadata": {},
     "output_type": "execute_result"
    }
   ],
   "source": [
    "flux1.shape"
   ]
  },
  {
   "cell_type": "code",
   "execution_count": 800,
   "id": "290b224d",
   "metadata": {},
   "outputs": [],
   "source": [
    "flux = pd.concat([flux1_aug, df])"
   ]
  },
  {
   "cell_type": "code",
   "execution_count": 801,
   "id": "c3d3034c",
   "metadata": {},
   "outputs": [
    {
     "data": {
      "text/html": [
       "<div>\n",
       "<style scoped>\n",
       "    .dataframe tbody tr th:only-of-type {\n",
       "        vertical-align: middle;\n",
       "    }\n",
       "\n",
       "    .dataframe tbody tr th {\n",
       "        vertical-align: top;\n",
       "    }\n",
       "\n",
       "    .dataframe thead th {\n",
       "        text-align: right;\n",
       "    }\n",
       "</style>\n",
       "<table border=\"1\" class=\"dataframe\">\n",
       "  <thead>\n",
       "    <tr style=\"text-align: right;\">\n",
       "      <th></th>\n",
       "      <th>etablissement</th>\n",
       "      <th>categorie</th>\n",
       "      <th>code</th>\n",
       "      <th>specialite</th>\n",
       "      <th>provenance</th>\n",
       "      <th>effectif_transfert</th>\n",
       "    </tr>\n",
       "  </thead>\n",
       "  <tbody>\n",
       "    <tr>\n",
       "      <th>0</th>\n",
       "      <td>CH AUTUN SITE LATOUCHE</td>\n",
       "      <td>CH</td>\n",
       "      <td>X08</td>\n",
       "      <td>Pneumologie</td>\n",
       "      <td>CH AUTUN SITE PARPAS</td>\n",
       "      <td>30</td>\n",
       "    </tr>\n",
       "    <tr>\n",
       "      <th>1</th>\n",
       "      <td>CH AUTUN SITE LATOUCHE</td>\n",
       "      <td>CH</td>\n",
       "      <td>X03</td>\n",
       "      <td>Neurologie médicale</td>\n",
       "      <td>CH AUTUN SITE PARPAS</td>\n",
       "      <td>30</td>\n",
       "    </tr>\n",
       "    <tr>\n",
       "      <th>2</th>\n",
       "      <td>CH AUTUN SITE LATOUCHE</td>\n",
       "      <td>CH</td>\n",
       "      <td>X07</td>\n",
       "      <td>Affections Cardio-vasculaires</td>\n",
       "      <td>CH AUTUN SITE PARPAS</td>\n",
       "      <td>16</td>\n",
       "    </tr>\n",
       "    <tr>\n",
       "      <th>3</th>\n",
       "      <td>CH AUTUN SITE LATOUCHE</td>\n",
       "      <td>CH</td>\n",
       "      <td>X06</td>\n",
       "      <td>Rhumatologie</td>\n",
       "      <td>CH AUTUN SITE PARPAS</td>\n",
       "      <td>12</td>\n",
       "    </tr>\n",
       "    <tr>\n",
       "      <th>4</th>\n",
       "      <td>CENTRE ORTHOPEDIQUE MEDICO-CHIR</td>\n",
       "      <td>Privé</td>\n",
       "      <td>C09</td>\n",
       "      <td>Chir. majeure de l'app. Locomoteur:\\n hanche, ...</td>\n",
       "      <td>CH WILLIAM MOREY CHALON SUR SAONE</td>\n",
       "      <td>78</td>\n",
       "    </tr>\n",
       "    <tr>\n",
       "      <th>...</th>\n",
       "      <td>...</td>\n",
       "      <td>...</td>\n",
       "      <td>...</td>\n",
       "      <td>...</td>\n",
       "      <td>...</td>\n",
       "      <td>...</td>\n",
       "    </tr>\n",
       "    <tr>\n",
       "      <th>85</th>\n",
       "      <td>MOYEN SEJOUR CH SENS</td>\n",
       "      <td>CH</td>\n",
       "      <td>NaN</td>\n",
       "      <td>NaN</td>\n",
       "      <td>CH JOIGNY</td>\n",
       "      <td>13</td>\n",
       "    </tr>\n",
       "    <tr>\n",
       "      <th>86</th>\n",
       "      <td>MAISON DE REPOS STE COLOMBE</td>\n",
       "      <td>Privé</td>\n",
       "      <td>NaN</td>\n",
       "      <td>NaN</td>\n",
       "      <td>CLINIQUE PAUL PIQUET</td>\n",
       "      <td>19</td>\n",
       "    </tr>\n",
       "    <tr>\n",
       "      <th>87</th>\n",
       "      <td>GCS PLAT AVAL TERR CHAMP SUD CRF PAST</td>\n",
       "      <td>Privé</td>\n",
       "      <td>NaN</td>\n",
       "      <td>NaN</td>\n",
       "      <td>CH SENS</td>\n",
       "      <td>19</td>\n",
       "    </tr>\n",
       "    <tr>\n",
       "      <th>88</th>\n",
       "      <td>CMPR L'A.D.A.P.T. LOIRET</td>\n",
       "      <td>PSPH/EBNL</td>\n",
       "      <td>NaN</td>\n",
       "      <td>NaN</td>\n",
       "      <td>CH SENS</td>\n",
       "      <td>14</td>\n",
       "    </tr>\n",
       "    <tr>\n",
       "      <th>89</th>\n",
       "      <td>GCS PATCS CRRF PASTEUR 2</td>\n",
       "      <td>Privé</td>\n",
       "      <td>NaN</td>\n",
       "      <td>NaN</td>\n",
       "      <td>CH SENS</td>\n",
       "      <td>13</td>\n",
       "    </tr>\n",
       "  </tbody>\n",
       "</table>\n",
       "<p>612 rows × 6 columns</p>\n",
       "</div>"
      ],
      "text/plain": [
       "                            etablissement  categorie code  \\\n",
       "0                  CH AUTUN SITE LATOUCHE         CH  X08   \n",
       "1                  CH AUTUN SITE LATOUCHE         CH  X03   \n",
       "2                  CH AUTUN SITE LATOUCHE         CH  X07   \n",
       "3                  CH AUTUN SITE LATOUCHE         CH  X06   \n",
       "4         CENTRE ORTHOPEDIQUE MEDICO-CHIR      Privé  C09   \n",
       "..                                    ...        ...  ...   \n",
       "85                   MOYEN SEJOUR CH SENS         CH  NaN   \n",
       "86            MAISON DE REPOS STE COLOMBE      Privé  NaN   \n",
       "87  GCS PLAT AVAL TERR CHAMP SUD CRF PAST      Privé  NaN   \n",
       "88               CMPR L'A.D.A.P.T. LOIRET  PSPH/EBNL  NaN   \n",
       "89               GCS PATCS CRRF PASTEUR 2      Privé  NaN   \n",
       "\n",
       "                                           specialite  \\\n",
       "0                                        Pneumologie    \n",
       "1                                 Neurologie médicale   \n",
       "2                      Affections Cardio-vasculaires    \n",
       "3                                       Rhumatologie    \n",
       "4   Chir. majeure de l'app. Locomoteur:\\n hanche, ...   \n",
       "..                                                ...   \n",
       "85                                                NaN   \n",
       "86                                                NaN   \n",
       "87                                                NaN   \n",
       "88                                                NaN   \n",
       "89                                                NaN   \n",
       "\n",
       "                           provenance  effectif_transfert  \n",
       "0                CH AUTUN SITE PARPAS                  30  \n",
       "1                CH AUTUN SITE PARPAS                  30  \n",
       "2                CH AUTUN SITE PARPAS                  16  \n",
       "3                CH AUTUN SITE PARPAS                  12  \n",
       "4   CH WILLIAM MOREY CHALON SUR SAONE                  78  \n",
       "..                                ...                 ...  \n",
       "85                          CH JOIGNY                  13  \n",
       "86               CLINIQUE PAUL PIQUET                  19  \n",
       "87                            CH SENS                  19  \n",
       "88                            CH SENS                  14  \n",
       "89                            CH SENS                  13  \n",
       "\n",
       "[612 rows x 6 columns]"
      ]
     },
     "execution_count": 801,
     "metadata": {},
     "output_type": "execute_result"
    }
   ],
   "source": [
    "flux"
   ]
  },
  {
   "cell_type": "code",
   "execution_count": 804,
   "id": "d9d47f03",
   "metadata": {},
   "outputs": [],
   "source": [
    "flux.to_csv('data3/flux.csv')"
   ]
  },
  {
   "cell_type": "code",
   "execution_count": 802,
   "id": "ab78a43e",
   "metadata": {},
   "outputs": [
    {
     "data": {
      "text/plain": [
       "etablissement             provenance                       \n",
       "AIHP CENTRE ARMANCON      CHS AUXERRE                           30\n",
       "C.R.B LES ROSIERS         CLINIQUE MEDICO-CHIRURGICALE          15\n",
       "                          HOPITAL LE BOCAGE CHRU DIJON         186\n",
       "                          HOPITAL PRIVE DIJON BOURGOGNE        364\n",
       "                          POLYCLINIQUE DU PARC DREVON           14\n",
       "                                                              ... \n",
       "SSR MARGUERITE BOUCICAUT  CH LES CHANAUX MACON                  13\n",
       "                          CH WILLIAM MOREY CHALON SUR SAONE    301\n",
       "                          HOPITAL LE BOCAGE CHRU DIJON          77\n",
       "                          HOPITAL PRIVE SAINTE MARIE            27\n",
       "                          HOTEL DIEU DU CREUSOT                 13\n",
       "Name: effectif_transfert, Length: 205, dtype: int64"
      ]
     },
     "execution_count": 802,
     "metadata": {},
     "output_type": "execute_result"
    }
   ],
   "source": [
    "flux.groupby(['etablissement', 'provenance'])['effectif_transfert'].sum()"
   ]
  },
  {
   "cell_type": "code",
   "execution_count": 803,
   "id": "4dda9358",
   "metadata": {},
   "outputs": [
    {
     "data": {
      "text/plain": [
       "etablissement             provenance                       \n",
       "AIHP CENTRE ARMANCON      CHS AUXERRE                           30\n",
       "C.R.B LES ROSIERS         CLINIQUE MEDICO-CHIRURGICALE          15\n",
       "                          HOPITAL LE BOCAGE CHRU DIJON         186\n",
       "                          HOPITAL PRIVE DIJON BOURGOGNE        364\n",
       "                          POLYCLINIQUE DU PARC DREVON           14\n",
       "                                                              ... \n",
       "SSR MARGUERITE BOUCICAUT  CH LES CHANAUX MACON                  13\n",
       "                          CH WILLIAM MOREY CHALON SUR SAONE    301\n",
       "                          HOPITAL LE BOCAGE CHRU DIJON          77\n",
       "                          HOPITAL PRIVE SAINTE MARIE            27\n",
       "                          HOTEL DIEU DU CREUSOT                 13\n",
       "Name: effectif_transfert, Length: 203, dtype: int64"
      ]
     },
     "execution_count": 803,
     "metadata": {},
     "output_type": "execute_result"
    }
   ],
   "source": [
    "flux2.groupby(['etablissement', 'provenance'])['effectif_transfert'].sum()"
   ]
  },
  {
   "cell_type": "code",
   "execution_count": 498,
   "id": "b3d9940a",
   "metadata": {},
   "outputs": [
    {
     "data": {
      "text/html": [
       "<div>\n",
       "<style scoped>\n",
       "    .dataframe tbody tr th:only-of-type {\n",
       "        vertical-align: middle;\n",
       "    }\n",
       "\n",
       "    .dataframe tbody tr th {\n",
       "        vertical-align: top;\n",
       "    }\n",
       "\n",
       "    .dataframe thead th {\n",
       "        text-align: right;\n",
       "    }\n",
       "</style>\n",
       "<table border=\"1\" class=\"dataframe\">\n",
       "  <thead>\n",
       "    <tr style=\"text-align: right;\">\n",
       "      <th></th>\n",
       "      <th>finess</th>\n",
       "      <th>etablissement</th>\n",
       "      <th>categorie</th>\n",
       "      <th>provenance</th>\n",
       "      <th>effectif_transfert</th>\n",
       "    </tr>\n",
       "  </thead>\n",
       "  <tbody>\n",
       "    <tr>\n",
       "      <th>136</th>\n",
       "      <td>210780292</td>\n",
       "      <td>C.R.B LES ROSIERS</td>\n",
       "      <td>Privé</td>\n",
       "      <td>HOPITAL PRIVE DIJON BOURGOGNE</td>\n",
       "      <td>364</td>\n",
       "    </tr>\n",
       "  </tbody>\n",
       "</table>\n",
       "</div>"
      ],
      "text/plain": [
       "        finess      etablissement categorie                     provenance  \\\n",
       "136  210780292  C.R.B LES ROSIERS     Privé  HOPITAL PRIVE DIJON BOURGOGNE   \n",
       "\n",
       "     effectif_transfert  \n",
       "136                 364  "
      ]
     },
     "execution_count": 498,
     "metadata": {},
     "output_type": "execute_result"
    }
   ],
   "source": [
    "flux2.loc[(flux2.etablissement == 'C.R.B LES ROSIERS') & (flux2.provenance == 'HOPITAL PRIVE DIJON BOURGOGNE'), :]"
   ]
  },
  {
   "cell_type": "code",
   "execution_count": 499,
   "id": "914be886",
   "metadata": {},
   "outputs": [
    {
     "data": {
      "text/plain": [
       "etablissement                   provenance                       \n",
       "AIHP CENTRE ARMANCON            CHS AUXERRE                           30\n",
       "C.R.B LES ROSIERS               HOPITAL PRIVE DIJON BOURGOGNE        342\n",
       "                                HÔPITAL LE BOCAGE CHRU DIJON         135\n",
       "                                POLYCLINIQUE DU PARC DREVON           11\n",
       "CENTRE COLBERT MEDECINE ET SSR  CENTRE COLBERT MEDECINE ET SSR        35\n",
       "                                                                    ... \n",
       "SSR EDITH CAVELL                HOPITAL PRIVE DIJON BOURGOGNE         44\n",
       "                                HÔPITAL LE BOCAGE CHRU DIJON         199\n",
       "SSR MARGUERITE BOUCICAUT        CH JEAN BOUVERI                       11\n",
       "                                CH WILLIAM MOREY CHALON SUR SAONE    222\n",
       "                                HÔPITAL LE BOCAGE CHRU DIJON          39\n",
       "Name: effectif_transfert, Length: 115, dtype: int64"
      ]
     },
     "execution_count": 499,
     "metadata": {},
     "output_type": "execute_result"
    }
   ],
   "source": [
    "flux1.groupby(['etablissement', 'provenance'])['effectif_transfert'].sum()"
   ]
  },
  {
   "cell_type": "code",
   "execution_count": 517,
   "id": "aeaee2d2",
   "metadata": {},
   "outputs": [
    {
     "data": {
      "text/plain": [
       "etablissement                   provenance                       \n",
       "AIHP CENTRE ARMANCON            CHS AUXERRE                           30\n",
       "C.R.B LES ROSIERS               HOPITAL PRIVE DIJON BOURGOGNE        364\n",
       "                                HÔPITAL LE BOCAGE CHRU DIJON         135\n",
       "                                POLYCLINIQUE DU PARC DREVON           14\n",
       "CENTRE COLBERT MEDECINE ET SSR  CENTRE COLBERT MEDECINE ET SSR        35\n",
       "                                                                    ... \n",
       "SSR EDITH CAVELL                HOPITAL PRIVE DIJON BOURGOGNE         95\n",
       "                                HÔPITAL LE BOCAGE CHRU DIJON         199\n",
       "SSR MARGUERITE BOUCICAUT        CH JEAN BOUVERI                       31\n",
       "                                CH WILLIAM MOREY CHALON SUR SAONE    301\n",
       "                                HÔPITAL LE BOCAGE CHRU DIJON          39\n",
       "Name: effectif_transfert, Length: 115, dtype: int64"
      ]
     },
     "execution_count": 517,
     "metadata": {},
     "output_type": "execute_result"
    }
   ],
   "source": [
    "flux1_aug.groupby(['etablissement', 'provenance'])['effectif_transfert'].sum()"
   ]
  },
  {
   "cell_type": "code",
   "execution_count": null,
   "id": "85d3b358",
   "metadata": {},
   "outputs": [],
   "source": []
  },
  {
   "cell_type": "code",
   "execution_count": 522,
   "id": "9d78d8a4",
   "metadata": {},
   "outputs": [
    {
     "data": {
      "text/plain": [
       "62    HÔPITAL LE BOCAGE CHRU DIJON\n",
       "Name: etablissement, dtype: object"
      ]
     },
     "execution_count": 522,
     "metadata": {},
     "output_type": "execute_result"
    }
   ],
   "source": [
    "coord_etab[coord_etab.str.find('BOC') !=-1]"
   ]
  },
  {
   "cell_type": "markdown",
   "id": "77808562",
   "metadata": {},
   "source": [
    "### vérification concordance coordonées"
   ]
  },
  {
   "cell_type": "markdown",
   "id": "91cf5306",
   "metadata": {},
   "source": [
    "N'apparait pas dans flux2 => 'HOPITAL PRIVE SAINTE MARIE'"
   ]
  },
  {
   "cell_type": "code",
   "execution_count": 614,
   "id": "d83d46a0",
   "metadata": {},
   "outputs": [
    {
     "data": {
      "text/plain": [
       "0"
      ]
     },
     "execution_count": 614,
     "metadata": {},
     "output_type": "execute_result"
    }
   ],
   "source": [
    "np.sum(~flux1_etab.isin(flux2_etab))"
   ]
  },
  {
   "cell_type": "code",
   "execution_count": 725,
   "id": "c674e5a0",
   "metadata": {},
   "outputs": [],
   "source": [
    "coord_etab = coord['etablissement'].drop_duplicates()\n",
    "flux2_etab = pd.concat([flux2.etablissement, flux2.provenance]).drop_duplicates()\n",
    "flux1_etab = pd.concat([flux1.etablissement, flux1.provenance]).drop_duplicates()"
   ]
  },
  {
   "cell_type": "code",
   "execution_count": 726,
   "id": "a6763d79",
   "metadata": {},
   "outputs": [],
   "source": [
    "coord_etab.name = 'etablissement'\n",
    "flux2_etab.name = 'etablissement'\n",
    "flux1_etab.name = 'etablissement'"
   ]
  },
  {
   "cell_type": "code",
   "execution_count": 727,
   "id": "30032c9d",
   "metadata": {},
   "outputs": [],
   "source": [
    "#\n",
    "union = pd.merge(coord_etab, flux2_etab, how='outer', indicator=True)"
   ]
  },
  {
   "cell_type": "code",
   "execution_count": 728,
   "id": "fb0e8bbf",
   "metadata": {},
   "outputs": [
    {
     "data": {
      "text/html": [
       "<div>\n",
       "<style scoped>\n",
       "    .dataframe tbody tr th:only-of-type {\n",
       "        vertical-align: middle;\n",
       "    }\n",
       "\n",
       "    .dataframe tbody tr th {\n",
       "        vertical-align: top;\n",
       "    }\n",
       "\n",
       "    .dataframe thead th {\n",
       "        text-align: right;\n",
       "    }\n",
       "</style>\n",
       "<table border=\"1\" class=\"dataframe\">\n",
       "  <thead>\n",
       "    <tr style=\"text-align: right;\">\n",
       "      <th></th>\n",
       "      <th>etablissement</th>\n",
       "      <th>_merge</th>\n",
       "    </tr>\n",
       "  </thead>\n",
       "  <tbody>\n",
       "    <tr>\n",
       "      <th>32</th>\n",
       "      <td>CH HENRI DUNANT LA CHARITE-SUR-LOIRE</td>\n",
       "      <td>left_only</td>\n",
       "    </tr>\n",
       "    <tr>\n",
       "      <th>45</th>\n",
       "      <td>CHS SEVREY</td>\n",
       "      <td>left_only</td>\n",
       "    </tr>\n",
       "    <tr>\n",
       "      <th>59</th>\n",
       "      <td>HL CHAGNY</td>\n",
       "      <td>left_only</td>\n",
       "    </tr>\n",
       "  </tbody>\n",
       "</table>\n",
       "</div>"
      ],
      "text/plain": [
       "                           etablissement     _merge\n",
       "32  CH HENRI DUNANT LA CHARITE-SUR-LOIRE  left_only\n",
       "45                            CHS SEVREY  left_only\n",
       "59                             HL CHAGNY  left_only"
      ]
     },
     "execution_count": 728,
     "metadata": {},
     "output_type": "execute_result"
    }
   ],
   "source": [
    "#in coord but not in flux2\n",
    "union.loc[union._merge=='left_only', :]"
   ]
  },
  {
   "cell_type": "code",
   "execution_count": 673,
   "id": "626aa365",
   "metadata": {},
   "outputs": [],
   "source": [
    "tmp.loc[tmp.etablissement == 'CH DU TONNEROIS', 'etablissement'] = 'CH DU TONNERROIS'\n",
    "coord.loc[coord.etablissement == 'CH DU TONNEROIS', 'etablissement'] = 'CH DU TONNERROIS'\n",
    "flux1.loc[flux1.etablissement == 'CH DU TONNEROIS', 'etablissement'] = 'CH DU TONNERROIS'\n",
    "flux1.loc[flux1.provenance == 'CH DU TONNEROIS', 'provenance'] = 'CH DU TONNERROIS'\n",
    "flux2.loc[flux2.etablissement == 'CH DU TONNEROIS', 'etablissement'] = 'CH DU TONNERROIS'\n",
    "flux2.loc[flux2.provenance == 'CH DU TONNEROIS', 'provenance'] = 'CH DU TONNERROIS'"
   ]
  },
  {
   "cell_type": "code",
   "execution_count": 752,
   "id": "b25594cb",
   "metadata": {},
   "outputs": [],
   "source": [
    "def change_name(a, b):\n",
    "    tmp.loc[tmp.etablissement == a, 'etablissement'] = b\n",
    "    all_coord.loc[coord.etablissement == a, 'etablissement'] = b\n",
    "    flux1.loc[flux1.etablissement == a, 'etablissement'] = b\n",
    "    flux1.loc[flux1.provenance == a, 'provenance'] = b\n",
    "    flux2.loc[flux2.etablissement == a, 'etablissement'] = b\n",
    "    flux2.loc[flux2.provenance == a, 'provenance'] = b"
   ]
  },
  {
   "cell_type": "code",
   "execution_count": 753,
   "id": "56ad79a2",
   "metadata": {},
   "outputs": [
    {
     "ename": "TypeError",
     "evalue": "unhashable type: 'Series'",
     "output_type": "error",
     "traceback": [
      "\u001b[1;31m---------------------------------------------------------------------------\u001b[0m",
      "\u001b[1;31mTypeError\u001b[0m                                 Traceback (most recent call last)",
      "\u001b[1;32mC:\\Users\\FRANOI~1\\AppData\\Local\\Temp/ipykernel_15464/3989094940.py\u001b[0m in \u001b[0;36m<module>\u001b[1;34m\u001b[0m\n\u001b[1;32m----> 1\u001b[1;33m \u001b[0mchange_name\u001b[0m\u001b[1;33m(\u001b[0m\u001b[1;34m'CH DU TONNEROIS'\u001b[0m\u001b[1;33m,\u001b[0m \u001b[1;34m'CH DU TONNERROIS'\u001b[0m\u001b[1;33m)\u001b[0m\u001b[1;33m\u001b[0m\u001b[1;33m\u001b[0m\u001b[0m\n\u001b[0m\u001b[0;32m      2\u001b[0m \u001b[0mchange_name\u001b[0m\u001b[1;33m(\u001b[0m\u001b[1;34m'SARL JOUVENCE NUTRITION'\u001b[0m\u001b[1;33m,\u001b[0m \u001b[1;34m'SA MAISON DE JOUVENCE'\u001b[0m\u001b[1;33m)\u001b[0m\u001b[1;33m\u001b[0m\u001b[1;33m\u001b[0m\u001b[0m\n\u001b[0;32m      3\u001b[0m \u001b[0mchange_name\u001b[0m\u001b[1;33m(\u001b[0m\u001b[1;34m'CHRU LE BOCAGE DIJON'\u001b[0m\u001b[1;33m,\u001b[0m \u001b[1;34m'HOPITAL LE BOCAGE CHRU DIJON'\u001b[0m\u001b[1;33m)\u001b[0m\u001b[1;33m\u001b[0m\u001b[1;33m\u001b[0m\u001b[0m\n\u001b[0;32m      4\u001b[0m \u001b[0mchange_name\u001b[0m\u001b[1;33m(\u001b[0m\u001b[1;34m'HOTEL-DIEU DU CREUSOT'\u001b[0m\u001b[1;33m,\u001b[0m \u001b[1;34m'HOTEL DIEU DU CREUSOT'\u001b[0m\u001b[1;33m)\u001b[0m\u001b[1;33m\u001b[0m\u001b[1;33m\u001b[0m\u001b[0m\n",
      "\u001b[1;32mC:\\Users\\FRANOI~1\\AppData\\Local\\Temp/ipykernel_15464/2204340657.py\u001b[0m in \u001b[0;36mchange_name\u001b[1;34m(a, b)\u001b[0m\n\u001b[0;32m      1\u001b[0m \u001b[1;32mdef\u001b[0m \u001b[0mchange_name\u001b[0m\u001b[1;33m(\u001b[0m\u001b[0ma\u001b[0m\u001b[1;33m,\u001b[0m \u001b[0mb\u001b[0m\u001b[1;33m)\u001b[0m\u001b[1;33m:\u001b[0m\u001b[1;33m\u001b[0m\u001b[1;33m\u001b[0m\u001b[0m\n\u001b[0;32m      2\u001b[0m     \u001b[0mtmp\u001b[0m\u001b[1;33m.\u001b[0m\u001b[0mloc\u001b[0m\u001b[1;33m[\u001b[0m\u001b[0mtmp\u001b[0m\u001b[1;33m.\u001b[0m\u001b[0metablissement\u001b[0m \u001b[1;33m==\u001b[0m \u001b[0ma\u001b[0m\u001b[1;33m,\u001b[0m \u001b[1;34m'etablissement'\u001b[0m\u001b[1;33m]\u001b[0m \u001b[1;33m=\u001b[0m \u001b[0mb\u001b[0m\u001b[1;33m\u001b[0m\u001b[1;33m\u001b[0m\u001b[0m\n\u001b[1;32m----> 3\u001b[1;33m     \u001b[0mall_coord\u001b[0m\u001b[1;33m.\u001b[0m\u001b[0mloc\u001b[0m\u001b[1;33m[\u001b[0m\u001b[0mcoord\u001b[0m\u001b[1;33m.\u001b[0m\u001b[0metablissement\u001b[0m \u001b[1;33m==\u001b[0m \u001b[0ma\u001b[0m\u001b[1;33m,\u001b[0m \u001b[1;34m'etablissement'\u001b[0m\u001b[1;33m]\u001b[0m \u001b[1;33m=\u001b[0m \u001b[0mb\u001b[0m\u001b[1;33m\u001b[0m\u001b[1;33m\u001b[0m\u001b[0m\n\u001b[0m\u001b[0;32m      4\u001b[0m     \u001b[0mflux1\u001b[0m\u001b[1;33m.\u001b[0m\u001b[0mloc\u001b[0m\u001b[1;33m[\u001b[0m\u001b[0mflux1\u001b[0m\u001b[1;33m.\u001b[0m\u001b[0metablissement\u001b[0m \u001b[1;33m==\u001b[0m \u001b[0ma\u001b[0m\u001b[1;33m,\u001b[0m \u001b[1;34m'etablissement'\u001b[0m\u001b[1;33m]\u001b[0m \u001b[1;33m=\u001b[0m \u001b[0mb\u001b[0m\u001b[1;33m\u001b[0m\u001b[1;33m\u001b[0m\u001b[0m\n\u001b[0;32m      5\u001b[0m     \u001b[0mflux1\u001b[0m\u001b[1;33m.\u001b[0m\u001b[0mloc\u001b[0m\u001b[1;33m[\u001b[0m\u001b[0mflux1\u001b[0m\u001b[1;33m.\u001b[0m\u001b[0mprovenance\u001b[0m \u001b[1;33m==\u001b[0m \u001b[0ma\u001b[0m\u001b[1;33m,\u001b[0m \u001b[1;34m'provenance'\u001b[0m\u001b[1;33m]\u001b[0m \u001b[1;33m=\u001b[0m \u001b[0mb\u001b[0m\u001b[1;33m\u001b[0m\u001b[1;33m\u001b[0m\u001b[0m\n",
      "\u001b[1;32mc:\\users\\françoislegac\\environments\\bokeh-tuto\\lib\\site-packages\\pandas\\core\\indexing.py\u001b[0m in \u001b[0;36m__setitem__\u001b[1;34m(self, key, value)\u001b[0m\n\u001b[0;32m    717\u001b[0m         \u001b[1;32melse\u001b[0m\u001b[1;33m:\u001b[0m\u001b[1;33m\u001b[0m\u001b[1;33m\u001b[0m\u001b[0m\n\u001b[0;32m    718\u001b[0m             \u001b[0mkey\u001b[0m \u001b[1;33m=\u001b[0m \u001b[0mcom\u001b[0m\u001b[1;33m.\u001b[0m\u001b[0mapply_if_callable\u001b[0m\u001b[1;33m(\u001b[0m\u001b[0mkey\u001b[0m\u001b[1;33m,\u001b[0m \u001b[0mself\u001b[0m\u001b[1;33m.\u001b[0m\u001b[0mobj\u001b[0m\u001b[1;33m)\u001b[0m\u001b[1;33m\u001b[0m\u001b[1;33m\u001b[0m\u001b[0m\n\u001b[1;32m--> 719\u001b[1;33m         \u001b[0mindexer\u001b[0m \u001b[1;33m=\u001b[0m \u001b[0mself\u001b[0m\u001b[1;33m.\u001b[0m\u001b[0m_get_setitem_indexer\u001b[0m\u001b[1;33m(\u001b[0m\u001b[0mkey\u001b[0m\u001b[1;33m)\u001b[0m\u001b[1;33m\u001b[0m\u001b[1;33m\u001b[0m\u001b[0m\n\u001b[0m\u001b[0;32m    720\u001b[0m         \u001b[0mself\u001b[0m\u001b[1;33m.\u001b[0m\u001b[0m_has_valid_setitem_indexer\u001b[0m\u001b[1;33m(\u001b[0m\u001b[0mkey\u001b[0m\u001b[1;33m)\u001b[0m\u001b[1;33m\u001b[0m\u001b[1;33m\u001b[0m\u001b[0m\n\u001b[0;32m    721\u001b[0m \u001b[1;33m\u001b[0m\u001b[0m\n",
      "\u001b[1;32mc:\\users\\françoislegac\\environments\\bokeh-tuto\\lib\\site-packages\\pandas\\core\\indexing.py\u001b[0m in \u001b[0;36m_get_setitem_indexer\u001b[1;34m(self, key)\u001b[0m\n\u001b[0;32m    664\u001b[0m \u001b[1;33m\u001b[0m\u001b[0m\n\u001b[0;32m    665\u001b[0m         \u001b[1;32mtry\u001b[0m\u001b[1;33m:\u001b[0m\u001b[1;33m\u001b[0m\u001b[1;33m\u001b[0m\u001b[0m\n\u001b[1;32m--> 666\u001b[1;33m             \u001b[1;32mreturn\u001b[0m \u001b[0mself\u001b[0m\u001b[1;33m.\u001b[0m\u001b[0m_convert_to_indexer\u001b[0m\u001b[1;33m(\u001b[0m\u001b[0mkey\u001b[0m\u001b[1;33m,\u001b[0m \u001b[0maxis\u001b[0m\u001b[1;33m=\u001b[0m\u001b[1;36m0\u001b[0m\u001b[1;33m,\u001b[0m \u001b[0mis_setter\u001b[0m\u001b[1;33m=\u001b[0m\u001b[1;32mTrue\u001b[0m\u001b[1;33m)\u001b[0m\u001b[1;33m\u001b[0m\u001b[1;33m\u001b[0m\u001b[0m\n\u001b[0m\u001b[0;32m    667\u001b[0m         \u001b[1;32mexcept\u001b[0m \u001b[0mTypeError\u001b[0m \u001b[1;32mas\u001b[0m \u001b[0me\u001b[0m\u001b[1;33m:\u001b[0m\u001b[1;33m\u001b[0m\u001b[1;33m\u001b[0m\u001b[0m\n\u001b[0;32m    668\u001b[0m \u001b[1;33m\u001b[0m\u001b[0m\n",
      "\u001b[1;32mc:\\users\\françoislegac\\environments\\bokeh-tuto\\lib\\site-packages\\pandas\\core\\indexing.py\u001b[0m in \u001b[0;36m_convert_to_indexer\u001b[1;34m(self, key, axis, is_setter)\u001b[0m\n\u001b[0;32m   1255\u001b[0m                 \u001b[1;32mreturn\u001b[0m \u001b[0minds\u001b[0m\u001b[1;33m\u001b[0m\u001b[1;33m\u001b[0m\u001b[0m\n\u001b[0;32m   1256\u001b[0m             \u001b[1;32melse\u001b[0m\u001b[1;33m:\u001b[0m\u001b[1;33m\u001b[0m\u001b[1;33m\u001b[0m\u001b[0m\n\u001b[1;32m-> 1257\u001b[1;33m                 \u001b[1;32mreturn\u001b[0m \u001b[0mself\u001b[0m\u001b[1;33m.\u001b[0m\u001b[0m_get_listlike_indexer\u001b[0m\u001b[1;33m(\u001b[0m\u001b[0mkey\u001b[0m\u001b[1;33m,\u001b[0m \u001b[0maxis\u001b[0m\u001b[1;33m)\u001b[0m\u001b[1;33m[\u001b[0m\u001b[1;36m1\u001b[0m\u001b[1;33m]\u001b[0m\u001b[1;33m\u001b[0m\u001b[1;33m\u001b[0m\u001b[0m\n\u001b[0m\u001b[0;32m   1258\u001b[0m         \u001b[1;32melse\u001b[0m\u001b[1;33m:\u001b[0m\u001b[1;33m\u001b[0m\u001b[1;33m\u001b[0m\u001b[0m\n\u001b[0;32m   1259\u001b[0m             \u001b[1;32mtry\u001b[0m\u001b[1;33m:\u001b[0m\u001b[1;33m\u001b[0m\u001b[1;33m\u001b[0m\u001b[0m\n",
      "\u001b[1;32mc:\\users\\françoislegac\\environments\\bokeh-tuto\\lib\\site-packages\\pandas\\core\\indexing.py\u001b[0m in \u001b[0;36m_get_listlike_indexer\u001b[1;34m(self, key, axis)\u001b[0m\n\u001b[0;32m   1307\u001b[0m \u001b[1;33m\u001b[0m\u001b[0m\n\u001b[0;32m   1308\u001b[0m         \u001b[1;32mif\u001b[0m \u001b[0max\u001b[0m\u001b[1;33m.\u001b[0m\u001b[0m_index_as_unique\u001b[0m\u001b[1;33m:\u001b[0m\u001b[1;33m\u001b[0m\u001b[1;33m\u001b[0m\u001b[0m\n\u001b[1;32m-> 1309\u001b[1;33m             \u001b[0mindexer\u001b[0m \u001b[1;33m=\u001b[0m \u001b[0max\u001b[0m\u001b[1;33m.\u001b[0m\u001b[0mget_indexer_for\u001b[0m\u001b[1;33m(\u001b[0m\u001b[0mkeyarr\u001b[0m\u001b[1;33m)\u001b[0m\u001b[1;33m\u001b[0m\u001b[1;33m\u001b[0m\u001b[0m\n\u001b[0m\u001b[0;32m   1310\u001b[0m             \u001b[0mkeyarr\u001b[0m \u001b[1;33m=\u001b[0m \u001b[0max\u001b[0m\u001b[1;33m.\u001b[0m\u001b[0mreindex\u001b[0m\u001b[1;33m(\u001b[0m\u001b[0mkeyarr\u001b[0m\u001b[1;33m)\u001b[0m\u001b[1;33m[\u001b[0m\u001b[1;36m0\u001b[0m\u001b[1;33m]\u001b[0m\u001b[1;33m\u001b[0m\u001b[1;33m\u001b[0m\u001b[0m\n\u001b[0;32m   1311\u001b[0m         \u001b[1;32melse\u001b[0m\u001b[1;33m:\u001b[0m\u001b[1;33m\u001b[0m\u001b[1;33m\u001b[0m\u001b[0m\n",
      "\u001b[1;32mc:\\users\\françoislegac\\environments\\bokeh-tuto\\lib\\site-packages\\pandas\\core\\indexes\\base.py\u001b[0m in \u001b[0;36mget_indexer_for\u001b[1;34m(self, target, **kwargs)\u001b[0m\n\u001b[0;32m   5273\u001b[0m         \"\"\"\n\u001b[0;32m   5274\u001b[0m         \u001b[1;32mif\u001b[0m \u001b[0mself\u001b[0m\u001b[1;33m.\u001b[0m\u001b[0m_index_as_unique\u001b[0m\u001b[1;33m:\u001b[0m\u001b[1;33m\u001b[0m\u001b[1;33m\u001b[0m\u001b[0m\n\u001b[1;32m-> 5275\u001b[1;33m             \u001b[1;32mreturn\u001b[0m \u001b[0mself\u001b[0m\u001b[1;33m.\u001b[0m\u001b[0mget_indexer\u001b[0m\u001b[1;33m(\u001b[0m\u001b[0mtarget\u001b[0m\u001b[1;33m,\u001b[0m \u001b[1;33m**\u001b[0m\u001b[0mkwargs\u001b[0m\u001b[1;33m)\u001b[0m\u001b[1;33m\u001b[0m\u001b[1;33m\u001b[0m\u001b[0m\n\u001b[0m\u001b[0;32m   5276\u001b[0m         \u001b[0mindexer\u001b[0m\u001b[1;33m,\u001b[0m \u001b[0m_\u001b[0m \u001b[1;33m=\u001b[0m \u001b[0mself\u001b[0m\u001b[1;33m.\u001b[0m\u001b[0mget_indexer_non_unique\u001b[0m\u001b[1;33m(\u001b[0m\u001b[0mtarget\u001b[0m\u001b[1;33m)\u001b[0m\u001b[1;33m\u001b[0m\u001b[1;33m\u001b[0m\u001b[0m\n\u001b[0;32m   5277\u001b[0m         \u001b[1;32mreturn\u001b[0m \u001b[0mindexer\u001b[0m\u001b[1;33m\u001b[0m\u001b[1;33m\u001b[0m\u001b[0m\n",
      "\u001b[1;32mc:\\users\\françoislegac\\environments\\bokeh-tuto\\lib\\site-packages\\pandas\\core\\indexes\\base.py\u001b[0m in \u001b[0;36mget_indexer\u001b[1;34m(self, target, method, limit, tolerance)\u001b[0m\n\u001b[0;32m   3484\u001b[0m             )\n\u001b[0;32m   3485\u001b[0m \u001b[1;33m\u001b[0m\u001b[0m\n\u001b[1;32m-> 3486\u001b[1;33m         \u001b[1;32mreturn\u001b[0m \u001b[0mself\u001b[0m\u001b[1;33m.\u001b[0m\u001b[0m_get_indexer\u001b[0m\u001b[1;33m(\u001b[0m\u001b[0mtarget\u001b[0m\u001b[1;33m,\u001b[0m \u001b[0mmethod\u001b[0m\u001b[1;33m,\u001b[0m \u001b[0mlimit\u001b[0m\u001b[1;33m,\u001b[0m \u001b[0mtolerance\u001b[0m\u001b[1;33m)\u001b[0m\u001b[1;33m\u001b[0m\u001b[1;33m\u001b[0m\u001b[0m\n\u001b[0m\u001b[0;32m   3487\u001b[0m \u001b[1;33m\u001b[0m\u001b[0m\n\u001b[0;32m   3488\u001b[0m     def _get_indexer(\n",
      "\u001b[1;32mc:\\users\\françoislegac\\environments\\bokeh-tuto\\lib\\site-packages\\pandas\\core\\indexes\\base.py\u001b[0m in \u001b[0;36m_get_indexer\u001b[1;34m(self, target, method, limit, tolerance)\u001b[0m\n\u001b[0;32m   3501\u001b[0m             \u001b[0mthis\u001b[0m \u001b[1;33m=\u001b[0m \u001b[0mself\u001b[0m\u001b[1;33m.\u001b[0m\u001b[0mastype\u001b[0m\u001b[1;33m(\u001b[0m\u001b[0mdtype\u001b[0m\u001b[1;33m,\u001b[0m \u001b[0mcopy\u001b[0m\u001b[1;33m=\u001b[0m\u001b[1;32mFalse\u001b[0m\u001b[1;33m)\u001b[0m\u001b[1;33m\u001b[0m\u001b[1;33m\u001b[0m\u001b[0m\n\u001b[0;32m   3502\u001b[0m             \u001b[0mtarget\u001b[0m \u001b[1;33m=\u001b[0m \u001b[0mtarget\u001b[0m\u001b[1;33m.\u001b[0m\u001b[0mastype\u001b[0m\u001b[1;33m(\u001b[0m\u001b[0mdtype\u001b[0m\u001b[1;33m,\u001b[0m \u001b[0mcopy\u001b[0m\u001b[1;33m=\u001b[0m\u001b[1;32mFalse\u001b[0m\u001b[1;33m)\u001b[0m\u001b[1;33m\u001b[0m\u001b[1;33m\u001b[0m\u001b[0m\n\u001b[1;32m-> 3503\u001b[1;33m             return this.get_indexer(\n\u001b[0m\u001b[0;32m   3504\u001b[0m                 \u001b[0mtarget\u001b[0m\u001b[1;33m,\u001b[0m \u001b[0mmethod\u001b[0m\u001b[1;33m=\u001b[0m\u001b[0mmethod\u001b[0m\u001b[1;33m,\u001b[0m \u001b[0mlimit\u001b[0m\u001b[1;33m=\u001b[0m\u001b[0mlimit\u001b[0m\u001b[1;33m,\u001b[0m \u001b[0mtolerance\u001b[0m\u001b[1;33m=\u001b[0m\u001b[0mtolerance\u001b[0m\u001b[1;33m\u001b[0m\u001b[1;33m\u001b[0m\u001b[0m\n\u001b[0;32m   3505\u001b[0m             )\n",
      "\u001b[1;32mc:\\users\\françoislegac\\environments\\bokeh-tuto\\lib\\site-packages\\pandas\\core\\indexes\\base.py\u001b[0m in \u001b[0;36mget_indexer\u001b[1;34m(self, target, method, limit, tolerance)\u001b[0m\n\u001b[0;32m   3484\u001b[0m             )\n\u001b[0;32m   3485\u001b[0m \u001b[1;33m\u001b[0m\u001b[0m\n\u001b[1;32m-> 3486\u001b[1;33m         \u001b[1;32mreturn\u001b[0m \u001b[0mself\u001b[0m\u001b[1;33m.\u001b[0m\u001b[0m_get_indexer\u001b[0m\u001b[1;33m(\u001b[0m\u001b[0mtarget\u001b[0m\u001b[1;33m,\u001b[0m \u001b[0mmethod\u001b[0m\u001b[1;33m,\u001b[0m \u001b[0mlimit\u001b[0m\u001b[1;33m,\u001b[0m \u001b[0mtolerance\u001b[0m\u001b[1;33m)\u001b[0m\u001b[1;33m\u001b[0m\u001b[1;33m\u001b[0m\u001b[0m\n\u001b[0m\u001b[0;32m   3487\u001b[0m \u001b[1;33m\u001b[0m\u001b[0m\n\u001b[0;32m   3488\u001b[0m     def _get_indexer(\n",
      "\u001b[1;32mc:\\users\\françoislegac\\environments\\bokeh-tuto\\lib\\site-packages\\pandas\\core\\indexes\\base.py\u001b[0m in \u001b[0;36m_get_indexer\u001b[1;34m(self, target, method, limit, tolerance)\u001b[0m\n\u001b[0;32m   3510\u001b[0m             \u001b[0mindexer\u001b[0m \u001b[1;33m=\u001b[0m \u001b[0mself\u001b[0m\u001b[1;33m.\u001b[0m\u001b[0m_get_nearest_indexer\u001b[0m\u001b[1;33m(\u001b[0m\u001b[0mtarget\u001b[0m\u001b[1;33m,\u001b[0m \u001b[0mlimit\u001b[0m\u001b[1;33m,\u001b[0m \u001b[0mtolerance\u001b[0m\u001b[1;33m)\u001b[0m\u001b[1;33m\u001b[0m\u001b[1;33m\u001b[0m\u001b[0m\n\u001b[0;32m   3511\u001b[0m         \u001b[1;32melse\u001b[0m\u001b[1;33m:\u001b[0m\u001b[1;33m\u001b[0m\u001b[1;33m\u001b[0m\u001b[0m\n\u001b[1;32m-> 3512\u001b[1;33m             \u001b[0mindexer\u001b[0m \u001b[1;33m=\u001b[0m \u001b[0mself\u001b[0m\u001b[1;33m.\u001b[0m\u001b[0m_engine\u001b[0m\u001b[1;33m.\u001b[0m\u001b[0mget_indexer\u001b[0m\u001b[1;33m(\u001b[0m\u001b[0mtarget\u001b[0m\u001b[1;33m.\u001b[0m\u001b[0m_get_engine_target\u001b[0m\u001b[1;33m(\u001b[0m\u001b[1;33m)\u001b[0m\u001b[1;33m)\u001b[0m\u001b[1;33m\u001b[0m\u001b[1;33m\u001b[0m\u001b[0m\n\u001b[0m\u001b[0;32m   3513\u001b[0m \u001b[1;33m\u001b[0m\u001b[0m\n\u001b[0;32m   3514\u001b[0m         \u001b[1;32mreturn\u001b[0m \u001b[0mensure_platform_int\u001b[0m\u001b[1;33m(\u001b[0m\u001b[0mindexer\u001b[0m\u001b[1;33m)\u001b[0m\u001b[1;33m\u001b[0m\u001b[1;33m\u001b[0m\u001b[0m\n",
      "\u001b[1;32mc:\\users\\françoislegac\\environments\\bokeh-tuto\\lib\\site-packages\\pandas\\_libs\\index.pyx\u001b[0m in \u001b[0;36mpandas._libs.index.IndexEngine.get_indexer\u001b[1;34m()\u001b[0m\n",
      "\u001b[1;32mpandas\\_libs\\hashtable_class_helper.pxi\u001b[0m in \u001b[0;36mpandas._libs.hashtable.PyObjectHashTable.lookup\u001b[1;34m()\u001b[0m\n",
      "\u001b[1;31mTypeError\u001b[0m: unhashable type: 'Series'"
     ]
    }
   ],
   "source": [
    "change_name('CH DU TONNEROIS', 'CH DU TONNERROIS')\n",
    "change_name('SARL JOUVENCE NUTRITION', 'SA MAISON DE JOUVENCE')\n",
    "change_name('CHRU LE BOCAGE DIJON', 'HOPITAL LE BOCAGE CHRU DIJON')\n",
    "change_name('HOTEL-DIEU DU CREUSOT', 'HOTEL DIEU DU CREUSOT')"
   ]
  },
  {
   "cell_type": "code",
   "execution_count": 691,
   "id": "7cde148f",
   "metadata": {},
   "outputs": [
    {
     "data": {
      "text/plain": [
       "Series([], Name: etablissement, dtype: object)"
      ]
     },
     "execution_count": 691,
     "metadata": {},
     "output_type": "execute_result"
    }
   ],
   "source": [
    "flux2_etab[flux2_etab.str.find('CHAGNY') != -1]"
   ]
  },
  {
   "cell_type": "code",
   "execution_count": null,
   "id": "65ad53f4",
   "metadata": {},
   "outputs": [],
   "source": []
  },
  {
   "cell_type": "code",
   "execution_count": 697,
   "id": "15a8a742",
   "metadata": {},
   "outputs": [
    {
     "data": {
      "text/html": [
       "<div>\n",
       "<style scoped>\n",
       "    .dataframe tbody tr th:only-of-type {\n",
       "        vertical-align: middle;\n",
       "    }\n",
       "\n",
       "    .dataframe tbody tr th {\n",
       "        vertical-align: top;\n",
       "    }\n",
       "\n",
       "    .dataframe thead th {\n",
       "        text-align: right;\n",
       "    }\n",
       "</style>\n",
       "<table border=\"1\" class=\"dataframe\">\n",
       "  <thead>\n",
       "    <tr style=\"text-align: right;\">\n",
       "      <th></th>\n",
       "      <th>etablissement</th>\n",
       "    </tr>\n",
       "  </thead>\n",
       "  <tbody>\n",
       "    <tr>\n",
       "      <th>78</th>\n",
       "      <td>CH DE BAR SUR AUBE</td>\n",
       "    </tr>\n",
       "    <tr>\n",
       "      <th>79</th>\n",
       "      <td>HOPITAL DE JOINVILLE</td>\n",
       "    </tr>\n",
       "    <tr>\n",
       "      <th>80</th>\n",
       "      <td>CLINIQUE DE LA COMPASSION</td>\n",
       "    </tr>\n",
       "    <tr>\n",
       "      <th>81</th>\n",
       "      <td>CH DE BOURBONNE-LES-BAINS</td>\n",
       "    </tr>\n",
       "    <tr>\n",
       "      <th>82</th>\n",
       "      <td>HOTEL DIEU DU CREUSOT</td>\n",
       "    </tr>\n",
       "    <tr>\n",
       "      <th>83</th>\n",
       "      <td>CLINIQUE DU PARC</td>\n",
       "    </tr>\n",
       "    <tr>\n",
       "      <th>84</th>\n",
       "      <td>HOPITAL PRIVE DIJON BOURGOGNE</td>\n",
       "    </tr>\n",
       "    <tr>\n",
       "      <th>85</th>\n",
       "      <td>CENTRE GEORGE-FRANCOIS LECLERC</td>\n",
       "    </tr>\n",
       "    <tr>\n",
       "      <th>86</th>\n",
       "      <td>CH LA CHARTREUSE</td>\n",
       "    </tr>\n",
       "    <tr>\n",
       "      <th>87</th>\n",
       "      <td>POLYCLINIQUE DU VAL DE LOIRE</td>\n",
       "    </tr>\n",
       "    <tr>\n",
       "      <th>88</th>\n",
       "      <td>CLINIQUE PAUL PIQUET</td>\n",
       "    </tr>\n",
       "    <tr>\n",
       "      <th>89</th>\n",
       "      <td>CH ROBERT MORLEVAT</td>\n",
       "    </tr>\n",
       "    <tr>\n",
       "      <th>90</th>\n",
       "      <td>POLYCLINIQUE DU PARC DREVON</td>\n",
       "    </tr>\n",
       "    <tr>\n",
       "      <th>91</th>\n",
       "      <td>CLINIQUE MEDICO-CHIRURGICALE</td>\n",
       "    </tr>\n",
       "  </tbody>\n",
       "</table>\n",
       "</div>"
      ],
      "text/plain": [
       "                     etablissement\n",
       "78              CH DE BAR SUR AUBE\n",
       "79            HOPITAL DE JOINVILLE\n",
       "80       CLINIQUE DE LA COMPASSION\n",
       "81       CH DE BOURBONNE-LES-BAINS\n",
       "82           HOTEL DIEU DU CREUSOT\n",
       "83                CLINIQUE DU PARC\n",
       "84   HOPITAL PRIVE DIJON BOURGOGNE\n",
       "85  CENTRE GEORGE-FRANCOIS LECLERC\n",
       "86                CH LA CHARTREUSE\n",
       "87    POLYCLINIQUE DU VAL DE LOIRE\n",
       "88            CLINIQUE PAUL PIQUET\n",
       "89              CH ROBERT MORLEVAT\n",
       "90     POLYCLINIQUE DU PARC DREVON\n",
       "91    CLINIQUE MEDICO-CHIRURGICALE"
      ]
     },
     "execution_count": 697,
     "metadata": {},
     "output_type": "execute_result"
    }
   ],
   "source": [
    "#in flux2 but not in coord\n",
    "union.loc[union._merge=='right_only', :].drop('_merge', axis=1)"
   ]
  },
  {
   "cell_type": "code",
   "execution_count": null,
   "id": "f6d276ea",
   "metadata": {},
   "outputs": [],
   "source": [
    "# CH DU TONNEROIS => CH DU TONNERROIS\n",
    "# SARL JOUVENCE NUTRITION => SA MAISON DE JOUVENCE\n",
    "# CHRU LE BOCAGE DIJON = >HOPITAL LE BOCAGE CHRU DIJON"
   ]
  },
  {
   "cell_type": "code",
   "execution_count": 711,
   "id": "bcc6c3f8",
   "metadata": {},
   "outputs": [],
   "source": [
    "missing_coord = pd.read_csv('data3/missing_coord.csv', sep=';', encoding='cp1252', index_col=0)\n",
    "missing_coord.columns = ['etablissement', 'adresse', 'latitude', 'longitude']\n",
    "\n",
    "missing_coord['latitude'] = missing_coord['latitude'].str.replace(',', '.')\n",
    "missing_coord['longitude'] = missing_coord['longitude'].str.replace(',', '.')"
   ]
  },
  {
   "cell_type": "code",
   "execution_count": 722,
   "id": "c5779a20",
   "metadata": {},
   "outputs": [],
   "source": [
    "missing_coord.loc[missing_coord.etablissement == 'CH ROBERT MORLEVAT', 'latitude'] = 47.495749\n",
    "missing_coord.loc[missing_coord.etablissement == 'CH ROBERT MORLEVAT', 'longitude'] = 4.34625\n",
    "\n",
    "missing_coord.loc[missing_coord.etablissement == 'POLYCLINIQUE DU PARC DREVON', 'latitude'] = 47.31217\n",
    "missing_coord.loc[missing_coord.etablissement == 'POLYCLINIQUE DU PARC DREVON', 'longitude'] = 5.04348\n",
    "\n",
    "missing_coord.loc[missing_coord.etablissement == 'CLINIQUE MEDICO-CHIRURGICALE', 'latitude'] = 47.36096\n",
    "missing_coord.loc[missing_coord.etablissement == 'CLINIQUE MEDICO-CHIRURGICALE', 'longitude'] =  5.05105"
   ]
  },
  {
   "cell_type": "code",
   "execution_count": 723,
   "id": "36b47c35",
   "metadata": {},
   "outputs": [],
   "source": [
    "all_coord = pd.concat([coord, missing_coord])"
   ]
  },
  {
   "cell_type": "code",
   "execution_count": 724,
   "id": "faae4f7b",
   "metadata": {},
   "outputs": [
    {
     "data": {
      "text/html": [
       "<div>\n",
       "<style scoped>\n",
       "    .dataframe tbody tr th:only-of-type {\n",
       "        vertical-align: middle;\n",
       "    }\n",
       "\n",
       "    .dataframe tbody tr th {\n",
       "        vertical-align: top;\n",
       "    }\n",
       "\n",
       "    .dataframe thead th {\n",
       "        text-align: right;\n",
       "    }\n",
       "</style>\n",
       "<table border=\"1\" class=\"dataframe\">\n",
       "  <thead>\n",
       "    <tr style=\"text-align: right;\">\n",
       "      <th></th>\n",
       "      <th>etablissement</th>\n",
       "      <th>adresse</th>\n",
       "      <th>latitude</th>\n",
       "      <th>longitude</th>\n",
       "    </tr>\n",
       "  </thead>\n",
       "  <tbody>\n",
       "    <tr>\n",
       "      <th>0</th>\n",
       "      <td>AIHP CENTRE ARMANCON</td>\n",
       "      <td>18 Bis Rue Pierre Semard</td>\n",
       "      <td>47.95981</td>\n",
       "      <td>3.53041</td>\n",
       "    </tr>\n",
       "    <tr>\n",
       "      <th>1</th>\n",
       "      <td>C.R.B LES ROSIERS</td>\n",
       "      <td>45 Bd Henri Bazin</td>\n",
       "      <td>47.30041</td>\n",
       "      <td>5.01900</td>\n",
       "    </tr>\n",
       "    <tr>\n",
       "      <th>2</th>\n",
       "      <td>CENTRE COLBERT MEDECINE ET SSR</td>\n",
       "      <td>4 Rue Étienne Litaud</td>\n",
       "      <td>46.99469</td>\n",
       "      <td>3.15970</td>\n",
       "    </tr>\n",
       "    <tr>\n",
       "      <th>3</th>\n",
       "      <td>CENTRE DE CONVALESCENCE</td>\n",
       "      <td>67 Rte d'Ahuy</td>\n",
       "      <td>47.34583</td>\n",
       "      <td>5.03471</td>\n",
       "    </tr>\n",
       "    <tr>\n",
       "      <th>4</th>\n",
       "      <td>CENTRE MEDICAL DE LA VENERIE</td>\n",
       "      <td>Lieu Dit La Vénerie</td>\n",
       "      <td>47.2668</td>\n",
       "      <td>3.28960</td>\n",
       "    </tr>\n",
       "    <tr>\n",
       "      <th>...</th>\n",
       "      <td>...</td>\n",
       "      <td>...</td>\n",
       "      <td>...</td>\n",
       "      <td>...</td>\n",
       "    </tr>\n",
       "    <tr>\n",
       "      <th>88</th>\n",
       "      <td>POLYCLINIQUE DU VAL DE LOIRE</td>\n",
       "      <td>49 Bd Jérôme Trésaguet</td>\n",
       "      <td>46.99564</td>\n",
       "      <td>3.14828</td>\n",
       "    </tr>\n",
       "    <tr>\n",
       "      <th>89</th>\n",
       "      <td>CLINIQUE PAUL PIQUET</td>\n",
       "      <td>12 Rue Pierre Castets</td>\n",
       "      <td>48.20712</td>\n",
       "      <td>3.29428</td>\n",
       "    </tr>\n",
       "    <tr>\n",
       "      <th>90</th>\n",
       "      <td>CH ROBERT MORLEVAT</td>\n",
       "      <td>3 Av. Pasteur</td>\n",
       "      <td>47.495749</td>\n",
       "      <td>4.34625</td>\n",
       "    </tr>\n",
       "    <tr>\n",
       "      <th>91</th>\n",
       "      <td>POLYCLINIQUE DU PARC DREVON</td>\n",
       "      <td>18 Cr Général de Gaulle</td>\n",
       "      <td>47.31217</td>\n",
       "      <td>5.04348</td>\n",
       "    </tr>\n",
       "    <tr>\n",
       "      <th>92</th>\n",
       "      <td>CLINIQUE MEDICO-CHIRURGICALE</td>\n",
       "      <td>27 avenue Françoise Giroud</td>\n",
       "      <td>47.36096</td>\n",
       "      <td>5.05105</td>\n",
       "    </tr>\n",
       "  </tbody>\n",
       "</table>\n",
       "<p>92 rows × 4 columns</p>\n",
       "</div>"
      ],
      "text/plain": [
       "                     etablissement                     adresse   latitude  \\\n",
       "0             AIHP CENTRE ARMANCON    18 Bis Rue Pierre Semard   47.95981   \n",
       "1                C.R.B LES ROSIERS           45 Bd Henri Bazin   47.30041   \n",
       "2   CENTRE COLBERT MEDECINE ET SSR        4 Rue Étienne Litaud   46.99469   \n",
       "3          CENTRE DE CONVALESCENCE               67 Rte d'Ahuy   47.34583   \n",
       "4     CENTRE MEDICAL DE LA VENERIE         Lieu Dit La Vénerie    47.2668   \n",
       "..                             ...                         ...        ...   \n",
       "88    POLYCLINIQUE DU VAL DE LOIRE      49 Bd Jérôme Trésaguet   46.99564   \n",
       "89            CLINIQUE PAUL PIQUET       12 Rue Pierre Castets   48.20712   \n",
       "90              CH ROBERT MORLEVAT               3 Av. Pasteur  47.495749   \n",
       "91     POLYCLINIQUE DU PARC DREVON     18 Cr Général de Gaulle   47.31217   \n",
       "92    CLINIQUE MEDICO-CHIRURGICALE  27 avenue Françoise Giroud   47.36096   \n",
       "\n",
       "    longitude  \n",
       "0     3.53041  \n",
       "1     5.01900  \n",
       "2     3.15970  \n",
       "3     5.03471  \n",
       "4     3.28960  \n",
       "..        ...  \n",
       "88    3.14828  \n",
       "89    3.29428  \n",
       "90    4.34625  \n",
       "91    5.04348  \n",
       "92    5.05105  \n",
       "\n",
       "[92 rows x 4 columns]"
      ]
     },
     "execution_count": 724,
     "metadata": {},
     "output_type": "execute_result"
    }
   ],
   "source": [
    "all_coord"
   ]
  },
  {
   "cell_type": "code",
   "execution_count": 731,
   "id": "cfb922d2",
   "metadata": {},
   "outputs": [
    {
     "data": {
      "text/html": [
       "<div>\n",
       "<style scoped>\n",
       "    .dataframe tbody tr th:only-of-type {\n",
       "        vertical-align: middle;\n",
       "    }\n",
       "\n",
       "    .dataframe tbody tr th {\n",
       "        vertical-align: top;\n",
       "    }\n",
       "\n",
       "    .dataframe thead th {\n",
       "        text-align: right;\n",
       "    }\n",
       "</style>\n",
       "<table border=\"1\" class=\"dataframe\">\n",
       "  <thead>\n",
       "    <tr style=\"text-align: right;\">\n",
       "      <th></th>\n",
       "      <th>etablissement</th>\n",
       "      <th>_merge</th>\n",
       "    </tr>\n",
       "  </thead>\n",
       "  <tbody>\n",
       "    <tr>\n",
       "      <th>78</th>\n",
       "      <td>CH DE BAR SUR AUBE</td>\n",
       "      <td>right_only</td>\n",
       "    </tr>\n",
       "    <tr>\n",
       "      <th>79</th>\n",
       "      <td>HOPITAL DE JOINVILLE</td>\n",
       "      <td>right_only</td>\n",
       "    </tr>\n",
       "    <tr>\n",
       "      <th>80</th>\n",
       "      <td>CLINIQUE DE LA COMPASSION</td>\n",
       "      <td>right_only</td>\n",
       "    </tr>\n",
       "    <tr>\n",
       "      <th>81</th>\n",
       "      <td>CH DE BOURBONNE-LES-BAINS</td>\n",
       "      <td>right_only</td>\n",
       "    </tr>\n",
       "    <tr>\n",
       "      <th>82</th>\n",
       "      <td>HOTEL DIEU DU CREUSOT</td>\n",
       "      <td>right_only</td>\n",
       "    </tr>\n",
       "    <tr>\n",
       "      <th>83</th>\n",
       "      <td>CLINIQUE DU PARC</td>\n",
       "      <td>right_only</td>\n",
       "    </tr>\n",
       "    <tr>\n",
       "      <th>84</th>\n",
       "      <td>HOPITAL PRIVE DIJON BOURGOGNE</td>\n",
       "      <td>right_only</td>\n",
       "    </tr>\n",
       "    <tr>\n",
       "      <th>85</th>\n",
       "      <td>CENTRE GEORGE-FRANCOIS LECLERC</td>\n",
       "      <td>right_only</td>\n",
       "    </tr>\n",
       "    <tr>\n",
       "      <th>86</th>\n",
       "      <td>CH LA CHARTREUSE</td>\n",
       "      <td>right_only</td>\n",
       "    </tr>\n",
       "    <tr>\n",
       "      <th>87</th>\n",
       "      <td>POLYCLINIQUE DU VAL DE LOIRE</td>\n",
       "      <td>right_only</td>\n",
       "    </tr>\n",
       "    <tr>\n",
       "      <th>88</th>\n",
       "      <td>CLINIQUE PAUL PIQUET</td>\n",
       "      <td>right_only</td>\n",
       "    </tr>\n",
       "    <tr>\n",
       "      <th>89</th>\n",
       "      <td>CH ROBERT MORLEVAT</td>\n",
       "      <td>right_only</td>\n",
       "    </tr>\n",
       "    <tr>\n",
       "      <th>90</th>\n",
       "      <td>POLYCLINIQUE DU PARC DREVON</td>\n",
       "      <td>right_only</td>\n",
       "    </tr>\n",
       "    <tr>\n",
       "      <th>91</th>\n",
       "      <td>CLINIQUE MEDICO-CHIRURGICALE</td>\n",
       "      <td>right_only</td>\n",
       "    </tr>\n",
       "  </tbody>\n",
       "</table>\n",
       "</div>"
      ],
      "text/plain": [
       "                     etablissement      _merge\n",
       "78              CH DE BAR SUR AUBE  right_only\n",
       "79            HOPITAL DE JOINVILLE  right_only\n",
       "80       CLINIQUE DE LA COMPASSION  right_only\n",
       "81       CH DE BOURBONNE-LES-BAINS  right_only\n",
       "82           HOTEL DIEU DU CREUSOT  right_only\n",
       "83                CLINIQUE DU PARC  right_only\n",
       "84   HOPITAL PRIVE DIJON BOURGOGNE  right_only\n",
       "85  CENTRE GEORGE-FRANCOIS LECLERC  right_only\n",
       "86                CH LA CHARTREUSE  right_only\n",
       "87    POLYCLINIQUE DU VAL DE LOIRE  right_only\n",
       "88            CLINIQUE PAUL PIQUET  right_only\n",
       "89              CH ROBERT MORLEVAT  right_only\n",
       "90     POLYCLINIQUE DU PARC DREVON  right_only\n",
       "91    CLINIQUE MEDICO-CHIRURGICALE  right_only"
      ]
     },
     "execution_count": 731,
     "metadata": {},
     "output_type": "execute_result"
    }
   ],
   "source": [
    "#last check\n",
    "union.loc[union._merge=='right_only', :]"
   ]
  },
  {
   "cell_type": "code",
   "execution_count": 760,
   "id": "5c829ebf",
   "metadata": {},
   "outputs": [],
   "source": [
    "all_coord.loc[all_coord.etablissement== 'HOTEL-DIEU DU CREUSOT', 'etablissement'] = 'HOTEL DIEU DU CREUSOT'"
   ]
  },
  {
   "cell_type": "code",
   "execution_count": 761,
   "id": "1fbe51d0",
   "metadata": {},
   "outputs": [],
   "source": [
    "\n",
    "\n",
    "coord_etab = all_coord['etablissement'].drop_duplicates()\n",
    "flux2_etab = pd.concat([flux2.etablissement, flux2.provenance]).drop_duplicates()\n",
    "flux1_etab = pd.concat([flux1.etablissement, flux1.provenance]).drop_duplicates()\n",
    "\n",
    "coord_etab.name = 'etablissement'\n",
    "flux2_etab.name = 'etablissement'\n",
    "flux1_etab.name = 'etablissement'\n",
    "\n",
    "union = pd.merge(coord_etab, flux2_etab, how='outer', indicator=True)"
   ]
  },
  {
   "cell_type": "code",
   "execution_count": 762,
   "id": "65f26be4",
   "metadata": {},
   "outputs": [
    {
     "data": {
      "text/html": [
       "<div>\n",
       "<style scoped>\n",
       "    .dataframe tbody tr th:only-of-type {\n",
       "        vertical-align: middle;\n",
       "    }\n",
       "\n",
       "    .dataframe tbody tr th {\n",
       "        vertical-align: top;\n",
       "    }\n",
       "\n",
       "    .dataframe thead th {\n",
       "        text-align: right;\n",
       "    }\n",
       "</style>\n",
       "<table border=\"1\" class=\"dataframe\">\n",
       "  <thead>\n",
       "    <tr style=\"text-align: right;\">\n",
       "      <th></th>\n",
       "      <th>etablissement</th>\n",
       "      <th>_merge</th>\n",
       "    </tr>\n",
       "  </thead>\n",
       "  <tbody>\n",
       "  </tbody>\n",
       "</table>\n",
       "</div>"
      ],
      "text/plain": [
       "Empty DataFrame\n",
       "Columns: [etablissement, _merge]\n",
       "Index: []"
      ]
     },
     "execution_count": 762,
     "metadata": {},
     "output_type": "execute_result"
    }
   ],
   "source": [
    "union.loc[union._merge=='right_only']"
   ]
  },
  {
   "cell_type": "code",
   "execution_count": 764,
   "id": "e4f32270",
   "metadata": {},
   "outputs": [
    {
     "data": {
      "text/html": [
       "<div>\n",
       "<style scoped>\n",
       "    .dataframe tbody tr th:only-of-type {\n",
       "        vertical-align: middle;\n",
       "    }\n",
       "\n",
       "    .dataframe tbody tr th {\n",
       "        vertical-align: top;\n",
       "    }\n",
       "\n",
       "    .dataframe thead th {\n",
       "        text-align: right;\n",
       "    }\n",
       "</style>\n",
       "<table border=\"1\" class=\"dataframe\">\n",
       "  <thead>\n",
       "    <tr style=\"text-align: right;\">\n",
       "      <th></th>\n",
       "      <th>etablissement</th>\n",
       "      <th>adresse</th>\n",
       "      <th>latitude</th>\n",
       "      <th>longitude</th>\n",
       "    </tr>\n",
       "  </thead>\n",
       "  <tbody>\n",
       "    <tr>\n",
       "      <th>0</th>\n",
       "      <td>AIHP CENTRE ARMANCON</td>\n",
       "      <td>18 Bis Rue Pierre Semard</td>\n",
       "      <td>47.95981</td>\n",
       "      <td>3.53041</td>\n",
       "    </tr>\n",
       "    <tr>\n",
       "      <th>1</th>\n",
       "      <td>C.R.B LES ROSIERS</td>\n",
       "      <td>45 Bd Henri Bazin</td>\n",
       "      <td>47.30041</td>\n",
       "      <td>5.01900</td>\n",
       "    </tr>\n",
       "    <tr>\n",
       "      <th>2</th>\n",
       "      <td>CENTRE COLBERT MEDECINE ET SSR</td>\n",
       "      <td>4 Rue Étienne Litaud</td>\n",
       "      <td>46.99469</td>\n",
       "      <td>3.15970</td>\n",
       "    </tr>\n",
       "    <tr>\n",
       "      <th>3</th>\n",
       "      <td>CENTRE DE CONVALESCENCE</td>\n",
       "      <td>67 Rte d'Ahuy</td>\n",
       "      <td>47.34583</td>\n",
       "      <td>5.03471</td>\n",
       "    </tr>\n",
       "    <tr>\n",
       "      <th>4</th>\n",
       "      <td>CENTRE MEDICAL DE LA VENERIE</td>\n",
       "      <td>Lieu Dit La Vénerie</td>\n",
       "      <td>47.2668</td>\n",
       "      <td>3.28960</td>\n",
       "    </tr>\n",
       "    <tr>\n",
       "      <th>...</th>\n",
       "      <td>...</td>\n",
       "      <td>...</td>\n",
       "      <td>...</td>\n",
       "      <td>...</td>\n",
       "    </tr>\n",
       "    <tr>\n",
       "      <th>88</th>\n",
       "      <td>POLYCLINIQUE DU VAL DE LOIRE</td>\n",
       "      <td>49 Bd Jérôme Trésaguet</td>\n",
       "      <td>46.99564</td>\n",
       "      <td>3.14828</td>\n",
       "    </tr>\n",
       "    <tr>\n",
       "      <th>89</th>\n",
       "      <td>CLINIQUE PAUL PIQUET</td>\n",
       "      <td>12 Rue Pierre Castets</td>\n",
       "      <td>48.20712</td>\n",
       "      <td>3.29428</td>\n",
       "    </tr>\n",
       "    <tr>\n",
       "      <th>90</th>\n",
       "      <td>CH ROBERT MORLEVAT</td>\n",
       "      <td>3 Av. Pasteur</td>\n",
       "      <td>47.495749</td>\n",
       "      <td>4.34625</td>\n",
       "    </tr>\n",
       "    <tr>\n",
       "      <th>91</th>\n",
       "      <td>POLYCLINIQUE DU PARC DREVON</td>\n",
       "      <td>18 Cr Général de Gaulle</td>\n",
       "      <td>47.31217</td>\n",
       "      <td>5.04348</td>\n",
       "    </tr>\n",
       "    <tr>\n",
       "      <th>92</th>\n",
       "      <td>CLINIQUE MEDICO-CHIRURGICALE</td>\n",
       "      <td>27 avenue Françoise Giroud</td>\n",
       "      <td>47.36096</td>\n",
       "      <td>5.05105</td>\n",
       "    </tr>\n",
       "  </tbody>\n",
       "</table>\n",
       "<p>92 rows × 4 columns</p>\n",
       "</div>"
      ],
      "text/plain": [
       "                     etablissement                     adresse   latitude  \\\n",
       "0             AIHP CENTRE ARMANCON    18 Bis Rue Pierre Semard   47.95981   \n",
       "1                C.R.B LES ROSIERS           45 Bd Henri Bazin   47.30041   \n",
       "2   CENTRE COLBERT MEDECINE ET SSR        4 Rue Étienne Litaud   46.99469   \n",
       "3          CENTRE DE CONVALESCENCE               67 Rte d'Ahuy   47.34583   \n",
       "4     CENTRE MEDICAL DE LA VENERIE         Lieu Dit La Vénerie    47.2668   \n",
       "..                             ...                         ...        ...   \n",
       "88    POLYCLINIQUE DU VAL DE LOIRE      49 Bd Jérôme Trésaguet   46.99564   \n",
       "89            CLINIQUE PAUL PIQUET       12 Rue Pierre Castets   48.20712   \n",
       "90              CH ROBERT MORLEVAT               3 Av. Pasteur  47.495749   \n",
       "91     POLYCLINIQUE DU PARC DREVON     18 Cr Général de Gaulle   47.31217   \n",
       "92    CLINIQUE MEDICO-CHIRURGICALE  27 avenue Françoise Giroud   47.36096   \n",
       "\n",
       "    longitude  \n",
       "0     3.53041  \n",
       "1     5.01900  \n",
       "2     3.15970  \n",
       "3     5.03471  \n",
       "4     3.28960  \n",
       "..        ...  \n",
       "88    3.14828  \n",
       "89    3.29428  \n",
       "90    4.34625  \n",
       "91    5.04348  \n",
       "92    5.05105  \n",
       "\n",
       "[92 rows x 4 columns]"
      ]
     },
     "execution_count": 764,
     "metadata": {},
     "output_type": "execute_result"
    }
   ],
   "source": [
    "all_coord"
   ]
  },
  {
   "cell_type": "code",
   "execution_count": 765,
   "id": "7efca264",
   "metadata": {},
   "outputs": [
    {
     "data": {
      "text/html": [
       "<div>\n",
       "<style scoped>\n",
       "    .dataframe tbody tr th:only-of-type {\n",
       "        vertical-align: middle;\n",
       "    }\n",
       "\n",
       "    .dataframe tbody tr th {\n",
       "        vertical-align: top;\n",
       "    }\n",
       "\n",
       "    .dataframe thead th {\n",
       "        text-align: right;\n",
       "    }\n",
       "</style>\n",
       "<table border=\"1\" class=\"dataframe\">\n",
       "  <thead>\n",
       "    <tr style=\"text-align: right;\">\n",
       "      <th></th>\n",
       "      <th>etablissement</th>\n",
       "      <th>categorie</th>\n",
       "      <th>code</th>\n",
       "      <th>specialite</th>\n",
       "      <th>provenance</th>\n",
       "      <th>effectif_transfert</th>\n",
       "    </tr>\n",
       "  </thead>\n",
       "  <tbody>\n",
       "    <tr>\n",
       "      <th>0</th>\n",
       "      <td>CH AUTUN SITE LATOUCHE</td>\n",
       "      <td>CH</td>\n",
       "      <td>X08</td>\n",
       "      <td>Pneumologie</td>\n",
       "      <td>CH AUTUN SITE PARPAS</td>\n",
       "      <td>30</td>\n",
       "    </tr>\n",
       "    <tr>\n",
       "      <th>1</th>\n",
       "      <td>CH AUTUN SITE LATOUCHE</td>\n",
       "      <td>CH</td>\n",
       "      <td>X03</td>\n",
       "      <td>Neurologie médicale</td>\n",
       "      <td>CH AUTUN SITE PARPAS</td>\n",
       "      <td>30</td>\n",
       "    </tr>\n",
       "    <tr>\n",
       "      <th>2</th>\n",
       "      <td>CH AUTUN SITE LATOUCHE</td>\n",
       "      <td>CH</td>\n",
       "      <td>X07</td>\n",
       "      <td>Affections Cardio-vasculaires</td>\n",
       "      <td>CH AUTUN SITE PARPAS</td>\n",
       "      <td>16</td>\n",
       "    </tr>\n",
       "    <tr>\n",
       "      <th>3</th>\n",
       "      <td>CH AUTUN SITE LATOUCHE</td>\n",
       "      <td>CH</td>\n",
       "      <td>X06</td>\n",
       "      <td>Rhumatologie</td>\n",
       "      <td>CH AUTUN SITE PARPAS</td>\n",
       "      <td>12</td>\n",
       "    </tr>\n",
       "    <tr>\n",
       "      <th>4</th>\n",
       "      <td>CENTRE ORTHOPEDIQUE MEDICO-CHIR</td>\n",
       "      <td>Privé</td>\n",
       "      <td>C09</td>\n",
       "      <td>Chir. majeure de l'app. Locomoteur:\\n hanche, ...</td>\n",
       "      <td>CH WILLIAM MOREY CHALON SUR SAONE</td>\n",
       "      <td>78</td>\n",
       "    </tr>\n",
       "    <tr>\n",
       "      <th>...</th>\n",
       "      <td>...</td>\n",
       "      <td>...</td>\n",
       "      <td>...</td>\n",
       "      <td>...</td>\n",
       "      <td>...</td>\n",
       "      <td>...</td>\n",
       "    </tr>\n",
       "    <tr>\n",
       "      <th>92</th>\n",
       "      <td>SSR EDITH CAVELL</td>\n",
       "      <td>NaN</td>\n",
       "      <td>NaN</td>\n",
       "      <td>Autre</td>\n",
       "      <td>CLINIQUE MEDICO-CHIRURGICALE</td>\n",
       "      <td>70</td>\n",
       "    </tr>\n",
       "    <tr>\n",
       "      <th>93</th>\n",
       "      <td>SSR EDITH CAVELL</td>\n",
       "      <td>NaN</td>\n",
       "      <td>NaN</td>\n",
       "      <td>Autre</td>\n",
       "      <td>CH REG UNIVERSITAIRE DIJON</td>\n",
       "      <td>40</td>\n",
       "    </tr>\n",
       "    <tr>\n",
       "      <th>94</th>\n",
       "      <td>SSR EDITH CAVELL</td>\n",
       "      <td>NaN</td>\n",
       "      <td>NaN</td>\n",
       "      <td>Autre</td>\n",
       "      <td>HOPITAL PRIVE DIJON BOURGOGNE</td>\n",
       "      <td>51</td>\n",
       "    </tr>\n",
       "    <tr>\n",
       "      <th>95</th>\n",
       "      <td>SSR MARGUERITE BOUCICAUT</td>\n",
       "      <td>NaN</td>\n",
       "      <td>NaN</td>\n",
       "      <td>Autre</td>\n",
       "      <td>CH WILLIAM MOREY CHALON SUR SAONE</td>\n",
       "      <td>79</td>\n",
       "    </tr>\n",
       "    <tr>\n",
       "      <th>96</th>\n",
       "      <td>SSR MARGUERITE BOUCICAUT</td>\n",
       "      <td>NaN</td>\n",
       "      <td>NaN</td>\n",
       "      <td>Autre</td>\n",
       "      <td>CH JEAN BOUVERI</td>\n",
       "      <td>20</td>\n",
       "    </tr>\n",
       "  </tbody>\n",
       "</table>\n",
       "<p>511 rows × 6 columns</p>\n",
       "</div>"
      ],
      "text/plain": [
       "                      etablissement categorie code  \\\n",
       "0            CH AUTUN SITE LATOUCHE        CH  X08   \n",
       "1            CH AUTUN SITE LATOUCHE        CH  X03   \n",
       "2            CH AUTUN SITE LATOUCHE        CH  X07   \n",
       "3            CH AUTUN SITE LATOUCHE        CH  X06   \n",
       "4   CENTRE ORTHOPEDIQUE MEDICO-CHIR     Privé  C09   \n",
       "..                              ...       ...  ...   \n",
       "92                 SSR EDITH CAVELL       NaN  NaN   \n",
       "93                 SSR EDITH CAVELL       NaN  NaN   \n",
       "94                 SSR EDITH CAVELL       NaN  NaN   \n",
       "95         SSR MARGUERITE BOUCICAUT       NaN  NaN   \n",
       "96         SSR MARGUERITE BOUCICAUT       NaN  NaN   \n",
       "\n",
       "                                           specialite  \\\n",
       "0                                        Pneumologie    \n",
       "1                                 Neurologie médicale   \n",
       "2                      Affections Cardio-vasculaires    \n",
       "3                                       Rhumatologie    \n",
       "4   Chir. majeure de l'app. Locomoteur:\\n hanche, ...   \n",
       "..                                                ...   \n",
       "92                                              Autre   \n",
       "93                                              Autre   \n",
       "94                                              Autre   \n",
       "95                                              Autre   \n",
       "96                                              Autre   \n",
       "\n",
       "                           provenance  effectif_transfert  \n",
       "0                CH AUTUN SITE PARPAS                  30  \n",
       "1                CH AUTUN SITE PARPAS                  30  \n",
       "2                CH AUTUN SITE PARPAS                  16  \n",
       "3                CH AUTUN SITE PARPAS                  12  \n",
       "4   CH WILLIAM MOREY CHALON SUR SAONE                  78  \n",
       "..                                ...                 ...  \n",
       "92       CLINIQUE MEDICO-CHIRURGICALE                  70  \n",
       "93         CH REG UNIVERSITAIRE DIJON                  40  \n",
       "94      HOPITAL PRIVE DIJON BOURGOGNE                  51  \n",
       "95  CH WILLIAM MOREY CHALON SUR SAONE                  79  \n",
       "96                    CH JEAN BOUVERI                  20  \n",
       "\n",
       "[511 rows x 6 columns]"
      ]
     },
     "execution_count": 765,
     "metadata": {},
     "output_type": "execute_result"
    }
   ],
   "source": [
    "flux1_aug"
   ]
  },
  {
   "cell_type": "code",
   "execution_count": 809,
   "id": "2ee36b07",
   "metadata": {},
   "outputs": [],
   "source": [
    "#LAST SAVE\n",
    "r = 'data4/'\n",
    "flux.to_csv(r + 'flux.csv')\n",
    "all_coord.to_csv(r + 'all_coord.csv')\n",
    "tmp.to_csv(r + 'ght.csv')\n",
    "flux1.to_csv(r + 'flux1.csv')\n",
    "flux2.to_csv(r + 'flux2.csv')\n",
    "flux1_aug.to_csv(r + 'flux1_aug.csv')"
   ]
  },
  {
   "cell_type": "code",
   "execution_count": null,
   "id": "0ee3f5ce",
   "metadata": {},
   "outputs": [],
   "source": []
  }
 ],
 "metadata": {
  "kernelspec": {
   "display_name": "bokeh-tuto",
   "language": "python",
   "name": "bokeh-tuto"
  },
  "language_info": {
   "codemirror_mode": {
    "name": "ipython",
    "version": 3
   },
   "file_extension": ".py",
   "mimetype": "text/x-python",
   "name": "python",
   "nbconvert_exporter": "python",
   "pygments_lexer": "ipython3",
   "version": "3.8.10"
  }
 },
 "nbformat": 4,
 "nbformat_minor": 5
}
