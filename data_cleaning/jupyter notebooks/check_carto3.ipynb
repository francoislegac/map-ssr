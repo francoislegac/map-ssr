{
 "cells": [
  {
   "cell_type": "markdown",
   "id": "4c247aa4",
   "metadata": {},
   "source": [
    "Separer SARL MAISON DE JOUV vs JOUV\n",
    "ajouter la ville\n"
   ]
  },
  {
   "cell_type": "code",
   "execution_count": 1,
   "id": "7b4308aa",
   "metadata": {},
   "outputs": [],
   "source": [
    "import pandas as pd\n",
    "import numpy as np"
   ]
  },
  {
   "cell_type": "code",
   "execution_count": 2,
   "id": "c0605a31",
   "metadata": {},
   "outputs": [],
   "source": [
    "r = 'data4/'"
   ]
  },
  {
   "cell_type": "code",
   "execution_count": 3,
   "id": "45add8c2",
   "metadata": {},
   "outputs": [],
   "source": [
    "coord = pd.read_csv(r + 'all_coord.csv', index_col=0)\n",
    "flux = pd.read_csv(r + 'flux.csv', index_col=0)\n",
    "ght = pd.read_csv(r + 'ght.csv', index_col=0)\n",
    "flux2 = pd.read_csv(r + 'flux2.csv', index_col=0)\n",
    "flux1 = pd.read_csv(r + 'flux1.csv', index_col=0)"
   ]
  },
  {
   "cell_type": "code",
   "execution_count": 4,
   "id": "a986ecb6",
   "metadata": {},
   "outputs": [],
   "source": [
    "f1 = flux1[['etablissement', 'provenance']].drop_duplicates()\n",
    "f2 = flux2[['etablissement', 'provenance']].drop_duplicates()"
   ]
  },
  {
   "cell_type": "code",
   "execution_count": 5,
   "id": "918586f6",
   "metadata": {},
   "outputs": [],
   "source": [
    "u = pd.merge(f1, f2, how='outer', indicator=True)"
   ]
  },
  {
   "cell_type": "code",
   "execution_count": 6,
   "id": "0a3dee5f",
   "metadata": {},
   "outputs": [
    {
     "data": {
      "text/plain": [
       "etablissement    205\n",
       "provenance       205\n",
       "_merge           205\n",
       "dtype: int64"
      ]
     },
     "execution_count": 6,
     "metadata": {},
     "output_type": "execute_result"
    }
   ],
   "source": [
    "u.count()"
   ]
  },
  {
   "cell_type": "code",
   "execution_count": 7,
   "id": "05c6a13f",
   "metadata": {},
   "outputs": [
    {
     "data": {
      "text/html": [
       "<div>\n",
       "<style scoped>\n",
       "    .dataframe tbody tr th:only-of-type {\n",
       "        vertical-align: middle;\n",
       "    }\n",
       "\n",
       "    .dataframe tbody tr th {\n",
       "        vertical-align: top;\n",
       "    }\n",
       "\n",
       "    .dataframe thead th {\n",
       "        text-align: right;\n",
       "    }\n",
       "</style>\n",
       "<table border=\"1\" class=\"dataframe\">\n",
       "  <thead>\n",
       "    <tr style=\"text-align: right;\">\n",
       "      <th></th>\n",
       "      <th>etablissement</th>\n",
       "      <th>provenance</th>\n",
       "      <th>_merge</th>\n",
       "    </tr>\n",
       "  </thead>\n",
       "  <tbody>\n",
       "    <tr>\n",
       "      <th>94</th>\n",
       "      <td>CENTRE COLBERT MEDECINE ET SSR</td>\n",
       "      <td>HOPITAL PIERRE BEREGOVOY</td>\n",
       "      <td>left_only</td>\n",
       "    </tr>\n",
       "    <tr>\n",
       "      <th>95</th>\n",
       "      <td>CENTRE COLBERT MEDECINE ET SSR</td>\n",
       "      <td>CENTRE COLBERT MEDECINE ET SSR</td>\n",
       "      <td>left_only</td>\n",
       "    </tr>\n",
       "  </tbody>\n",
       "</table>\n",
       "</div>"
      ],
      "text/plain": [
       "                     etablissement                      provenance     _merge\n",
       "94  CENTRE COLBERT MEDECINE ET SSR        HOPITAL PIERRE BEREGOVOY  left_only\n",
       "95  CENTRE COLBERT MEDECINE ET SSR  CENTRE COLBERT MEDECINE ET SSR  left_only"
      ]
     },
     "execution_count": 7,
     "metadata": {},
     "output_type": "execute_result"
    }
   ],
   "source": [
    "u.loc[u._merge=='left_only', :]"
   ]
  },
  {
   "cell_type": "code",
   "execution_count": 8,
   "id": "a45e5052",
   "metadata": {},
   "outputs": [
    {
     "data": {
      "text/html": [
       "<div>\n",
       "<style scoped>\n",
       "    .dataframe tbody tr th:only-of-type {\n",
       "        vertical-align: middle;\n",
       "    }\n",
       "\n",
       "    .dataframe tbody tr th {\n",
       "        vertical-align: top;\n",
       "    }\n",
       "\n",
       "    .dataframe thead th {\n",
       "        text-align: right;\n",
       "    }\n",
       "</style>\n",
       "<table border=\"1\" class=\"dataframe\">\n",
       "  <thead>\n",
       "    <tr style=\"text-align: right;\">\n",
       "      <th></th>\n",
       "      <th>finess</th>\n",
       "      <th>etablissement</th>\n",
       "      <th>categorie</th>\n",
       "      <th>provenance</th>\n",
       "      <th>effectif_transfert</th>\n",
       "    </tr>\n",
       "  </thead>\n",
       "  <tbody>\n",
       "  </tbody>\n",
       "</table>\n",
       "</div>"
      ],
      "text/plain": [
       "Empty DataFrame\n",
       "Columns: [finess, etablissement, categorie, provenance, effectif_transfert]\n",
       "Index: []"
      ]
     },
     "execution_count": 8,
     "metadata": {},
     "output_type": "execute_result"
    }
   ],
   "source": [
    "flux2.loc[flux2.etablissement=='CENTRE COLBERT MEDECINE ET SSR', :]"
   ]
  },
  {
   "cell_type": "markdown",
   "id": "bd7d29b1",
   "metadata": {},
   "source": [
    "### Vérifions que le merge des 2 tableaux a bien été fait (flux)"
   ]
  },
  {
   "cell_type": "code",
   "execution_count": 9,
   "id": "1200d87f",
   "metadata": {},
   "outputs": [
    {
     "data": {
      "text/html": [
       "<div>\n",
       "<style scoped>\n",
       "    .dataframe tbody tr th:only-of-type {\n",
       "        vertical-align: middle;\n",
       "    }\n",
       "\n",
       "    .dataframe tbody tr th {\n",
       "        vertical-align: top;\n",
       "    }\n",
       "\n",
       "    .dataframe thead th {\n",
       "        text-align: right;\n",
       "    }\n",
       "</style>\n",
       "<table border=\"1\" class=\"dataframe\">\n",
       "  <thead>\n",
       "    <tr style=\"text-align: right;\">\n",
       "      <th></th>\n",
       "      <th>etablissement</th>\n",
       "      <th>provenance</th>\n",
       "      <th>effectif_transfert</th>\n",
       "    </tr>\n",
       "  </thead>\n",
       "  <tbody>\n",
       "    <tr>\n",
       "      <th>0</th>\n",
       "      <td>AIHP CENTRE ARMANCON</td>\n",
       "      <td>CHS AUXERRE</td>\n",
       "      <td>30</td>\n",
       "    </tr>\n",
       "    <tr>\n",
       "      <th>1</th>\n",
       "      <td>C.R.B LES ROSIERS</td>\n",
       "      <td>CLINIQUE MEDICO-CHIRURGICALE</td>\n",
       "      <td>15</td>\n",
       "    </tr>\n",
       "    <tr>\n",
       "      <th>2</th>\n",
       "      <td>C.R.B LES ROSIERS</td>\n",
       "      <td>HOPITAL LE BOCAGE CHRU DIJON</td>\n",
       "      <td>186</td>\n",
       "    </tr>\n",
       "    <tr>\n",
       "      <th>3</th>\n",
       "      <td>C.R.B LES ROSIERS</td>\n",
       "      <td>HOPITAL PRIVE DIJON BOURGOGNE</td>\n",
       "      <td>364</td>\n",
       "    </tr>\n",
       "    <tr>\n",
       "      <th>4</th>\n",
       "      <td>C.R.B LES ROSIERS</td>\n",
       "      <td>POLYCLINIQUE DU PARC DREVON</td>\n",
       "      <td>14</td>\n",
       "    </tr>\n",
       "    <tr>\n",
       "      <th>...</th>\n",
       "      <td>...</td>\n",
       "      <td>...</td>\n",
       "      <td>...</td>\n",
       "    </tr>\n",
       "    <tr>\n",
       "      <th>198</th>\n",
       "      <td>SSR MARGUERITE BOUCICAUT</td>\n",
       "      <td>CH LES CHANAUX MACON</td>\n",
       "      <td>13</td>\n",
       "    </tr>\n",
       "    <tr>\n",
       "      <th>199</th>\n",
       "      <td>SSR MARGUERITE BOUCICAUT</td>\n",
       "      <td>CH WILLIAM MOREY CHALON SUR SAONE</td>\n",
       "      <td>301</td>\n",
       "    </tr>\n",
       "    <tr>\n",
       "      <th>200</th>\n",
       "      <td>SSR MARGUERITE BOUCICAUT</td>\n",
       "      <td>HOPITAL LE BOCAGE CHRU DIJON</td>\n",
       "      <td>77</td>\n",
       "    </tr>\n",
       "    <tr>\n",
       "      <th>201</th>\n",
       "      <td>SSR MARGUERITE BOUCICAUT</td>\n",
       "      <td>HOPITAL PRIVE SAINTE MARIE</td>\n",
       "      <td>27</td>\n",
       "    </tr>\n",
       "    <tr>\n",
       "      <th>202</th>\n",
       "      <td>SSR MARGUERITE BOUCICAUT</td>\n",
       "      <td>HOTEL DIEU DU CREUSOT</td>\n",
       "      <td>13</td>\n",
       "    </tr>\n",
       "  </tbody>\n",
       "</table>\n",
       "<p>203 rows × 3 columns</p>\n",
       "</div>"
      ],
      "text/plain": [
       "                etablissement                         provenance  \\\n",
       "0        AIHP CENTRE ARMANCON                        CHS AUXERRE   \n",
       "1           C.R.B LES ROSIERS       CLINIQUE MEDICO-CHIRURGICALE   \n",
       "2           C.R.B LES ROSIERS       HOPITAL LE BOCAGE CHRU DIJON   \n",
       "3           C.R.B LES ROSIERS      HOPITAL PRIVE DIJON BOURGOGNE   \n",
       "4           C.R.B LES ROSIERS        POLYCLINIQUE DU PARC DREVON   \n",
       "..                        ...                                ...   \n",
       "198  SSR MARGUERITE BOUCICAUT               CH LES CHANAUX MACON   \n",
       "199  SSR MARGUERITE BOUCICAUT  CH WILLIAM MOREY CHALON SUR SAONE   \n",
       "200  SSR MARGUERITE BOUCICAUT       HOPITAL LE BOCAGE CHRU DIJON   \n",
       "201  SSR MARGUERITE BOUCICAUT         HOPITAL PRIVE SAINTE MARIE   \n",
       "202  SSR MARGUERITE BOUCICAUT              HOTEL DIEU DU CREUSOT   \n",
       "\n",
       "     effectif_transfert  \n",
       "0                    30  \n",
       "1                    15  \n",
       "2                   186  \n",
       "3                   364  \n",
       "4                    14  \n",
       "..                  ...  \n",
       "198                  13  \n",
       "199                 301  \n",
       "200                  77  \n",
       "201                  27  \n",
       "202                  13  \n",
       "\n",
       "[203 rows x 3 columns]"
      ]
     },
     "execution_count": 9,
     "metadata": {},
     "output_type": "execute_result"
    }
   ],
   "source": [
    "flux2.groupby(['etablissement', 'provenance'])['effectif_transfert'].sum().reset_index()"
   ]
  },
  {
   "cell_type": "code",
   "execution_count": 10,
   "id": "1fc26b62",
   "metadata": {},
   "outputs": [
    {
     "data": {
      "text/html": [
       "<div>\n",
       "<style scoped>\n",
       "    .dataframe tbody tr th:only-of-type {\n",
       "        vertical-align: middle;\n",
       "    }\n",
       "\n",
       "    .dataframe tbody tr th {\n",
       "        vertical-align: top;\n",
       "    }\n",
       "\n",
       "    .dataframe thead th {\n",
       "        text-align: right;\n",
       "    }\n",
       "</style>\n",
       "<table border=\"1\" class=\"dataframe\">\n",
       "  <thead>\n",
       "    <tr style=\"text-align: right;\">\n",
       "      <th></th>\n",
       "      <th>etablissement</th>\n",
       "      <th>provenance</th>\n",
       "      <th>effectif_transfert</th>\n",
       "    </tr>\n",
       "  </thead>\n",
       "  <tbody>\n",
       "    <tr>\n",
       "      <th>0</th>\n",
       "      <td>AIHP CENTRE ARMANCON</td>\n",
       "      <td>CHS AUXERRE</td>\n",
       "      <td>30</td>\n",
       "    </tr>\n",
       "    <tr>\n",
       "      <th>1</th>\n",
       "      <td>C.R.B LES ROSIERS</td>\n",
       "      <td>CLINIQUE MEDICO-CHIRURGICALE</td>\n",
       "      <td>15</td>\n",
       "    </tr>\n",
       "    <tr>\n",
       "      <th>2</th>\n",
       "      <td>C.R.B LES ROSIERS</td>\n",
       "      <td>HOPITAL LE BOCAGE CHRU DIJON</td>\n",
       "      <td>186</td>\n",
       "    </tr>\n",
       "    <tr>\n",
       "      <th>3</th>\n",
       "      <td>C.R.B LES ROSIERS</td>\n",
       "      <td>HOPITAL PRIVE DIJON BOURGOGNE</td>\n",
       "      <td>364</td>\n",
       "    </tr>\n",
       "    <tr>\n",
       "      <th>4</th>\n",
       "      <td>C.R.B LES ROSIERS</td>\n",
       "      <td>POLYCLINIQUE DU PARC DREVON</td>\n",
       "      <td>14</td>\n",
       "    </tr>\n",
       "    <tr>\n",
       "      <th>...</th>\n",
       "      <td>...</td>\n",
       "      <td>...</td>\n",
       "      <td>...</td>\n",
       "    </tr>\n",
       "    <tr>\n",
       "      <th>200</th>\n",
       "      <td>SSR MARGUERITE BOUCICAUT</td>\n",
       "      <td>CH LES CHANAUX MACON</td>\n",
       "      <td>13</td>\n",
       "    </tr>\n",
       "    <tr>\n",
       "      <th>201</th>\n",
       "      <td>SSR MARGUERITE BOUCICAUT</td>\n",
       "      <td>CH WILLIAM MOREY CHALON SUR SAONE</td>\n",
       "      <td>301</td>\n",
       "    </tr>\n",
       "    <tr>\n",
       "      <th>202</th>\n",
       "      <td>SSR MARGUERITE BOUCICAUT</td>\n",
       "      <td>HOPITAL LE BOCAGE CHRU DIJON</td>\n",
       "      <td>77</td>\n",
       "    </tr>\n",
       "    <tr>\n",
       "      <th>203</th>\n",
       "      <td>SSR MARGUERITE BOUCICAUT</td>\n",
       "      <td>HOPITAL PRIVE SAINTE MARIE</td>\n",
       "      <td>27</td>\n",
       "    </tr>\n",
       "    <tr>\n",
       "      <th>204</th>\n",
       "      <td>SSR MARGUERITE BOUCICAUT</td>\n",
       "      <td>HOTEL DIEU DU CREUSOT</td>\n",
       "      <td>13</td>\n",
       "    </tr>\n",
       "  </tbody>\n",
       "</table>\n",
       "<p>205 rows × 3 columns</p>\n",
       "</div>"
      ],
      "text/plain": [
       "                etablissement                         provenance  \\\n",
       "0        AIHP CENTRE ARMANCON                        CHS AUXERRE   \n",
       "1           C.R.B LES ROSIERS       CLINIQUE MEDICO-CHIRURGICALE   \n",
       "2           C.R.B LES ROSIERS       HOPITAL LE BOCAGE CHRU DIJON   \n",
       "3           C.R.B LES ROSIERS      HOPITAL PRIVE DIJON BOURGOGNE   \n",
       "4           C.R.B LES ROSIERS        POLYCLINIQUE DU PARC DREVON   \n",
       "..                        ...                                ...   \n",
       "200  SSR MARGUERITE BOUCICAUT               CH LES CHANAUX MACON   \n",
       "201  SSR MARGUERITE BOUCICAUT  CH WILLIAM MOREY CHALON SUR SAONE   \n",
       "202  SSR MARGUERITE BOUCICAUT       HOPITAL LE BOCAGE CHRU DIJON   \n",
       "203  SSR MARGUERITE BOUCICAUT         HOPITAL PRIVE SAINTE MARIE   \n",
       "204  SSR MARGUERITE BOUCICAUT              HOTEL DIEU DU CREUSOT   \n",
       "\n",
       "     effectif_transfert  \n",
       "0                    30  \n",
       "1                    15  \n",
       "2                   186  \n",
       "3                   364  \n",
       "4                    14  \n",
       "..                  ...  \n",
       "200                  13  \n",
       "201                 301  \n",
       "202                  77  \n",
       "203                  27  \n",
       "204                  13  \n",
       "\n",
       "[205 rows x 3 columns]"
      ]
     },
     "execution_count": 10,
     "metadata": {},
     "output_type": "execute_result"
    }
   ],
   "source": [
    "flux.groupby(['etablissement', 'provenance'])['effectif_transfert'].sum().reset_index()"
   ]
  },
  {
   "cell_type": "code",
   "execution_count": 11,
   "id": "401ced6b",
   "metadata": {},
   "outputs": [
    {
     "data": {
      "text/html": [
       "<div>\n",
       "<style scoped>\n",
       "    .dataframe tbody tr th:only-of-type {\n",
       "        vertical-align: middle;\n",
       "    }\n",
       "\n",
       "    .dataframe tbody tr th {\n",
       "        vertical-align: top;\n",
       "    }\n",
       "\n",
       "    .dataframe thead th {\n",
       "        text-align: right;\n",
       "    }\n",
       "</style>\n",
       "<table border=\"1\" class=\"dataframe\">\n",
       "  <thead>\n",
       "    <tr style=\"text-align: right;\">\n",
       "      <th></th>\n",
       "      <th>etablissement</th>\n",
       "      <th>categorie</th>\n",
       "      <th>code</th>\n",
       "      <th>specialite</th>\n",
       "      <th>provenance</th>\n",
       "      <th>effectif_transfert</th>\n",
       "    </tr>\n",
       "  </thead>\n",
       "  <tbody>\n",
       "    <tr>\n",
       "      <th>177</th>\n",
       "      <td>C.R.B LES ROSIERS</td>\n",
       "      <td>Privé</td>\n",
       "      <td>C09</td>\n",
       "      <td>Chir. majeure de l'app. Locomoteur:\\n hanche, ...</td>\n",
       "      <td>HOPITAL LE BOCAGE CHRU DIJON</td>\n",
       "      <td>74</td>\n",
       "    </tr>\n",
       "    <tr>\n",
       "      <th>178</th>\n",
       "      <td>C.R.B LES ROSIERS</td>\n",
       "      <td>Privé</td>\n",
       "      <td>X08</td>\n",
       "      <td>Pneumologie</td>\n",
       "      <td>HOPITAL LE BOCAGE CHRU DIJON</td>\n",
       "      <td>22</td>\n",
       "    </tr>\n",
       "    <tr>\n",
       "      <th>179</th>\n",
       "      <td>C.R.B LES ROSIERS</td>\n",
       "      <td>Privé</td>\n",
       "      <td>C11</td>\n",
       "      <td>Chirurgies autres de l'appareil locomoteur, \\n...</td>\n",
       "      <td>HOPITAL LE BOCAGE CHRU DIJON</td>\n",
       "      <td>26</td>\n",
       "    </tr>\n",
       "    <tr>\n",
       "      <th>180</th>\n",
       "      <td>C.R.B LES ROSIERS</td>\n",
       "      <td>Privé</td>\n",
       "      <td>X06</td>\n",
       "      <td>Rhumatologie</td>\n",
       "      <td>HOPITAL LE BOCAGE CHRU DIJON</td>\n",
       "      <td>13</td>\n",
       "    </tr>\n",
       "    <tr>\n",
       "      <th>181</th>\n",
       "      <td>C.R.B LES ROSIERS</td>\n",
       "      <td>Privé</td>\n",
       "      <td>C09</td>\n",
       "      <td>Chir. majeure de l'app. Locomoteur:\\n hanche, ...</td>\n",
       "      <td>POLYCLINIQUE DU PARC DREVON</td>\n",
       "      <td>11</td>\n",
       "    </tr>\n",
       "    <tr>\n",
       "      <th>182</th>\n",
       "      <td>C.R.B LES ROSIERS</td>\n",
       "      <td>Privé</td>\n",
       "      <td>C09</td>\n",
       "      <td>Chir. majeure de l'app. Locomoteur:\\n hanche, ...</td>\n",
       "      <td>HOPITAL PRIVE DIJON BOURGOGNE</td>\n",
       "      <td>269</td>\n",
       "    </tr>\n",
       "    <tr>\n",
       "      <th>183</th>\n",
       "      <td>C.R.B LES ROSIERS</td>\n",
       "      <td>Privé</td>\n",
       "      <td>C02</td>\n",
       "      <td>Chirurgie du rachis, Neuro-chirurgie</td>\n",
       "      <td>HOPITAL PRIVE DIJON BOURGOGNE</td>\n",
       "      <td>17</td>\n",
       "    </tr>\n",
       "    <tr>\n",
       "      <th>184</th>\n",
       "      <td>C.R.B LES ROSIERS</td>\n",
       "      <td>Privé</td>\n",
       "      <td>C11</td>\n",
       "      <td>Chirurgies autres de l'appareil locomoteur, am...</td>\n",
       "      <td>HOPITAL PRIVE DIJON BOURGOGNE</td>\n",
       "      <td>26</td>\n",
       "    </tr>\n",
       "    <tr>\n",
       "      <th>185</th>\n",
       "      <td>C.R.B LES ROSIERS</td>\n",
       "      <td>Privé</td>\n",
       "      <td>C10</td>\n",
       "      <td>Arthroscopies, Biopsies ostéo-articulaires</td>\n",
       "      <td>HOPITAL PRIVE DIJON BOURGOGNE</td>\n",
       "      <td>30</td>\n",
       "    </tr>\n",
       "    <tr>\n",
       "      <th>0</th>\n",
       "      <td>C.R.B LES ROSIERS</td>\n",
       "      <td>NaN</td>\n",
       "      <td>NaN</td>\n",
       "      <td>Autre</td>\n",
       "      <td>HOPITAL LE BOCAGE CHRU DIJON</td>\n",
       "      <td>51</td>\n",
       "    </tr>\n",
       "    <tr>\n",
       "      <th>1</th>\n",
       "      <td>C.R.B LES ROSIERS</td>\n",
       "      <td>NaN</td>\n",
       "      <td>NaN</td>\n",
       "      <td>Autre</td>\n",
       "      <td>HOPITAL PRIVE DIJON BOURGOGNE</td>\n",
       "      <td>22</td>\n",
       "    </tr>\n",
       "    <tr>\n",
       "      <th>2</th>\n",
       "      <td>C.R.B LES ROSIERS</td>\n",
       "      <td>NaN</td>\n",
       "      <td>NaN</td>\n",
       "      <td>Autre</td>\n",
       "      <td>POLYCLINIQUE DU PARC DREVON</td>\n",
       "      <td>3</td>\n",
       "    </tr>\n",
       "    <tr>\n",
       "      <th>65</th>\n",
       "      <td>C.R.B LES ROSIERS</td>\n",
       "      <td>Privé</td>\n",
       "      <td>NaN</td>\n",
       "      <td>NaN</td>\n",
       "      <td>CLINIQUE MEDICO-CHIRURGICALE</td>\n",
       "      <td>15</td>\n",
       "    </tr>\n",
       "  </tbody>\n",
       "</table>\n",
       "</div>"
      ],
      "text/plain": [
       "         etablissement categorie  code  \\\n",
       "177  C.R.B LES ROSIERS    Privé   C09    \n",
       "178  C.R.B LES ROSIERS    Privé   X08    \n",
       "179  C.R.B LES ROSIERS    Privé    C11   \n",
       "180  C.R.B LES ROSIERS    Privé   X06    \n",
       "181  C.R.B LES ROSIERS    Privé   C09    \n",
       "182  C.R.B LES ROSIERS    Privé   C09    \n",
       "183  C.R.B LES ROSIERS    Privé    C02   \n",
       "184  C.R.B LES ROSIERS    Privé    C11   \n",
       "185  C.R.B LES ROSIERS    Privé   C10    \n",
       "0    C.R.B LES ROSIERS       NaN   NaN   \n",
       "1    C.R.B LES ROSIERS       NaN   NaN   \n",
       "2    C.R.B LES ROSIERS       NaN   NaN   \n",
       "65   C.R.B LES ROSIERS     Privé   NaN   \n",
       "\n",
       "                                            specialite  \\\n",
       "177  Chir. majeure de l'app. Locomoteur:\\n hanche, ...   \n",
       "178                                       Pneumologie    \n",
       "179  Chirurgies autres de l'appareil locomoteur, \\n...   \n",
       "180                                      Rhumatologie    \n",
       "181  Chir. majeure de l'app. Locomoteur:\\n hanche, ...   \n",
       "182  Chir. majeure de l'app. Locomoteur:\\n hanche, ...   \n",
       "183               Chirurgie du rachis, Neuro-chirurgie   \n",
       "184  Chirurgies autres de l'appareil locomoteur, am...   \n",
       "185         Arthroscopies, Biopsies ostéo-articulaires   \n",
       "0                                                Autre   \n",
       "1                                                Autre   \n",
       "2                                                Autre   \n",
       "65                                                 NaN   \n",
       "\n",
       "                        provenance  effectif_transfert  \n",
       "177   HOPITAL LE BOCAGE CHRU DIJON                  74  \n",
       "178   HOPITAL LE BOCAGE CHRU DIJON                  22  \n",
       "179   HOPITAL LE BOCAGE CHRU DIJON                  26  \n",
       "180   HOPITAL LE BOCAGE CHRU DIJON                  13  \n",
       "181    POLYCLINIQUE DU PARC DREVON                  11  \n",
       "182  HOPITAL PRIVE DIJON BOURGOGNE                 269  \n",
       "183  HOPITAL PRIVE DIJON BOURGOGNE                  17  \n",
       "184  HOPITAL PRIVE DIJON BOURGOGNE                  26  \n",
       "185  HOPITAL PRIVE DIJON BOURGOGNE                  30  \n",
       "0     HOPITAL LE BOCAGE CHRU DIJON                  51  \n",
       "1    HOPITAL PRIVE DIJON BOURGOGNE                  22  \n",
       "2      POLYCLINIQUE DU PARC DREVON                   3  \n",
       "65    CLINIQUE MEDICO-CHIRURGICALE                  15  "
      ]
     },
     "execution_count": 11,
     "metadata": {},
     "output_type": "execute_result"
    }
   ],
   "source": [
    "flux.loc[flux.etablissement == 'C.R.B LES ROSIERS', :]"
   ]
  },
  {
   "cell_type": "markdown",
   "id": "3f9982a4",
   "metadata": {},
   "source": [
    "### Vérifions qu'on a les coordonnées de tous les etablissements"
   ]
  },
  {
   "cell_type": "code",
   "execution_count": 12,
   "id": "be17c0ff",
   "metadata": {},
   "outputs": [],
   "source": [
    "flux_etab = pd.concat([flux['etablissement'], flux['provenance']]).drop_duplicates()\n",
    "coord_etab = coord['etablissement'].drop_duplicates()"
   ]
  },
  {
   "cell_type": "code",
   "execution_count": 13,
   "id": "06962229",
   "metadata": {},
   "outputs": [],
   "source": [
    "flux_etab.name = 'etablissement'\n",
    "coord_etab.name = 'etablissement'"
   ]
  },
  {
   "cell_type": "code",
   "execution_count": 14,
   "id": "b0d7d593",
   "metadata": {},
   "outputs": [],
   "source": [
    "union = pd.merge(flux_etab, coord_etab, how='outer', indicator=True)"
   ]
  },
  {
   "cell_type": "code",
   "execution_count": 15,
   "id": "aa183a6e",
   "metadata": {},
   "outputs": [
    {
     "data": {
      "text/html": [
       "<div>\n",
       "<style scoped>\n",
       "    .dataframe tbody tr th:only-of-type {\n",
       "        vertical-align: middle;\n",
       "    }\n",
       "\n",
       "    .dataframe tbody tr th {\n",
       "        vertical-align: top;\n",
       "    }\n",
       "\n",
       "    .dataframe thead th {\n",
       "        text-align: right;\n",
       "    }\n",
       "</style>\n",
       "<table border=\"1\" class=\"dataframe\">\n",
       "  <thead>\n",
       "    <tr style=\"text-align: right;\">\n",
       "      <th></th>\n",
       "      <th>etablissement</th>\n",
       "      <th>_merge</th>\n",
       "    </tr>\n",
       "  </thead>\n",
       "  <tbody>\n",
       "  </tbody>\n",
       "</table>\n",
       "</div>"
      ],
      "text/plain": [
       "Empty DataFrame\n",
       "Columns: [etablissement, _merge]\n",
       "Index: []"
      ]
     },
     "execution_count": 15,
     "metadata": {},
     "output_type": "execute_result"
    }
   ],
   "source": [
    "#only in coord 8\n",
    "union.loc[union._merge == 'left_only']"
   ]
  },
  {
   "cell_type": "markdown",
   "id": "4b655f76",
   "metadata": {},
   "source": [
    "### Vérifions les codes \n",
    "OK\n",
    "\n",
    "### Vérifions les specialites"
   ]
  },
  {
   "cell_type": "code",
   "execution_count": 16,
   "id": "11169382",
   "metadata": {},
   "outputs": [],
   "source": [
    "def clean_string(s):\n",
    "    s = s.str.upper()\\\n",
    "    .str.lstrip()\\\n",
    "    .str.rstrip()\\\n",
    "    .str.replace('\\t', '')\\\n",
    "    .str.replace('  ', ' ')\\\n",
    "    .str.replace('\\n', '') \n",
    "    #get ride of accents\n",
    "    s = s.str.normalize('NFKD')\\\n",
    "       .str.encode('ascii', errors='ignore')\\\n",
    "       .str.decode('utf-8')   \n",
    "    return s"
   ]
  },
  {
   "cell_type": "code",
   "execution_count": 17,
   "id": "d7a22651",
   "metadata": {},
   "outputs": [],
   "source": [
    "flux['specialite'] = clean_string(flux['specialite'])"
   ]
  },
  {
   "cell_type": "code",
   "execution_count": 18,
   "id": "ab41ea41",
   "metadata": {},
   "outputs": [],
   "source": [
    "flux.loc[flux.specialite== 'CHIMITHERAPIE (HORS SEANCES)', 'specialite'] = 'CHIMIOTHERAPIE (HORS SEANCES)'"
   ]
  },
  {
   "cell_type": "code",
   "execution_count": 19,
   "id": "5336d1ea",
   "metadata": {},
   "outputs": [],
   "source": [
    "flux.loc[flux.specialite== 'CHIRUGIE DU RACHIS, NEURO-CHIRURGIE', 'specialite'] = 'CHIRURGIE DU RACHIS, NEURO-CHIRURGIE'"
   ]
  },
  {
   "cell_type": "code",
   "execution_count": 20,
   "id": "552e12ce",
   "metadata": {},
   "outputs": [
    {
     "data": {
      "text/plain": [
       "2                          AFFECTIONS CARDIO-VASCULAIRES\n",
       "45        AFFECTIONS ET TRAUMATISMES DE LA PEAU, GELURES\n",
       "14            ARTHROSCOPIES, BIOPSIES OSTEO-ARTICULAIRES\n",
       "0                                                  AUTRE\n",
       "137    CATHETERISMES VASCULAIRES DIAGNOSTIQUES ET INT...\n",
       "102                        CHIMIOTHERAPIE (HORS SEANCES)\n",
       "60     CHIR. CARDIO-THORACIQUE (HORS TRANSPLANT. D'OR...\n",
       "32     CHIR. DIGESTIVE MAJEURE : OESOPHAGE, ESTOMAC, ...\n",
       "4      CHIR. MAJEURE DE L'APP. LOCOMOTEUR: HANCHE, FE...\n",
       "217    CHIR. MAJEURE SUR LE THORAX, L'APP. RESPIRATOI...\n",
       "33                                       CHIR. VISCERALE\n",
       "31     CHIR. VISCERALE AUTRE : RATE, GRELE, COLON, PR...\n",
       "65                  CHIRURGIE DU RACHIS, NEURO-CHIRURGIE\n",
       "163                                 CHIRURGIE UROLOGIQUE\n",
       "176                                 CHIRURGIE VASCULAIRE\n",
       "8      CHIRURGIES AUTRES DE L'APPAREIL LOCOMOTEUR, AM...\n",
       "93          COMMOTIONS CEREBRALES, TRAUMATISMES CRANIENS\n",
       "92     DIABETE, MALADIES METABOLIQUES, ENDOCRINOLOGIE...\n",
       "315                          DOULEUR ET SOINS PALLIATIFS\n",
       "43         EFFETS NOCIFS, ALCOOL, TOXICOLOGIE, ALLERGIES\n",
       "26                    FIEVRE, INFECTION, SEPTICEMIE, VIH\n",
       "11                             HEPATO-GASTRO-ENTEROLOGIE\n",
       "145    MALADIES IMMUNITAIRES, DU SANG, DES ORGANES HE...\n",
       "55     MEDECINE INTER SPECIALITES, AUTRES SYMPTOMES O...\n",
       "1                                    NEUROLOGIE MEDICALE\n",
       "316                                         ORL, STOMATO\n",
       "0                                            PNEUMOLOGIE\n",
       "25                                           PSYCHIATRIE\n",
       "3                                           RHUMATOLOGIE\n",
       "48     SUIVI THERAP. D'AFFECTIONS CONNUES, ALLERGOLOG...\n",
       "203                        TRAUMATISMES MULTIPLES GRAVES\n",
       "10     TRAUMATOLOGIE ET ABLATION DE MATERIEL DE L'APP...\n",
       "12               URO-NEPHROLOGIE MEDICALE (HORS SEANCES)\n",
       "59                                                   NaN\n",
       "Name: specialite, dtype: object"
      ]
     },
     "execution_count": 20,
     "metadata": {},
     "output_type": "execute_result"
    }
   ],
   "source": [
    "flux['specialite'].drop_duplicates().sort_values()"
   ]
  },
  {
   "cell_type": "code",
   "execution_count": 22,
   "id": "1b6f53b0",
   "metadata": {},
   "outputs": [],
   "source": [
    "flux['specialite'] = flux['specialite'].str.capitalize()"
   ]
  },
  {
   "cell_type": "code",
   "execution_count": 23,
   "id": "bece03ae",
   "metadata": {},
   "outputs": [],
   "source": [
    "flux.to_csv(r + 'flux.csv')"
   ]
  },
  {
   "cell_type": "markdown",
   "id": "1e52c38e",
   "metadata": {},
   "source": [
    "### on ajoute les villes et d'autres infos aux adresses"
   ]
  },
  {
   "cell_type": "code",
   "execution_count": 27,
   "id": "aab24596",
   "metadata": {},
   "outputs": [],
   "source": [
    "coord = pd.read_csv(r + 'coord_with_cities.csv', index_col=0).drop('index', axis=1)"
   ]
  },
  {
   "cell_type": "code",
   "execution_count": 28,
   "id": "7cba2e12",
   "metadata": {},
   "outputs": [
    {
     "data": {
      "text/plain": [
       "Index(['etablissement', 'adresse', 'latitude', 'longitude', 'departement',\n",
       "       'municipalite', 'code_postal', 'village', 'ville'],\n",
       "      dtype='object')"
      ]
     },
     "execution_count": 28,
     "metadata": {},
     "output_type": "execute_result"
    }
   ],
   "source": [
    "coord.columns"
   ]
  },
  {
   "cell_type": "code",
   "execution_count": 29,
   "id": "cc06653f",
   "metadata": {},
   "outputs": [],
   "source": [
    "coord.departement = clean_string(coord.departement)\n",
    "coord.municipalite = clean_string(coord.municipalite)\n",
    "coord.village = clean_string(coord.village)\n",
    "coord.ville = clean_string(coord.ville)"
   ]
  },
  {
   "cell_type": "code",
   "execution_count": 46,
   "id": "f3aad746",
   "metadata": {},
   "outputs": [],
   "source": [
    "coord['lieu'] = coord.ville.fillna(coord.municipalite)"
   ]
  },
  {
   "cell_type": "code",
   "execution_count": 48,
   "id": "9f4eb8e9",
   "metadata": {},
   "outputs": [
    {
     "ename": "NameError",
     "evalue": "name 'coord_final' is not defined",
     "output_type": "error",
     "traceback": [
      "\u001b[1;31m---------------------------------------------------------------------------\u001b[0m",
      "\u001b[1;31mNameError\u001b[0m                                 Traceback (most recent call last)",
      "\u001b[1;32mC:\\Users\\FRANOI~1\\AppData\\Local\\Temp/ipykernel_25472/638630214.py\u001b[0m in \u001b[0;36m<module>\u001b[1;34m\u001b[0m\n\u001b[1;32m----> 1\u001b[1;33m \u001b[0mcoord_final\u001b[0m\u001b[1;33m.\u001b[0m\u001b[0mto_csv\u001b[0m\u001b[1;33m(\u001b[0m\u001b[0mr\u001b[0m \u001b[1;33m+\u001b[0m \u001b[1;34m'coord_final.csv'\u001b[0m\u001b[1;33m)\u001b[0m\u001b[1;33m\u001b[0m\u001b[1;33m\u001b[0m\u001b[0m\n\u001b[0m",
      "\u001b[1;31mNameError\u001b[0m: name 'coord_final' is not defined"
     ]
    }
   ],
   "source": [
    "coord_final = coord.copy()\n",
    "coord_final.to_csv(r + 'coord_final.csv')"
   ]
  },
  {
   "cell_type": "markdown",
   "id": "4f743008",
   "metadata": {},
   "source": [
    "### on modifie à nouveau les spécialités pour qu'elles soient pas trop longues"
   ]
  },
  {
   "cell_type": "code",
   "execution_count": 3,
   "id": "3d2f1ff2",
   "metadata": {},
   "outputs": [],
   "source": [
    "flux = pd.read_csv(r + 'flux.csv', index_col=0)"
   ]
  },
  {
   "cell_type": "code",
   "execution_count": 4,
   "id": "239671fc",
   "metadata": {},
   "outputs": [
    {
     "data": {
      "text/html": [
       "<div>\n",
       "<style scoped>\n",
       "    .dataframe tbody tr th:only-of-type {\n",
       "        vertical-align: middle;\n",
       "    }\n",
       "\n",
       "    .dataframe tbody tr th {\n",
       "        vertical-align: top;\n",
       "    }\n",
       "\n",
       "    .dataframe thead th {\n",
       "        text-align: right;\n",
       "    }\n",
       "</style>\n",
       "<table border=\"1\" class=\"dataframe\">\n",
       "  <thead>\n",
       "    <tr style=\"text-align: right;\">\n",
       "      <th></th>\n",
       "      <th>etablissement</th>\n",
       "      <th>categorie</th>\n",
       "      <th>code</th>\n",
       "      <th>specialite</th>\n",
       "      <th>provenance</th>\n",
       "      <th>effectif_transfert</th>\n",
       "    </tr>\n",
       "  </thead>\n",
       "  <tbody>\n",
       "    <tr>\n",
       "      <th>0</th>\n",
       "      <td>CH AUTUN SITE LATOUCHE</td>\n",
       "      <td>CH</td>\n",
       "      <td>X08</td>\n",
       "      <td>Pneumologie</td>\n",
       "      <td>CH AUTUN SITE PARPAS</td>\n",
       "      <td>30</td>\n",
       "    </tr>\n",
       "    <tr>\n",
       "      <th>1</th>\n",
       "      <td>CH AUTUN SITE LATOUCHE</td>\n",
       "      <td>CH</td>\n",
       "      <td>X03</td>\n",
       "      <td>Neurologie medicale</td>\n",
       "      <td>CH AUTUN SITE PARPAS</td>\n",
       "      <td>30</td>\n",
       "    </tr>\n",
       "    <tr>\n",
       "      <th>2</th>\n",
       "      <td>CH AUTUN SITE LATOUCHE</td>\n",
       "      <td>CH</td>\n",
       "      <td>X07</td>\n",
       "      <td>Affections cardio-vasculaires</td>\n",
       "      <td>CH AUTUN SITE PARPAS</td>\n",
       "      <td>16</td>\n",
       "    </tr>\n",
       "    <tr>\n",
       "      <th>3</th>\n",
       "      <td>CH AUTUN SITE LATOUCHE</td>\n",
       "      <td>CH</td>\n",
       "      <td>X06</td>\n",
       "      <td>Rhumatologie</td>\n",
       "      <td>CH AUTUN SITE PARPAS</td>\n",
       "      <td>12</td>\n",
       "    </tr>\n",
       "    <tr>\n",
       "      <th>4</th>\n",
       "      <td>CENTRE ORTHOPEDIQUE MEDICO-CHIR</td>\n",
       "      <td>Privé</td>\n",
       "      <td>C09</td>\n",
       "      <td>Chir. majeure de l'app. locomoteur: hanche, fe...</td>\n",
       "      <td>CH WILLIAM MOREY CHALON SUR SAONE</td>\n",
       "      <td>78</td>\n",
       "    </tr>\n",
       "    <tr>\n",
       "      <th>...</th>\n",
       "      <td>...</td>\n",
       "      <td>...</td>\n",
       "      <td>...</td>\n",
       "      <td>...</td>\n",
       "      <td>...</td>\n",
       "      <td>...</td>\n",
       "    </tr>\n",
       "    <tr>\n",
       "      <th>85</th>\n",
       "      <td>MOYEN SEJOUR CH SENS</td>\n",
       "      <td>CH</td>\n",
       "      <td>NaN</td>\n",
       "      <td>NaN</td>\n",
       "      <td>CH JOIGNY</td>\n",
       "      <td>13</td>\n",
       "    </tr>\n",
       "    <tr>\n",
       "      <th>86</th>\n",
       "      <td>MAISON DE REPOS STE COLOMBE</td>\n",
       "      <td>Privé</td>\n",
       "      <td>NaN</td>\n",
       "      <td>NaN</td>\n",
       "      <td>CLINIQUE PAUL PIQUET</td>\n",
       "      <td>19</td>\n",
       "    </tr>\n",
       "    <tr>\n",
       "      <th>87</th>\n",
       "      <td>GCS PLAT AVAL TERR CHAMP SUD CRF PAST</td>\n",
       "      <td>Privé</td>\n",
       "      <td>NaN</td>\n",
       "      <td>NaN</td>\n",
       "      <td>CH SENS</td>\n",
       "      <td>19</td>\n",
       "    </tr>\n",
       "    <tr>\n",
       "      <th>88</th>\n",
       "      <td>CMPR L'A.D.A.P.T. LOIRET</td>\n",
       "      <td>PSPH/EBNL</td>\n",
       "      <td>NaN</td>\n",
       "      <td>NaN</td>\n",
       "      <td>CH SENS</td>\n",
       "      <td>14</td>\n",
       "    </tr>\n",
       "    <tr>\n",
       "      <th>89</th>\n",
       "      <td>GCS PATCS CRRF PASTEUR 2</td>\n",
       "      <td>Privé</td>\n",
       "      <td>NaN</td>\n",
       "      <td>NaN</td>\n",
       "      <td>CH SENS</td>\n",
       "      <td>13</td>\n",
       "    </tr>\n",
       "  </tbody>\n",
       "</table>\n",
       "<p>612 rows × 6 columns</p>\n",
       "</div>"
      ],
      "text/plain": [
       "                            etablissement  categorie code  \\\n",
       "0                  CH AUTUN SITE LATOUCHE         CH  X08   \n",
       "1                  CH AUTUN SITE LATOUCHE         CH  X03   \n",
       "2                  CH AUTUN SITE LATOUCHE         CH  X07   \n",
       "3                  CH AUTUN SITE LATOUCHE         CH  X06   \n",
       "4         CENTRE ORTHOPEDIQUE MEDICO-CHIR      Privé  C09   \n",
       "..                                    ...        ...  ...   \n",
       "85                   MOYEN SEJOUR CH SENS         CH  NaN   \n",
       "86            MAISON DE REPOS STE COLOMBE      Privé  NaN   \n",
       "87  GCS PLAT AVAL TERR CHAMP SUD CRF PAST      Privé  NaN   \n",
       "88               CMPR L'A.D.A.P.T. LOIRET  PSPH/EBNL  NaN   \n",
       "89               GCS PATCS CRRF PASTEUR 2      Privé  NaN   \n",
       "\n",
       "                                           specialite  \\\n",
       "0                                         Pneumologie   \n",
       "1                                 Neurologie medicale   \n",
       "2                       Affections cardio-vasculaires   \n",
       "3                                        Rhumatologie   \n",
       "4   Chir. majeure de l'app. locomoteur: hanche, fe...   \n",
       "..                                                ...   \n",
       "85                                                NaN   \n",
       "86                                                NaN   \n",
       "87                                                NaN   \n",
       "88                                                NaN   \n",
       "89                                                NaN   \n",
       "\n",
       "                           provenance  effectif_transfert  \n",
       "0                CH AUTUN SITE PARPAS                  30  \n",
       "1                CH AUTUN SITE PARPAS                  30  \n",
       "2                CH AUTUN SITE PARPAS                  16  \n",
       "3                CH AUTUN SITE PARPAS                  12  \n",
       "4   CH WILLIAM MOREY CHALON SUR SAONE                  78  \n",
       "..                                ...                 ...  \n",
       "85                          CH JOIGNY                  13  \n",
       "86               CLINIQUE PAUL PIQUET                  19  \n",
       "87                            CH SENS                  19  \n",
       "88                            CH SENS                  14  \n",
       "89                            CH SENS                  13  \n",
       "\n",
       "[612 rows x 6 columns]"
      ]
     },
     "execution_count": 4,
     "metadata": {},
     "output_type": "execute_result"
    }
   ],
   "source": [
    "flux"
   ]
  },
  {
   "cell_type": "code",
   "execution_count": 8,
   "id": "08d7e7d6",
   "metadata": {},
   "outputs": [],
   "source": [
    "old = flux.specialite.drop_duplicates()[4]\n",
    "new = 'Chir. majeure de l\\'app. locomoteur:\\n hanche, femur, genou, epaule'"
   ]
  },
  {
   "cell_type": "code",
   "execution_count": 9,
   "id": "7fe08cd9",
   "metadata": {},
   "outputs": [],
   "source": [
    "def change_string(old, new, df):\n",
    "        df.loc[df.specialite==old, 'specialite'] = new\n",
    "        return df"
   ]
  },
  {
   "cell_type": "code",
   "execution_count": 11,
   "id": "9a6a78e2",
   "metadata": {},
   "outputs": [],
   "source": [
    "flux = change_string(old, new, flux)"
   ]
  },
  {
   "cell_type": "code",
   "execution_count": 14,
   "id": "80001898",
   "metadata": {},
   "outputs": [],
   "source": [
    "old = flux.specialite.drop_duplicates()[8]\n",
    "new = 'Chirurgies autres de \\n l\\'appareil locomoteur, amputations'\n",
    "flux = change_string(old, new, flux)"
   ]
  },
  {
   "cell_type": "code",
   "execution_count": 17,
   "id": "a24c44c2",
   "metadata": {},
   "outputs": [],
   "source": [
    "old = flux.specialite.drop_duplicates()[10]\n",
    "new = 'Traumatologie et ablation de materiel de l\\'appareil locomoteur'\n",
    "flux = change_string(old, new, flux)"
   ]
  },
  {
   "cell_type": "code",
   "execution_count": 21,
   "id": "66df902c",
   "metadata": {},
   "outputs": [],
   "source": [
    "old = flux.specialite.drop_duplicates()[10]\n",
    "new = 'Traumatologie et ablation \\n de materiel de l\\'appareil locomoteur'\n",
    "flux = change_string(old, new, flux)"
   ]
  },
  {
   "cell_type": "code",
   "execution_count": 24,
   "id": "2c48a1bf",
   "metadata": {},
   "outputs": [],
   "source": [
    "old = flux.specialite.drop_duplicates()[14]\n",
    "new = 'Arthroscopies, biopsies \\n osteo-articulaires'\n",
    "flux = change_string(old, new, flux)"
   ]
  },
  {
   "cell_type": "code",
   "execution_count": 27,
   "id": "966a23f8",
   "metadata": {},
   "outputs": [],
   "source": [
    "old = flux.specialite.drop_duplicates()[31]\n",
    "new = 'Chir. viscerale autre : rate, \\n grele, colon, proctologie, hernies'\n",
    "flux = change_string(old, new, flux)"
   ]
  },
  {
   "cell_type": "code",
   "execution_count": 30,
   "id": "a933b055",
   "metadata": {},
   "outputs": [],
   "source": [
    "old = flux.specialite.drop_duplicates()[32]\n",
    "new = 'Chir. digestive majeure : \\n oesophage, estomac, grele, colon, rectum'\n",
    "flux = change_string(old, new, flux)"
   ]
  },
  {
   "cell_type": "code",
   "execution_count": 33,
   "id": "ca550978",
   "metadata": {},
   "outputs": [],
   "source": [
    "old = flux.specialite.drop_duplicates()[43]\n",
    "new = 'Effets nocifs, alcool, \\n toxicologie, allergies'\n",
    "flux = change_string(old, new, flux)"
   ]
  },
  {
   "cell_type": "code",
   "execution_count": 36,
   "id": "c7561d9c",
   "metadata": {},
   "outputs": [],
   "source": [
    "old = flux.specialite.drop_duplicates()[45]\n",
    "new = 'Affections et traumatismes \\n de la peau, gelures'\n",
    "flux = change_string(old, new, flux)"
   ]
  },
  {
   "cell_type": "code",
   "execution_count": 39,
   "id": "f556a55f",
   "metadata": {},
   "outputs": [],
   "source": [
    "old = flux.specialite.drop_duplicates()[48]\n",
    "new = \"Suivi therap. d'affections connues, \\n allergologie, reeducation, convalescence\"\n",
    "flux = change_string(old, new, flux)"
   ]
  },
  {
   "cell_type": "code",
   "execution_count": 42,
   "id": "b3b1ba7b",
   "metadata": {},
   "outputs": [],
   "source": [
    "old = flux.specialite.drop_duplicates()[55]\n",
    "new = 'Medecine inter specialites, \\n autres symptomes ou motifs medicaux'\n",
    "flux = change_string(old, new, flux)"
   ]
  },
  {
   "cell_type": "code",
   "execution_count": 45,
   "id": "a477e56f",
   "metadata": {},
   "outputs": [],
   "source": [
    "old = flux.specialite.drop_duplicates()[60]\n",
    "new = \"Chir. cardio-thoracique \\n, pontages aorto-coronariens\"\n",
    "flux = change_string(old, new, flux)"
   ]
  },
  {
   "cell_type": "code",
   "execution_count": 48,
   "id": "a3fc1d1c",
   "metadata": {},
   "outputs": [],
   "source": [
    "old = flux.specialite.drop_duplicates()[92]\n",
    "new = 'Diabete, maladies metaboliques, \\n endocrinologie'\n",
    "flux = change_string(old, new, flux)"
   ]
  },
  {
   "cell_type": "code",
   "execution_count": 51,
   "id": "40d76c1f",
   "metadata": {
    "scrolled": true
   },
   "outputs": [],
   "source": [
    "old = flux.specialite.drop_duplicates()[93]\n",
    "new = 'Commotions cerebrales, \\n traumatismes craniens'\n",
    "flux = change_string(old, new, flux)"
   ]
  },
  {
   "cell_type": "code",
   "execution_count": 55,
   "id": "989013f2",
   "metadata": {},
   "outputs": [],
   "source": [
    "old = flux.specialite.drop_duplicates()[137]\n",
    "new = 'Catheterismes vasculaires \\n diagnostiques et interventionnels'\n",
    "flux = change_string(old, new, flux)"
   ]
  },
  {
   "cell_type": "code",
   "execution_count": 58,
   "id": "af5fcec9",
   "metadata": {},
   "outputs": [],
   "source": [
    "old = flux.specialite.drop_duplicates()[145]\n",
    "new = 'Maladies immunitaires, du sang, \\n des organes hematopoietiques, tumeurs sid'\n",
    "flux = change_string(old, new, flux)"
   ]
  },
  {
   "cell_type": "code",
   "execution_count": 61,
   "id": "88687289",
   "metadata": {},
   "outputs": [],
   "source": [
    "old = flux.specialite.drop_duplicates()[217]\n",
    "new = \"Chir. majeure sur le thorax, \\n l'app. respiratoire, \\n interventions sous thoracoscopie\"\n",
    "flux = change_string(old, new, flux)"
   ]
  },
  {
   "cell_type": "code",
   "execution_count": 62,
   "id": "aa2e0f8b",
   "metadata": {},
   "outputs": [
    {
     "data": {
      "text/plain": [
       "0                                            Pneumologie\n",
       "1                                    Neurologie medicale\n",
       "2                          Affections cardio-vasculaires\n",
       "3                                           Rhumatologie\n",
       "4      Chir. majeure de l'app. locomoteur:\\n hanche, ...\n",
       "8      Chirurgies autres de \\n l'appareil locomoteur,...\n",
       "10     Traumatologie et ablation \\n de materiel de l'...\n",
       "11                             Hepato-gastro-enterologie\n",
       "12               Uro-nephrologie medicale (hors seances)\n",
       "14         Arthroscopies, biopsies \\n osteo-articulaires\n",
       "25                                           Psychiatrie\n",
       "26                    Fievre, infection, septicemie, vih\n",
       "31     Chir. viscerale autre : rate, \\n grele, colon,...\n",
       "32     Chir. digestive majeure : \\n oesophage, estoma...\n",
       "33                                       Chir. viscerale\n",
       "43      Effets nocifs, alcool, \\n toxicologie, allergies\n",
       "45     Affections et traumatismes \\n de la peau, gelures\n",
       "48     Suivi therap. d'affections connues, \\n allergo...\n",
       "55     Medecine inter specialites, \\n autres symptome...\n",
       "59                                                   NaN\n",
       "60     Chir. cardio-thoracique \\n, pontages aorto-cor...\n",
       "65                  Chirurgie du rachis, neuro-chirurgie\n",
       "92     Diabete, maladies metaboliques, \\n endocrinologie\n",
       "93       Commotions cerebrales, \\n traumatismes craniens\n",
       "102                        Chimiotherapie (hors seances)\n",
       "137    Catheterismes vasculaires \\n diagnostiques et ...\n",
       "145    Maladies immunitaires, du sang, \\n des organes...\n",
       "163                                 Chirurgie urologique\n",
       "176                                 Chirurgie vasculaire\n",
       "203                        Traumatismes multiples graves\n",
       "217    Chir. majeure sur le thorax, \\n l'app. respira...\n",
       "315                          Douleur et soins palliatifs\n",
       "316                                         Orl, stomato\n",
       "0                                                  Autre\n",
       "Name: specialite, dtype: object"
      ]
     },
     "execution_count": 62,
     "metadata": {},
     "output_type": "execute_result"
    }
   ],
   "source": [
    "flux.specialite.drop_duplicates()"
   ]
  },
  {
   "cell_type": "code",
   "execution_count": 64,
   "id": "a6eff512",
   "metadata": {},
   "outputs": [],
   "source": [
    "flux.to_csv('data5/flux.csv')"
   ]
  },
  {
   "cell_type": "markdown",
   "id": "a3df9a10",
   "metadata": {},
   "source": []
  },
  {
   "cell_type": "code",
   "execution_count": 2,
   "id": "8f0dc3d9",
   "metadata": {},
   "outputs": [],
   "source": [
    "r = 'data5/'\n",
    "flux = pd.read_csv(r + 'flux.csv', index_col=0)"
   ]
  },
  {
   "cell_type": "code",
   "execution_count": 7,
   "id": "2419107b",
   "metadata": {},
   "outputs": [
    {
     "data": {
      "text/plain": [
       "45"
      ]
     },
     "execution_count": 7,
     "metadata": {},
     "output_type": "execute_result"
    }
   ],
   "source": [
    "v = 'Pneumologie'\n",
    "x = flux.loc[flux.specialite==v,'etablissement'].drop_duplicates()\n",
    "pd.merge(x, )"
   ]
  },
  {
   "cell_type": "code",
   "execution_count": null,
   "id": "865c4491",
   "metadata": {},
   "outputs": [],
   "source": []
  }
 ],
 "metadata": {
  "kernelspec": {
   "display_name": "bokeh-tuto",
   "language": "python",
   "name": "bokeh-tuto"
  },
  "language_info": {
   "codemirror_mode": {
    "name": "ipython",
    "version": 3
   },
   "file_extension": ".py",
   "mimetype": "text/x-python",
   "name": "python",
   "nbconvert_exporter": "python",
   "pygments_lexer": "ipython3",
   "version": "3.8.10"
  }
 },
 "nbformat": 4,
 "nbformat_minor": 5
}
